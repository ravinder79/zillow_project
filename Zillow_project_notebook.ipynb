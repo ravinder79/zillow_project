{
 "cells": [
  {
   "cell_type": "markdown",
   "metadata": {},
   "source": [
    "# Predict Home Prices Using Linear Regression\n",
    "\n",
    "\n",
    "## Deliverables:\n",
    "\n",
    "1. A report (in the form of a presentation, both verbal and through a slides)\n",
    "\n",
    "\n",
    "2. A github repository containing your jupyter notebook that walks through the pipeline along with the .py files necessary to reproduce your model.\n",
    "\n"
   ]
  },
  {
   "cell_type": "code",
   "execution_count": 1,
   "metadata": {},
   "outputs": [],
   "source": [
    "import wrangle\n",
    "import pandas as pd\n",
    "import numpy as np\n",
    "import evaluate\n",
    "import explore\n",
    "import matplotlib.pyplot as plt\n",
    "import seaborn as sns; sns.set()\n",
    "from sklearn.model_selection import train_test_split\n",
    "import warnings\n",
    "warnings.filterwarnings(\"ignore\")\n",
    "from statsmodels.formula.api import ols\n",
    "from sklearn.linear_model import LinearRegression\n",
    "from sklearn.metrics import mean_squared_error, explained_variance_score\n",
    "from scipy import stats\n",
    "import split_scale\n",
    "import feature_selection\n",
    "from sklearn.linear_model import LinearRegression\n",
    "from sklearn.feature_selection import RFE\n",
    "from sklearn.preprocessing import QuantileTransformer, quantile_transform\n",
    "from sklearn.metrics import median_absolute_error, r2_score\n",
    "from math import sqrt\n",
    "from sklearn.preprocessing import PolynomialFeatures\n",
    "from pygam import LogisticGAM, LinearGAM, s, f, te\n",
    "from sklearn.linear_model import RidgeCV\n",
    "from sklearn.compose import TransformedTargetRegressor\n",
    "from scipy import sparse\n",
    "import models"
   ]
  },
  {
   "cell_type": "markdown",
   "metadata": {},
   "source": [
    "***"
   ]
  },
  {
   "cell_type": "markdown",
   "metadata": {},
   "source": [
    "## <font color = Blue>Data Import and Wrangling</font>\n"
   ]
  },
  {
   "cell_type": "code",
   "execution_count": 2,
   "metadata": {},
   "outputs": [],
   "source": [
    "#use wrangle.py to import data from mySQL\n",
    "df =wrangle.get_data_from_sql()"
   ]
  },
  {
   "cell_type": "code",
   "execution_count": 3,
   "metadata": {},
   "outputs": [
    {
     "data": {
      "text/html": [
       "<div>\n",
       "<style scoped>\n",
       "    .dataframe tbody tr th:only-of-type {\n",
       "        vertical-align: middle;\n",
       "    }\n",
       "\n",
       "    .dataframe tbody tr th {\n",
       "        vertical-align: top;\n",
       "    }\n",
       "\n",
       "    .dataframe thead th {\n",
       "        text-align: right;\n",
       "    }\n",
       "</style>\n",
       "<table border=\"1\" class=\"dataframe\">\n",
       "  <thead>\n",
       "    <tr style=\"text-align: right;\">\n",
       "      <th></th>\n",
       "      <th>bathrooms</th>\n",
       "      <th>bedrooms</th>\n",
       "      <th>square_feet</th>\n",
       "      <th>fips</th>\n",
       "      <th>lot_size</th>\n",
       "      <th>pool</th>\n",
       "      <th>zip_code</th>\n",
       "      <th>year_built</th>\n",
       "      <th>latitude</th>\n",
       "      <th>longitude</th>\n",
       "      <th>assessed_value</th>\n",
       "      <th>tax_value</th>\n",
       "      <th>transaction_date</th>\n",
       "    </tr>\n",
       "  </thead>\n",
       "  <tbody>\n",
       "    <tr>\n",
       "      <th>0</th>\n",
       "      <td>2.0</td>\n",
       "      <td>3.0</td>\n",
       "      <td>1458.0</td>\n",
       "      <td>6037.0</td>\n",
       "      <td>8284.0</td>\n",
       "      <td>1.0</td>\n",
       "      <td>97318.0</td>\n",
       "      <td>1970.0</td>\n",
       "      <td>34686163.0</td>\n",
       "      <td>-118113100.0</td>\n",
       "      <td>136104.0</td>\n",
       "      <td>2319.90</td>\n",
       "      <td>2017-06-23</td>\n",
       "    </tr>\n",
       "    <tr>\n",
       "      <th>1</th>\n",
       "      <td>1.0</td>\n",
       "      <td>2.0</td>\n",
       "      <td>1421.0</td>\n",
       "      <td>6037.0</td>\n",
       "      <td>6707.0</td>\n",
       "      <td>NaN</td>\n",
       "      <td>96018.0</td>\n",
       "      <td>1911.0</td>\n",
       "      <td>33999877.0</td>\n",
       "      <td>-118291863.0</td>\n",
       "      <td>35606.0</td>\n",
       "      <td>543.69</td>\n",
       "      <td>2017-06-30</td>\n",
       "    </tr>\n",
       "  </tbody>\n",
       "</table>\n",
       "</div>"
      ],
      "text/plain": [
       "   bathrooms  bedrooms  square_feet    fips  lot_size  pool  zip_code  \\\n",
       "0        2.0       3.0       1458.0  6037.0    8284.0   1.0   97318.0   \n",
       "1        1.0       2.0       1421.0  6037.0    6707.0   NaN   96018.0   \n",
       "\n",
       "   year_built    latitude    longitude  assessed_value  tax_value  \\\n",
       "0      1970.0  34686163.0 -118113100.0        136104.0    2319.90   \n",
       "1      1911.0  33999877.0 -118291863.0         35606.0     543.69   \n",
       "\n",
       "  transaction_date  \n",
       "0       2017-06-23  \n",
       "1       2017-06-30  "
      ]
     },
     "execution_count": 3,
     "metadata": {},
     "output_type": "execute_result"
    }
   ],
   "source": [
    "# check DF head\n",
    "df.head(2)"
   ]
  },
  {
   "cell_type": "code",
   "execution_count": 4,
   "metadata": {},
   "outputs": [
    {
     "data": {
      "text/html": [
       "<div>\n",
       "<style scoped>\n",
       "    .dataframe tbody tr th:only-of-type {\n",
       "        vertical-align: middle;\n",
       "    }\n",
       "\n",
       "    .dataframe tbody tr th {\n",
       "        vertical-align: top;\n",
       "    }\n",
       "\n",
       "    .dataframe thead th {\n",
       "        text-align: right;\n",
       "    }\n",
       "</style>\n",
       "<table border=\"1\" class=\"dataframe\">\n",
       "  <thead>\n",
       "    <tr style=\"text-align: right;\">\n",
       "      <th></th>\n",
       "      <th>bathrooms</th>\n",
       "      <th>bedrooms</th>\n",
       "      <th>square_feet</th>\n",
       "      <th>fips</th>\n",
       "      <th>lot_size</th>\n",
       "      <th>pool</th>\n",
       "      <th>zip_code</th>\n",
       "      <th>year_built</th>\n",
       "      <th>latitude</th>\n",
       "      <th>longitude</th>\n",
       "      <th>assessed_value</th>\n",
       "      <th>tax_value</th>\n",
       "      <th>transaction_date</th>\n",
       "    </tr>\n",
       "  </thead>\n",
       "  <tbody>\n",
       "    <tr>\n",
       "      <th>14988</th>\n",
       "      <td>3.0</td>\n",
       "      <td>5.0</td>\n",
       "      <td>2655.0</td>\n",
       "      <td>6059.0</td>\n",
       "      <td>6000.0</td>\n",
       "      <td>NaN</td>\n",
       "      <td>97065.0</td>\n",
       "      <td>1994.0</td>\n",
       "      <td>33836898.0</td>\n",
       "      <td>-117801369.0</td>\n",
       "      <td>746963.0</td>\n",
       "      <td>8065.50</td>\n",
       "      <td>2017-06-30</td>\n",
       "    </tr>\n",
       "    <tr>\n",
       "      <th>14989</th>\n",
       "      <td>3.0</td>\n",
       "      <td>4.0</td>\n",
       "      <td>2305.0</td>\n",
       "      <td>6037.0</td>\n",
       "      <td>5742.0</td>\n",
       "      <td>NaN</td>\n",
       "      <td>96129.0</td>\n",
       "      <td>1949.0</td>\n",
       "      <td>33952368.0</td>\n",
       "      <td>-118441155.0</td>\n",
       "      <td>579047.0</td>\n",
       "      <td>6996.21</td>\n",
       "      <td>2017-06-30</td>\n",
       "    </tr>\n",
       "  </tbody>\n",
       "</table>\n",
       "</div>"
      ],
      "text/plain": [
       "       bathrooms  bedrooms  square_feet    fips  lot_size  pool  zip_code  \\\n",
       "14988        3.0       5.0       2655.0  6059.0    6000.0   NaN   97065.0   \n",
       "14989        3.0       4.0       2305.0  6037.0    5742.0   NaN   96129.0   \n",
       "\n",
       "       year_built    latitude    longitude  assessed_value  tax_value  \\\n",
       "14988      1994.0  33836898.0 -117801369.0        746963.0    8065.50   \n",
       "14989      1949.0  33952368.0 -118441155.0        579047.0    6996.21   \n",
       "\n",
       "      transaction_date  \n",
       "14988       2017-06-30  \n",
       "14989       2017-06-30  "
      ]
     },
     "execution_count": 4,
     "metadata": {},
     "output_type": "execute_result"
    }
   ],
   "source": [
    "# check DF tail\n",
    "df.tail(2)"
   ]
  },
  {
   "cell_type": "code",
   "execution_count": 5,
   "metadata": {},
   "outputs": [
    {
     "name": "stdout",
     "output_type": "stream",
     "text": [
      "<class 'pandas.core.frame.DataFrame'>\n",
      "RangeIndex: 14990 entries, 0 to 14989\n",
      "Data columns (total 13 columns):\n",
      "bathrooms           14990 non-null float64\n",
      "bedrooms            14990 non-null float64\n",
      "square_feet         14990 non-null float64\n",
      "fips                14990 non-null float64\n",
      "lot_size            14893 non-null float64\n",
      "pool                3287 non-null float64\n",
      "zip_code            14982 non-null float64\n",
      "year_built          14974 non-null float64\n",
      "latitude            14990 non-null float64\n",
      "longitude           14990 non-null float64\n",
      "assessed_value      14990 non-null float64\n",
      "tax_value           14989 non-null float64\n",
      "transaction_date    14990 non-null object\n",
      "dtypes: float64(12), object(1)\n",
      "memory usage: 1.5+ MB\n"
     ]
    }
   ],
   "source": [
    "# there are null values in lot_size, pool, zip_code, year_built and tax-value\n",
    "df.info()"
   ]
  },
  {
   "cell_type": "code",
   "execution_count": 6,
   "metadata": {},
   "outputs": [],
   "source": [
    "#wrangle data to remove NANs\n",
    "df = wrangle.wrangle_zillow()"
   ]
  },
  {
   "cell_type": "code",
   "execution_count": 7,
   "metadata": {},
   "outputs": [],
   "source": [
    "#create a new column tax-rate\n",
    "df['tax_rate'] = df.tax_value/df.assessed_value"
   ]
  },
  {
   "cell_type": "code",
   "execution_count": 8,
   "metadata": {},
   "outputs": [],
   "source": [
    "#https://www.nrcs.usda.gov/wps/portal/nrcs/detail/national/home/?cid=nrcs143_013697\n",
    "#source for county fips code. Read codes in a data DataFrame named fips_codes\n",
    "#fips_codes = pd.read_clipboard()"
   ]
  },
  {
   "cell_type": "code",
   "execution_count": 9,
   "metadata": {},
   "outputs": [
    {
     "data": {
      "text/html": [
       "<div>\n",
       "<style scoped>\n",
       "    .dataframe tbody tr th:only-of-type {\n",
       "        vertical-align: middle;\n",
       "    }\n",
       "\n",
       "    .dataframe tbody tr th {\n",
       "        vertical-align: top;\n",
       "    }\n",
       "\n",
       "    .dataframe thead th {\n",
       "        text-align: right;\n",
       "    }\n",
       "</style>\n",
       "<table border=\"1\" class=\"dataframe\">\n",
       "  <thead>\n",
       "    <tr style=\"text-align: right;\">\n",
       "      <th></th>\n",
       "      <th>fips</th>\n",
       "      <th>County</th>\n",
       "    </tr>\n",
       "  </thead>\n",
       "  <tbody>\n",
       "    <tr>\n",
       "      <th>0</th>\n",
       "      <td>6037</td>\n",
       "      <td>Los Angles</td>\n",
       "    </tr>\n",
       "    <tr>\n",
       "      <th>1</th>\n",
       "      <td>6059</td>\n",
       "      <td>Orange</td>\n",
       "    </tr>\n",
       "    <tr>\n",
       "      <th>2</th>\n",
       "      <td>6111</td>\n",
       "      <td>Ventura</td>\n",
       "    </tr>\n",
       "  </tbody>\n",
       "</table>\n",
       "</div>"
      ],
      "text/plain": [
       "   fips      County\n",
       "0  6037  Los Angles\n",
       "1  6059      Orange\n",
       "2  6111     Ventura"
      ]
     },
     "execution_count": 9,
     "metadata": {},
     "output_type": "execute_result"
    }
   ],
   "source": [
    "fips_code = pd.DataFrame({\n",
    "    'fips': [6037, 6059, 6111],\n",
    "    'County':['Los Angles', 'Orange', 'Ventura']\n",
    "})\n",
    "fips_code.head()"
   ]
  },
  {
   "cell_type": "code",
   "execution_count": 10,
   "metadata": {},
   "outputs": [],
   "source": [
    "#merge df and fips_codes \n",
    "df = pd.merge(df, fips_code, left_on='fips', right_on='fips', how='left')"
   ]
  },
  {
   "cell_type": "code",
   "execution_count": 11,
   "metadata": {},
   "outputs": [],
   "source": [
    "# add some logrithmic variables\n",
    "df['log2sf'] = np.log2(df['square_feet'])\n",
    "df['log2lot_size'] = np.log2(df['lot_size'])\n",
    "df['log2value'] = np.log2(df['assessed_value'])\n",
    "df['age'] = 2000-df.year_built"
   ]
  },
  {
   "cell_type": "markdown",
   "metadata": {},
   "source": [
    "## <font color = Blue> Continue Data Exploration. Also example of feature engineering. Created a column (median price of zipcode the home is in). We can try to see how this feature help in predicting home prices</font>"
   ]
  },
  {
   "cell_type": "code",
   "execution_count": 12,
   "metadata": {},
   "outputs": [],
   "source": [
    "#add median home value to each row for corresponding zip_code. Also added a log2value for zip_median\n",
    "zip1 = df.zip_code\n",
    "list1 = list(zip1)\n",
    "(df[df.zip_code == list1[3]]).assessed_value.median()\n",
    "\n",
    "def median_v(df, l):\n",
    "    list2 = []\n",
    "    for i in range(0, len(l)):\n",
    "        median1 = (df[df.zip_code == l[i]]).assessed_value.median()\n",
    "        list2.append(median1)\n",
    "    return list2\n",
    "\n",
    "list3 = median_v(df, list1)\n",
    "list3 = pd.DataFrame(list3, columns=['zip_median'])\n",
    "df = pd.concat([df, list3], axis=1)\n",
    "df['log2_zip_median'] = np.log2(df['zip_median'])"
   ]
  },
  {
   "cell_type": "code",
   "execution_count": 13,
   "metadata": {
    "scrolled": false
   },
   "outputs": [],
   "source": [
    "#Calculate Haversine distance using latitude and longitude data. Note that I have selected a random referencepoint\n",
    "#LA (lat2 = 34.724, lon2 = -117.882)\n",
    "\n",
    "from math import radians, sin, cos, sqrt, asin\n",
    " \n",
    " \n",
    "def haversine(lat1, lon1):\n",
    "    lat2 = 34.724\n",
    "    lon2 = -117.882\n",
    "    R = 6372.8  # Earth radius in kilometers\n",
    " \n",
    "    dLat = radians(lat2 - lat1)\n",
    "    dLon = radians(lon2 - lon1)\n",
    "    lat1 = radians(lat1)\n",
    "    lat2 = radians(lat2)\n",
    " \n",
    "    a = sin(dLat / 2)**2 + cos(lat1) * cos(lat2) * sin(dLon / 2)**2\n",
    "    c = 2 * asin(sqrt(a))\n",
    " \n",
    "    return R * c"
   ]
  },
  {
   "cell_type": "code",
   "execution_count": 14,
   "metadata": {},
   "outputs": [],
   "source": [
    "#create a new column 'Haversine distance'\n",
    "df['haversine_distance'] = [haversine(x, y) for x, y in zip(df.latitude/1000000, df.longitude/1000000)]"
   ]
  },
  {
   "cell_type": "code",
   "execution_count": 15,
   "metadata": {},
   "outputs": [
    {
     "data": {
      "text/html": [
       "<div>\n",
       "<style scoped>\n",
       "    .dataframe tbody tr th:only-of-type {\n",
       "        vertical-align: middle;\n",
       "    }\n",
       "\n",
       "    .dataframe tbody tr th {\n",
       "        vertical-align: top;\n",
       "    }\n",
       "\n",
       "    .dataframe thead th {\n",
       "        text-align: right;\n",
       "    }\n",
       "</style>\n",
       "<table border=\"1\" class=\"dataframe\">\n",
       "  <thead>\n",
       "    <tr style=\"text-align: right;\">\n",
       "      <th></th>\n",
       "      <th>bathrooms</th>\n",
       "      <th>bedrooms</th>\n",
       "      <th>square_feet</th>\n",
       "      <th>fips</th>\n",
       "      <th>lot_size</th>\n",
       "      <th>pool</th>\n",
       "      <th>zip_code</th>\n",
       "      <th>year_built</th>\n",
       "      <th>latitude</th>\n",
       "      <th>longitude</th>\n",
       "      <th>...</th>\n",
       "      <th>transaction_date</th>\n",
       "      <th>tax_rate</th>\n",
       "      <th>County</th>\n",
       "      <th>log2sf</th>\n",
       "      <th>log2lot_size</th>\n",
       "      <th>log2value</th>\n",
       "      <th>age</th>\n",
       "      <th>zip_median</th>\n",
       "      <th>log2_zip_median</th>\n",
       "      <th>haversine_distance</th>\n",
       "    </tr>\n",
       "  </thead>\n",
       "  <tbody>\n",
       "    <tr>\n",
       "      <th>0</th>\n",
       "      <td>2.0</td>\n",
       "      <td>3.0</td>\n",
       "      <td>1458.0</td>\n",
       "      <td>6037</td>\n",
       "      <td>8284</td>\n",
       "      <td>1</td>\n",
       "      <td>97318</td>\n",
       "      <td>1970</td>\n",
       "      <td>34686163.0</td>\n",
       "      <td>-118113100.0</td>\n",
       "      <td>...</td>\n",
       "      <td>2017-06-23</td>\n",
       "      <td>0.017045</td>\n",
       "      <td>Los Angles</td>\n",
       "      <td>10.509775</td>\n",
       "      <td>13.016112</td>\n",
       "      <td>17.054350</td>\n",
       "      <td>30</td>\n",
       "      <td>144172.0</td>\n",
       "      <td>17.137431</td>\n",
       "      <td>21.546420</td>\n",
       "    </tr>\n",
       "    <tr>\n",
       "      <th>1</th>\n",
       "      <td>1.0</td>\n",
       "      <td>2.0</td>\n",
       "      <td>1421.0</td>\n",
       "      <td>6037</td>\n",
       "      <td>6707</td>\n",
       "      <td>0</td>\n",
       "      <td>96018</td>\n",
       "      <td>1911</td>\n",
       "      <td>33999877.0</td>\n",
       "      <td>-118291863.0</td>\n",
       "      <td>...</td>\n",
       "      <td>2017-06-30</td>\n",
       "      <td>0.015270</td>\n",
       "      <td>Los Angles</td>\n",
       "      <td>10.472691</td>\n",
       "      <td>12.711452</td>\n",
       "      <td>15.119833</td>\n",
       "      <td>89</td>\n",
       "      <td>162337.0</td>\n",
       "      <td>17.308632</td>\n",
       "      <td>88.899173</td>\n",
       "    </tr>\n",
       "  </tbody>\n",
       "</table>\n",
       "<p>2 rows × 22 columns</p>\n",
       "</div>"
      ],
      "text/plain": [
       "   bathrooms  bedrooms  square_feet  fips  lot_size  pool  zip_code  \\\n",
       "0        2.0       3.0       1458.0  6037      8284     1     97318   \n",
       "1        1.0       2.0       1421.0  6037      6707     0     96018   \n",
       "\n",
       "   year_built    latitude    longitude  ...  transaction_date  tax_rate  \\\n",
       "0        1970  34686163.0 -118113100.0  ...        2017-06-23  0.017045   \n",
       "1        1911  33999877.0 -118291863.0  ...        2017-06-30  0.015270   \n",
       "\n",
       "       County     log2sf log2lot_size  log2value  age  zip_median  \\\n",
       "0  Los Angles  10.509775    13.016112  17.054350   30    144172.0   \n",
       "1  Los Angles  10.472691    12.711452  15.119833   89    162337.0   \n",
       "\n",
       "   log2_zip_median  haversine_distance  \n",
       "0        17.137431           21.546420  \n",
       "1        17.308632           88.899173  \n",
       "\n",
       "[2 rows x 22 columns]"
      ]
     },
     "execution_count": 15,
     "metadata": {},
     "output_type": "execute_result"
    }
   ],
   "source": [
    "df.head(2)"
   ]
  },
  {
   "cell_type": "code",
   "execution_count": 16,
   "metadata": {},
   "outputs": [],
   "source": [
    "# save data in a .csv file\n",
    "#df.to_csv('zillow_cleaned1.csv')"
   ]
  },
  {
   "cell_type": "code",
   "execution_count": 17,
   "metadata": {},
   "outputs": [],
   "source": [
    "#split the data into train and test\n",
    "train, test = train_test_split(df, train_size = .70, random_state = 100)"
   ]
  },
  {
   "cell_type": "code",
   "execution_count": 18,
   "metadata": {},
   "outputs": [],
   "source": [
    "#create a subset of df with continuous variables to create pairplot\n",
    "train_plot = train[['bathrooms', 'bedrooms', 'square_feet', 'haversine_distance', 'assessed_value']]"
   ]
  },
  {
   "cell_type": "code",
   "execution_count": 19,
   "metadata": {},
   "outputs": [],
   "source": [
    "#df.groupby(['zip_code']).agg(['mean', 'count'])"
   ]
  },
  {
   "cell_type": "code",
   "execution_count": 20,
   "metadata": {
    "scrolled": false
   },
   "outputs": [
    {
     "data": {
      "image/png": "[encoded data removed]",
      "text/plain": [
       "<Figure size 900x900 with 30 Axes>"
      ]
     },
     "metadata": {
      "needs_background": "light"
     },
     "output_type": "display_data"
    }
   ],
   "source": [
    "explore.plot_variable_pairs(train_plot)"
   ]
  },
  {
   "cell_type": "code",
   "execution_count": 21,
   "metadata": {},
   "outputs": [
    {
     "data": {
      "text/plain": [
       "<matplotlib.axes._subplots.AxesSubplot at 0x12c0d6fd0>"
      ]
     },
     "execution_count": 21,
     "metadata": {},
     "output_type": "execute_result"
    },
    {
     "data": {
      "image/png": "[encoded data removed]",
      "text/plain": [
       "<Figure size 432x288 with 1 Axes>"
      ]
     },
     "metadata": {
      "needs_background": "light"
     },
     "output_type": "display_data"
    }
   ],
   "source": [
    "# plot showing distribution of home values. This looks like right skewed distribution\n",
    "sns.distplot(train.assessed_value)"
   ]
  },
  {
   "cell_type": "code",
   "execution_count": 22,
   "metadata": {},
   "outputs": [
    {
     "data": {
      "text/html": [
       "<div>\n",
       "<style scoped>\n",
       "    .dataframe tbody tr th:only-of-type {\n",
       "        vertical-align: middle;\n",
       "    }\n",
       "\n",
       "    .dataframe tbody tr th {\n",
       "        vertical-align: top;\n",
       "    }\n",
       "\n",
       "    .dataframe thead th {\n",
       "        text-align: right;\n",
       "    }\n",
       "</style>\n",
       "<table border=\"1\" class=\"dataframe\">\n",
       "  <thead>\n",
       "    <tr style=\"text-align: right;\">\n",
       "      <th></th>\n",
       "      <th>bathrooms</th>\n",
       "      <th>bedrooms</th>\n",
       "      <th>square_feet</th>\n",
       "      <th>haversine_distance</th>\n",
       "      <th>assessed_value</th>\n",
       "    </tr>\n",
       "  </thead>\n",
       "  <tbody>\n",
       "    <tr>\n",
       "      <th>bathrooms</th>\n",
       "      <td>1.000000</td>\n",
       "      <td>0.641827</td>\n",
       "      <td>0.854944</td>\n",
       "      <td>0.079816</td>\n",
       "      <td>0.505229</td>\n",
       "    </tr>\n",
       "    <tr>\n",
       "      <th>bedrooms</th>\n",
       "      <td>0.641827</td>\n",
       "      <td>1.000000</td>\n",
       "      <td>0.628387</td>\n",
       "      <td>0.030077</td>\n",
       "      <td>0.263875</td>\n",
       "    </tr>\n",
       "    <tr>\n",
       "      <th>square_feet</th>\n",
       "      <td>0.854944</td>\n",
       "      <td>0.628387</td>\n",
       "      <td>1.000000</td>\n",
       "      <td>0.108428</td>\n",
       "      <td>0.588502</td>\n",
       "    </tr>\n",
       "    <tr>\n",
       "      <th>haversine_distance</th>\n",
       "      <td>0.079816</td>\n",
       "      <td>0.030077</td>\n",
       "      <td>0.108428</td>\n",
       "      <td>1.000000</td>\n",
       "      <td>0.164899</td>\n",
       "    </tr>\n",
       "    <tr>\n",
       "      <th>assessed_value</th>\n",
       "      <td>0.505229</td>\n",
       "      <td>0.263875</td>\n",
       "      <td>0.588502</td>\n",
       "      <td>0.164899</td>\n",
       "      <td>1.000000</td>\n",
       "    </tr>\n",
       "  </tbody>\n",
       "</table>\n",
       "</div>"
      ],
      "text/plain": [
       "                    bathrooms  bedrooms  square_feet  haversine_distance  \\\n",
       "bathrooms            1.000000  0.641827     0.854944            0.079816   \n",
       "bedrooms             0.641827  1.000000     0.628387            0.030077   \n",
       "square_feet          0.854944  0.628387     1.000000            0.108428   \n",
       "haversine_distance   0.079816  0.030077     0.108428            1.000000   \n",
       "assessed_value       0.505229  0.263875     0.588502            0.164899   \n",
       "\n",
       "                    assessed_value  \n",
       "bathrooms                 0.505229  \n",
       "bedrooms                  0.263875  \n",
       "square_feet               0.588502  \n",
       "haversine_distance        0.164899  \n",
       "assessed_value            1.000000  "
      ]
     },
     "execution_count": 22,
     "metadata": {},
     "output_type": "execute_result"
    }
   ],
   "source": [
    "cm = train_plot.corr()\n",
    "cm"
   ]
  },
  {
   "cell_type": "code",
   "execution_count": 23,
   "metadata": {
    "scrolled": true
   },
   "outputs": [
    {
     "data": {
      "text/plain": [
       "<matplotlib.axes._subplots.AxesSubplot at 0x12c100ad0>"
      ]
     },
     "execution_count": 23,
     "metadata": {},
     "output_type": "execute_result"
    },
    {
     "data": {
      "image/png": "[encoded data removed]",
      "text/plain": [
       "<Figure size 576x432 with 2 Axes>"
      ]
     },
     "metadata": {
      "needs_background": "light"
     },
     "output_type": "display_data"
    }
   ],
   "source": [
    "# lets look at heatmap and corresponding correlation values \n",
    "plt.figure(figsize=(8,6))\n",
    "sns.heatmap(cm, annot=True, cmap='viridis')"
   ]
  },
  {
   "cell_type": "code",
   "execution_count": 24,
   "metadata": {},
   "outputs": [
    {
     "data": {
      "image/png": "[encoded data removed]",
      "text/plain": [
       "<Figure size 864x288 with 1 Axes>"
      ]
     },
     "metadata": {
      "needs_background": "light"
     },
     "output_type": "display_data"
    },
    {
     "data": {
      "image/png": "[encoded data removed]",
      "text/plain": [
       "<Figure size 864x288 with 1 Axes>"
      ]
     },
     "metadata": {
      "needs_background": "light"
     },
     "output_type": "display_data"
    },
    {
     "data": {
      "text/plain": [
       "<matplotlib.axes._subplots.AxesSubplot at 0x129ea1790>"
      ]
     },
     "execution_count": 24,
     "metadata": {},
     "output_type": "execute_result"
    },
    {
     "data": {
      "image/png": "[encoded data removed]",
      "text/plain": [
       "<Figure size 864x288 with 1 Axes>"
      ]
     },
     "metadata": {
      "needs_background": "light"
     },
     "output_type": "display_data"
    }
   ],
   "source": [
    "plt.figure(figsize=(12,4))\n",
    "# below are plots for tax_rate distributions in three counties\n",
    "sns.distplot(df[df.County == 'Los Angles'].tax_rate, rug=True)\n",
    "plt.show()\n",
    "plt.figure(figsize=(12,4))\n",
    "sns.distplot(df[df.County == 'Orange'].tax_rate, rug=True)\n",
    "plt.show()\n",
    "plt.figure(figsize=(12,4))\n",
    "sns.distplot(df[df.County == 'Ventura'].tax_rate, rug=True)"
   ]
  },
  {
   "cell_type": "markdown",
   "metadata": {},
   "source": [
    "## Lets do some hypothesis testing \n",
    "\n",
    "## $H_0$: there is no relationship between home values and number of bedrooms, bathrooms and square_feet\n",
    "## $H_a$: There is a relationship between home values and number of bedrooms, bathrooms and square_feet"
   ]
  },
  {
   "cell_type": "code",
   "execution_count": 142,
   "metadata": {},
   "outputs": [],
   "source": [
    "#Lets take a look at simple model based on bathoom, bedroom and squarefeet and compare if against the baseline(median home value)\n",
    "X_train = train[['log2sf', 'log2_zip_median']]\n",
    "y_train = train[['log2value']]\n",
    "X_test = test[['log2sf', 'log2_zip_median']]\n",
    "y_test = test[['log2value']]"
   ]
  },
  {
   "cell_type": "code",
   "execution_count": 143,
   "metadata": {},
   "outputs": [
    {
     "data": {
      "text/html": [
       "<div>\n",
       "<style scoped>\n",
       "    .dataframe tbody tr th:only-of-type {\n",
       "        vertical-align: middle;\n",
       "    }\n",
       "\n",
       "    .dataframe tbody tr th {\n",
       "        vertical-align: top;\n",
       "    }\n",
       "\n",
       "    .dataframe thead th {\n",
       "        text-align: right;\n",
       "    }\n",
       "</style>\n",
       "<table border=\"1\" class=\"dataframe\">\n",
       "  <thead>\n",
       "    <tr style=\"text-align: right;\">\n",
       "      <th></th>\n",
       "      <th>actual</th>\n",
       "    </tr>\n",
       "  </thead>\n",
       "  <tbody>\n",
       "    <tr>\n",
       "      <th>11938</th>\n",
       "      <td>18.035</td>\n",
       "    </tr>\n",
       "    <tr>\n",
       "      <th>790</th>\n",
       "      <td>16.548</td>\n",
       "    </tr>\n",
       "  </tbody>\n",
       "</table>\n",
       "</div>"
      ],
      "text/plain": [
       "       actual\n",
       "11938  18.035\n",
       "790    16.548"
      ]
     },
     "execution_count": 143,
     "metadata": {},
     "output_type": "execute_result"
    }
   ],
   "source": [
    "# make a dataframe 'predictions' with actual home values\n",
    "predictions = pd.DataFrame({\n",
    "    'actual': y_train.log2value\n",
    "})\n",
    "predictions.head(2)"
   ]
  },
  {
   "cell_type": "code",
   "execution_count": 144,
   "metadata": {},
   "outputs": [],
   "source": [
    "#predictions['median_bl'] =  train['assessed_value'].median()\n",
    "#predictions['mean_bl'] =  train['assessed_value'].mean()"
   ]
  },
  {
   "cell_type": "code",
   "execution_count": 145,
   "metadata": {},
   "outputs": [],
   "source": [
    "#We now create a OLS model based on bedrooms, bathrooms and square_feet\n",
    "from statsmodels.formula.api import ols\n",
    "\n",
    "# generate parameters, i.e. create model\n",
    "ols_model = ols('log2value ~ log2sf + log2_zip_median',  data = train).fit()\n",
    "\n",
    "# compute predictions and add to original dataframe\n",
    "predictions['ols'] = ols_model.predict(X_train)"
   ]
  },
  {
   "cell_type": "code",
   "execution_count": 146,
   "metadata": {},
   "outputs": [],
   "source": [
    "predictions['actual1'] =  2**predictions['actual']\n",
    "predictions['predicted1'] =  2**predictions['ols']"
   ]
  },
  {
   "cell_type": "code",
   "execution_count": 147,
   "metadata": {},
   "outputs": [
    {
     "data": {
      "text/html": [
       "<div>\n",
       "<style scoped>\n",
       "    .dataframe tbody tr th:only-of-type {\n",
       "        vertical-align: middle;\n",
       "    }\n",
       "\n",
       "    .dataframe tbody tr th {\n",
       "        vertical-align: top;\n",
       "    }\n",
       "\n",
       "    .dataframe thead th {\n",
       "        text-align: right;\n",
       "    }\n",
       "</style>\n",
       "<table border=\"1\" class=\"dataframe\">\n",
       "  <thead>\n",
       "    <tr style=\"text-align: right;\">\n",
       "      <th></th>\n",
       "      <th>actual</th>\n",
       "      <th>ols</th>\n",
       "      <th>actual1</th>\n",
       "      <th>predicted1</th>\n",
       "    </tr>\n",
       "  </thead>\n",
       "  <tbody>\n",
       "    <tr>\n",
       "      <th>11938</th>\n",
       "      <td>18.035</td>\n",
       "      <td>18.076</td>\n",
       "      <td>268557.000</td>\n",
       "      <td>276365.741</td>\n",
       "    </tr>\n",
       "    <tr>\n",
       "      <th>790</th>\n",
       "      <td>16.548</td>\n",
       "      <td>18.702</td>\n",
       "      <td>95849.000</td>\n",
       "      <td>426321.757</td>\n",
       "    </tr>\n",
       "  </tbody>\n",
       "</table>\n",
       "</div>"
      ],
      "text/plain": [
       "       actual    ols    actual1  predicted1\n",
       "11938  18.035 18.076 268557.000  276365.741\n",
       "790    16.548 18.702  95849.000  426321.757"
      ]
     },
     "execution_count": 147,
     "metadata": {},
     "output_type": "execute_result"
    }
   ],
   "source": [
    "predictions.head(2)"
   ]
  },
  {
   "cell_type": "code",
   "execution_count": 179,
   "metadata": {},
   "outputs": [
    {
     "data": {
      "text/plain": [
       "153470.411"
      ]
     },
     "execution_count": 179,
     "metadata": {},
     "output_type": "execute_result"
    }
   ],
   "source": [
    "#pd.options.display.float_format = '{:.3f}'.format\n",
    "#predictions.apply(lambda col: median_absolute_error(predictions.actual1, col))\n",
    "\n",
    "\n",
    "float('{:.3f}'.format(median_absolute_error(predictions.actual1, predictions.predicted1)))"
   ]
  },
  {
   "cell_type": "code",
   "execution_count": 177,
   "metadata": {},
   "outputs": [
    {
     "data": {
      "text/plain": [
       "0.424"
      ]
     },
     "execution_count": 177,
     "metadata": {},
     "output_type": "execute_result"
    }
   ],
   "source": [
    "pd.options.display.float_format = '{:.3f}'.format\n",
    "float('{:.3f}'.format(r2_score(predictions.actual1, predictions.predicted1)))\n",
    "#predictions.apply(lambda col: r2_score(predictions.actual1, col))"
   ]
  },
  {
   "cell_type": "code",
   "execution_count": 33,
   "metadata": {},
   "outputs": [
    {
     "data": {
      "image/png": "[encoded data removed]",
      "text/plain": [
       "<Figure size 432x288 with 1 Axes>"
      ]
     },
     "metadata": {
      "needs_background": "light"
     },
     "output_type": "display_data"
    }
   ],
   "source": [
    "#Lets look at residuals (Log Values)\n",
    "evaluate.plot_residuals(predictions.actual, predictions.ols, predictions)\n"
   ]
  },
  {
   "cell_type": "markdown",
   "metadata": {},
   "source": [
    "\n",
    "##  Looks like there is a clear trend. The model seems overestimating lower home prices, but under-estimates significantly at higher price levels. "
   ]
  },
  {
   "cell_type": "code",
   "execution_count": 34,
   "metadata": {},
   "outputs": [
    {
     "data": {
      "text/html": [
       "<table class=\"simpletable\">\n",
       "<caption>OLS Regression Results</caption>\n",
       "<tr>\n",
       "  <th>Dep. Variable:</th>        <td>log2value</td>    <th>  R-squared:         </th> <td>   0.440</td> \n",
       "</tr>\n",
       "<tr>\n",
       "  <th>Model:</th>                   <td>OLS</td>       <th>  Adj. R-squared:    </th> <td>   0.439</td> \n",
       "</tr>\n",
       "<tr>\n",
       "  <th>Method:</th>             <td>Least Squares</td>  <th>  F-statistic:       </th> <td>   4082.</td> \n",
       "</tr>\n",
       "<tr>\n",
       "  <th>Date:</th>             <td>Sun, 12 Apr 2020</td> <th>  Prob (F-statistic):</th>  <td>  0.00</td>  \n",
       "</tr>\n",
       "<tr>\n",
       "  <th>Time:</th>                 <td>10:39:10</td>     <th>  Log-Likelihood:    </th> <td> -15052.</td> \n",
       "</tr>\n",
       "<tr>\n",
       "  <th>No. Observations:</th>      <td> 10411</td>      <th>  AIC:               </th> <td>3.011e+04</td>\n",
       "</tr>\n",
       "<tr>\n",
       "  <th>Df Residuals:</th>          <td> 10408</td>      <th>  BIC:               </th> <td>3.013e+04</td>\n",
       "</tr>\n",
       "<tr>\n",
       "  <th>Df Model:</th>              <td>     2</td>      <th>                     </th>     <td> </td>    \n",
       "</tr>\n",
       "<tr>\n",
       "  <th>Covariance Type:</th>      <td>nonrobust</td>    <th>                     </th>     <td> </td>    \n",
       "</tr>\n",
       "</table>\n",
       "<table class=\"simpletable\">\n",
       "<tr>\n",
       "         <td></td>            <th>coef</th>     <th>std err</th>      <th>t</th>      <th>P>|t|</th>  <th>[0.025</th>    <th>0.975]</th>  \n",
       "</tr>\n",
       "<tr>\n",
       "  <th>Intercept</th>       <td>   -3.1794</td> <td>    0.244</td> <td>  -13.009</td> <td> 0.000</td> <td>   -3.658</td> <td>   -2.700</td>\n",
       "</tr>\n",
       "<tr>\n",
       "  <th>log2sf</th>          <td>    0.7889</td> <td>    0.018</td> <td>   44.491</td> <td> 0.000</td> <td>    0.754</td> <td>    0.824</td>\n",
       "</tr>\n",
       "<tr>\n",
       "  <th>log2_zip_median</th> <td>    0.7015</td> <td>    0.014</td> <td>   50.320</td> <td> 0.000</td> <td>    0.674</td> <td>    0.729</td>\n",
       "</tr>\n",
       "</table>\n",
       "<table class=\"simpletable\">\n",
       "<tr>\n",
       "  <th>Omnibus:</th>       <td>941.276</td> <th>  Durbin-Watson:     </th> <td>   2.004</td> \n",
       "</tr>\n",
       "<tr>\n",
       "  <th>Prob(Omnibus):</th> <td> 0.000</td>  <th>  Jarque-Bera (JB):  </th> <td>1215.806</td> \n",
       "</tr>\n",
       "<tr>\n",
       "  <th>Skew:</th>          <td>-0.830</td>  <th>  Prob(JB):          </th> <td>9.80e-265</td>\n",
       "</tr>\n",
       "<tr>\n",
       "  <th>Kurtosis:</th>      <td> 3.217</td>  <th>  Cond. No.          </th> <td>    525.</td> \n",
       "</tr>\n",
       "</table><br/><br/>Warnings:<br/>[1] Standard Errors assume that the covariance matrix of the errors is correctly specified."
      ],
      "text/plain": [
       "<class 'statsmodels.iolib.summary.Summary'>\n",
       "\"\"\"\n",
       "                            OLS Regression Results                            \n",
       "==============================================================================\n",
       "Dep. Variable:              log2value   R-squared:                       0.440\n",
       "Model:                            OLS   Adj. R-squared:                  0.439\n",
       "Method:                 Least Squares   F-statistic:                     4082.\n",
       "Date:                Sun, 12 Apr 2020   Prob (F-statistic):               0.00\n",
       "Time:                        10:39:10   Log-Likelihood:                -15052.\n",
       "No. Observations:               10411   AIC:                         3.011e+04\n",
       "Df Residuals:                   10408   BIC:                         3.013e+04\n",
       "Df Model:                           2                                         \n",
       "Covariance Type:            nonrobust                                         \n",
       "===================================================================================\n",
       "                      coef    std err          t      P>|t|      [0.025      0.975]\n",
       "-----------------------------------------------------------------------------------\n",
       "Intercept          -3.1794      0.244    -13.009      0.000      -3.658      -2.700\n",
       "log2sf              0.7889      0.018     44.491      0.000       0.754       0.824\n",
       "log2_zip_median     0.7015      0.014     50.320      0.000       0.674       0.729\n",
       "==============================================================================\n",
       "Omnibus:                      941.276   Durbin-Watson:                   2.004\n",
       "Prob(Omnibus):                  0.000   Jarque-Bera (JB):             1215.806\n",
       "Skew:                          -0.830   Prob(JB):                    9.80e-265\n",
       "Kurtosis:                       3.217   Cond. No.                         525.\n",
       "==============================================================================\n",
       "\n",
       "Warnings:\n",
       "[1] Standard Errors assume that the covariance matrix of the errors is correctly specified.\n",
       "\"\"\""
      ]
     },
     "execution_count": 34,
     "metadata": {},
     "output_type": "execute_result"
    }
   ],
   "source": [
    "ols_model.summary()"
   ]
  },
  {
   "cell_type": "markdown",
   "metadata": {},
   "source": [
    "##  Since my p-value is <0.05, I can reject the null hypothesis.\n",
    "##  This means that there is statistically significant relationship between home prices and  independent variables used above."
   ]
  },
  {
   "cell_type": "markdown",
   "metadata": {},
   "source": [
    "***"
   ]
  },
  {
   "cell_type": "markdown",
   "metadata": {},
   "source": [
    "# Lets apply this model on test data and see how it performs"
   ]
  },
  {
   "cell_type": "code",
   "execution_count": 35,
   "metadata": {},
   "outputs": [],
   "source": [
    "y_test['y_ols'] = ols_model.predict(X_test)"
   ]
  },
  {
   "cell_type": "code",
   "execution_count": 36,
   "metadata": {},
   "outputs": [
    {
     "data": {
      "text/html": [
       "<div>\n",
       "<style scoped>\n",
       "    .dataframe tbody tr th:only-of-type {\n",
       "        vertical-align: middle;\n",
       "    }\n",
       "\n",
       "    .dataframe tbody tr th {\n",
       "        vertical-align: top;\n",
       "    }\n",
       "\n",
       "    .dataframe thead th {\n",
       "        text-align: right;\n",
       "    }\n",
       "</style>\n",
       "<table border=\"1\" class=\"dataframe\">\n",
       "  <thead>\n",
       "    <tr style=\"text-align: right;\">\n",
       "      <th></th>\n",
       "      <th>log2value</th>\n",
       "      <th>y_ols</th>\n",
       "    </tr>\n",
       "  </thead>\n",
       "  <tbody>\n",
       "    <tr>\n",
       "      <th>9116</th>\n",
       "      <td>20.367</td>\n",
       "      <td>19.889</td>\n",
       "    </tr>\n",
       "    <tr>\n",
       "      <th>2397</th>\n",
       "      <td>19.605</td>\n",
       "      <td>19.556</td>\n",
       "    </tr>\n",
       "  </tbody>\n",
       "</table>\n",
       "</div>"
      ],
      "text/plain": [
       "      log2value  y_ols\n",
       "9116     20.367 19.889\n",
       "2397     19.605 19.556"
      ]
     },
     "execution_count": 36,
     "metadata": {},
     "output_type": "execute_result"
    }
   ],
   "source": [
    "y_test.head(2)"
   ]
  },
  {
   "cell_type": "code",
   "execution_count": 37,
   "metadata": {},
   "outputs": [],
   "source": [
    "y_test['actual1'] =  2**y_test['log2value']\n",
    "y_test['predicted1'] =  2**y_test['y_ols']"
   ]
  },
  {
   "cell_type": "code",
   "execution_count": 38,
   "metadata": {},
   "outputs": [
    {
     "data": {
      "text/plain": [
       "log2value    371192.998\n",
       "y_ols        371192.695\n",
       "actual1           0.000\n",
       "predicted1   149755.201\n",
       "dtype: float64"
      ]
     },
     "execution_count": 38,
     "metadata": {},
     "output_type": "execute_result"
    }
   ],
   "source": [
    "y_test.apply(lambda col: median_absolute_error(y_test.actual1, col))"
   ]
  },
  {
   "cell_type": "markdown",
   "metadata": {},
   "source": [
    "# The Median Absolute Error for test data is comparable to train data which means that model is not overfitted"
   ]
  },
  {
   "cell_type": "markdown",
   "metadata": {},
   "source": [
    "-----------------------------------------------------"
   ]
  },
  {
   "cell_type": "code",
   "execution_count": 39,
   "metadata": {},
   "outputs": [
    {
     "data": {
      "text/plain": [
       "(8.0, 26.0)"
      ]
     },
     "execution_count": 39,
     "metadata": {},
     "output_type": "execute_result"
    },
    {
     "data": {
      "image/png": "[encoded data removed]",
      "text/plain": [
       "<Figure size 432x288 with 1 Axes>"
      ]
     },
     "metadata": {
      "needs_background": "light"
     },
     "output_type": "display_data"
    }
   ],
   "source": [
    "fig, ax = plt.subplots()\n",
    "sns.scatterplot(x='log2sf', y = 'log2value', data=train, ax = ax)\n",
    "ax.set_xlim(8,26)\n",
    "ax.set_ylim(8,26)"
   ]
  },
  {
   "cell_type": "code",
   "execution_count": 40,
   "metadata": {},
   "outputs": [
    {
     "data": {
      "text/plain": [
       "(8.0, 26.0)"
      ]
     },
     "execution_count": 40,
     "metadata": {},
     "output_type": "execute_result"
    },
    {
     "data": {
      "image/png": "[encoded data removed]",
      "text/plain": [
       "<Figure size 432x288 with 1 Axes>"
      ]
     },
     "metadata": {
      "needs_background": "light"
     },
     "output_type": "display_data"
    }
   ],
   "source": [
    "fig, ax = plt.subplots()\n",
    "sns.scatterplot(x='log2lot_size', y = 'log2value', data=train)\n",
    "ax.set_xlim(8,26)\n",
    "ax.set_ylim(8,26)"
   ]
  },
  {
   "cell_type": "code",
   "execution_count": 41,
   "metadata": {},
   "outputs": [
    {
     "data": {
      "text/plain": [
       "<matplotlib.axes._subplots.AxesSubplot at 0x129ea9110>"
      ]
     },
     "execution_count": 41,
     "metadata": {},
     "output_type": "execute_result"
    },
    {
     "data": {
      "image/png": "[encoded data removed]",
      "text/plain": [
       "<Figure size 432x288 with 1 Axes>"
      ]
     },
     "metadata": {
      "needs_background": "light"
     },
     "output_type": "display_data"
    }
   ],
   "source": [
    "sns.scatterplot(x='bathrooms', y = 'log2value', data=train)"
   ]
  },
  {
   "cell_type": "code",
   "execution_count": 42,
   "metadata": {},
   "outputs": [
    {
     "data": {
      "text/plain": [
       "<matplotlib.axes._subplots.AxesSubplot at 0x12a8c7e50>"
      ]
     },
     "execution_count": 42,
     "metadata": {},
     "output_type": "execute_result"
    },
    {
     "data": {
      "image/png": "[encoded data removed]",
      "text/plain": [
       "<Figure size 432x288 with 1 Axes>"
      ]
     },
     "metadata": {
      "needs_background": "light"
     },
     "output_type": "display_data"
    }
   ],
   "source": [
    "sns.scatterplot(x='assessed_value', y = 'tax_rate', data=df)"
   ]
  },
  {
   "cell_type": "markdown",
   "metadata": {},
   "source": [
    "# Tax rate seems to be higher for lower valued properties!!"
   ]
  },
  {
   "cell_type": "markdown",
   "metadata": {},
   "source": [
    "------------------------------------"
   ]
  },
  {
   "cell_type": "code",
   "execution_count": 43,
   "metadata": {},
   "outputs": [
    {
     "data": {
      "text/plain": [
       "<matplotlib.axes._subplots.AxesSubplot at 0x129bfe350>"
      ]
     },
     "execution_count": 43,
     "metadata": {},
     "output_type": "execute_result"
    },
    {
     "data": {
      "image/png": "[encoded data removed]",
      "text/plain": [
       "<Figure size 432x288 with 1 Axes>"
      ]
     },
     "metadata": {
      "needs_background": "light"
     },
     "output_type": "display_data"
    }
   ],
   "source": [
    "sns.scatterplot(x='bedrooms', y = 'log2value', data=train)"
   ]
  },
  {
   "cell_type": "markdown",
   "metadata": {},
   "source": [
    "# May be we should try to fit a polynomial function to predict price using log2sf"
   ]
  },
  {
   "cell_type": "code",
   "execution_count": 44,
   "metadata": {},
   "outputs": [],
   "source": [
    "X_train = train[[ 'log2sf', 'log2_zip_median', 'bathrooms']]\n",
    "y_train = train[['log2value']]\n",
    "X_test = test[['log2sf', 'bathrooms']]\n",
    "y_test = test[['log2value']]"
   ]
  },
  {
   "cell_type": "code",
   "execution_count": 45,
   "metadata": {},
   "outputs": [
    {
     "data": {
      "text/plain": [
       "['1',\n",
       " 'x0',\n",
       " 'x1',\n",
       " 'x2',\n",
       " 'x0^2',\n",
       " 'x0 x1',\n",
       " 'x0 x2',\n",
       " 'x1^2',\n",
       " 'x1 x2',\n",
       " 'x2^2',\n",
       " 'x0^3',\n",
       " 'x0^2 x1',\n",
       " 'x0^2 x2',\n",
       " 'x0 x1^2',\n",
       " 'x0 x1 x2',\n",
       " 'x0 x2^2',\n",
       " 'x1^3',\n",
       " 'x1^2 x2',\n",
       " 'x1 x2^2',\n",
       " 'x2^3']"
      ]
     },
     "execution_count": 45,
     "metadata": {},
     "output_type": "execute_result"
    }
   ],
   "source": [
    "poly = PolynomialFeatures(degree=3)\n",
    "X_poly = poly.fit_transform(X_train)\n",
    "poly.get_feature_names()"
   ]
  },
  {
   "cell_type": "code",
   "execution_count": 46,
   "metadata": {},
   "outputs": [
    {
     "data": {
      "text/plain": [
       "array([1.00000000e+00, 1.07355560e+01, 1.91173463e+01, 2.00000000e+00,\n",
       "       1.15252163e+02, 2.05235343e+02, 2.14711120e+01, 3.65472931e+02,\n",
       "       3.82346927e+01, 4.00000000e+00, 1.23729605e+03, 2.20331552e+03,\n",
       "       2.30504326e+02, 3.92355512e+03, 4.10470685e+02, 4.29422241e+01,\n",
       "       6.98687259e+03, 7.30945861e+02, 7.64693853e+01, 8.00000000e+00])"
      ]
     },
     "execution_count": 46,
     "metadata": {},
     "output_type": "execute_result"
    }
   ],
   "source": [
    "X_poly[1]"
   ]
  },
  {
   "cell_type": "code",
   "execution_count": 47,
   "metadata": {},
   "outputs": [],
   "source": [
    "lm_poly = LinearRegression()\n",
    "lm_poly.fit(X_poly, y_train)\n",
    "y_train['log_predicted_poly'] = lm_poly.predict(X_poly)"
   ]
  },
  {
   "cell_type": "code",
   "execution_count": 48,
   "metadata": {},
   "outputs": [],
   "source": [
    "y_train['actual'] = 2**y_train.log2value\n",
    "y_train['poly_predicted'] = 2**y_train.log_predicted_poly\n",
    "#y_train['median_bl'] =  train['assessed_value'].median()"
   ]
  },
  {
   "cell_type": "code",
   "execution_count": 49,
   "metadata": {},
   "outputs": [
    {
     "data": {
      "text/html": [
       "<div>\n",
       "<style scoped>\n",
       "    .dataframe tbody tr th:only-of-type {\n",
       "        vertical-align: middle;\n",
       "    }\n",
       "\n",
       "    .dataframe tbody tr th {\n",
       "        vertical-align: top;\n",
       "    }\n",
       "\n",
       "    .dataframe thead th {\n",
       "        text-align: right;\n",
       "    }\n",
       "</style>\n",
       "<table border=\"1\" class=\"dataframe\">\n",
       "  <thead>\n",
       "    <tr style=\"text-align: right;\">\n",
       "      <th></th>\n",
       "      <th>log2value</th>\n",
       "      <th>log_predicted_poly</th>\n",
       "      <th>actual</th>\n",
       "      <th>poly_predicted</th>\n",
       "    </tr>\n",
       "  </thead>\n",
       "  <tbody>\n",
       "    <tr>\n",
       "      <th>11938</th>\n",
       "      <td>18.035</td>\n",
       "      <td>18.092</td>\n",
       "      <td>268557.000</td>\n",
       "      <td>279484.119</td>\n",
       "    </tr>\n",
       "    <tr>\n",
       "      <th>790</th>\n",
       "      <td>16.548</td>\n",
       "      <td>18.530</td>\n",
       "      <td>95849.000</td>\n",
       "      <td>378609.481</td>\n",
       "    </tr>\n",
       "  </tbody>\n",
       "</table>\n",
       "</div>"
      ],
      "text/plain": [
       "       log2value  log_predicted_poly     actual  poly_predicted\n",
       "11938     18.035              18.092 268557.000      279484.119\n",
       "790       16.548              18.530  95849.000      378609.481"
      ]
     },
     "execution_count": 49,
     "metadata": {},
     "output_type": "execute_result"
    }
   ],
   "source": [
    "y_train.head(2)"
   ]
  },
  {
   "cell_type": "code",
   "execution_count": 50,
   "metadata": {},
   "outputs": [
    {
     "data": {
      "text/plain": [
       "log2value            389591.428\n",
       "log_predicted_poly   389591.769\n",
       "actual                    0.000\n",
       "poly_predicted       152438.326\n",
       "dtype: float64"
      ]
     },
     "execution_count": 50,
     "metadata": {},
     "output_type": "execute_result"
    }
   ],
   "source": [
    "y_train.apply(lambda col: median_absolute_error(y_train.actual, col))"
   ]
  },
  {
   "cell_type": "code",
   "execution_count": 51,
   "metadata": {},
   "outputs": [
    {
     "data": {
      "text/plain": [
       "log2value            -0.573\n",
       "log_predicted_poly   -0.573\n",
       "actual                1.000\n",
       "poly_predicted        0.501\n",
       "dtype: float64"
      ]
     },
     "execution_count": 51,
     "metadata": {},
     "output_type": "execute_result"
    }
   ],
   "source": [
    "y_train.apply(lambda col: r2_score(y_train.actual, col))"
   ]
  },
  {
   "cell_type": "code",
   "execution_count": 52,
   "metadata": {},
   "outputs": [
    {
     "data": {
      "image/png": "[encoded data removed]",
      "text/plain": [
       "<Figure size 432x288 with 1 Axes>"
      ]
     },
     "metadata": {
      "needs_background": "light"
     },
     "output_type": "display_data"
    }
   ],
   "source": [
    "evaluate.plot_residuals(y_train.actual, y_train.poly_predicted, y_train)"
   ]
  },
  {
   "cell_type": "markdown",
   "metadata": {},
   "source": [
    "# Polynomial Linear  Regression Summary:\n",
    "# Median Absolute Error: 171,567\n",
    "# R2 value: 0.295"
   ]
  },
  {
   "cell_type": "markdown",
   "metadata": {},
   "source": [
    "# Generalized Additive Model (GAM)"
   ]
  },
  {
   "cell_type": "code",
   "execution_count": 53,
   "metadata": {},
   "outputs": [],
   "source": [
    "train, test = train_test_split(df, train_size = .70, random_state = 100)"
   ]
  },
  {
   "cell_type": "code",
   "execution_count": 54,
   "metadata": {},
   "outputs": [],
   "source": [
    "X_train = train[['bathrooms', 'log2sf']]\n",
    "y_train = train[['log2value']]\n",
    "X_test = test[[ 'bathrooms', 'log2sf']]\n",
    "y_test = test[['log2value']]"
   ]
  },
  {
   "cell_type": "code",
   "execution_count": 55,
   "metadata": {},
   "outputs": [],
   "source": [
    "#scaler, X_train_scaled, X_test_scaled = split_scale.min_max_scaler(X_train, X_test)"
   ]
  },
  {
   "cell_type": "code",
   "execution_count": 56,
   "metadata": {},
   "outputs": [],
   "source": [
    "X_train= X_train.to_numpy()\n",
    "y_train = y_train.to_numpy()"
   ]
  },
  {
   "cell_type": "code",
   "execution_count": 57,
   "metadata": {},
   "outputs": [
    {
     "data": {
      "text/plain": [
       "array([[18.0348688 ],\n",
       "       [16.54847576],\n",
       "       [18.30836125],\n",
       "       ...,\n",
       "       [19.3442699 ],\n",
       "       [18.98462985],\n",
       "       [18.06662005]])"
      ]
     },
     "execution_count": 57,
     "metadata": {},
     "output_type": "execute_result"
    }
   ],
   "source": [
    "y_train"
   ]
  },
  {
   "cell_type": "code",
   "execution_count": 58,
   "metadata": {},
   "outputs": [],
   "source": [
    "from pygam import LinearGAM, s, f, te\n",
    "gam = LinearGAM(s(0) +s(1))"
   ]
  },
  {
   "cell_type": "code",
   "execution_count": 59,
   "metadata": {},
   "outputs": [
    {
     "name": "stderr",
     "output_type": "stream",
     "text": [
      "100% (11 of 11) |########################| Elapsed Time: 0:00:01 Time:  0:00:01\n"
     ]
    },
    {
     "data": {
      "text/plain": [
       "LinearGAM(callbacks=[Deviance(), Diffs()], fit_intercept=True, \n",
       "   max_iter=100, scale=None, terms=s(0) + s(1) + intercept, \n",
       "   tol=0.0001, verbose=False)"
      ]
     },
     "execution_count": 59,
     "metadata": {},
     "output_type": "execute_result"
    }
   ],
   "source": [
    "gam.gridsearch(X_train,y_train)"
   ]
  },
  {
   "cell_type": "code",
   "execution_count": 60,
   "metadata": {},
   "outputs": [
    {
     "name": "stdout",
     "output_type": "stream",
     "text": [
      "LinearGAM                                                                                                 \n",
      "=============================================== ==========================================================\n",
      "Distribution:                        NormalDist Effective DoF:                                     25.4673\n",
      "Link Function:                     IdentityLink Log Likelihood:                                -16110.3687\n",
      "Number of Samples:                        10411 AIC:                                             32273.672\n",
      "                                                AICc:                                           32273.8121\n",
      "                                                GCV:                                                1.2688\n",
      "                                                Scale:                                              1.2632\n",
      "                                                Pseudo R-Squared:                                   0.3308\n",
      "==========================================================================================================\n",
      "Feature Function                  Lambda               Rank         EDoF         P > x        Sig. Code   \n",
      "================================= ==================== ============ ============ ============ ============\n",
      "s(0)                              [1.]                 20           12.9         1.11e-16     ***         \n",
      "s(1)                              [1.]                 20           12.6         1.11e-16     ***         \n",
      "intercept                                              1            0.0          1.11e-16     ***         \n",
      "==========================================================================================================\n",
      "Significance codes:  0 '***' 0.001 '**' 0.01 '*' 0.05 '.' 0.1 ' ' 1\n",
      "\n",
      "WARNING: Fitting splines and a linear function to a feature introduces a model identifiability problem\n",
      "         which can cause p-values to appear significant when they are not.\n",
      "\n",
      "WARNING: p-values calculated in this manner behave correctly for un-penalized models or models with\n",
      "         known smoothing parameters, but when smoothing parameters have been estimated, the p-values\n",
      "         are typically lower than they should be, meaning that the tests reject the null too readily.\n"
     ]
    }
   ],
   "source": [
    "gam.summary()"
   ]
  },
  {
   "cell_type": "code",
   "execution_count": 61,
   "metadata": {},
   "outputs": [],
   "source": [
    "y_pred = gam.predict(X_train)"
   ]
  },
  {
   "cell_type": "code",
   "execution_count": 62,
   "metadata": {},
   "outputs": [
    {
     "data": {
      "text/plain": [
       "array([18.66222344, 18.17669141, 18.39514978, ..., 17.98641168,\n",
       "       19.08768571, 17.99815235])"
      ]
     },
     "execution_count": 62,
     "metadata": {},
     "output_type": "execute_result"
    }
   ],
   "source": [
    "y_pred"
   ]
  },
  {
   "cell_type": "code",
   "execution_count": 63,
   "metadata": {},
   "outputs": [],
   "source": [
    "y_pred = pd.DataFrame(y_pred)"
   ]
  },
  {
   "cell_type": "code",
   "execution_count": 64,
   "metadata": {},
   "outputs": [],
   "source": [
    "y_pred['actual'] =y_train"
   ]
  },
  {
   "cell_type": "code",
   "execution_count": 65,
   "metadata": {},
   "outputs": [
    {
     "data": {
      "text/html": [
       "<div>\n",
       "<style scoped>\n",
       "    .dataframe tbody tr th:only-of-type {\n",
       "        vertical-align: middle;\n",
       "    }\n",
       "\n",
       "    .dataframe tbody tr th {\n",
       "        vertical-align: top;\n",
       "    }\n",
       "\n",
       "    .dataframe thead th {\n",
       "        text-align: right;\n",
       "    }\n",
       "</style>\n",
       "<table border=\"1\" class=\"dataframe\">\n",
       "  <thead>\n",
       "    <tr style=\"text-align: right;\">\n",
       "      <th></th>\n",
       "      <th>0</th>\n",
       "      <th>actual</th>\n",
       "    </tr>\n",
       "  </thead>\n",
       "  <tbody>\n",
       "    <tr>\n",
       "      <th>0</th>\n",
       "      <td>18.662</td>\n",
       "      <td>18.035</td>\n",
       "    </tr>\n",
       "    <tr>\n",
       "      <th>1</th>\n",
       "      <td>18.177</td>\n",
       "      <td>16.548</td>\n",
       "    </tr>\n",
       "  </tbody>\n",
       "</table>\n",
       "</div>"
      ],
      "text/plain": [
       "       0  actual\n",
       "0 18.662  18.035\n",
       "1 18.177  16.548"
      ]
     },
     "execution_count": 65,
     "metadata": {},
     "output_type": "execute_result"
    }
   ],
   "source": [
    "y_pred.head(2)"
   ]
  },
  {
   "cell_type": "code",
   "execution_count": 66,
   "metadata": {},
   "outputs": [],
   "source": [
    "y_pred['actual1'] = 2**y_pred.actual\n",
    "y_pred['predicted1'] = 2**y_pred[0]"
   ]
  },
  {
   "cell_type": "code",
   "execution_count": 67,
   "metadata": {},
   "outputs": [],
   "source": [
    "y_pred['residual'] = y_pred.actual1-y_pred['predicted1']"
   ]
  },
  {
   "cell_type": "code",
   "execution_count": 68,
   "metadata": {
    "scrolled": false
   },
   "outputs": [
    {
     "data": {
      "image/png": "[encoded data removed]",
      "text/plain": [
       "<Figure size 432x288 with 1 Axes>"
      ]
     },
     "metadata": {
      "needs_background": "light"
     },
     "output_type": "display_data"
    }
   ],
   "source": [
    "evaluate.plot_residuals(y_pred.actual1, y_pred['predicted1'], y_pred)"
   ]
  },
  {
   "cell_type": "code",
   "execution_count": 69,
   "metadata": {},
   "outputs": [
    {
     "data": {
      "image/png": "[encoded data removed]",
      "text/plain": [
       "<Figure size 432x288 with 1 Axes>"
      ]
     },
     "metadata": {
      "needs_background": "light"
     },
     "output_type": "display_data"
    }
   ],
   "source": [
    "f, (ax1) = plt.subplots(1, 1)\n",
    "\n",
    "\n",
    "ax1.scatter(y_pred['actual1'], y_pred['predicted1'])\n",
    "ax1.plot([0, 6000000], [0, 6000000], '--k')\n",
    "ax1.set_ylabel('Target predicted')\n",
    "ax1.set_xlabel('True Target')\n",
    "ax1.set_title('Generalized Additive Model')\n",
    "ax1.text(1, 4000000, r'$R^2$=%.2f, MAE=%.2f' % (\n",
    "    r2_score(y_pred['actual1'], y_pred['predicted1']), median_absolute_error(y_pred['actual1'], y_pred['predicted1'])))\n",
    "ax1.set_xlim([0, 6000000])\n",
    "ax1.set_ylim([0, 6000000])\n",
    "\n",
    "#f.tight_layout(rect=[0.8, 0.8, 0.95, 0.95])\n",
    "\n",
    "plt.show()"
   ]
  },
  {
   "cell_type": "code",
   "execution_count": 70,
   "metadata": {},
   "outputs": [
    {
     "data": {
      "text/plain": [
       "0            389591.956\n",
       "actual       389591.428\n",
       "actual1           0.000\n",
       "predicted1   169350.166\n",
       "residual     302920.448\n",
       "dtype: float64"
      ]
     },
     "execution_count": 70,
     "metadata": {},
     "output_type": "execute_result"
    }
   ],
   "source": [
    "y_pred.apply(lambda col: median_absolute_error(y_pred.actual1, col))"
   ]
  },
  {
   "cell_type": "code",
   "execution_count": 71,
   "metadata": {},
   "outputs": [
    {
     "data": {
      "text/plain": [
       "0            -0.573\n",
       "actual       -0.573\n",
       "actual1       1.000\n",
       "predicted1    0.357\n",
       "residual      0.378\n",
       "dtype: float64"
      ]
     },
     "execution_count": 71,
     "metadata": {},
     "output_type": "execute_result"
    }
   ],
   "source": [
    "y_pred.apply(lambda col: r2_score(y_pred.actual1, col))"
   ]
  },
  {
   "cell_type": "markdown",
   "metadata": {},
   "source": [
    "# GAM Summary with test data\n",
    "# Median Absolute Error: 153,409\n",
    "# R2 value: 0.617"
   ]
  },
  {
   "cell_type": "code",
   "execution_count": 72,
   "metadata": {},
   "outputs": [],
   "source": [
    "\n",
    "# i=2\n",
    "# XX = gam.generate_X_grid(term=i)\n",
    "# XX[:, i]\n",
    "# #ax.plot(XX[:, i], gam.partial_dependence(term=i, X=XX))"
   ]
  },
  {
   "cell_type": "code",
   "execution_count": 73,
   "metadata": {},
   "outputs": [
    {
     "data": {
      "image/png": "[encoded data removed]",
      "text/plain": [
       "<Figure size 432x288 with 1 Axes>"
      ]
     },
     "metadata": {
      "needs_background": "light"
     },
     "output_type": "display_data"
    },
    {
     "data": {
      "image/png": "[encoded data removed]",
      "text/plain": [
       "<Figure size 432x288 with 1 Axes>"
      ]
     },
     "metadata": {
      "needs_background": "light"
     },
     "output_type": "display_data"
    }
   ],
   "source": [
    "# Lets plot partial dependence plots for each \n",
    "for i, term in enumerate(gam.terms):\n",
    "    if term.isintercept:\n",
    "        continue\n",
    "    XX = gam.generate_X_grid(term=i)\n",
    "    pdep, confi = gam.partial_dependence(term=i, X=XX, width=0.95)\n",
    "    plt.figure()\n",
    "    plt.plot(XX[:, term.feature], pdep)\n",
    "    plt.plot(XX[:, term.feature], confi, c='r', ls='--')\n",
    "    plt.title(repr(term))\n",
    "    plt.show()"
   ]
  },
  {
   "cell_type": "code",
   "execution_count": 74,
   "metadata": {},
   "outputs": [
    {
     "data": {
      "text/plain": [
       "<matplotlib.axes._subplots.AxesSubplot at 0x12beb0150>"
      ]
     },
     "execution_count": 74,
     "metadata": {},
     "output_type": "execute_result"
    },
    {
     "data": {
      "image/png": "[encoded data removed]",
      "text/plain": [
       "<Figure size 432x288 with 1 Axes>"
      ]
     },
     "metadata": {
      "needs_background": "light"
     },
     "output_type": "display_data"
    }
   ],
   "source": [
    "sns.scatterplot(x='log2_zip_median', y = 'log2value', data=train)"
   ]
  },
  {
   "cell_type": "markdown",
   "metadata": {},
   "source": [
    "# Lets try a polynomial linear model with X_train = train[['bathrooms', 'log2sf', 'latitude', 'longitude']]"
   ]
  },
  {
   "cell_type": "code",
   "execution_count": 75,
   "metadata": {},
   "outputs": [],
   "source": [
    "X_train = train[['bathrooms', 'log2sf','log2_zip_median']]\n",
    "y_train = train[['log2value']]\n",
    "X_test = test[[ 'bathrooms', 'log2sf','log2_zip_median']]\n",
    "y_test = test[['log2value']]\n",
    "X_train1 = df[['bathrooms', 'log2sf','log2_zip_median']]\n",
    "y_train1 = df[['log2value']]"
   ]
  },
  {
   "cell_type": "code",
   "execution_count": 76,
   "metadata": {},
   "outputs": [],
   "source": [
    "# X_train = train[['bathrooms', 'log2sf', 'log2_zip_median','latitude', 'longitude']]\n",
    "# y_train = train[['assessed_value']]\n",
    "# X_test = test[[ 'bathrooms', 'log2sf','log2_zip_median','latitude', 'longitude']]\n",
    "# y_test = test[['assessed_value']]"
   ]
  },
  {
   "cell_type": "code",
   "execution_count": 77,
   "metadata": {},
   "outputs": [
    {
     "data": {
      "text/plain": [
       "['1',\n",
       " 'x0',\n",
       " 'x1',\n",
       " 'x2',\n",
       " 'x0^2',\n",
       " 'x0 x1',\n",
       " 'x0 x2',\n",
       " 'x1^2',\n",
       " 'x1 x2',\n",
       " 'x2^2',\n",
       " 'x0^3',\n",
       " 'x0^2 x1',\n",
       " 'x0^2 x2',\n",
       " 'x0 x1^2',\n",
       " 'x0 x1 x2',\n",
       " 'x0 x2^2',\n",
       " 'x1^3',\n",
       " 'x1^2 x2',\n",
       " 'x1 x2^2',\n",
       " 'x2^3']"
      ]
     },
     "execution_count": 77,
     "metadata": {},
     "output_type": "execute_result"
    }
   ],
   "source": [
    "poly = PolynomialFeatures(degree=3)\n",
    "X_poly = poly.fit_transform(X_train)\n",
    "poly.get_feature_names()"
   ]
  },
  {
   "cell_type": "code",
   "execution_count": 78,
   "metadata": {},
   "outputs": [
    {
     "data": {
      "text/html": [
       "<div>\n",
       "<style scoped>\n",
       "    .dataframe tbody tr th:only-of-type {\n",
       "        vertical-align: middle;\n",
       "    }\n",
       "\n",
       "    .dataframe tbody tr th {\n",
       "        vertical-align: top;\n",
       "    }\n",
       "\n",
       "    .dataframe thead th {\n",
       "        text-align: right;\n",
       "    }\n",
       "</style>\n",
       "<table border=\"1\" class=\"dataframe\">\n",
       "  <thead>\n",
       "    <tr style=\"text-align: right;\">\n",
       "      <th></th>\n",
       "      <th>1</th>\n",
       "      <th>bathrooms</th>\n",
       "      <th>log2sf</th>\n",
       "      <th>log2_zip_median</th>\n",
       "      <th>bathrooms^2</th>\n",
       "      <th>bathrooms log2sf</th>\n",
       "      <th>bathrooms log2_zip_median</th>\n",
       "      <th>log2sf^2</th>\n",
       "      <th>log2sf log2_zip_median</th>\n",
       "      <th>log2_zip_median^2</th>\n",
       "      <th>bathrooms^3</th>\n",
       "      <th>bathrooms^2 log2sf</th>\n",
       "      <th>bathrooms^2 log2_zip_median</th>\n",
       "      <th>bathrooms log2sf^2</th>\n",
       "      <th>bathrooms log2sf log2_zip_median</th>\n",
       "      <th>bathrooms log2_zip_median^2</th>\n",
       "      <th>log2sf^3</th>\n",
       "      <th>log2sf^2 log2_zip_median</th>\n",
       "      <th>log2sf log2_zip_median^2</th>\n",
       "      <th>log2_zip_median^3</th>\n",
       "    </tr>\n",
       "  </thead>\n",
       "  <tbody>\n",
       "    <tr>\n",
       "      <th>0</th>\n",
       "      <td>1.000</td>\n",
       "      <td>3.000</td>\n",
       "      <td>11.057</td>\n",
       "      <td>17.865</td>\n",
       "      <td>9.000</td>\n",
       "      <td>33.170</td>\n",
       "      <td>53.595</td>\n",
       "      <td>122.249</td>\n",
       "      <td>197.525</td>\n",
       "      <td>319.154</td>\n",
       "      <td>27.000</td>\n",
       "      <td>99.510</td>\n",
       "      <td>160.784</td>\n",
       "      <td>366.748</td>\n",
       "      <td>592.576</td>\n",
       "      <td>957.461</td>\n",
       "      <td>1351.666</td>\n",
       "      <td>2183.967</td>\n",
       "      <td>3528.765</td>\n",
       "      <td>5701.637</td>\n",
       "    </tr>\n",
       "    <tr>\n",
       "      <th>1</th>\n",
       "      <td>1.000</td>\n",
       "      <td>2.000</td>\n",
       "      <td>10.736</td>\n",
       "      <td>19.117</td>\n",
       "      <td>4.000</td>\n",
       "      <td>21.471</td>\n",
       "      <td>38.235</td>\n",
       "      <td>115.252</td>\n",
       "      <td>205.235</td>\n",
       "      <td>365.473</td>\n",
       "      <td>8.000</td>\n",
       "      <td>42.942</td>\n",
       "      <td>76.469</td>\n",
       "      <td>230.504</td>\n",
       "      <td>410.471</td>\n",
       "      <td>730.946</td>\n",
       "      <td>1237.296</td>\n",
       "      <td>2203.316</td>\n",
       "      <td>3923.555</td>\n",
       "      <td>6986.873</td>\n",
       "    </tr>\n",
       "  </tbody>\n",
       "</table>\n",
       "</div>"
      ],
      "text/plain": [
       "      1  bathrooms  log2sf  log2_zip_median  bathrooms^2  bathrooms log2sf  \\\n",
       "0 1.000      3.000  11.057           17.865        9.000            33.170   \n",
       "1 1.000      2.000  10.736           19.117        4.000            21.471   \n",
       "\n",
       "   bathrooms log2_zip_median  log2sf^2  log2sf log2_zip_median  \\\n",
       "0                     53.595   122.249                 197.525   \n",
       "1                     38.235   115.252                 205.235   \n",
       "\n",
       "   log2_zip_median^2  bathrooms^3  bathrooms^2 log2sf  \\\n",
       "0            319.154       27.000              99.510   \n",
       "1            365.473        8.000              42.942   \n",
       "\n",
       "   bathrooms^2 log2_zip_median  bathrooms log2sf^2  \\\n",
       "0                      160.784             366.748   \n",
       "1                       76.469             230.504   \n",
       "\n",
       "   bathrooms log2sf log2_zip_median  bathrooms log2_zip_median^2  log2sf^3  \\\n",
       "0                           592.576                      957.461  1351.666   \n",
       "1                           410.471                      730.946  1237.296   \n",
       "\n",
       "   log2sf^2 log2_zip_median  log2sf log2_zip_median^2  log2_zip_median^3  \n",
       "0                  2183.967                  3528.765           5701.637  \n",
       "1                  2203.316                  3923.555           6986.873  "
      ]
     },
     "execution_count": 78,
     "metadata": {},
     "output_type": "execute_result"
    }
   ],
   "source": [
    "X_poly = pd.DataFrame(poly.transform(X_train), columns=poly.get_feature_names(X_train.columns))\n",
    "X_poly.head(2)"
   ]
  },
  {
   "cell_type": "code",
   "execution_count": 79,
   "metadata": {},
   "outputs": [],
   "source": [
    "lm_poly = LinearRegression()\n",
    "lm_poly.fit(X_poly, y_train)\n",
    "y_train['log_predicted_poly'] = lm_poly.predict(X_poly)"
   ]
  },
  {
   "cell_type": "code",
   "execution_count": 80,
   "metadata": {},
   "outputs": [
    {
     "data": {
      "text/html": [
       "<div>\n",
       "<style scoped>\n",
       "    .dataframe tbody tr th:only-of-type {\n",
       "        vertical-align: middle;\n",
       "    }\n",
       "\n",
       "    .dataframe tbody tr th {\n",
       "        vertical-align: top;\n",
       "    }\n",
       "\n",
       "    .dataframe thead th {\n",
       "        text-align: right;\n",
       "    }\n",
       "</style>\n",
       "<table border=\"1\" class=\"dataframe\">\n",
       "  <thead>\n",
       "    <tr style=\"text-align: right;\">\n",
       "      <th></th>\n",
       "      <th>log2value</th>\n",
       "      <th>log_predicted_poly</th>\n",
       "    </tr>\n",
       "  </thead>\n",
       "  <tbody>\n",
       "    <tr>\n",
       "      <th>11938</th>\n",
       "      <td>18.035</td>\n",
       "      <td>18.092</td>\n",
       "    </tr>\n",
       "    <tr>\n",
       "      <th>790</th>\n",
       "      <td>16.548</td>\n",
       "      <td>18.530</td>\n",
       "    </tr>\n",
       "    <tr>\n",
       "      <th>3846</th>\n",
       "      <td>18.308</td>\n",
       "      <td>18.657</td>\n",
       "    </tr>\n",
       "    <tr>\n",
       "      <th>14846</th>\n",
       "      <td>18.931</td>\n",
       "      <td>18.901</td>\n",
       "    </tr>\n",
       "    <tr>\n",
       "      <th>1469</th>\n",
       "      <td>18.982</td>\n",
       "      <td>18.063</td>\n",
       "    </tr>\n",
       "  </tbody>\n",
       "</table>\n",
       "</div>"
      ],
      "text/plain": [
       "       log2value  log_predicted_poly\n",
       "11938     18.035              18.092\n",
       "790       16.548              18.530\n",
       "3846      18.308              18.657\n",
       "14846     18.931              18.901\n",
       "1469      18.982              18.063"
      ]
     },
     "execution_count": 80,
     "metadata": {},
     "output_type": "execute_result"
    }
   ],
   "source": [
    "y_train.head()"
   ]
  },
  {
   "cell_type": "code",
   "execution_count": 81,
   "metadata": {},
   "outputs": [],
   "source": [
    "y_train['actual'] = 2**y_train.log2value\n",
    "y_train['poly_predicted'] = 2**y_train.log_predicted_poly\n",
    "#y_train['median_bl'] =  train['log2value'].median()"
   ]
  },
  {
   "cell_type": "code",
   "execution_count": 82,
   "metadata": {
    "scrolled": true
   },
   "outputs": [
    {
     "data": {
      "text/html": [
       "<div>\n",
       "<style scoped>\n",
       "    .dataframe tbody tr th:only-of-type {\n",
       "        vertical-align: middle;\n",
       "    }\n",
       "\n",
       "    .dataframe tbody tr th {\n",
       "        vertical-align: top;\n",
       "    }\n",
       "\n",
       "    .dataframe thead th {\n",
       "        text-align: right;\n",
       "    }\n",
       "</style>\n",
       "<table border=\"1\" class=\"dataframe\">\n",
       "  <thead>\n",
       "    <tr style=\"text-align: right;\">\n",
       "      <th></th>\n",
       "      <th>log2value</th>\n",
       "      <th>log_predicted_poly</th>\n",
       "      <th>actual</th>\n",
       "      <th>poly_predicted</th>\n",
       "    </tr>\n",
       "  </thead>\n",
       "  <tbody>\n",
       "    <tr>\n",
       "      <th>11938</th>\n",
       "      <td>18.035</td>\n",
       "      <td>18.092</td>\n",
       "      <td>268557.000</td>\n",
       "      <td>279484.119</td>\n",
       "    </tr>\n",
       "    <tr>\n",
       "      <th>790</th>\n",
       "      <td>16.548</td>\n",
       "      <td>18.530</td>\n",
       "      <td>95849.000</td>\n",
       "      <td>378609.481</td>\n",
       "    </tr>\n",
       "  </tbody>\n",
       "</table>\n",
       "</div>"
      ],
      "text/plain": [
       "       log2value  log_predicted_poly     actual  poly_predicted\n",
       "11938     18.035              18.092 268557.000      279484.119\n",
       "790       16.548              18.530  95849.000      378609.481"
      ]
     },
     "execution_count": 82,
     "metadata": {},
     "output_type": "execute_result"
    }
   ],
   "source": [
    "y_train.head(2)\n",
    "#y_train.to_csv('poly2_non_spatial.csv')"
   ]
  },
  {
   "cell_type": "code",
   "execution_count": 83,
   "metadata": {},
   "outputs": [
    {
     "data": {
      "text/plain": [
       "log2value            389591.428\n",
       "log_predicted_poly   389591.769\n",
       "actual                    0.000\n",
       "poly_predicted       152438.326\n",
       "dtype: float64"
      ]
     },
     "execution_count": 83,
     "metadata": {},
     "output_type": "execute_result"
    }
   ],
   "source": [
    "y_train.apply(lambda col: median_absolute_error(y_train.actual, col))"
   ]
  },
  {
   "cell_type": "code",
   "execution_count": 84,
   "metadata": {},
   "outputs": [
    {
     "data": {
      "text/plain": [
       "log2value            -0.573\n",
       "log_predicted_poly   -0.573\n",
       "actual                1.000\n",
       "poly_predicted        0.501\n",
       "dtype: float64"
      ]
     },
     "execution_count": 84,
     "metadata": {},
     "output_type": "execute_result"
    }
   ],
   "source": [
    "y_train.apply(lambda col: r2_score(y_train.actual, col))"
   ]
  },
  {
   "cell_type": "markdown",
   "metadata": {},
   "source": [
    "# Polynomial Linear  Regression Summary:\n",
    "# Median Absolute Error: 152,438\n",
    "# R2 value: 0.501"
   ]
  },
  {
   "cell_type": "markdown",
   "metadata": {},
   "source": [
    "-----------------------------------------------------"
   ]
  },
  {
   "cell_type": "markdown",
   "metadata": {},
   "source": [
    "# Lets try Ridge Regressions with cross-validation"
   ]
  },
  {
   "cell_type": "code",
   "execution_count": 85,
   "metadata": {},
   "outputs": [],
   "source": [
    "train, test = train_test_split(df, train_size = .70, random_state = 100)"
   ]
  },
  {
   "cell_type": "code",
   "execution_count": 86,
   "metadata": {},
   "outputs": [],
   "source": [
    "X_train = train[[ 'log2sf','bathrooms','log2_zip_median','latitude', 'longitude']]\n",
    "y_train = train[['log2value']]\n",
    "X_test = test[['log2sf','bathrooms','latitude', 'longitude']]\n",
    "y_test = test[['log2value']]"
   ]
  },
  {
   "cell_type": "code",
   "execution_count": 87,
   "metadata": {},
   "outputs": [
    {
     "data": {
      "image/png": "[encoded data removed]",
      "text/plain": [
       "<Figure size 432x288 with 2 Axes>"
      ]
     },
     "metadata": {
      "needs_background": "light"
     },
     "output_type": "display_data"
    }
   ],
   "source": [
    "f, (ax0, ax1) = plt.subplots(1, 2, sharey=True)\n",
    "\n",
    "regr = RidgeCV()\n",
    "regr.fit(X_train, y_train)\n",
    "y_pred = regr.predict(X_train)\n",
    "\n",
    "ax0.scatter(y_train, y_pred)\n",
    "ax0.plot([0, 50], [0, 50], '--k')\n",
    "ax0.set_ylabel('Target predicted')\n",
    "ax0.set_xlabel('True Target')\n",
    "ax0.set_title('Ridge regression \\n without target transformation')\n",
    "ax0.text(1, 40, r'$R^2$=%.2f, MAE=%.2f' % (\n",
    "    r2_score(y_train, y_pred), median_absolute_error(y_train, y_pred)))\n",
    "ax0.set_xlim([0, 50])\n",
    "ax0.set_ylim([0, 50])\n",
    "\n",
    "regr_trans = TransformedTargetRegressor(\n",
    "    regressor=RidgeCV(),\n",
    "    transformer=QuantileTransformer(n_quantiles=300,\n",
    "                                    output_distribution='normal'))\n",
    "regr_trans.fit(X_train, y_train)\n",
    "y_pred = regr_trans.predict(X_train)\n",
    "\n",
    "ax1.scatter(y_train, y_pred)\n",
    "ax1.plot([0, 50], [0, 50], '--k')\n",
    "ax1.set_ylabel('Target predicted')\n",
    "ax1.set_xlabel('True Target')\n",
    "ax1.set_title('Ridge regression \\n with target transformation')\n",
    "ax1.text(1, 40, r'$R^2$=%.2f, MAE=%.2f' % (\n",
    "    r2_score(y_train, y_pred), median_absolute_error(y_train, y_pred)))\n",
    "ax1.set_xlim([0, 50])\n",
    "ax1.set_ylim([0, 50])\n",
    "\n",
    "f.tight_layout(rect=[0.05, 0.05, 0.95, 0.95])\n",
    "\n",
    "plt.show()"
   ]
  },
  {
   "cell_type": "code",
   "execution_count": 88,
   "metadata": {},
   "outputs": [],
   "source": [
    "y_pred = pd.DataFrame(y_pred, columns = ['predicted_log'],index=y_train.index)"
   ]
  },
  {
   "cell_type": "code",
   "execution_count": 89,
   "metadata": {},
   "outputs": [
    {
     "data": {
      "text/html": [
       "<div>\n",
       "<style scoped>\n",
       "    .dataframe tbody tr th:only-of-type {\n",
       "        vertical-align: middle;\n",
       "    }\n",
       "\n",
       "    .dataframe tbody tr th {\n",
       "        vertical-align: top;\n",
       "    }\n",
       "\n",
       "    .dataframe thead th {\n",
       "        text-align: right;\n",
       "    }\n",
       "</style>\n",
       "<table border=\"1\" class=\"dataframe\">\n",
       "  <thead>\n",
       "    <tr style=\"text-align: right;\">\n",
       "      <th></th>\n",
       "      <th>predicted_log</th>\n",
       "    </tr>\n",
       "  </thead>\n",
       "  <tbody>\n",
       "    <tr>\n",
       "      <th>11938</th>\n",
       "      <td>18.114</td>\n",
       "    </tr>\n",
       "    <tr>\n",
       "      <th>790</th>\n",
       "      <td>18.735</td>\n",
       "    </tr>\n",
       "  </tbody>\n",
       "</table>\n",
       "</div>"
      ],
      "text/plain": [
       "       predicted_log\n",
       "11938         18.114\n",
       "790           18.735"
      ]
     },
     "execution_count": 89,
     "metadata": {},
     "output_type": "execute_result"
    }
   ],
   "source": [
    "y_pred.head(2)"
   ]
  },
  {
   "cell_type": "code",
   "execution_count": 90,
   "metadata": {},
   "outputs": [],
   "source": [
    "y_pred1 = train[['assessed_value']]"
   ]
  },
  {
   "cell_type": "code",
   "execution_count": 91,
   "metadata": {},
   "outputs": [
    {
     "data": {
      "text/html": [
       "<div>\n",
       "<style scoped>\n",
       "    .dataframe tbody tr th:only-of-type {\n",
       "        vertical-align: middle;\n",
       "    }\n",
       "\n",
       "    .dataframe tbody tr th {\n",
       "        vertical-align: top;\n",
       "    }\n",
       "\n",
       "    .dataframe thead th {\n",
       "        text-align: right;\n",
       "    }\n",
       "</style>\n",
       "<table border=\"1\" class=\"dataframe\">\n",
       "  <thead>\n",
       "    <tr style=\"text-align: right;\">\n",
       "      <th></th>\n",
       "      <th>assessed_value</th>\n",
       "    </tr>\n",
       "  </thead>\n",
       "  <tbody>\n",
       "    <tr>\n",
       "      <th>11938</th>\n",
       "      <td>268557.000</td>\n",
       "    </tr>\n",
       "    <tr>\n",
       "      <th>790</th>\n",
       "      <td>95849.000</td>\n",
       "    </tr>\n",
       "  </tbody>\n",
       "</table>\n",
       "</div>"
      ],
      "text/plain": [
       "       assessed_value\n",
       "11938      268557.000\n",
       "790         95849.000"
      ]
     },
     "execution_count": 91,
     "metadata": {},
     "output_type": "execute_result"
    }
   ],
   "source": [
    "y_pred1.head(2)"
   ]
  },
  {
   "cell_type": "code",
   "execution_count": 92,
   "metadata": {},
   "outputs": [],
   "source": [
    "df1 = pd.concat([y_pred, y_pred1], axis=1)"
   ]
  },
  {
   "cell_type": "code",
   "execution_count": 93,
   "metadata": {},
   "outputs": [
    {
     "data": {
      "text/html": [
       "<div>\n",
       "<style scoped>\n",
       "    .dataframe tbody tr th:only-of-type {\n",
       "        vertical-align: middle;\n",
       "    }\n",
       "\n",
       "    .dataframe tbody tr th {\n",
       "        vertical-align: top;\n",
       "    }\n",
       "\n",
       "    .dataframe thead th {\n",
       "        text-align: right;\n",
       "    }\n",
       "</style>\n",
       "<table border=\"1\" class=\"dataframe\">\n",
       "  <thead>\n",
       "    <tr style=\"text-align: right;\">\n",
       "      <th></th>\n",
       "      <th>predicted_log</th>\n",
       "      <th>assessed_value</th>\n",
       "    </tr>\n",
       "  </thead>\n",
       "  <tbody>\n",
       "    <tr>\n",
       "      <th>11938</th>\n",
       "      <td>18.114</td>\n",
       "      <td>268557.000</td>\n",
       "    </tr>\n",
       "    <tr>\n",
       "      <th>790</th>\n",
       "      <td>18.735</td>\n",
       "      <td>95849.000</td>\n",
       "    </tr>\n",
       "  </tbody>\n",
       "</table>\n",
       "</div>"
      ],
      "text/plain": [
       "       predicted_log  assessed_value\n",
       "11938         18.114      268557.000\n",
       "790           18.735       95849.000"
      ]
     },
     "execution_count": 93,
     "metadata": {},
     "output_type": "execute_result"
    }
   ],
   "source": [
    "df1.head(2)"
   ]
  },
  {
   "cell_type": "code",
   "execution_count": 94,
   "metadata": {},
   "outputs": [],
   "source": [
    "df1['predicted1'] = 2**df1.predicted_log"
   ]
  },
  {
   "cell_type": "code",
   "execution_count": 95,
   "metadata": {},
   "outputs": [
    {
     "data": {
      "text/html": [
       "<div>\n",
       "<style scoped>\n",
       "    .dataframe tbody tr th:only-of-type {\n",
       "        vertical-align: middle;\n",
       "    }\n",
       "\n",
       "    .dataframe tbody tr th {\n",
       "        vertical-align: top;\n",
       "    }\n",
       "\n",
       "    .dataframe thead th {\n",
       "        text-align: right;\n",
       "    }\n",
       "</style>\n",
       "<table border=\"1\" class=\"dataframe\">\n",
       "  <thead>\n",
       "    <tr style=\"text-align: right;\">\n",
       "      <th></th>\n",
       "      <th>predicted_log</th>\n",
       "      <th>assessed_value</th>\n",
       "      <th>predicted1</th>\n",
       "    </tr>\n",
       "  </thead>\n",
       "  <tbody>\n",
       "    <tr>\n",
       "      <th>11938</th>\n",
       "      <td>18.114</td>\n",
       "      <td>268557.000</td>\n",
       "      <td>283794.223</td>\n",
       "    </tr>\n",
       "    <tr>\n",
       "      <th>790</th>\n",
       "      <td>18.735</td>\n",
       "      <td>95849.000</td>\n",
       "      <td>436415.059</td>\n",
       "    </tr>\n",
       "  </tbody>\n",
       "</table>\n",
       "</div>"
      ],
      "text/plain": [
       "       predicted_log  assessed_value  predicted1\n",
       "11938         18.114      268557.000  283794.223\n",
       "790           18.735       95849.000  436415.059"
      ]
     },
     "execution_count": 95,
     "metadata": {},
     "output_type": "execute_result"
    }
   ],
   "source": [
    "df1.head(2)"
   ]
  },
  {
   "cell_type": "code",
   "execution_count": 96,
   "metadata": {},
   "outputs": [
    {
     "data": {
      "text/plain": [
       "predicted_log    389591.590\n",
       "assessed_value        0.000\n",
       "predicted1       151934.950\n",
       "dtype: float64"
      ]
     },
     "execution_count": 96,
     "metadata": {},
     "output_type": "execute_result"
    }
   ],
   "source": [
    "df1.apply(lambda col: median_absolute_error(df1.assessed_value, col))"
   ]
  },
  {
   "cell_type": "code",
   "execution_count": 97,
   "metadata": {},
   "outputs": [
    {
     "data": {
      "text/plain": [
       "predicted_log    -0.573\n",
       "assessed_value    1.000\n",
       "predicted1        0.393\n",
       "dtype: float64"
      ]
     },
     "execution_count": 97,
     "metadata": {},
     "output_type": "execute_result"
    }
   ],
   "source": [
    "df1.apply(lambda col: r2_score(df1.assessed_value, col))"
   ]
  },
  {
   "cell_type": "markdown",
   "metadata": {},
   "source": [
    "# Ridge Regression Summary:\n",
    "# Median Absolute Error: 159,076\n",
    "# R2 value: 0.316"
   ]
  },
  {
   "cell_type": "markdown",
   "metadata": {},
   "source": [
    "----------------------------------------"
   ]
  },
  {
   "cell_type": "markdown",
   "metadata": {},
   "source": [
    "# Lets now try to remove outliers and then do modeling"
   ]
  },
  {
   "cell_type": "code",
   "execution_count": 98,
   "metadata": {
    "scrolled": true
   },
   "outputs": [
    {
     "data": {
      "text/html": [
       "<div>\n",
       "<style scoped>\n",
       "    .dataframe tbody tr th:only-of-type {\n",
       "        vertical-align: middle;\n",
       "    }\n",
       "\n",
       "    .dataframe tbody tr th {\n",
       "        vertical-align: top;\n",
       "    }\n",
       "\n",
       "    .dataframe thead th {\n",
       "        text-align: right;\n",
       "    }\n",
       "</style>\n",
       "<table border=\"1\" class=\"dataframe\">\n",
       "  <thead>\n",
       "    <tr style=\"text-align: right;\">\n",
       "      <th></th>\n",
       "      <th>bathrooms</th>\n",
       "      <th>bedrooms</th>\n",
       "      <th>square_feet</th>\n",
       "      <th>fips</th>\n",
       "      <th>lot_size</th>\n",
       "      <th>pool</th>\n",
       "      <th>zip_code</th>\n",
       "      <th>year_built</th>\n",
       "      <th>latitude</th>\n",
       "      <th>longitude</th>\n",
       "      <th>...</th>\n",
       "      <th>transaction_date</th>\n",
       "      <th>tax_rate</th>\n",
       "      <th>County</th>\n",
       "      <th>log2sf</th>\n",
       "      <th>log2lot_size</th>\n",
       "      <th>log2value</th>\n",
       "      <th>age</th>\n",
       "      <th>zip_median</th>\n",
       "      <th>log2_zip_median</th>\n",
       "      <th>haversine_distance</th>\n",
       "    </tr>\n",
       "  </thead>\n",
       "  <tbody>\n",
       "    <tr>\n",
       "      <th>0</th>\n",
       "      <td>2.000</td>\n",
       "      <td>3.000</td>\n",
       "      <td>1458.000</td>\n",
       "      <td>6037</td>\n",
       "      <td>8284</td>\n",
       "      <td>1</td>\n",
       "      <td>97318</td>\n",
       "      <td>1970</td>\n",
       "      <td>34686163.000</td>\n",
       "      <td>-118113100.000</td>\n",
       "      <td>...</td>\n",
       "      <td>2017-06-23</td>\n",
       "      <td>0.017</td>\n",
       "      <td>Los Angles</td>\n",
       "      <td>10.510</td>\n",
       "      <td>13.016</td>\n",
       "      <td>17.054</td>\n",
       "      <td>30</td>\n",
       "      <td>144172.000</td>\n",
       "      <td>17.137</td>\n",
       "      <td>21.546</td>\n",
       "    </tr>\n",
       "    <tr>\n",
       "      <th>1</th>\n",
       "      <td>1.000</td>\n",
       "      <td>2.000</td>\n",
       "      <td>1421.000</td>\n",
       "      <td>6037</td>\n",
       "      <td>6707</td>\n",
       "      <td>0</td>\n",
       "      <td>96018</td>\n",
       "      <td>1911</td>\n",
       "      <td>33999877.000</td>\n",
       "      <td>-118291863.000</td>\n",
       "      <td>...</td>\n",
       "      <td>2017-06-30</td>\n",
       "      <td>0.015</td>\n",
       "      <td>Los Angles</td>\n",
       "      <td>10.473</td>\n",
       "      <td>12.711</td>\n",
       "      <td>15.120</td>\n",
       "      <td>89</td>\n",
       "      <td>162337.000</td>\n",
       "      <td>17.309</td>\n",
       "      <td>88.899</td>\n",
       "    </tr>\n",
       "  </tbody>\n",
       "</table>\n",
       "<p>2 rows × 22 columns</p>\n",
       "</div>"
      ],
      "text/plain": [
       "   bathrooms  bedrooms  square_feet  fips  lot_size  pool  zip_code  \\\n",
       "0      2.000     3.000     1458.000  6037      8284     1     97318   \n",
       "1      1.000     2.000     1421.000  6037      6707     0     96018   \n",
       "\n",
       "   year_built     latitude      longitude  ...  transaction_date  tax_rate  \\\n",
       "0        1970 34686163.000 -118113100.000  ...        2017-06-23     0.017   \n",
       "1        1911 33999877.000 -118291863.000  ...        2017-06-30     0.015   \n",
       "\n",
       "       County  log2sf log2lot_size  log2value  age  zip_median  \\\n",
       "0  Los Angles  10.510       13.016     17.054   30  144172.000   \n",
       "1  Los Angles  10.473       12.711     15.120   89  162337.000   \n",
       "\n",
       "   log2_zip_median  haversine_distance  \n",
       "0           17.137              21.546  \n",
       "1           17.309              88.899  \n",
       "\n",
       "[2 rows x 22 columns]"
      ]
     },
     "execution_count": 98,
     "metadata": {},
     "output_type": "execute_result"
    }
   ],
   "source": [
    "df.head(2)"
   ]
  },
  {
   "cell_type": "code",
   "execution_count": 99,
   "metadata": {},
   "outputs": [],
   "source": [
    "train, test = train_test_split(df, train_size = .70, random_state = 100)"
   ]
  },
  {
   "cell_type": "code",
   "execution_count": 100,
   "metadata": {},
   "outputs": [],
   "source": [
    "train = train[train.assessed_value< 1000000]"
   ]
  },
  {
   "cell_type": "code",
   "execution_count": 101,
   "metadata": {},
   "outputs": [],
   "source": [
    "#train_plot = train[['bathrooms', 'bedrooms', 'square_feet', 'assessed_value', 'lot_size']]"
   ]
  },
  {
   "cell_type": "code",
   "execution_count": 102,
   "metadata": {},
   "outputs": [],
   "source": [
    "#explore.plot_variable_pairs(train_plot)"
   ]
  },
  {
   "cell_type": "code",
   "execution_count": 103,
   "metadata": {},
   "outputs": [],
   "source": [
    "#bath_cutoff = train.bathrooms.mean() + 3*train.bathrooms.std()"
   ]
  },
  {
   "cell_type": "code",
   "execution_count": 104,
   "metadata": {},
   "outputs": [],
   "source": [
    "#bed_cutoff = train.bedrooms.mean() + 3*train.bedrooms.std()"
   ]
  },
  {
   "cell_type": "code",
   "execution_count": 105,
   "metadata": {},
   "outputs": [],
   "source": [
    "#sf_cutoff = train.square_feet.mean() + 3*train.square_feet.std()"
   ]
  },
  {
   "cell_type": "code",
   "execution_count": 106,
   "metadata": {},
   "outputs": [],
   "source": [
    "#bath_cutoff, bed_cutoff , sf_cutoff"
   ]
  },
  {
   "cell_type": "code",
   "execution_count": 107,
   "metadata": {},
   "outputs": [],
   "source": [
    "#train = train[train.bathrooms<bath_cutoff][train.bedrooms<bed_cutoff][train.square_feet<sf_cutoff]"
   ]
  },
  {
   "cell_type": "code",
   "execution_count": 108,
   "metadata": {},
   "outputs": [],
   "source": [
    "#train.assessed_value.max()"
   ]
  },
  {
   "cell_type": "code",
   "execution_count": 109,
   "metadata": {},
   "outputs": [],
   "source": [
    "#outliers = train[train.assessed_value>1000000]"
   ]
  },
  {
   "cell_type": "code",
   "execution_count": 110,
   "metadata": {
    "scrolled": true
   },
   "outputs": [],
   "source": [
    "#outliers.info()"
   ]
  },
  {
   "cell_type": "code",
   "execution_count": 111,
   "metadata": {},
   "outputs": [],
   "source": [
    "#outliers_plot = outliers[['bathrooms', 'bedrooms', 'square_feet', 'assessed_value', 'lot_size']]"
   ]
  },
  {
   "cell_type": "code",
   "execution_count": 112,
   "metadata": {},
   "outputs": [],
   "source": [
    "#explore.plot_variable_pairs(outliers_plot)"
   ]
  },
  {
   "cell_type": "code",
   "execution_count": 113,
   "metadata": {},
   "outputs": [],
   "source": [
    "X_train = train[['bedrooms', 'bathrooms', 'log2sf']]\n",
    "y_train = train[['log2value']]\n",
    "X_test = test[['bedrooms', 'bathrooms', 'log2sf']]\n",
    "y_test = test[['log2value']]"
   ]
  },
  {
   "cell_type": "code",
   "execution_count": 114,
   "metadata": {},
   "outputs": [
    {
     "data": {
      "text/html": [
       "<div>\n",
       "<style scoped>\n",
       "    .dataframe tbody tr th:only-of-type {\n",
       "        vertical-align: middle;\n",
       "    }\n",
       "\n",
       "    .dataframe tbody tr th {\n",
       "        vertical-align: top;\n",
       "    }\n",
       "\n",
       "    .dataframe thead th {\n",
       "        text-align: right;\n",
       "    }\n",
       "</style>\n",
       "<table border=\"1\" class=\"dataframe\">\n",
       "  <thead>\n",
       "    <tr style=\"text-align: right;\">\n",
       "      <th></th>\n",
       "      <th>actual_log</th>\n",
       "    </tr>\n",
       "  </thead>\n",
       "  <tbody>\n",
       "    <tr>\n",
       "      <th>11938</th>\n",
       "      <td>18.035</td>\n",
       "    </tr>\n",
       "    <tr>\n",
       "      <th>790</th>\n",
       "      <td>16.548</td>\n",
       "    </tr>\n",
       "  </tbody>\n",
       "</table>\n",
       "</div>"
      ],
      "text/plain": [
       "       actual_log\n",
       "11938      18.035\n",
       "790        16.548"
      ]
     },
     "execution_count": 114,
     "metadata": {},
     "output_type": "execute_result"
    }
   ],
   "source": [
    "predictions = pd.DataFrame({\n",
    "    'actual_log': y_train.log2value\n",
    "})\n",
    "predictions.head(2)"
   ]
  },
  {
   "cell_type": "code",
   "execution_count": 115,
   "metadata": {},
   "outputs": [],
   "source": [
    "#We now create a OLS model based on bedrooms, bathrooms and square_feet\n",
    "from statsmodels.formula.api import ols\n",
    "\n",
    "# generate parameters, i.e. create model\n",
    "ols_model = ols('log2value ~ bedrooms + bathrooms + log2sf', data = train).fit()\n",
    "\n",
    "# compute predictions and add to original dataframe\n",
    "predictions['ols_log'] = ols_model.predict(X_train)"
   ]
  },
  {
   "cell_type": "code",
   "execution_count": 116,
   "metadata": {},
   "outputs": [],
   "source": [
    "predictions['actual'] = 2**predictions.actual_log\n",
    "predictions['ols_predicted'] = 2**predictions.ols_log"
   ]
  },
  {
   "cell_type": "code",
   "execution_count": 117,
   "metadata": {},
   "outputs": [
    {
     "data": {
      "text/plain": [
       "377045.96587841486"
      ]
     },
     "execution_count": 117,
     "metadata": {},
     "output_type": "execute_result"
    }
   ],
   "source": [
    "(2**y_train.log2value).mean()"
   ]
  },
  {
   "cell_type": "code",
   "execution_count": 118,
   "metadata": {},
   "outputs": [
    {
     "data": {
      "text/html": [
       "<div>\n",
       "<style scoped>\n",
       "    .dataframe tbody tr th:only-of-type {\n",
       "        vertical-align: middle;\n",
       "    }\n",
       "\n",
       "    .dataframe tbody tr th {\n",
       "        vertical-align: top;\n",
       "    }\n",
       "\n",
       "    .dataframe thead th {\n",
       "        text-align: right;\n",
       "    }\n",
       "</style>\n",
       "<table border=\"1\" class=\"dataframe\">\n",
       "  <thead>\n",
       "    <tr style=\"text-align: right;\">\n",
       "      <th></th>\n",
       "      <th>actual_log</th>\n",
       "      <th>ols_log</th>\n",
       "      <th>actual</th>\n",
       "      <th>ols_predicted</th>\n",
       "    </tr>\n",
       "  </thead>\n",
       "  <tbody>\n",
       "    <tr>\n",
       "      <th>11938</th>\n",
       "      <td>18.035</td>\n",
       "      <td>18.664</td>\n",
       "      <td>268557.000</td>\n",
       "      <td>415383.095</td>\n",
       "    </tr>\n",
       "    <tr>\n",
       "      <th>790</th>\n",
       "      <td>16.548</td>\n",
       "      <td>18.035</td>\n",
       "      <td>95849.000</td>\n",
       "      <td>268547.775</td>\n",
       "    </tr>\n",
       "    <tr>\n",
       "      <th>3846</th>\n",
       "      <td>18.308</td>\n",
       "      <td>18.380</td>\n",
       "      <td>324613.000</td>\n",
       "      <td>341233.328</td>\n",
       "    </tr>\n",
       "    <tr>\n",
       "      <th>14846</th>\n",
       "      <td>18.931</td>\n",
       "      <td>18.785</td>\n",
       "      <td>499860.000</td>\n",
       "      <td>451642.276</td>\n",
       "    </tr>\n",
       "    <tr>\n",
       "      <th>1469</th>\n",
       "      <td>18.982</td>\n",
       "      <td>17.947</td>\n",
       "      <td>517777.000</td>\n",
       "      <td>252628.507</td>\n",
       "    </tr>\n",
       "  </tbody>\n",
       "</table>\n",
       "</div>"
      ],
      "text/plain": [
       "       actual_log  ols_log     actual  ols_predicted\n",
       "11938      18.035   18.664 268557.000     415383.095\n",
       "790        16.548   18.035  95849.000     268547.775\n",
       "3846       18.308   18.380 324613.000     341233.328\n",
       "14846      18.931   18.785 499860.000     451642.276\n",
       "1469       18.982   17.947 517777.000     252628.507"
      ]
     },
     "execution_count": 118,
     "metadata": {},
     "output_type": "execute_result"
    }
   ],
   "source": [
    "predictions.head()"
   ]
  },
  {
   "cell_type": "code",
   "execution_count": 119,
   "metadata": {},
   "outputs": [
    {
     "data": {
      "text/plain": [
       "actual_log      344368.606\n",
       "ols_log         344368.530\n",
       "actual               0.000\n",
       "ols_predicted   156431.636\n",
       "dtype: float64"
      ]
     },
     "execution_count": 119,
     "metadata": {},
     "output_type": "execute_result"
    }
   ],
   "source": [
    "pd.options.display.float_format = '{:.3f}'.format\n",
    "predictions.apply(lambda col: median_absolute_error(predictions.actual, col))"
   ]
  },
  {
   "cell_type": "code",
   "execution_count": 120,
   "metadata": {},
   "outputs": [
    {
     "data": {
      "text/plain": [
       "actual_log      446394.657\n",
       "ols_log         446395.111\n",
       "actual               0.000\n",
       "ols_predicted   223132.376\n",
       "dtype: float64"
      ]
     },
     "execution_count": 120,
     "metadata": {},
     "output_type": "execute_result"
    }
   ],
   "source": [
    "predictions.apply(lambda col: sqrt(mean_squared_error(predictions.actual, col)))"
   ]
  },
  {
   "cell_type": "code",
   "execution_count": 121,
   "metadata": {},
   "outputs": [
    {
     "data": {
      "text/html": [
       "<table class=\"simpletable\">\n",
       "<caption>OLS Regression Results</caption>\n",
       "<tr>\n",
       "  <th>Dep. Variable:</th>        <td>log2value</td>    <th>  R-squared:         </th> <td>   0.179</td> \n",
       "</tr>\n",
       "<tr>\n",
       "  <th>Model:</th>                   <td>OLS</td>       <th>  Adj. R-squared:    </th> <td>   0.179</td> \n",
       "</tr>\n",
       "<tr>\n",
       "  <th>Method:</th>             <td>Least Squares</td>  <th>  F-statistic:       </th> <td>   672.6</td> \n",
       "</tr>\n",
       "<tr>\n",
       "  <th>Date:</th>             <td>Sun, 12 Apr 2020</td> <th>  Prob (F-statistic):</th>  <td>  0.00</td>  \n",
       "</tr>\n",
       "<tr>\n",
       "  <th>Time:</th>                 <td>10:39:18</td>     <th>  Log-Likelihood:    </th> <td> -13684.</td> \n",
       "</tr>\n",
       "<tr>\n",
       "  <th>No. Observations:</th>      <td>  9261</td>      <th>  AIC:               </th> <td>2.738e+04</td>\n",
       "</tr>\n",
       "<tr>\n",
       "  <th>Df Residuals:</th>          <td>  9257</td>      <th>  BIC:               </th> <td>2.740e+04</td>\n",
       "</tr>\n",
       "<tr>\n",
       "  <th>Df Model:</th>              <td>     3</td>      <th>                     </th>     <td> </td>    \n",
       "</tr>\n",
       "<tr>\n",
       "  <th>Covariance Type:</th>      <td>nonrobust</td>    <th>                     </th>     <td> </td>    \n",
       "</tr>\n",
       "</table>\n",
       "<table class=\"simpletable\">\n",
       "<tr>\n",
       "      <td></td>         <th>coef</th>     <th>std err</th>      <th>t</th>      <th>P>|t|</th>  <th>[0.025</th>    <th>0.975]</th>  \n",
       "</tr>\n",
       "<tr>\n",
       "  <th>Intercept</th> <td>   10.0172</td> <td>    0.337</td> <td>   29.725</td> <td> 0.000</td> <td>    9.357</td> <td>   10.678</td>\n",
       "</tr>\n",
       "<tr>\n",
       "  <th>bedrooms</th>  <td>   -0.1616</td> <td>    0.017</td> <td>   -9.469</td> <td> 0.000</td> <td>   -0.195</td> <td>   -0.128</td>\n",
       "</tr>\n",
       "<tr>\n",
       "  <th>bathrooms</th> <td>    0.2218</td> <td>    0.024</td> <td>    9.389</td> <td> 0.000</td> <td>    0.176</td> <td>    0.268</td>\n",
       "</tr>\n",
       "<tr>\n",
       "  <th>log2sf</th>    <td>    0.7657</td> <td>    0.036</td> <td>   21.006</td> <td> 0.000</td> <td>    0.694</td> <td>    0.837</td>\n",
       "</tr>\n",
       "</table>\n",
       "<table class=\"simpletable\">\n",
       "<tr>\n",
       "  <th>Omnibus:</th>       <td>629.231</td> <th>  Durbin-Watson:     </th> <td>   1.983</td> \n",
       "</tr>\n",
       "<tr>\n",
       "  <th>Prob(Omnibus):</th> <td> 0.000</td>  <th>  Jarque-Bera (JB):  </th> <td> 731.158</td> \n",
       "</tr>\n",
       "<tr>\n",
       "  <th>Skew:</th>          <td>-0.671</td>  <th>  Prob(JB):          </th> <td>1.70e-159</td>\n",
       "</tr>\n",
       "<tr>\n",
       "  <th>Kurtosis:</th>      <td> 2.697</td>  <th>  Cond. No.          </th> <td>    352.</td> \n",
       "</tr>\n",
       "</table><br/><br/>Warnings:<br/>[1] Standard Errors assume that the covariance matrix of the errors is correctly specified."
      ],
      "text/plain": [
       "<class 'statsmodels.iolib.summary.Summary'>\n",
       "\"\"\"\n",
       "                            OLS Regression Results                            \n",
       "==============================================================================\n",
       "Dep. Variable:              log2value   R-squared:                       0.179\n",
       "Model:                            OLS   Adj. R-squared:                  0.179\n",
       "Method:                 Least Squares   F-statistic:                     672.6\n",
       "Date:                Sun, 12 Apr 2020   Prob (F-statistic):               0.00\n",
       "Time:                        10:39:18   Log-Likelihood:                -13684.\n",
       "No. Observations:                9261   AIC:                         2.738e+04\n",
       "Df Residuals:                    9257   BIC:                         2.740e+04\n",
       "Df Model:                           3                                         \n",
       "Covariance Type:            nonrobust                                         \n",
       "==============================================================================\n",
       "                 coef    std err          t      P>|t|      [0.025      0.975]\n",
       "------------------------------------------------------------------------------\n",
       "Intercept     10.0172      0.337     29.725      0.000       9.357      10.678\n",
       "bedrooms      -0.1616      0.017     -9.469      0.000      -0.195      -0.128\n",
       "bathrooms      0.2218      0.024      9.389      0.000       0.176       0.268\n",
       "log2sf         0.7657      0.036     21.006      0.000       0.694       0.837\n",
       "==============================================================================\n",
       "Omnibus:                      629.231   Durbin-Watson:                   1.983\n",
       "Prob(Omnibus):                  0.000   Jarque-Bera (JB):              731.158\n",
       "Skew:                          -0.671   Prob(JB):                    1.70e-159\n",
       "Kurtosis:                       2.697   Cond. No.                         352.\n",
       "==============================================================================\n",
       "\n",
       "Warnings:\n",
       "[1] Standard Errors assume that the covariance matrix of the errors is correctly specified.\n",
       "\"\"\""
      ]
     },
     "execution_count": 121,
     "metadata": {},
     "output_type": "execute_result"
    }
   ],
   "source": [
    "ols_model.summary()"
   ]
  },
  {
   "cell_type": "code",
   "execution_count": 122,
   "metadata": {},
   "outputs": [
    {
     "data": {
      "text/html": [
       "<div>\n",
       "<style scoped>\n",
       "    .dataframe tbody tr th:only-of-type {\n",
       "        vertical-align: middle;\n",
       "    }\n",
       "\n",
       "    .dataframe tbody tr th {\n",
       "        vertical-align: top;\n",
       "    }\n",
       "\n",
       "    .dataframe thead th {\n",
       "        text-align: right;\n",
       "    }\n",
       "</style>\n",
       "<table border=\"1\" class=\"dataframe\">\n",
       "  <thead>\n",
       "    <tr style=\"text-align: right;\">\n",
       "      <th></th>\n",
       "      <th>actual_log</th>\n",
       "    </tr>\n",
       "  </thead>\n",
       "  <tbody>\n",
       "    <tr>\n",
       "      <th>9116</th>\n",
       "      <td>20.367</td>\n",
       "    </tr>\n",
       "    <tr>\n",
       "      <th>2397</th>\n",
       "      <td>19.605</td>\n",
       "    </tr>\n",
       "  </tbody>\n",
       "</table>\n",
       "</div>"
      ],
      "text/plain": [
       "      actual_log\n",
       "9116      20.367\n",
       "2397      19.605"
      ]
     },
     "execution_count": 122,
     "metadata": {},
     "output_type": "execute_result"
    }
   ],
   "source": [
    "predictions2 = pd.DataFrame({\n",
    "    'actual_log': y_test.log2value\n",
    "})\n",
    "predictions2.head(2)"
   ]
  },
  {
   "cell_type": "code",
   "execution_count": 123,
   "metadata": {},
   "outputs": [],
   "source": [
    "predictions2['test_ols_log'] = ols_model.predict(X_test)"
   ]
  },
  {
   "cell_type": "code",
   "execution_count": 124,
   "metadata": {},
   "outputs": [],
   "source": [
    "predictions2['actual'] = 2**predictions2.actual_log\n",
    "predictions2['test_ols_predicted'] = 2**predictions2.test_ols_log"
   ]
  },
  {
   "cell_type": "code",
   "execution_count": 125,
   "metadata": {},
   "outputs": [
    {
     "data": {
      "text/html": [
       "<div>\n",
       "<style scoped>\n",
       "    .dataframe tbody tr th:only-of-type {\n",
       "        vertical-align: middle;\n",
       "    }\n",
       "\n",
       "    .dataframe tbody tr th {\n",
       "        vertical-align: top;\n",
       "    }\n",
       "\n",
       "    .dataframe thead th {\n",
       "        text-align: right;\n",
       "    }\n",
       "</style>\n",
       "<table border=\"1\" class=\"dataframe\">\n",
       "  <thead>\n",
       "    <tr style=\"text-align: right;\">\n",
       "      <th></th>\n",
       "      <th>actual_log</th>\n",
       "      <th>test_ols_log</th>\n",
       "      <th>actual</th>\n",
       "      <th>test_ols_predicted</th>\n",
       "    </tr>\n",
       "  </thead>\n",
       "  <tbody>\n",
       "    <tr>\n",
       "      <th>9116</th>\n",
       "      <td>20.367</td>\n",
       "      <td>18.978</td>\n",
       "      <td>1352462.000</td>\n",
       "      <td>516348.014</td>\n",
       "    </tr>\n",
       "    <tr>\n",
       "      <th>2397</th>\n",
       "      <td>19.605</td>\n",
       "      <td>18.839</td>\n",
       "      <td>797339.000</td>\n",
       "      <td>468927.282</td>\n",
       "    </tr>\n",
       "  </tbody>\n",
       "</table>\n",
       "</div>"
      ],
      "text/plain": [
       "      actual_log  test_ols_log      actual  test_ols_predicted\n",
       "9116      20.367        18.978 1352462.000          516348.014\n",
       "2397      19.605        18.839  797339.000          468927.282"
      ]
     },
     "execution_count": 125,
     "metadata": {},
     "output_type": "execute_result"
    }
   ],
   "source": [
    "predictions2.head(2)"
   ]
  },
  {
   "cell_type": "code",
   "execution_count": 126,
   "metadata": {},
   "outputs": [
    {
     "data": {
      "text/plain": [
       "actual_log           371192.998\n",
       "test_ols_log         371193.006\n",
       "actual                    0.000\n",
       "test_ols_predicted   171045.651\n",
       "dtype: float64"
      ]
     },
     "execution_count": 126,
     "metadata": {},
     "output_type": "execute_result"
    }
   ],
   "source": [
    "predictions2.apply(lambda col: median_absolute_error(predictions2.actual, col))"
   ]
  },
  {
   "cell_type": "markdown",
   "metadata": {},
   "source": [
    "# It is wierd that removing outliers led to higher Median Absolute Error(MAE) on OLS model. However, the MAE is better on test model. "
   ]
  },
  {
   "cell_type": "markdown",
   "metadata": {},
   "source": [
    "Lets built a GLM and and then input that in Gamma GAM"
   ]
  },
  {
   "cell_type": "code",
   "execution_count": 127,
   "metadata": {},
   "outputs": [
    {
     "data": {
      "text/html": [
       "<div>\n",
       "<style scoped>\n",
       "    .dataframe tbody tr th:only-of-type {\n",
       "        vertical-align: middle;\n",
       "    }\n",
       "\n",
       "    .dataframe tbody tr th {\n",
       "        vertical-align: top;\n",
       "    }\n",
       "\n",
       "    .dataframe thead th {\n",
       "        text-align: right;\n",
       "    }\n",
       "</style>\n",
       "<table border=\"1\" class=\"dataframe\">\n",
       "  <thead>\n",
       "    <tr style=\"text-align: right;\">\n",
       "      <th></th>\n",
       "      <th>bathrooms</th>\n",
       "      <th>bedrooms</th>\n",
       "      <th>square_feet</th>\n",
       "      <th>fips</th>\n",
       "      <th>lot_size</th>\n",
       "      <th>pool</th>\n",
       "      <th>zip_code</th>\n",
       "      <th>year_built</th>\n",
       "      <th>latitude</th>\n",
       "      <th>longitude</th>\n",
       "      <th>...</th>\n",
       "      <th>transaction_date</th>\n",
       "      <th>tax_rate</th>\n",
       "      <th>County</th>\n",
       "      <th>log2sf</th>\n",
       "      <th>log2lot_size</th>\n",
       "      <th>log2value</th>\n",
       "      <th>age</th>\n",
       "      <th>zip_median</th>\n",
       "      <th>log2_zip_median</th>\n",
       "      <th>haversine_distance</th>\n",
       "    </tr>\n",
       "  </thead>\n",
       "  <tbody>\n",
       "    <tr>\n",
       "      <th>0</th>\n",
       "      <td>2.000</td>\n",
       "      <td>3.000</td>\n",
       "      <td>1458.000</td>\n",
       "      <td>6037</td>\n",
       "      <td>8284</td>\n",
       "      <td>1</td>\n",
       "      <td>97318</td>\n",
       "      <td>1970</td>\n",
       "      <td>34686163.000</td>\n",
       "      <td>-118113100.000</td>\n",
       "      <td>...</td>\n",
       "      <td>2017-06-23</td>\n",
       "      <td>0.017</td>\n",
       "      <td>Los Angles</td>\n",
       "      <td>10.510</td>\n",
       "      <td>13.016</td>\n",
       "      <td>17.054</td>\n",
       "      <td>30</td>\n",
       "      <td>144172.000</td>\n",
       "      <td>17.137</td>\n",
       "      <td>21.546</td>\n",
       "    </tr>\n",
       "    <tr>\n",
       "      <th>1</th>\n",
       "      <td>1.000</td>\n",
       "      <td>2.000</td>\n",
       "      <td>1421.000</td>\n",
       "      <td>6037</td>\n",
       "      <td>6707</td>\n",
       "      <td>0</td>\n",
       "      <td>96018</td>\n",
       "      <td>1911</td>\n",
       "      <td>33999877.000</td>\n",
       "      <td>-118291863.000</td>\n",
       "      <td>...</td>\n",
       "      <td>2017-06-30</td>\n",
       "      <td>0.015</td>\n",
       "      <td>Los Angles</td>\n",
       "      <td>10.473</td>\n",
       "      <td>12.711</td>\n",
       "      <td>15.120</td>\n",
       "      <td>89</td>\n",
       "      <td>162337.000</td>\n",
       "      <td>17.309</td>\n",
       "      <td>88.899</td>\n",
       "    </tr>\n",
       "  </tbody>\n",
       "</table>\n",
       "<p>2 rows × 22 columns</p>\n",
       "</div>"
      ],
      "text/plain": [
       "   bathrooms  bedrooms  square_feet  fips  lot_size  pool  zip_code  \\\n",
       "0      2.000     3.000     1458.000  6037      8284     1     97318   \n",
       "1      1.000     2.000     1421.000  6037      6707     0     96018   \n",
       "\n",
       "   year_built     latitude      longitude  ...  transaction_date  tax_rate  \\\n",
       "0        1970 34686163.000 -118113100.000  ...        2017-06-23     0.017   \n",
       "1        1911 33999877.000 -118291863.000  ...        2017-06-30     0.015   \n",
       "\n",
       "       County  log2sf log2lot_size  log2value  age  zip_median  \\\n",
       "0  Los Angles  10.510       13.016     17.054   30  144172.000   \n",
       "1  Los Angles  10.473       12.711     15.120   89  162337.000   \n",
       "\n",
       "   log2_zip_median  haversine_distance  \n",
       "0           17.137              21.546  \n",
       "1           17.309              88.899  \n",
       "\n",
       "[2 rows x 22 columns]"
      ]
     },
     "execution_count": 127,
     "metadata": {},
     "output_type": "execute_result"
    }
   ],
   "source": [
    "df.head(2)"
   ]
  },
  {
   "cell_type": "code",
   "execution_count": 128,
   "metadata": {},
   "outputs": [],
   "source": [
    "train, test = train_test_split(df, train_size = .70, random_state = 100)"
   ]
  },
  {
   "cell_type": "code",
   "execution_count": 129,
   "metadata": {},
   "outputs": [],
   "source": [
    "X_train = train[['square_feet', 'zip_median']]\n",
    "y_train = train[['log2value']]"
   ]
  },
  {
   "cell_type": "code",
   "execution_count": 130,
   "metadata": {},
   "outputs": [],
   "source": [
    "lm = LinearRegression()"
   ]
  },
  {
   "cell_type": "code",
   "execution_count": 131,
   "metadata": {},
   "outputs": [
    {
     "data": {
      "text/plain": [
       "LinearRegression(copy_X=True, fit_intercept=True, n_jobs=None, normalize=False)"
      ]
     },
     "execution_count": 131,
     "metadata": {},
     "output_type": "execute_result"
    }
   ],
   "source": [
    "lm.fit(X_train, y_train)"
   ]
  },
  {
   "cell_type": "code",
   "execution_count": 132,
   "metadata": {},
   "outputs": [],
   "source": [
    "X_train['predicted_log_value'] = lm.predict(X_train)"
   ]
  },
  {
   "cell_type": "code",
   "execution_count": 133,
   "metadata": {},
   "outputs": [
    {
     "data": {
      "text/html": [
       "<div>\n",
       "<style scoped>\n",
       "    .dataframe tbody tr th:only-of-type {\n",
       "        vertical-align: middle;\n",
       "    }\n",
       "\n",
       "    .dataframe tbody tr th {\n",
       "        vertical-align: top;\n",
       "    }\n",
       "\n",
       "    .dataframe thead th {\n",
       "        text-align: right;\n",
       "    }\n",
       "</style>\n",
       "<table border=\"1\" class=\"dataframe\">\n",
       "  <thead>\n",
       "    <tr style=\"text-align: right;\">\n",
       "      <th></th>\n",
       "      <th>square_feet</th>\n",
       "      <th>zip_median</th>\n",
       "      <th>predicted_log_value</th>\n",
       "    </tr>\n",
       "  </thead>\n",
       "  <tbody>\n",
       "    <tr>\n",
       "      <th>11938</th>\n",
       "      <td>2130.000</td>\n",
       "      <td>238705.000</td>\n",
       "      <td>18.128</td>\n",
       "    </tr>\n",
       "    <tr>\n",
       "      <th>790</th>\n",
       "      <td>1705.000</td>\n",
       "      <td>568715.000</td>\n",
       "      <td>18.409</td>\n",
       "    </tr>\n",
       "    <tr>\n",
       "      <th>3846</th>\n",
       "      <td>2014.000</td>\n",
       "      <td>568506.500</td>\n",
       "      <td>18.579</td>\n",
       "    </tr>\n",
       "    <tr>\n",
       "      <th>14846</th>\n",
       "      <td>2376.000</td>\n",
       "      <td>496144.000</td>\n",
       "      <td>18.666</td>\n",
       "    </tr>\n",
       "    <tr>\n",
       "      <th>1469</th>\n",
       "      <td>1360.000</td>\n",
       "      <td>397974.000</td>\n",
       "      <td>17.951</td>\n",
       "    </tr>\n",
       "    <tr>\n",
       "      <th>...</th>\n",
       "      <td>...</td>\n",
       "      <td>...</td>\n",
       "      <td>...</td>\n",
       "    </tr>\n",
       "    <tr>\n",
       "      <th>12119</th>\n",
       "      <td>2593.000</td>\n",
       "      <td>1072104.000</td>\n",
       "      <td>19.687</td>\n",
       "    </tr>\n",
       "    <tr>\n",
       "      <th>8039</th>\n",
       "      <td>1357.000</td>\n",
       "      <td>361812.000</td>\n",
       "      <td>17.893</td>\n",
       "    </tr>\n",
       "    <tr>\n",
       "      <th>14147</th>\n",
       "      <td>1453.000</td>\n",
       "      <td>298307.500</td>\n",
       "      <td>17.846</td>\n",
       "    </tr>\n",
       "    <tr>\n",
       "      <th>6936</th>\n",
       "      <td>2555.000</td>\n",
       "      <td>750000.000</td>\n",
       "      <td>19.162</td>\n",
       "    </tr>\n",
       "    <tr>\n",
       "      <th>5640</th>\n",
       "      <td>1470.000</td>\n",
       "      <td>202645.000</td>\n",
       "      <td>17.706</td>\n",
       "    </tr>\n",
       "  </tbody>\n",
       "</table>\n",
       "<p>10411 rows × 3 columns</p>\n",
       "</div>"
      ],
      "text/plain": [
       "       square_feet  zip_median  predicted_log_value\n",
       "11938     2130.000  238705.000               18.128\n",
       "790       1705.000  568715.000               18.409\n",
       "3846      2014.000  568506.500               18.579\n",
       "14846     2376.000  496144.000               18.666\n",
       "1469      1360.000  397974.000               17.951\n",
       "...            ...         ...                  ...\n",
       "12119     2593.000 1072104.000               19.687\n",
       "8039      1357.000  361812.000               17.893\n",
       "14147     1453.000  298307.500               17.846\n",
       "6936      2555.000  750000.000               19.162\n",
       "5640      1470.000  202645.000               17.706\n",
       "\n",
       "[10411 rows x 3 columns]"
      ]
     },
     "execution_count": 133,
     "metadata": {},
     "output_type": "execute_result"
    }
   ],
   "source": [
    "X_train"
   ]
  },
  {
   "cell_type": "code",
   "execution_count": 134,
   "metadata": {},
   "outputs": [],
   "source": [
    "X_train['longitude'] = train['longitude']\n",
    "X_train['latitude'] = train['latitude']"
   ]
  },
  {
   "cell_type": "code",
   "execution_count": 135,
   "metadata": {},
   "outputs": [
    {
     "data": {
      "text/html": [
       "<div>\n",
       "<style scoped>\n",
       "    .dataframe tbody tr th:only-of-type {\n",
       "        vertical-align: middle;\n",
       "    }\n",
       "\n",
       "    .dataframe tbody tr th {\n",
       "        vertical-align: top;\n",
       "    }\n",
       "\n",
       "    .dataframe thead th {\n",
       "        text-align: right;\n",
       "    }\n",
       "</style>\n",
       "<table border=\"1\" class=\"dataframe\">\n",
       "  <thead>\n",
       "    <tr style=\"text-align: right;\">\n",
       "      <th></th>\n",
       "      <th>square_feet</th>\n",
       "      <th>zip_median</th>\n",
       "      <th>predicted_log_value</th>\n",
       "      <th>longitude</th>\n",
       "      <th>latitude</th>\n",
       "    </tr>\n",
       "  </thead>\n",
       "  <tbody>\n",
       "    <tr>\n",
       "      <th>11938</th>\n",
       "      <td>2130.000</td>\n",
       "      <td>238705.000</td>\n",
       "      <td>18.128</td>\n",
       "      <td>-118185301.000</td>\n",
       "      <td>34663693.000</td>\n",
       "    </tr>\n",
       "    <tr>\n",
       "      <th>790</th>\n",
       "      <td>1705.000</td>\n",
       "      <td>568715.000</td>\n",
       "      <td>18.409</td>\n",
       "      <td>-118607295.000</td>\n",
       "      <td>34178821.000</td>\n",
       "    </tr>\n",
       "  </tbody>\n",
       "</table>\n",
       "</div>"
      ],
      "text/plain": [
       "       square_feet  zip_median  predicted_log_value      longitude  \\\n",
       "11938     2130.000  238705.000               18.128 -118185301.000   \n",
       "790       1705.000  568715.000               18.409 -118607295.000   \n",
       "\n",
       "          latitude  \n",
       "11938 34663693.000  \n",
       "790   34178821.000  "
      ]
     },
     "execution_count": 135,
     "metadata": {},
     "output_type": "execute_result"
    }
   ],
   "source": [
    "X_train.head(2)"
   ]
  },
  {
   "cell_type": "code",
   "execution_count": 136,
   "metadata": {},
   "outputs": [],
   "source": [
    "X_train = X_train.drop(columns=['square_feet', 'zip_median'])"
   ]
  },
  {
   "cell_type": "code",
   "execution_count": 137,
   "metadata": {},
   "outputs": [
    {
     "data": {
      "text/html": [
       "<div>\n",
       "<style scoped>\n",
       "    .dataframe tbody tr th:only-of-type {\n",
       "        vertical-align: middle;\n",
       "    }\n",
       "\n",
       "    .dataframe tbody tr th {\n",
       "        vertical-align: top;\n",
       "    }\n",
       "\n",
       "    .dataframe thead th {\n",
       "        text-align: right;\n",
       "    }\n",
       "</style>\n",
       "<table border=\"1\" class=\"dataframe\">\n",
       "  <thead>\n",
       "    <tr style=\"text-align: right;\">\n",
       "      <th></th>\n",
       "      <th>predicted_log_value</th>\n",
       "      <th>longitude</th>\n",
       "      <th>latitude</th>\n",
       "    </tr>\n",
       "  </thead>\n",
       "  <tbody>\n",
       "    <tr>\n",
       "      <th>11938</th>\n",
       "      <td>18.128</td>\n",
       "      <td>-118185301.000</td>\n",
       "      <td>34663693.000</td>\n",
       "    </tr>\n",
       "    <tr>\n",
       "      <th>790</th>\n",
       "      <td>18.409</td>\n",
       "      <td>-118607295.000</td>\n",
       "      <td>34178821.000</td>\n",
       "    </tr>\n",
       "  </tbody>\n",
       "</table>\n",
       "</div>"
      ],
      "text/plain": [
       "       predicted_log_value      longitude     latitude\n",
       "11938               18.128 -118185301.000 34663693.000\n",
       "790                 18.409 -118607295.000 34178821.000"
      ]
     },
     "execution_count": 137,
     "metadata": {},
     "output_type": "execute_result"
    }
   ],
   "source": [
    "X_train.head(2)"
   ]
  },
  {
   "cell_type": "code",
   "execution_count": 138,
   "metadata": {},
   "outputs": [],
   "source": [
    "X_train= X_train.to_numpy()\n",
    "y_train = y_train.to_numpy()"
   ]
  },
  {
   "cell_type": "code",
   "execution_count": 139,
   "metadata": {},
   "outputs": [
    {
     "data": {
      "text/plain": [
       "array([ 1.81275456e+01, -1.18185301e+08,  3.46636930e+07])"
      ]
     },
     "execution_count": 139,
     "metadata": {},
     "output_type": "execute_result"
    }
   ],
   "source": [
    "X_train[0]"
   ]
  },
  {
   "cell_type": "code",
   "execution_count": 140,
   "metadata": {},
   "outputs": [
    {
     "ename": "SyntaxError",
     "evalue": "invalid syntax (<ipython-input-140-0f4b67ac4869>, line 2)",
     "output_type": "error",
     "traceback": [
      "\u001b[0;36m  File \u001b[0;32m\"<ipython-input-140-0f4b67ac4869>\"\u001b[0;36m, line \u001b[0;32m2\u001b[0m\n\u001b[0;31m    gam = LinearGAM(terms = te(1,2) + isintercept.(predicted_log_value))\u001b[0m\n\u001b[0m                                                  ^\u001b[0m\n\u001b[0;31mSyntaxError\u001b[0m\u001b[0;31m:\u001b[0m invalid syntax\n"
     ]
    }
   ],
   "source": [
    "from pygam import LinearGAM, s, f, te\n",
    "gam = LinearGAM(terms = te(1,2) + isintercept.(predicted_log_value))"
   ]
  },
  {
   "cell_type": "code",
   "execution_count": null,
   "metadata": {},
   "outputs": [],
   "source": [
    "gam.gridsearch(X_train, y_train)"
   ]
  },
  {
   "cell_type": "code",
   "execution_count": null,
   "metadata": {},
   "outputs": [],
   "source": [
    "gam.summary()"
   ]
  },
  {
   "cell_type": "code",
   "execution_count": null,
   "metadata": {},
   "outputs": [],
   "source": [
    "y_pred = gam.predict(X_train)\n",
    "y_pred = pd.DataFrame(y_pred)"
   ]
  },
  {
   "cell_type": "code",
   "execution_count": null,
   "metadata": {},
   "outputs": [],
   "source": [
    "y_pred['actual'] = y_train"
   ]
  },
  {
   "cell_type": "code",
   "execution_count": null,
   "metadata": {},
   "outputs": [],
   "source": [
    "y_pred"
   ]
  },
  {
   "cell_type": "code",
   "execution_count": null,
   "metadata": {},
   "outputs": [],
   "source": [
    "y_pred['actual1'] = 2**y_pred.actual\n",
    "y_pred['predicted1'] = 2**y_pred[0]"
   ]
  },
  {
   "cell_type": "code",
   "execution_count": null,
   "metadata": {},
   "outputs": [],
   "source": [
    "f, (ax1) = plt.subplots(1, 1)\n",
    "\n",
    "ax1.scatter(y_pred['actual1'], y_pred['predicted1'])\n",
    "ax1.plot([0, 6000000], [0, 6000000], '--k')\n",
    "ax1.set_ylabel('Target predicted')\n",
    "ax1.set_xlabel('True Target')\n",
    "ax1.set_title('Generalized Additive Model')\n",
    "ax1.text(1, 4000000, r'$R^2$=%.2f, MAE=%.2f' % (\n",
    "    r2_score(y_pred['actual1'], y_pred['predicted1']), median_absolute_error(y_pred['actual1'], y_pred['predicted1'])))\n",
    "ax1.set_xlim([0, 6000000])\n",
    "ax1.set_ylim([0, 6000000])\n",
    "\n",
    "#f.tight_layout(rect=[0.8, 0.8, 0.95, 0.95])\n",
    "\n",
    "plt.show()"
   ]
  },
  {
   "cell_type": "code",
   "execution_count": null,
   "metadata": {},
   "outputs": [],
   "source": [
    "y_pred.apply(lambda col: median_absolute_error(y_pred.actual1, col))"
   ]
  },
  {
   "cell_type": "code",
   "execution_count": null,
   "metadata": {},
   "outputs": [],
   "source": [
    "y_pred.apply(lambda col: r2_score(y_pred.actual1, col))"
   ]
  },
  {
   "cell_type": "code",
   "execution_count": null,
   "metadata": {},
   "outputs": [],
   "source": [
    "evaluate.plot_residuals(y_pred.actual1, y_pred['predicted1'], y_pred)"
   ]
  },
  {
   "cell_type": "markdown",
   "metadata": {},
   "source": [
    "-----------GAM simulations-------"
   ]
  },
  {
   "cell_type": "code",
   "execution_count": null,
   "metadata": {},
   "outputs": [],
   "source": [
    "X_train = train[['bathrooms', 'square_feet', 'zip_median']]\n",
    "y_train = train[['assessed_value']]\n",
    "X_test = test[['bathrooms', 'square_feet', 'zip_median', 'latitude', 'longitude']]\n",
    "y_test = test[['assessed_value']]\n",
    "X_test1 = df[['bathrooms', 'square_feet', 'zip_median','latitude', 'longitude']]\n",
    "y_test1 = df[['assessed_value']]"
   ]
  },
  {
   "cell_type": "code",
   "execution_count": null,
   "metadata": {},
   "outputs": [],
   "source": [
    "X_test1 = X_test.to_numpy()\n",
    "y_test1 = y_test.to_numpy()"
   ]
  },
  {
   "cell_type": "code",
   "execution_count": null,
   "metadata": {},
   "outputs": [],
   "source": [
    "from pygam import LinearGAM, s, f, te\n",
    "gam = LinearGAM(s(0) +s(1) +s(2)+te(3,4))"
   ]
  },
  {
   "cell_type": "code",
   "execution_count": null,
   "metadata": {},
   "outputs": [],
   "source": [
    "gam.gridsearch(X_test1,y_test1)"
   ]
  },
  {
   "cell_type": "code",
   "execution_count": null,
   "metadata": {},
   "outputs": [],
   "source": [
    "y_pred = gam.predict(X_test1)"
   ]
  },
  {
   "cell_type": "code",
   "execution_count": null,
   "metadata": {},
   "outputs": [],
   "source": [
    "y_pred = pd.DataFrame(y_pred)\n",
    "y_pred.to_csv('GAM-spatial.csv')"
   ]
  },
  {
   "cell_type": "code",
   "execution_count": null,
   "metadata": {},
   "outputs": [],
   "source": [
    "y_pred['actual'] = y_test1"
   ]
  },
  {
   "cell_type": "code",
   "execution_count": null,
   "metadata": {},
   "outputs": [],
   "source": [
    "f, (ax1) = plt.subplots(1, 1)\n",
    "\n",
    "\n",
    "ax1.scatter(y_pred['actual'], y_pred[0])\n",
    "ax1.plot([0, 6000000], [0, 6000000], '--k')\n",
    "ax1.set_ylabel('Target predicted')\n",
    "ax1.set_xlabel('True Target')\n",
    "ax1.set_title('Generalized Additive Model')\n",
    "ax1.text(1, 4000000, r'$R^2$=%.2f, MAE=%.2f' % (\n",
    "    r2_score(y_pred['actual'], y_pred[0]), median_absolute_error(y_pred['actual'], y_pred[0])))\n",
    "ax1.set_xlim([0, 6000000])\n",
    "ax1.set_ylim([0, 6000000])\n",
    "\n",
    "#f.tight_layout(rect=[0.8, 0.8, 0.95, 0.95])\n",
    "\n",
    "plt.show()"
   ]
  },
  {
   "cell_type": "code",
   "execution_count": null,
   "metadata": {},
   "outputs": [],
   "source": [
    "y_pred.apply(lambda col: median_absolute_error(y_pred.actual, col))"
   ]
  },
  {
   "cell_type": "code",
   "execution_count": null,
   "metadata": {},
   "outputs": [],
   "source": [
    "y_pred.apply(lambda col: r2_score(y_pred.actual, col))"
   ]
  }
 ],
 "metadata": {
  "kernelspec": {
   "display_name": "Python 3",
   "language": "python",
   "name": "python3"
  },
  "language_info": {
   "codemirror_mode": {
    "name": "ipython",
    "version": 3
   },
   "file_extension": ".py",
   "mimetype": "text/x-python",
   "name": "python",
   "nbconvert_exporter": "python",
   "pygments_lexer": "ipython3",
   "version": "3.7.4"
  }
 },
 "nbformat": 4,
 "nbformat_minor": 2
}
