{
 "cells": [
  {
   "cell_type": "markdown",
   "metadata": {},
   "source": [
    "Deliverables\n",
    "\n",
    "\n",
    "\n",
    "1. A report (in the form of a presentation, both verbal and through a slides)\n",
    "\n",
    "\n",
    "2. A github repository containing your jupyter notebook that walks through the pipeline along with the .py files necessary to reproduce your model.\n",
    "\n"
   ]
  },
  {
   "cell_type": "code",
   "execution_count": 1,
   "metadata": {},
   "outputs": [],
   "source": [
    "import wrangle\n",
    "import pandas as pd\n",
    "import numpy as np\n",
    "import evaluate\n",
    "import explore\n",
    "import matplotlib.pyplot as plt\n",
    "import seaborn as sns; sns.set()\n",
    "from sklearn.model_selection import train_test_split\n",
    "import warnings\n",
    "warnings.filterwarnings(\"ignore\")\n",
    "from statsmodels.formula.api import ols\n",
    "from sklearn.linear_model import LinearRegression\n",
    "from sklearn.metrics import mean_squared_error, explained_variance_score\n",
    "from scipy import stats\n",
    "import split_scale\n",
    "import feature_selection\n",
    "from sklearn.linear_model import LinearRegression\n",
    "from sklearn.feature_selection import RFE\n",
    "from sklearn.preprocessing import QuantileTransformer, quantile_transform"
   ]
  },
  {
   "cell_type": "code",
   "execution_count": 2,
   "metadata": {},
   "outputs": [],
   "source": [
    "#use wrangle.py to import data from mySQL\n",
    "df =wrangle.get_data_from_sql()"
   ]
  },
  {
   "cell_type": "code",
   "execution_count": 3,
   "metadata": {},
   "outputs": [
    {
     "data": {
      "text/html": [
       "<div>\n",
       "<style scoped>\n",
       "    .dataframe tbody tr th:only-of-type {\n",
       "        vertical-align: middle;\n",
       "    }\n",
       "\n",
       "    .dataframe tbody tr th {\n",
       "        vertical-align: top;\n",
       "    }\n",
       "\n",
       "    .dataframe thead th {\n",
       "        text-align: right;\n",
       "    }\n",
       "</style>\n",
       "<table border=\"1\" class=\"dataframe\">\n",
       "  <thead>\n",
       "    <tr style=\"text-align: right;\">\n",
       "      <th></th>\n",
       "      <th>bathrooms</th>\n",
       "      <th>bedrooms</th>\n",
       "      <th>square_feet</th>\n",
       "      <th>fips</th>\n",
       "      <th>lot_size</th>\n",
       "      <th>pool</th>\n",
       "      <th>zip_code</th>\n",
       "      <th>year_built</th>\n",
       "      <th>latitude</th>\n",
       "      <th>longitude</th>\n",
       "      <th>assessed_value</th>\n",
       "      <th>tax_value</th>\n",
       "      <th>transaction_date</th>\n",
       "    </tr>\n",
       "  </thead>\n",
       "  <tbody>\n",
       "    <tr>\n",
       "      <th>0</th>\n",
       "      <td>2.0</td>\n",
       "      <td>3.0</td>\n",
       "      <td>1458.0</td>\n",
       "      <td>6037.0</td>\n",
       "      <td>8284.0</td>\n",
       "      <td>1.0</td>\n",
       "      <td>97318.0</td>\n",
       "      <td>1970.0</td>\n",
       "      <td>34686163.0</td>\n",
       "      <td>-118113100.0</td>\n",
       "      <td>136104.0</td>\n",
       "      <td>2319.90</td>\n",
       "      <td>2017-06-23</td>\n",
       "    </tr>\n",
       "    <tr>\n",
       "      <th>1</th>\n",
       "      <td>1.0</td>\n",
       "      <td>2.0</td>\n",
       "      <td>1421.0</td>\n",
       "      <td>6037.0</td>\n",
       "      <td>6707.0</td>\n",
       "      <td>NaN</td>\n",
       "      <td>96018.0</td>\n",
       "      <td>1911.0</td>\n",
       "      <td>33999877.0</td>\n",
       "      <td>-118291863.0</td>\n",
       "      <td>35606.0</td>\n",
       "      <td>543.69</td>\n",
       "      <td>2017-06-30</td>\n",
       "    </tr>\n",
       "    <tr>\n",
       "      <th>2</th>\n",
       "      <td>3.0</td>\n",
       "      <td>4.0</td>\n",
       "      <td>2541.0</td>\n",
       "      <td>6059.0</td>\n",
       "      <td>4975.0</td>\n",
       "      <td>NaN</td>\n",
       "      <td>96958.0</td>\n",
       "      <td>2003.0</td>\n",
       "      <td>33694636.0</td>\n",
       "      <td>-117912245.0</td>\n",
       "      <td>880456.0</td>\n",
       "      <td>9819.72</td>\n",
       "      <td>2017-06-01</td>\n",
       "    </tr>\n",
       "    <tr>\n",
       "      <th>3</th>\n",
       "      <td>2.0</td>\n",
       "      <td>3.0</td>\n",
       "      <td>1650.0</td>\n",
       "      <td>6037.0</td>\n",
       "      <td>7300.0</td>\n",
       "      <td>NaN</td>\n",
       "      <td>96037.0</td>\n",
       "      <td>1949.0</td>\n",
       "      <td>33985377.0</td>\n",
       "      <td>-118361620.0</td>\n",
       "      <td>614000.0</td>\n",
       "      <td>7673.19</td>\n",
       "      <td>2017-06-01</td>\n",
       "    </tr>\n",
       "    <tr>\n",
       "      <th>4</th>\n",
       "      <td>1.0</td>\n",
       "      <td>2.0</td>\n",
       "      <td>693.0</td>\n",
       "      <td>6037.0</td>\n",
       "      <td>2908.0</td>\n",
       "      <td>NaN</td>\n",
       "      <td>96023.0</td>\n",
       "      <td>1921.0</td>\n",
       "      <td>34112946.0</td>\n",
       "      <td>-118208106.0</td>\n",
       "      <td>274237.0</td>\n",
       "      <td>3267.47</td>\n",
       "      <td>2017-06-29</td>\n",
       "    </tr>\n",
       "  </tbody>\n",
       "</table>\n",
       "</div>"
      ],
      "text/plain": [
       "   bathrooms  bedrooms  square_feet    fips  lot_size  pool  zip_code  \\\n",
       "0        2.0       3.0       1458.0  6037.0    8284.0   1.0   97318.0   \n",
       "1        1.0       2.0       1421.0  6037.0    6707.0   NaN   96018.0   \n",
       "2        3.0       4.0       2541.0  6059.0    4975.0   NaN   96958.0   \n",
       "3        2.0       3.0       1650.0  6037.0    7300.0   NaN   96037.0   \n",
       "4        1.0       2.0        693.0  6037.0    2908.0   NaN   96023.0   \n",
       "\n",
       "   year_built    latitude    longitude  assessed_value  tax_value  \\\n",
       "0      1970.0  34686163.0 -118113100.0        136104.0    2319.90   \n",
       "1      1911.0  33999877.0 -118291863.0         35606.0     543.69   \n",
       "2      2003.0  33694636.0 -117912245.0        880456.0    9819.72   \n",
       "3      1949.0  33985377.0 -118361620.0        614000.0    7673.19   \n",
       "4      1921.0  34112946.0 -118208106.0        274237.0    3267.47   \n",
       "\n",
       "  transaction_date  \n",
       "0       2017-06-23  \n",
       "1       2017-06-30  \n",
       "2       2017-06-01  \n",
       "3       2017-06-01  \n",
       "4       2017-06-29  "
      ]
     },
     "execution_count": 3,
     "metadata": {},
     "output_type": "execute_result"
    }
   ],
   "source": [
    "# check DF head\n",
    "df.head()"
   ]
  },
  {
   "cell_type": "code",
   "execution_count": 4,
   "metadata": {},
   "outputs": [
    {
     "data": {
      "text/html": [
       "<div>\n",
       "<style scoped>\n",
       "    .dataframe tbody tr th:only-of-type {\n",
       "        vertical-align: middle;\n",
       "    }\n",
       "\n",
       "    .dataframe tbody tr th {\n",
       "        vertical-align: top;\n",
       "    }\n",
       "\n",
       "    .dataframe thead th {\n",
       "        text-align: right;\n",
       "    }\n",
       "</style>\n",
       "<table border=\"1\" class=\"dataframe\">\n",
       "  <thead>\n",
       "    <tr style=\"text-align: right;\">\n",
       "      <th></th>\n",
       "      <th>bathrooms</th>\n",
       "      <th>bedrooms</th>\n",
       "      <th>square_feet</th>\n",
       "      <th>fips</th>\n",
       "      <th>lot_size</th>\n",
       "      <th>pool</th>\n",
       "      <th>zip_code</th>\n",
       "      <th>year_built</th>\n",
       "      <th>latitude</th>\n",
       "      <th>longitude</th>\n",
       "      <th>assessed_value</th>\n",
       "      <th>tax_value</th>\n",
       "      <th>transaction_date</th>\n",
       "    </tr>\n",
       "  </thead>\n",
       "  <tbody>\n",
       "    <tr>\n",
       "      <th>14985</th>\n",
       "      <td>3.0</td>\n",
       "      <td>5.0</td>\n",
       "      <td>2526.0</td>\n",
       "      <td>6059.0</td>\n",
       "      <td>7800.0</td>\n",
       "      <td>1.0</td>\n",
       "      <td>97018.0</td>\n",
       "      <td>1994.0</td>\n",
       "      <td>33753643.0</td>\n",
       "      <td>-117766503.0</td>\n",
       "      <td>458903.0</td>\n",
       "      <td>5718.72</td>\n",
       "      <td>2017-06-30</td>\n",
       "    </tr>\n",
       "    <tr>\n",
       "      <th>14986</th>\n",
       "      <td>3.0</td>\n",
       "      <td>5.0</td>\n",
       "      <td>2735.0</td>\n",
       "      <td>6059.0</td>\n",
       "      <td>7100.0</td>\n",
       "      <td>1.0</td>\n",
       "      <td>97067.0</td>\n",
       "      <td>1963.0</td>\n",
       "      <td>33783173.0</td>\n",
       "      <td>-117817799.0</td>\n",
       "      <td>115387.0</td>\n",
       "      <td>1465.88</td>\n",
       "      <td>2017-06-30</td>\n",
       "    </tr>\n",
       "    <tr>\n",
       "      <th>14987</th>\n",
       "      <td>2.0</td>\n",
       "      <td>3.0</td>\n",
       "      <td>1536.0</td>\n",
       "      <td>6037.0</td>\n",
       "      <td>8818.0</td>\n",
       "      <td>1.0</td>\n",
       "      <td>96523.0</td>\n",
       "      <td>1955.0</td>\n",
       "      <td>34058178.0</td>\n",
       "      <td>-117948180.0</td>\n",
       "      <td>297097.0</td>\n",
       "      <td>3519.78</td>\n",
       "      <td>2017-06-30</td>\n",
       "    </tr>\n",
       "    <tr>\n",
       "      <th>14988</th>\n",
       "      <td>3.0</td>\n",
       "      <td>5.0</td>\n",
       "      <td>2655.0</td>\n",
       "      <td>6059.0</td>\n",
       "      <td>6000.0</td>\n",
       "      <td>NaN</td>\n",
       "      <td>97065.0</td>\n",
       "      <td>1994.0</td>\n",
       "      <td>33836898.0</td>\n",
       "      <td>-117801369.0</td>\n",
       "      <td>746963.0</td>\n",
       "      <td>8065.50</td>\n",
       "      <td>2017-06-30</td>\n",
       "    </tr>\n",
       "    <tr>\n",
       "      <th>14989</th>\n",
       "      <td>3.0</td>\n",
       "      <td>4.0</td>\n",
       "      <td>2305.0</td>\n",
       "      <td>6037.0</td>\n",
       "      <td>5742.0</td>\n",
       "      <td>NaN</td>\n",
       "      <td>96129.0</td>\n",
       "      <td>1949.0</td>\n",
       "      <td>33952368.0</td>\n",
       "      <td>-118441155.0</td>\n",
       "      <td>579047.0</td>\n",
       "      <td>6996.21</td>\n",
       "      <td>2017-06-30</td>\n",
       "    </tr>\n",
       "  </tbody>\n",
       "</table>\n",
       "</div>"
      ],
      "text/plain": [
       "       bathrooms  bedrooms  square_feet    fips  lot_size  pool  zip_code  \\\n",
       "14985        3.0       5.0       2526.0  6059.0    7800.0   1.0   97018.0   \n",
       "14986        3.0       5.0       2735.0  6059.0    7100.0   1.0   97067.0   \n",
       "14987        2.0       3.0       1536.0  6037.0    8818.0   1.0   96523.0   \n",
       "14988        3.0       5.0       2655.0  6059.0    6000.0   NaN   97065.0   \n",
       "14989        3.0       4.0       2305.0  6037.0    5742.0   NaN   96129.0   \n",
       "\n",
       "       year_built    latitude    longitude  assessed_value  tax_value  \\\n",
       "14985      1994.0  33753643.0 -117766503.0        458903.0    5718.72   \n",
       "14986      1963.0  33783173.0 -117817799.0        115387.0    1465.88   \n",
       "14987      1955.0  34058178.0 -117948180.0        297097.0    3519.78   \n",
       "14988      1994.0  33836898.0 -117801369.0        746963.0    8065.50   \n",
       "14989      1949.0  33952368.0 -118441155.0        579047.0    6996.21   \n",
       "\n",
       "      transaction_date  \n",
       "14985       2017-06-30  \n",
       "14986       2017-06-30  \n",
       "14987       2017-06-30  \n",
       "14988       2017-06-30  \n",
       "14989       2017-06-30  "
      ]
     },
     "execution_count": 4,
     "metadata": {},
     "output_type": "execute_result"
    }
   ],
   "source": [
    "# check DF tail\n",
    "df.tail()"
   ]
  },
  {
   "cell_type": "code",
   "execution_count": 5,
   "metadata": {},
   "outputs": [
    {
     "name": "stdout",
     "output_type": "stream",
     "text": [
      "<class 'pandas.core.frame.DataFrame'>\n",
      "RangeIndex: 14990 entries, 0 to 14989\n",
      "Data columns (total 13 columns):\n",
      "bathrooms           14990 non-null float64\n",
      "bedrooms            14990 non-null float64\n",
      "square_feet         14990 non-null float64\n",
      "fips                14990 non-null float64\n",
      "lot_size            14893 non-null float64\n",
      "pool                3287 non-null float64\n",
      "zip_code            14982 non-null float64\n",
      "year_built          14974 non-null float64\n",
      "latitude            14990 non-null float64\n",
      "longitude           14990 non-null float64\n",
      "assessed_value      14990 non-null float64\n",
      "tax_value           14989 non-null float64\n",
      "transaction_date    14990 non-null object\n",
      "dtypes: float64(12), object(1)\n",
      "memory usage: 1.5+ MB\n"
     ]
    }
   ],
   "source": [
    "# there are null values in lot_size, pool, zip_code, year_built and tax-value\n",
    "df.info()"
   ]
  },
  {
   "cell_type": "code",
   "execution_count": 6,
   "metadata": {
    "scrolled": true
   },
   "outputs": [],
   "source": [
    "#wrangle data to remove NANs\n",
    "df = wrangle.wrangle_zillow()"
   ]
  },
  {
   "cell_type": "code",
   "execution_count": 7,
   "metadata": {},
   "outputs": [],
   "source": [
    "#create a new column tax-rate\n",
    "df['tax_rate'] = df.tax_value/df.assessed_value"
   ]
  },
  {
   "cell_type": "code",
   "execution_count": 8,
   "metadata": {},
   "outputs": [
    {
     "data": {
      "text/html": [
       "<div>\n",
       "<style scoped>\n",
       "    .dataframe tbody tr th:only-of-type {\n",
       "        vertical-align: middle;\n",
       "    }\n",
       "\n",
       "    .dataframe tbody tr th {\n",
       "        vertical-align: top;\n",
       "    }\n",
       "\n",
       "    .dataframe thead th {\n",
       "        text-align: right;\n",
       "    }\n",
       "</style>\n",
       "<table border=\"1\" class=\"dataframe\">\n",
       "  <thead>\n",
       "    <tr style=\"text-align: right;\">\n",
       "      <th></th>\n",
       "      <th>bathrooms</th>\n",
       "      <th>bedrooms</th>\n",
       "      <th>square_feet</th>\n",
       "      <th>fips</th>\n",
       "      <th>lot_size</th>\n",
       "      <th>pool</th>\n",
       "      <th>zip_code</th>\n",
       "      <th>year_built</th>\n",
       "      <th>latitude</th>\n",
       "      <th>longitude</th>\n",
       "      <th>assessed_value</th>\n",
       "      <th>tax_value</th>\n",
       "      <th>transaction_date</th>\n",
       "      <th>tax_rate</th>\n",
       "    </tr>\n",
       "  </thead>\n",
       "  <tbody>\n",
       "    <tr>\n",
       "      <th>0</th>\n",
       "      <td>2.0</td>\n",
       "      <td>3.0</td>\n",
       "      <td>1458.0</td>\n",
       "      <td>6037</td>\n",
       "      <td>8284</td>\n",
       "      <td>1</td>\n",
       "      <td>97318</td>\n",
       "      <td>1970</td>\n",
       "      <td>34686163.0</td>\n",
       "      <td>-118113100.0</td>\n",
       "      <td>136104.0</td>\n",
       "      <td>2319.90</td>\n",
       "      <td>2017-06-23</td>\n",
       "      <td>0.017045</td>\n",
       "    </tr>\n",
       "    <tr>\n",
       "      <th>1</th>\n",
       "      <td>1.0</td>\n",
       "      <td>2.0</td>\n",
       "      <td>1421.0</td>\n",
       "      <td>6037</td>\n",
       "      <td>6707</td>\n",
       "      <td>0</td>\n",
       "      <td>96018</td>\n",
       "      <td>1911</td>\n",
       "      <td>33999877.0</td>\n",
       "      <td>-118291863.0</td>\n",
       "      <td>35606.0</td>\n",
       "      <td>543.69</td>\n",
       "      <td>2017-06-30</td>\n",
       "      <td>0.015270</td>\n",
       "    </tr>\n",
       "  </tbody>\n",
       "</table>\n",
       "</div>"
      ],
      "text/plain": [
       "   bathrooms  bedrooms  square_feet  fips  lot_size  pool  zip_code  \\\n",
       "0        2.0       3.0       1458.0  6037      8284     1     97318   \n",
       "1        1.0       2.0       1421.0  6037      6707     0     96018   \n",
       "\n",
       "   year_built    latitude    longitude  assessed_value  tax_value  \\\n",
       "0        1970  34686163.0 -118113100.0        136104.0    2319.90   \n",
       "1        1911  33999877.0 -118291863.0         35606.0     543.69   \n",
       "\n",
       "  transaction_date  tax_rate  \n",
       "0       2017-06-23  0.017045  \n",
       "1       2017-06-30  0.015270  "
      ]
     },
     "execution_count": 8,
     "metadata": {},
     "output_type": "execute_result"
    }
   ],
   "source": [
    "df.head(2)"
   ]
  },
  {
   "cell_type": "code",
   "execution_count": 9,
   "metadata": {},
   "outputs": [],
   "source": [
    "#https://www.nrcs.usda.gov/wps/portal/nrcs/detail/national/home/?cid=nrcs143_013697\n",
    "#source for county fips code. Read codes in a data DataFrame named fips_codes\n",
    "#fips_codes = pd.read_clipboard()"
   ]
  },
  {
   "cell_type": "code",
   "execution_count": 10,
   "metadata": {},
   "outputs": [
    {
     "data": {
      "text/html": [
       "<div>\n",
       "<style scoped>\n",
       "    .dataframe tbody tr th:only-of-type {\n",
       "        vertical-align: middle;\n",
       "    }\n",
       "\n",
       "    .dataframe tbody tr th {\n",
       "        vertical-align: top;\n",
       "    }\n",
       "\n",
       "    .dataframe thead th {\n",
       "        text-align: right;\n",
       "    }\n",
       "</style>\n",
       "<table border=\"1\" class=\"dataframe\">\n",
       "  <thead>\n",
       "    <tr style=\"text-align: right;\">\n",
       "      <th></th>\n",
       "      <th>fips</th>\n",
       "      <th>County</th>\n",
       "    </tr>\n",
       "  </thead>\n",
       "  <tbody>\n",
       "    <tr>\n",
       "      <th>0</th>\n",
       "      <td>6037</td>\n",
       "      <td>Los Angles</td>\n",
       "    </tr>\n",
       "    <tr>\n",
       "      <th>1</th>\n",
       "      <td>6059</td>\n",
       "      <td>Orange</td>\n",
       "    </tr>\n",
       "    <tr>\n",
       "      <th>2</th>\n",
       "      <td>6111</td>\n",
       "      <td>Ventura</td>\n",
       "    </tr>\n",
       "  </tbody>\n",
       "</table>\n",
       "</div>"
      ],
      "text/plain": [
       "   fips      County\n",
       "0  6037  Los Angles\n",
       "1  6059      Orange\n",
       "2  6111     Ventura"
      ]
     },
     "execution_count": 10,
     "metadata": {},
     "output_type": "execute_result"
    }
   ],
   "source": [
    "fips_code = pd.DataFrame({\n",
    "    'fips': [6037, 6059, 6111],\n",
    "    'County':['Los Angles', 'Orange', 'Ventura']\n",
    "})\n",
    "fips_code.head()"
   ]
  },
  {
   "cell_type": "code",
   "execution_count": 11,
   "metadata": {},
   "outputs": [],
   "source": [
    "#merge df and fips_codes \n",
    "df = pd.merge(df, fips_code, left_on='fips', right_on='fips', how='left')"
   ]
  },
  {
   "cell_type": "code",
   "execution_count": 12,
   "metadata": {},
   "outputs": [
    {
     "data": {
      "text/html": [
       "<div>\n",
       "<style scoped>\n",
       "    .dataframe tbody tr th:only-of-type {\n",
       "        vertical-align: middle;\n",
       "    }\n",
       "\n",
       "    .dataframe tbody tr th {\n",
       "        vertical-align: top;\n",
       "    }\n",
       "\n",
       "    .dataframe thead th {\n",
       "        text-align: right;\n",
       "    }\n",
       "</style>\n",
       "<table border=\"1\" class=\"dataframe\">\n",
       "  <thead>\n",
       "    <tr style=\"text-align: right;\">\n",
       "      <th></th>\n",
       "      <th>bathrooms</th>\n",
       "      <th>bedrooms</th>\n",
       "      <th>square_feet</th>\n",
       "      <th>fips</th>\n",
       "      <th>lot_size</th>\n",
       "      <th>pool</th>\n",
       "      <th>zip_code</th>\n",
       "      <th>year_built</th>\n",
       "      <th>latitude</th>\n",
       "      <th>longitude</th>\n",
       "      <th>assessed_value</th>\n",
       "      <th>tax_value</th>\n",
       "      <th>transaction_date</th>\n",
       "      <th>tax_rate</th>\n",
       "      <th>County</th>\n",
       "    </tr>\n",
       "  </thead>\n",
       "  <tbody>\n",
       "    <tr>\n",
       "      <th>0</th>\n",
       "      <td>2.0</td>\n",
       "      <td>3.0</td>\n",
       "      <td>1458.0</td>\n",
       "      <td>6037</td>\n",
       "      <td>8284</td>\n",
       "      <td>1</td>\n",
       "      <td>97318</td>\n",
       "      <td>1970</td>\n",
       "      <td>34686163.0</td>\n",
       "      <td>-118113100.0</td>\n",
       "      <td>136104.0</td>\n",
       "      <td>2319.90</td>\n",
       "      <td>2017-06-23</td>\n",
       "      <td>0.017045</td>\n",
       "      <td>Los Angles</td>\n",
       "    </tr>\n",
       "    <tr>\n",
       "      <th>1</th>\n",
       "      <td>1.0</td>\n",
       "      <td>2.0</td>\n",
       "      <td>1421.0</td>\n",
       "      <td>6037</td>\n",
       "      <td>6707</td>\n",
       "      <td>0</td>\n",
       "      <td>96018</td>\n",
       "      <td>1911</td>\n",
       "      <td>33999877.0</td>\n",
       "      <td>-118291863.0</td>\n",
       "      <td>35606.0</td>\n",
       "      <td>543.69</td>\n",
       "      <td>2017-06-30</td>\n",
       "      <td>0.015270</td>\n",
       "      <td>Los Angles</td>\n",
       "    </tr>\n",
       "  </tbody>\n",
       "</table>\n",
       "</div>"
      ],
      "text/plain": [
       "   bathrooms  bedrooms  square_feet  fips  lot_size  pool  zip_code  \\\n",
       "0        2.0       3.0       1458.0  6037      8284     1     97318   \n",
       "1        1.0       2.0       1421.0  6037      6707     0     96018   \n",
       "\n",
       "   year_built    latitude    longitude  assessed_value  tax_value  \\\n",
       "0        1970  34686163.0 -118113100.0        136104.0    2319.90   \n",
       "1        1911  33999877.0 -118291863.0         35606.0     543.69   \n",
       "\n",
       "  transaction_date  tax_rate      County  \n",
       "0       2017-06-23  0.017045  Los Angles  \n",
       "1       2017-06-30  0.015270  Los Angles  "
      ]
     },
     "execution_count": 12,
     "metadata": {},
     "output_type": "execute_result"
    }
   ],
   "source": [
    "df.head(2)"
   ]
  },
  {
   "cell_type": "code",
   "execution_count": 13,
   "metadata": {},
   "outputs": [],
   "source": [
    "#split the data into train and test\n",
    "train, test = train_test_split(df, train_size = .70, random_state = 100)"
   ]
  },
  {
   "cell_type": "markdown",
   "metadata": {},
   "source": [
    "# Data Exploration (Using train data only)"
   ]
  },
  {
   "cell_type": "code",
   "execution_count": 14,
   "metadata": {},
   "outputs": [],
   "source": [
    "#create a subset of df with continuous variables to create pairplot\n",
    "train_plot = df[['bathrooms', 'bedrooms', 'square_feet', 'lot_size', 'assessed_value']]"
   ]
  },
  {
   "cell_type": "code",
   "execution_count": 15,
   "metadata": {
    "scrolled": true
   },
   "outputs": [
    {
     "data": {
      "text/html": [
       "<div>\n",
       "<style scoped>\n",
       "    .dataframe tbody tr th:only-of-type {\n",
       "        vertical-align: middle;\n",
       "    }\n",
       "\n",
       "    .dataframe tbody tr th {\n",
       "        vertical-align: top;\n",
       "    }\n",
       "\n",
       "    .dataframe thead th {\n",
       "        text-align: right;\n",
       "    }\n",
       "</style>\n",
       "<table border=\"1\" class=\"dataframe\">\n",
       "  <thead>\n",
       "    <tr style=\"text-align: right;\">\n",
       "      <th></th>\n",
       "      <th>bathrooms</th>\n",
       "      <th>bedrooms</th>\n",
       "      <th>square_feet</th>\n",
       "      <th>lot_size</th>\n",
       "      <th>assessed_value</th>\n",
       "    </tr>\n",
       "  </thead>\n",
       "  <tbody>\n",
       "    <tr>\n",
       "      <th>0</th>\n",
       "      <td>2.0</td>\n",
       "      <td>3.0</td>\n",
       "      <td>1458.0</td>\n",
       "      <td>8284</td>\n",
       "      <td>136104.0</td>\n",
       "    </tr>\n",
       "    <tr>\n",
       "      <th>1</th>\n",
       "      <td>1.0</td>\n",
       "      <td>2.0</td>\n",
       "      <td>1421.0</td>\n",
       "      <td>6707</td>\n",
       "      <td>35606.0</td>\n",
       "    </tr>\n",
       "  </tbody>\n",
       "</table>\n",
       "</div>"
      ],
      "text/plain": [
       "   bathrooms  bedrooms  square_feet  lot_size  assessed_value\n",
       "0        2.0       3.0       1458.0      8284        136104.0\n",
       "1        1.0       2.0       1421.0      6707         35606.0"
      ]
     },
     "execution_count": 15,
     "metadata": {},
     "output_type": "execute_result"
    }
   ],
   "source": [
    "train_plot.head(2)"
   ]
  },
  {
   "cell_type": "code",
   "execution_count": 16,
   "metadata": {},
   "outputs": [
    {
     "data": {
      "text/plain": [
       "0.8911450279029113"
      ]
     },
     "execution_count": 16,
     "metadata": {},
     "output_type": "execute_result"
    }
   ],
   "source": [
    "df[df.assessed_value<1000000].count()[1]/df.shape[0]"
   ]
  },
  {
   "cell_type": "code",
   "execution_count": 17,
   "metadata": {},
   "outputs": [
    {
     "data": {
      "image/png": "[encoded data removed]",
      "text/plain": [
       "<Figure size 900x900 with 30 Axes>"
      ]
     },
     "metadata": {
      "needs_background": "light"
     },
     "output_type": "display_data"
    }
   ],
   "source": [
    "explore.plot_variable_pairs(train_plot)"
   ]
  },
  {
   "cell_type": "markdown",
   "metadata": {},
   "source": [
    "# Home value seems to be correlated to number of bathrooms, bedrooms, square_feet and lot size"
   ]
  },
  {
   "cell_type": "code",
   "execution_count": 18,
   "metadata": {},
   "outputs": [
    {
     "data": {
      "text/plain": [
       "<matplotlib.axes._subplots.AxesSubplot at 0x12e53ca90>"
      ]
     },
     "execution_count": 18,
     "metadata": {},
     "output_type": "execute_result"
    },
    {
     "data": {
      "image/png": "[encoded data removed]",
      "text/plain": [
       "<Figure size 864x432 with 1 Axes>"
      ]
     },
     "metadata": {
      "needs_background": "light"
     },
     "output_type": "display_data"
    }
   ],
   "source": [
    "# Lets look at box plot of home values in each county. For better visualization, homes above 1 million are not plotted\n",
    "plt.figure(figsize=(12,6))\n",
    "sns.boxplot(x= train[train.assessed_value<100000].County, y= train[train.assessed_value<100000].assessed_value, data=train[train.assessed_value<100000])"
   ]
  },
  {
   "cell_type": "code",
   "execution_count": 19,
   "metadata": {},
   "outputs": [
    {
     "data": {
      "text/html": [
       "<div>\n",
       "<style scoped>\n",
       "    .dataframe tbody tr th:only-of-type {\n",
       "        vertical-align: middle;\n",
       "    }\n",
       "\n",
       "    .dataframe tbody tr th {\n",
       "        vertical-align: top;\n",
       "    }\n",
       "\n",
       "    .dataframe thead th {\n",
       "        text-align: right;\n",
       "    }\n",
       "</style>\n",
       "<table border=\"1\" class=\"dataframe\">\n",
       "  <thead>\n",
       "    <tr style=\"text-align: right;\">\n",
       "      <th></th>\n",
       "      <th>bathrooms</th>\n",
       "      <th>bedrooms</th>\n",
       "      <th>square_feet</th>\n",
       "      <th>fips</th>\n",
       "      <th>lot_size</th>\n",
       "      <th>pool</th>\n",
       "      <th>zip_code</th>\n",
       "      <th>year_built</th>\n",
       "      <th>latitude</th>\n",
       "      <th>longitude</th>\n",
       "      <th>assessed_value</th>\n",
       "      <th>tax_value</th>\n",
       "      <th>transaction_date</th>\n",
       "      <th>tax_rate</th>\n",
       "      <th>County</th>\n",
       "    </tr>\n",
       "  </thead>\n",
       "  <tbody>\n",
       "    <tr>\n",
       "      <th>11938</th>\n",
       "      <td>3.0</td>\n",
       "      <td>3.0</td>\n",
       "      <td>2130.0</td>\n",
       "      <td>6037</td>\n",
       "      <td>7242</td>\n",
       "      <td>1</td>\n",
       "      <td>97319</td>\n",
       "      <td>1988</td>\n",
       "      <td>34663693.0</td>\n",
       "      <td>-118185301.0</td>\n",
       "      <td>268557.0</td>\n",
       "      <td>3975.61</td>\n",
       "      <td>2017-06-22</td>\n",
       "      <td>0.014804</td>\n",
       "      <td>Los Angles</td>\n",
       "    </tr>\n",
       "    <tr>\n",
       "      <th>790</th>\n",
       "      <td>2.0</td>\n",
       "      <td>4.0</td>\n",
       "      <td>1705.0</td>\n",
       "      <td>6037</td>\n",
       "      <td>7412</td>\n",
       "      <td>1</td>\n",
       "      <td>96389</td>\n",
       "      <td>1960</td>\n",
       "      <td>34178821.0</td>\n",
       "      <td>-118607295.0</td>\n",
       "      <td>95849.0</td>\n",
       "      <td>1296.19</td>\n",
       "      <td>2017-05-03</td>\n",
       "      <td>0.013523</td>\n",
       "      <td>Los Angles</td>\n",
       "    </tr>\n",
       "    <tr>\n",
       "      <th>3846</th>\n",
       "      <td>2.0</td>\n",
       "      <td>3.0</td>\n",
       "      <td>2014.0</td>\n",
       "      <td>6037</td>\n",
       "      <td>6491</td>\n",
       "      <td>0</td>\n",
       "      <td>96246</td>\n",
       "      <td>1936</td>\n",
       "      <td>33774191.0</td>\n",
       "      <td>-118123557.0</td>\n",
       "      <td>324613.0</td>\n",
       "      <td>3968.00</td>\n",
       "      <td>2017-05-17</td>\n",
       "      <td>0.012224</td>\n",
       "      <td>Los Angles</td>\n",
       "    </tr>\n",
       "    <tr>\n",
       "      <th>14846</th>\n",
       "      <td>3.0</td>\n",
       "      <td>3.0</td>\n",
       "      <td>2376.0</td>\n",
       "      <td>6059</td>\n",
       "      <td>4500</td>\n",
       "      <td>0</td>\n",
       "      <td>97067</td>\n",
       "      <td>1989</td>\n",
       "      <td>33788519.0</td>\n",
       "      <td>-117766101.0</td>\n",
       "      <td>499860.0</td>\n",
       "      <td>6082.08</td>\n",
       "      <td>2017-06-30</td>\n",
       "      <td>0.012168</td>\n",
       "      <td>Orange</td>\n",
       "    </tr>\n",
       "    <tr>\n",
       "      <th>1469</th>\n",
       "      <td>2.0</td>\n",
       "      <td>3.0</td>\n",
       "      <td>1360.0</td>\n",
       "      <td>6037</td>\n",
       "      <td>5200</td>\n",
       "      <td>0</td>\n",
       "      <td>96012</td>\n",
       "      <td>1965</td>\n",
       "      <td>34087088.0</td>\n",
       "      <td>-118200703.0</td>\n",
       "      <td>517777.0</td>\n",
       "      <td>6302.17</td>\n",
       "      <td>2017-05-05</td>\n",
       "      <td>0.012172</td>\n",
       "      <td>Los Angles</td>\n",
       "    </tr>\n",
       "  </tbody>\n",
       "</table>\n",
       "</div>"
      ],
      "text/plain": [
       "       bathrooms  bedrooms  square_feet  fips  lot_size  pool  zip_code  \\\n",
       "11938        3.0       3.0       2130.0  6037      7242     1     97319   \n",
       "790          2.0       4.0       1705.0  6037      7412     1     96389   \n",
       "3846         2.0       3.0       2014.0  6037      6491     0     96246   \n",
       "14846        3.0       3.0       2376.0  6059      4500     0     97067   \n",
       "1469         2.0       3.0       1360.0  6037      5200     0     96012   \n",
       "\n",
       "       year_built    latitude    longitude  assessed_value  tax_value  \\\n",
       "11938        1988  34663693.0 -118185301.0        268557.0    3975.61   \n",
       "790          1960  34178821.0 -118607295.0         95849.0    1296.19   \n",
       "3846         1936  33774191.0 -118123557.0        324613.0    3968.00   \n",
       "14846        1989  33788519.0 -117766101.0        499860.0    6082.08   \n",
       "1469         1965  34087088.0 -118200703.0        517777.0    6302.17   \n",
       "\n",
       "      transaction_date  tax_rate      County  \n",
       "11938       2017-06-22  0.014804  Los Angles  \n",
       "790         2017-05-03  0.013523  Los Angles  \n",
       "3846        2017-05-17  0.012224  Los Angles  \n",
       "14846       2017-06-30  0.012168      Orange  \n",
       "1469        2017-05-05  0.012172  Los Angles  "
      ]
     },
     "execution_count": 19,
     "metadata": {},
     "output_type": "execute_result"
    }
   ],
   "source": [
    "train.head()"
   ]
  },
  {
   "cell_type": "code",
   "execution_count": 20,
   "metadata": {},
   "outputs": [
    {
     "data": {
      "text/plain": [
       "344387.0"
      ]
     },
     "execution_count": 20,
     "metadata": {},
     "output_type": "execute_result"
    }
   ],
   "source": [
    "# median value of homes is a better measure of central tendency for home values due to outliers.\n",
    "train[train.assessed_value <1000000].assessed_value.median()"
   ]
  },
  {
   "cell_type": "code",
   "execution_count": 21,
   "metadata": {},
   "outputs": [
    {
     "data": {
      "text/plain": [
       "<matplotlib.axes._subplots.AxesSubplot at 0x12ea5e490>"
      ]
     },
     "execution_count": 21,
     "metadata": {},
     "output_type": "execute_result"
    },
    {
     "data": {
      "image/png": "[encoded data removed]",
      "text/plain": [
       "<Figure size 432x288 with 1 Axes>"
      ]
     },
     "metadata": {
      "needs_background": "light"
     },
     "output_type": "display_data"
    }
   ],
   "source": [
    "# plot showing distribution of home values. This looks like right skewed distribution\n",
    "sns.distplot(train.assessed_value)"
   ]
  },
  {
   "cell_type": "code",
   "execution_count": 22,
   "metadata": {},
   "outputs": [
    {
     "data": {
      "text/html": [
       "<div>\n",
       "<style scoped>\n",
       "    .dataframe tbody tr th:only-of-type {\n",
       "        vertical-align: middle;\n",
       "    }\n",
       "\n",
       "    .dataframe tbody tr th {\n",
       "        vertical-align: top;\n",
       "    }\n",
       "\n",
       "    .dataframe thead th {\n",
       "        text-align: right;\n",
       "    }\n",
       "</style>\n",
       "<table border=\"1\" class=\"dataframe\">\n",
       "  <thead>\n",
       "    <tr style=\"text-align: right;\">\n",
       "      <th></th>\n",
       "      <th>bathrooms</th>\n",
       "      <th>bedrooms</th>\n",
       "      <th>square_feet</th>\n",
       "      <th>lot_size</th>\n",
       "      <th>assessed_value</th>\n",
       "    </tr>\n",
       "  </thead>\n",
       "  <tbody>\n",
       "    <tr>\n",
       "      <th>bathrooms</th>\n",
       "      <td>1.000000</td>\n",
       "      <td>0.643196</td>\n",
       "      <td>0.855253</td>\n",
       "      <td>0.140262</td>\n",
       "      <td>0.516795</td>\n",
       "    </tr>\n",
       "    <tr>\n",
       "      <th>bedrooms</th>\n",
       "      <td>0.643196</td>\n",
       "      <td>1.000000</td>\n",
       "      <td>0.630065</td>\n",
       "      <td>0.069576</td>\n",
       "      <td>0.273758</td>\n",
       "    </tr>\n",
       "    <tr>\n",
       "      <th>square_feet</th>\n",
       "      <td>0.855253</td>\n",
       "      <td>0.630065</td>\n",
       "      <td>1.000000</td>\n",
       "      <td>0.182419</td>\n",
       "      <td>0.602603</td>\n",
       "    </tr>\n",
       "    <tr>\n",
       "      <th>lot_size</th>\n",
       "      <td>0.140262</td>\n",
       "      <td>0.069576</td>\n",
       "      <td>0.182419</td>\n",
       "      <td>1.000000</td>\n",
       "      <td>0.116572</td>\n",
       "    </tr>\n",
       "    <tr>\n",
       "      <th>assessed_value</th>\n",
       "      <td>0.516795</td>\n",
       "      <td>0.273758</td>\n",
       "      <td>0.602603</td>\n",
       "      <td>0.116572</td>\n",
       "      <td>1.000000</td>\n",
       "    </tr>\n",
       "  </tbody>\n",
       "</table>\n",
       "</div>"
      ],
      "text/plain": [
       "                bathrooms  bedrooms  square_feet  lot_size  assessed_value\n",
       "bathrooms        1.000000  0.643196     0.855253  0.140262        0.516795\n",
       "bedrooms         0.643196  1.000000     0.630065  0.069576        0.273758\n",
       "square_feet      0.855253  0.630065     1.000000  0.182419        0.602603\n",
       "lot_size         0.140262  0.069576     0.182419  1.000000        0.116572\n",
       "assessed_value   0.516795  0.273758     0.602603  0.116572        1.000000"
      ]
     },
     "execution_count": 22,
     "metadata": {},
     "output_type": "execute_result"
    }
   ],
   "source": [
    "cm = train_plot.corr()\n",
    "cm"
   ]
  },
  {
   "cell_type": "code",
   "execution_count": 23,
   "metadata": {},
   "outputs": [
    {
     "data": {
      "text/plain": [
       "<matplotlib.axes._subplots.AxesSubplot at 0x12ea57b50>"
      ]
     },
     "execution_count": 23,
     "metadata": {},
     "output_type": "execute_result"
    },
    {
     "data": {
      "image/png": "[encoded data removed]",
      "text/plain": [
       "<Figure size 576x432 with 2 Axes>"
      ]
     },
     "metadata": {
      "needs_background": "light"
     },
     "output_type": "display_data"
    }
   ],
   "source": [
    "# lets look at heatmap and corresponding correlation values \n",
    "plt.figure(figsize=(8,6))\n",
    "sns.heatmap(cm, annot=True, cmap='viridis')"
   ]
  },
  {
   "cell_type": "markdown",
   "metadata": {},
   "source": [
    "# $H_0$: there is no relationship between home values and number of bedrooms, bathrooms and square_feet\n",
    "# $H_a$: There is a relationship between home values and number of bedrooms, bathrooms and square_feet"
   ]
  },
  {
   "cell_type": "code",
   "execution_count": 24,
   "metadata": {},
   "outputs": [],
   "source": [
    "#Lets take a look at simple model based on bathoom, bedroom and squarefeet and compare if against the baseline(median home value)\n",
    "X_train = train[['bedrooms', 'bathrooms', 'square_feet']]\n",
    "y_train = train[['assessed_value']]\n",
    "y_train['y_baseline'] = train['assessed_value'].median()"
   ]
  },
  {
   "cell_type": "code",
   "execution_count": 25,
   "metadata": {},
   "outputs": [
    {
     "data": {
      "text/html": [
       "<div>\n",
       "<style scoped>\n",
       "    .dataframe tbody tr th:only-of-type {\n",
       "        vertical-align: middle;\n",
       "    }\n",
       "\n",
       "    .dataframe tbody tr th {\n",
       "        vertical-align: top;\n",
       "    }\n",
       "\n",
       "    .dataframe thead th {\n",
       "        text-align: right;\n",
       "    }\n",
       "</style>\n",
       "<table border=\"1\" class=\"dataframe\">\n",
       "  <thead>\n",
       "    <tr style=\"text-align: right;\">\n",
       "      <th></th>\n",
       "      <th>assessed_value</th>\n",
       "      <th>y_baseline</th>\n",
       "    </tr>\n",
       "  </thead>\n",
       "  <tbody>\n",
       "    <tr>\n",
       "      <th>11938</th>\n",
       "      <td>268557.0</td>\n",
       "      <td>389610.0</td>\n",
       "    </tr>\n",
       "    <tr>\n",
       "      <th>790</th>\n",
       "      <td>95849.0</td>\n",
       "      <td>389610.0</td>\n",
       "    </tr>\n",
       "    <tr>\n",
       "      <th>3846</th>\n",
       "      <td>324613.0</td>\n",
       "      <td>389610.0</td>\n",
       "    </tr>\n",
       "    <tr>\n",
       "      <th>14846</th>\n",
       "      <td>499860.0</td>\n",
       "      <td>389610.0</td>\n",
       "    </tr>\n",
       "    <tr>\n",
       "      <th>1469</th>\n",
       "      <td>517777.0</td>\n",
       "      <td>389610.0</td>\n",
       "    </tr>\n",
       "  </tbody>\n",
       "</table>\n",
       "</div>"
      ],
      "text/plain": [
       "       assessed_value  y_baseline\n",
       "11938        268557.0    389610.0\n",
       "790           95849.0    389610.0\n",
       "3846         324613.0    389610.0\n",
       "14846        499860.0    389610.0\n",
       "1469         517777.0    389610.0"
      ]
     },
     "execution_count": 25,
     "metadata": {},
     "output_type": "execute_result"
    }
   ],
   "source": [
    "y_train.head()"
   ]
  },
  {
   "cell_type": "code",
   "execution_count": 26,
   "metadata": {},
   "outputs": [
    {
     "data": {
      "text/plain": [
       "734625.2550096865"
      ]
     },
     "execution_count": 26,
     "metadata": {},
     "output_type": "execute_result"
    }
   ],
   "source": [
    "# Calculating the baseline (based on median) RMSE\n",
    "from sklearn.metrics import mean_squared_error\n",
    "from math import sqrt\n",
    "\n",
    "rmse_bl = sqrt(mean_squared_error(y_train.assessed_value, y_train.y_baseline))\n",
    "\n",
    "rmse_bl"
   ]
  },
  {
   "cell_type": "code",
   "execution_count": 27,
   "metadata": {},
   "outputs": [],
   "source": [
    "#We now create a OLS model based on bedrooms, bathrooms and square_feet\n",
    "from statsmodels.formula.api import ols\n",
    "\n",
    "# generate parameters, i.e. create model\n",
    "ols_model = ols('assessed_value ~ bedrooms + bathrooms + square_feet', data = train).fit()\n",
    "\n",
    "# compute predictions and add to original dataframe\n",
    "y_train['yhat'] = ols_model.predict(X_train)"
   ]
  },
  {
   "cell_type": "code",
   "execution_count": 28,
   "metadata": {},
   "outputs": [
    {
     "data": {
      "text/html": [
       "<div>\n",
       "<style scoped>\n",
       "    .dataframe tbody tr th:only-of-type {\n",
       "        vertical-align: middle;\n",
       "    }\n",
       "\n",
       "    .dataframe tbody tr th {\n",
       "        vertical-align: top;\n",
       "    }\n",
       "\n",
       "    .dataframe thead th {\n",
       "        text-align: right;\n",
       "    }\n",
       "</style>\n",
       "<table border=\"1\" class=\"dataframe\">\n",
       "  <thead>\n",
       "    <tr style=\"text-align: right;\">\n",
       "      <th></th>\n",
       "      <th>assessed_value</th>\n",
       "      <th>y_baseline</th>\n",
       "      <th>yhat</th>\n",
       "    </tr>\n",
       "  </thead>\n",
       "  <tbody>\n",
       "    <tr>\n",
       "      <th>11938</th>\n",
       "      <td>268557.0</td>\n",
       "      <td>389610.0</td>\n",
       "      <td>718051.869254</td>\n",
       "    </tr>\n",
       "    <tr>\n",
       "      <th>790</th>\n",
       "      <td>95849.0</td>\n",
       "      <td>389610.0</td>\n",
       "      <td>316295.362143</td>\n",
       "    </tr>\n",
       "    <tr>\n",
       "      <th>3846</th>\n",
       "      <td>324613.0</td>\n",
       "      <td>389610.0</td>\n",
       "      <td>606590.711377</td>\n",
       "    </tr>\n",
       "    <tr>\n",
       "      <th>14846</th>\n",
       "      <td>499860.0</td>\n",
       "      <td>389610.0</td>\n",
       "      <td>832519.897568</td>\n",
       "    </tr>\n",
       "    <tr>\n",
       "      <th>1469</th>\n",
       "      <td>517777.0</td>\n",
       "      <td>389610.0</td>\n",
       "      <td>302273.270250</td>\n",
       "    </tr>\n",
       "  </tbody>\n",
       "</table>\n",
       "</div>"
      ],
      "text/plain": [
       "       assessed_value  y_baseline           yhat\n",
       "11938        268557.0    389610.0  718051.869254\n",
       "790           95849.0    389610.0  316295.362143\n",
       "3846         324613.0    389610.0  606590.711377\n",
       "14846        499860.0    389610.0  832519.897568\n",
       "1469         517777.0    389610.0  302273.270250"
      ]
     },
     "execution_count": 28,
     "metadata": {},
     "output_type": "execute_result"
    }
   ],
   "source": [
    "y_train.head()"
   ]
  },
  {
   "cell_type": "code",
   "execution_count": 29,
   "metadata": {
    "scrolled": true
   },
   "outputs": [
    {
     "data": {
      "text/html": [
       "<table class=\"simpletable\">\n",
       "<caption>OLS Regression Results</caption>\n",
       "<tr>\n",
       "  <th>Dep. Variable:</th>     <td>assessed_value</td>  <th>  R-squared:         </th>  <td>   0.367</td>  \n",
       "</tr>\n",
       "<tr>\n",
       "  <th>Model:</th>                   <td>OLS</td>       <th>  Adj. R-squared:    </th>  <td>   0.366</td>  \n",
       "</tr>\n",
       "<tr>\n",
       "  <th>Method:</th>             <td>Least Squares</td>  <th>  F-statistic:       </th>  <td>   2007.</td>  \n",
       "</tr>\n",
       "<tr>\n",
       "  <th>Date:</th>             <td>Thu, 09 Apr 2020</td> <th>  Prob (F-statistic):</th>   <td>  0.00</td>   \n",
       "</tr>\n",
       "<tr>\n",
       "  <th>Time:</th>                 <td>10:30:09</td>     <th>  Log-Likelihood:    </th> <td>-1.5278e+05</td>\n",
       "</tr>\n",
       "<tr>\n",
       "  <th>No. Observations:</th>      <td> 10411</td>      <th>  AIC:               </th>  <td>3.056e+05</td> \n",
       "</tr>\n",
       "<tr>\n",
       "  <th>Df Residuals:</th>          <td> 10407</td>      <th>  BIC:               </th>  <td>3.056e+05</td> \n",
       "</tr>\n",
       "<tr>\n",
       "  <th>Df Model:</th>              <td>     3</td>      <th>                     </th>      <td> </td>     \n",
       "</tr>\n",
       "<tr>\n",
       "  <th>Covariance Type:</th>      <td>nonrobust</td>    <th>                     </th>      <td> </td>     \n",
       "</tr>\n",
       "</table>\n",
       "<table class=\"simpletable\">\n",
       "<tr>\n",
       "       <td></td>          <th>coef</th>     <th>std err</th>      <th>t</th>      <th>P>|t|</th>  <th>[0.025</th>    <th>0.975]</th>  \n",
       "</tr>\n",
       "<tr>\n",
       "  <th>Intercept</th>   <td>-5989.8197</td> <td>  2.1e+04</td> <td>   -0.285</td> <td> 0.776</td> <td>-4.72e+04</td> <td> 3.52e+04</td>\n",
       "</tr>\n",
       "<tr>\n",
       "  <th>bedrooms</th>    <td>-1.465e+05</td> <td> 8045.351</td> <td>  -18.211</td> <td> 0.000</td> <td>-1.62e+05</td> <td>-1.31e+05</td>\n",
       "</tr>\n",
       "<tr>\n",
       "  <th>bathrooms</th>   <td> 5.748e+04</td> <td>  1.1e+04</td> <td>    5.220</td> <td> 0.000</td> <td> 3.59e+04</td> <td> 7.91e+04</td>\n",
       "</tr>\n",
       "<tr>\n",
       "  <th>square_feet</th> <td>  465.3172</td> <td>   11.199</td> <td>   41.549</td> <td> 0.000</td> <td>  443.364</td> <td>  487.270</td>\n",
       "</tr>\n",
       "</table>\n",
       "<table class=\"simpletable\">\n",
       "<tr>\n",
       "  <th>Omnibus:</th>       <td>16670.764</td> <th>  Durbin-Watson:     </th>   <td>   2.006</td>  \n",
       "</tr>\n",
       "<tr>\n",
       "  <th>Prob(Omnibus):</th>  <td> 0.000</td>   <th>  Jarque-Bera (JB):  </th> <td>26785887.300</td>\n",
       "</tr>\n",
       "<tr>\n",
       "  <th>Skew:</th>           <td>10.040</td>   <th>  Prob(JB):          </th>   <td>    0.00</td>  \n",
       "</tr>\n",
       "<tr>\n",
       "  <th>Kurtosis:</th>       <td>250.679</td>  <th>  Cond. No.          </th>   <td>8.51e+03</td>  \n",
       "</tr>\n",
       "</table><br/><br/>Warnings:<br/>[1] Standard Errors assume that the covariance matrix of the errors is correctly specified.<br/>[2] The condition number is large, 8.51e+03. This might indicate that there are<br/>strong multicollinearity or other numerical problems."
      ],
      "text/plain": [
       "<class 'statsmodels.iolib.summary.Summary'>\n",
       "\"\"\"\n",
       "                            OLS Regression Results                            \n",
       "==============================================================================\n",
       "Dep. Variable:         assessed_value   R-squared:                       0.367\n",
       "Model:                            OLS   Adj. R-squared:                  0.366\n",
       "Method:                 Least Squares   F-statistic:                     2007.\n",
       "Date:                Thu, 09 Apr 2020   Prob (F-statistic):               0.00\n",
       "Time:                        10:30:09   Log-Likelihood:            -1.5278e+05\n",
       "No. Observations:               10411   AIC:                         3.056e+05\n",
       "Df Residuals:                   10407   BIC:                         3.056e+05\n",
       "Df Model:                           3                                         \n",
       "Covariance Type:            nonrobust                                         \n",
       "===============================================================================\n",
       "                  coef    std err          t      P>|t|      [0.025      0.975]\n",
       "-------------------------------------------------------------------------------\n",
       "Intercept   -5989.8197    2.1e+04     -0.285      0.776   -4.72e+04    3.52e+04\n",
       "bedrooms    -1.465e+05   8045.351    -18.211      0.000   -1.62e+05   -1.31e+05\n",
       "bathrooms    5.748e+04    1.1e+04      5.220      0.000    3.59e+04    7.91e+04\n",
       "square_feet   465.3172     11.199     41.549      0.000     443.364     487.270\n",
       "==============================================================================\n",
       "Omnibus:                    16670.764   Durbin-Watson:                   2.006\n",
       "Prob(Omnibus):                  0.000   Jarque-Bera (JB):         26785887.300\n",
       "Skew:                          10.040   Prob(JB):                         0.00\n",
       "Kurtosis:                     250.679   Cond. No.                     8.51e+03\n",
       "==============================================================================\n",
       "\n",
       "Warnings:\n",
       "[1] Standard Errors assume that the covariance matrix of the errors is correctly specified.\n",
       "[2] The condition number is large, 8.51e+03. This might indicate that there are\n",
       "strong multicollinearity or other numerical problems.\n",
       "\"\"\""
      ]
     },
     "execution_count": 29,
     "metadata": {},
     "output_type": "execute_result"
    }
   ],
   "source": [
    "ols_model.summary()"
   ]
  },
  {
   "cell_type": "markdown",
   "metadata": {},
   "source": [
    "# Since my p-value is <0.05, I can reject my null hypothesis.\n",
    "# This means that there is statistically significant relationship between home prices and  independent variables used above."
   ]
  },
  {
   "cell_type": "code",
   "execution_count": 30,
   "metadata": {},
   "outputs": [
    {
     "data": {
      "text/plain": [
       "571669.8819642654"
      ]
     },
     "execution_count": 30,
     "metadata": {},
     "output_type": "execute_result"
    }
   ],
   "source": [
    "\n",
    "rmse = sqrt(mean_squared_error(y_train.assessed_value, y_train.yhat))\n",
    "rmse"
   ]
  },
  {
   "cell_type": "markdown",
   "metadata": {},
   "source": [
    "#  RMSE for OLS model with bedrooom, bathroom and square feet (578329) is lower than the baseline (based on median)748179.  R2 is 0.37 and p-value is 0."
   ]
  },
  {
   "cell_type": "markdown",
   "metadata": {},
   "source": [
    "# I am next going to build a simple linear regression model based on bathrooms, bedrooms and square feet"
   ]
  },
  {
   "cell_type": "code",
   "execution_count": 31,
   "metadata": {},
   "outputs": [
    {
     "data": {
      "text/html": [
       "<div>\n",
       "<style scoped>\n",
       "    .dataframe tbody tr th:only-of-type {\n",
       "        vertical-align: middle;\n",
       "    }\n",
       "\n",
       "    .dataframe tbody tr th {\n",
       "        vertical-align: top;\n",
       "    }\n",
       "\n",
       "    .dataframe thead th {\n",
       "        text-align: right;\n",
       "    }\n",
       "</style>\n",
       "<table border=\"1\" class=\"dataframe\">\n",
       "  <thead>\n",
       "    <tr style=\"text-align: right;\">\n",
       "      <th></th>\n",
       "      <th>actual</th>\n",
       "    </tr>\n",
       "  </thead>\n",
       "  <tbody>\n",
       "    <tr>\n",
       "      <th>11938</th>\n",
       "      <td>268557.0</td>\n",
       "    </tr>\n",
       "    <tr>\n",
       "      <th>790</th>\n",
       "      <td>95849.0</td>\n",
       "    </tr>\n",
       "    <tr>\n",
       "      <th>3846</th>\n",
       "      <td>324613.0</td>\n",
       "    </tr>\n",
       "    <tr>\n",
       "      <th>14846</th>\n",
       "      <td>499860.0</td>\n",
       "    </tr>\n",
       "    <tr>\n",
       "      <th>1469</th>\n",
       "      <td>517777.0</td>\n",
       "    </tr>\n",
       "  </tbody>\n",
       "</table>\n",
       "</div>"
      ],
      "text/plain": [
       "         actual\n",
       "11938  268557.0\n",
       "790     95849.0\n",
       "3846   324613.0\n",
       "14846  499860.0\n",
       "1469   517777.0"
      ]
     },
     "execution_count": 31,
     "metadata": {},
     "output_type": "execute_result"
    }
   ],
   "source": [
    "# make a dataframe 'predictions' with actual home values\n",
    "predictions = pd.DataFrame({\n",
    "    'actual': y_train.assessed_value\n",
    "})\n",
    "predictions.head()"
   ]
  },
  {
   "cell_type": "code",
   "execution_count": 32,
   "metadata": {},
   "outputs": [],
   "source": [
    "X_train1 = X_train[['bedrooms', 'bathrooms', 'square_feet']]\n",
    "y_train1 = y_train[['assessed_value']]"
   ]
  },
  {
   "cell_type": "code",
   "execution_count": 33,
   "metadata": {},
   "outputs": [],
   "source": [
    "#linear regression model\n",
    "lm = LinearRegression()"
   ]
  },
  {
   "cell_type": "code",
   "execution_count": 34,
   "metadata": {},
   "outputs": [
    {
     "data": {
      "text/plain": [
       "LinearRegression(copy_X=True, fit_intercept=True, n_jobs=None, normalize=False)"
      ]
     },
     "execution_count": 34,
     "metadata": {},
     "output_type": "execute_result"
    }
   ],
   "source": [
    "# fit our train data on the model\n",
    "lm.fit(X_train1, y_train1)"
   ]
  },
  {
   "cell_type": "code",
   "execution_count": 35,
   "metadata": {},
   "outputs": [
    {
     "name": "stdout",
     "output_type": "stream",
     "text": [
      "Linear Model: LinearRegression(copy_X=True, fit_intercept=True, n_jobs=None, normalize=False)\n",
      "intercept:  [-5989.8196941]\n",
      "coefficients:  [[-146512.33805875   57484.36403782     465.31718827]]\n"
     ]
    }
   ],
   "source": [
    "print(\"Linear Model:\", lm)\n",
    "\n",
    "print(\"intercept: \", lm.intercept_)\n",
    "\n",
    "print(\"coefficients: \", lm.coef_)"
   ]
  },
  {
   "cell_type": "code",
   "execution_count": 36,
   "metadata": {},
   "outputs": [],
   "source": [
    "#predictions from linear regresssion model based on X_train independent variable values\n",
    "predictions['yhat_lm'] = lm.predict(X_train1)"
   ]
  },
  {
   "cell_type": "code",
   "execution_count": 37,
   "metadata": {},
   "outputs": [],
   "source": [
    "#Baseline predicted home value (median home price)\n",
    "predictions['baseline'] = y_train.assessed_value.median()"
   ]
  },
  {
   "cell_type": "code",
   "execution_count": 38,
   "metadata": {},
   "outputs": [
    {
     "data": {
      "text/html": [
       "<div>\n",
       "<style scoped>\n",
       "    .dataframe tbody tr th:only-of-type {\n",
       "        vertical-align: middle;\n",
       "    }\n",
       "\n",
       "    .dataframe tbody tr th {\n",
       "        vertical-align: top;\n",
       "    }\n",
       "\n",
       "    .dataframe thead th {\n",
       "        text-align: right;\n",
       "    }\n",
       "</style>\n",
       "<table border=\"1\" class=\"dataframe\">\n",
       "  <thead>\n",
       "    <tr style=\"text-align: right;\">\n",
       "      <th></th>\n",
       "      <th>actual</th>\n",
       "      <th>yhat_lm</th>\n",
       "      <th>baseline</th>\n",
       "    </tr>\n",
       "  </thead>\n",
       "  <tbody>\n",
       "    <tr>\n",
       "      <th>11938</th>\n",
       "      <td>268557.0</td>\n",
       "      <td>718051.869254</td>\n",
       "      <td>389610.0</td>\n",
       "    </tr>\n",
       "    <tr>\n",
       "      <th>790</th>\n",
       "      <td>95849.0</td>\n",
       "      <td>316295.362143</td>\n",
       "      <td>389610.0</td>\n",
       "    </tr>\n",
       "  </tbody>\n",
       "</table>\n",
       "</div>"
      ],
      "text/plain": [
       "         actual        yhat_lm  baseline\n",
       "11938  268557.0  718051.869254  389610.0\n",
       "790     95849.0  316295.362143  389610.0"
      ]
     },
     "execution_count": 38,
     "metadata": {},
     "output_type": "execute_result"
    }
   ],
   "source": [
    "predictions.head(2)"
   ]
  },
  {
   "cell_type": "code",
   "execution_count": 39,
   "metadata": {},
   "outputs": [
    {
     "data": {
      "text/plain": [
       "actual          0.000\n",
       "yhat_lm    571669.882\n",
       "baseline   734625.255\n",
       "dtype: float64"
      ]
     },
     "execution_count": 39,
     "metadata": {},
     "output_type": "execute_result"
    }
   ],
   "source": [
    "# Use lamda and calculate RMSE for each columns in prediction dataframe\n",
    "pd.options.display.float_format = '{:.3f}'.format\n",
    "predictions.apply(lambda col: sqrt(mean_squared_error(predictions.actual, col)))"
   ]
  },
  {
   "cell_type": "markdown",
   "metadata": {},
   "source": [
    "# The RMSE above for the linear model is better than baseline"
   ]
  },
  {
   "cell_type": "markdown",
   "metadata": {},
   "source": [
    "# Lets use this model on test data and see how well it does there"
   ]
  },
  {
   "cell_type": "code",
   "execution_count": 40,
   "metadata": {},
   "outputs": [],
   "source": [
    "#using test data and predicting home values based on linear model above\n",
    "X_test = test[['bedrooms', 'bathrooms', 'square_feet']]\n",
    "y_test = test[['assessed_value']]\n",
    "y_test['test_prediction'] = lm.predict(X_test)"
   ]
  },
  {
   "cell_type": "code",
   "execution_count": 41,
   "metadata": {},
   "outputs": [],
   "source": [
    "y_test.rename(columns = {'assessed_value': 'actual'}, inplace = True)"
   ]
  },
  {
   "cell_type": "code",
   "execution_count": 42,
   "metadata": {},
   "outputs": [
    {
     "data": {
      "text/html": [
       "<div>\n",
       "<style scoped>\n",
       "    .dataframe tbody tr th:only-of-type {\n",
       "        vertical-align: middle;\n",
       "    }\n",
       "\n",
       "    .dataframe tbody tr th {\n",
       "        vertical-align: top;\n",
       "    }\n",
       "\n",
       "    .dataframe thead th {\n",
       "        text-align: right;\n",
       "    }\n",
       "</style>\n",
       "<table border=\"1\" class=\"dataframe\">\n",
       "  <thead>\n",
       "    <tr style=\"text-align: right;\">\n",
       "      <th></th>\n",
       "      <th>actual</th>\n",
       "      <th>test_prediction</th>\n",
       "    </tr>\n",
       "  </thead>\n",
       "  <tbody>\n",
       "    <tr>\n",
       "      <th>9116</th>\n",
       "      <td>1352462.000</td>\n",
       "      <td>1043773.901</td>\n",
       "    </tr>\n",
       "    <tr>\n",
       "      <th>2397</th>\n",
       "      <td>797339.000</td>\n",
       "      <td>981994.199</td>\n",
       "    </tr>\n",
       "  </tbody>\n",
       "</table>\n",
       "</div>"
      ],
      "text/plain": [
       "          actual  test_prediction\n",
       "9116 1352462.000      1043773.901\n",
       "2397  797339.000       981994.199"
      ]
     },
     "execution_count": 42,
     "metadata": {},
     "output_type": "execute_result"
    }
   ],
   "source": [
    "y_test.head(2)"
   ]
  },
  {
   "cell_type": "code",
   "execution_count": 43,
   "metadata": {},
   "outputs": [
    {
     "data": {
      "text/plain": [
       "actual                 0.000\n",
       "test_prediction   576029.145\n",
       "dtype: float64"
      ]
     },
     "execution_count": 43,
     "metadata": {},
     "output_type": "execute_result"
    }
   ],
   "source": [
    "#Calculating RMSE for test predictions\n",
    "y_test.apply(lambda col: sqrt(mean_squared_error(y_test.actual, col)))"
   ]
  },
  {
   "cell_type": "markdown",
   "metadata": {},
   "source": [
    "# The RMSE for test data is lower than the train data!! This linear means model is working well (atleast better than baseline)"
   ]
  },
  {
   "cell_type": "markdown",
   "metadata": {},
   "source": [
    "# We will know try to explore this data more and do feature engineering to see if we can do better than the model above"
   ]
  },
  {
   "cell_type": "markdown",
   "metadata": {},
   "source": [
    "Seems like most of the data is from LA county followed by Orange and then Ventura county"
   ]
  },
  {
   "cell_type": "code",
   "execution_count": 44,
   "metadata": {},
   "outputs": [
    {
     "data": {
      "text/plain": [
       "Text(0.5, 0, 'County')"
      ]
     },
     "execution_count": 44,
     "metadata": {},
     "output_type": "execute_result"
    },
    {
     "data": {
      "image/png": "[encoded data removed]",
      "text/plain": [
       "<Figure size 432x288 with 1 Axes>"
      ]
     },
     "metadata": {
      "needs_background": "light"
     },
     "output_type": "display_data"
    }
   ],
   "source": [
    "plt.hist(train.County, density=False, bins=3)\n",
    "plt.ylabel('probability')\n",
    "plt.xlabel('County')"
   ]
  },
  {
   "cell_type": "code",
   "execution_count": 45,
   "metadata": {},
   "outputs": [
    {
     "data": {
      "text/plain": [
       "Text(0.5, 0, 'Number of bathrooms')"
      ]
     },
     "execution_count": 45,
     "metadata": {},
     "output_type": "execute_result"
    },
    {
     "data": {
      "image/png": "[encoded data removed]",
      "text/plain": [
       "<Figure size 432x288 with 1 Axes>"
      ]
     },
     "metadata": {
      "needs_background": "light"
     },
     "output_type": "display_data"
    }
   ],
   "source": [
    "plt.hist(train.bathrooms, density=True, bins=8)  # `density=False` would make counts\n",
    "plt.ylabel('probability')\n",
    "plt.xlabel('Number of bathrooms')\n"
   ]
  },
  {
   "cell_type": "code",
   "execution_count": 46,
   "metadata": {},
   "outputs": [
    {
     "data": {
      "text/plain": [
       "Text(0.5, 0, 'Number of bedrooms')"
      ]
     },
     "execution_count": 46,
     "metadata": {},
     "output_type": "execute_result"
    },
    {
     "data": {
      "image/png": "[encoded data removed]",
      "text/plain": [
       "<Figure size 432x288 with 1 Axes>"
      ]
     },
     "metadata": {
      "needs_background": "light"
     },
     "output_type": "display_data"
    }
   ],
   "source": [
    "plt.hist(train.bedrooms, density=True, bins=8)  # `density=False` would make counts\n",
    "plt.ylabel('probability')\n",
    "plt.xlabel('Number of bedrooms')\n",
    "\n"
   ]
  },
  {
   "cell_type": "code",
   "execution_count": 47,
   "metadata": {},
   "outputs": [
    {
     "data": {
      "text/plain": [
       "Text(0.5, 0, 'Year built')"
      ]
     },
     "execution_count": 47,
     "metadata": {},
     "output_type": "execute_result"
    },
    {
     "data": {
      "image/png": "[encoded data removed]",
      "text/plain": [
       "<Figure size 432x288 with 1 Axes>"
      ]
     },
     "metadata": {
      "needs_background": "light"
     },
     "output_type": "display_data"
    }
   ],
   "source": [
    "plt.hist(train.year_built, density=True, bins=8)  # `density=False` would make counts\n",
    "plt.ylabel('probability')\n",
    "plt.xlabel('Year built')"
   ]
  },
  {
   "cell_type": "code",
   "execution_count": 48,
   "metadata": {},
   "outputs": [
    {
     "data": {
      "text/plain": [
       "Text(0.5, 0, 'Square Feet')"
      ]
     },
     "execution_count": 48,
     "metadata": {},
     "output_type": "execute_result"
    },
    {
     "data": {
      "image/png": "[encoded data removed]",
      "text/plain": [
       "<Figure size 432x288 with 1 Axes>"
      ]
     },
     "metadata": {
      "needs_background": "light"
     },
     "output_type": "display_data"
    }
   ],
   "source": [
    "plt.hist(train.square_feet, density=True, bins=[0, 1000, 2000, 3000, 4000, 5000, 6000, 7000, 8000])  # `density=False` would make counts\n",
    "plt.ylabel('probability')\n",
    "plt.xlabel('Square Feet')"
   ]
  },
  {
   "cell_type": "code",
   "execution_count": 49,
   "metadata": {},
   "outputs": [
    {
     "data": {
      "text/plain": [
       "Text(0.5, 0, 'tax_rate')"
      ]
     },
     "execution_count": 49,
     "metadata": {},
     "output_type": "execute_result"
    },
    {
     "data": {
      "image/png": "[encoded data removed]",
      "text/plain": [
       "<Figure size 432x288 with 1 Axes>"
      ]
     },
     "metadata": {
      "needs_background": "light"
     },
     "output_type": "display_data"
    }
   ],
   "source": [
    "plt.hist(df.tax_rate, density=False, bins=[0, 0.01, 0.02, 0.03, 0.04, 0.05])  # `density=False` would make counts\n",
    "plt.ylabel('probability')\n",
    "plt.xlim(0,0.2)\n",
    "plt.xlabel('tax_rate')"
   ]
  },
  {
   "cell_type": "code",
   "execution_count": 50,
   "metadata": {},
   "outputs": [
    {
     "data": {
      "text/plain": [
       "Text(0.5, 0, 'assessed_value')"
      ]
     },
     "execution_count": 50,
     "metadata": {},
     "output_type": "execute_result"
    },
    {
     "data": {
      "image/png": "[encoded data removed]",
      "text/plain": [
       "<Figure size 432x288 with 1 Axes>"
      ]
     },
     "metadata": {
      "needs_background": "light"
     },
     "output_type": "display_data"
    }
   ],
   "source": [
    "plt.hist(df.assessed_value, density=False, bins =[0, 500000, 1000000, 2000000, 3000000, 4000000])  # `density=False` would make counts\n",
    "plt.ylabel('probability')\n",
    "#plt.xlim(0,0.2)\n",
    "plt.xlabel('assessed_value')"
   ]
  },
  {
   "cell_type": "code",
   "execution_count": 51,
   "metadata": {},
   "outputs": [
    {
     "data": {
      "text/plain": [
       "(0.0, 0.04)"
      ]
     },
     "execution_count": 51,
     "metadata": {},
     "output_type": "execute_result"
    },
    {
     "data": {
      "text/plain": [
       "<Figure size 864x432 with 0 Axes>"
      ]
     },
     "metadata": {},
     "output_type": "display_data"
    },
    {
     "data": {
      "image/png": "[encoded data removed]",
      "text/plain": [
       "<Figure size 864x432 with 1 Axes>"
      ]
     },
     "metadata": {
      "needs_background": "light"
     },
     "output_type": "display_data"
    }
   ],
   "source": [
    "plt.figure(figsize=(12,6))\n",
    "plt.figure(figsize=(12,6))\n",
    "sns.boxplot(x= train[train.assessed_value<100000].County, y= train[train.assessed_value<100000].tax_rate, data=train[train.assessed_value<100000])\n",
    "plt.ylim(0,0.04)"
   ]
  },
  {
   "cell_type": "markdown",
   "metadata": {},
   "source": [
    "# It seems like tax rate (average) is higher compared to Orange and Ventura counties"
   ]
  },
  {
   "cell_type": "code",
   "execution_count": 52,
   "metadata": {},
   "outputs": [
    {
     "data": {
      "image/png": "[encoded data removed]",
      "text/plain": [
       "<Figure size 864x288 with 1 Axes>"
      ]
     },
     "metadata": {
      "needs_background": "light"
     },
     "output_type": "display_data"
    },
    {
     "data": {
      "image/png": "[encoded data removed]",
      "text/plain": [
       "<Figure size 864x288 with 1 Axes>"
      ]
     },
     "metadata": {
      "needs_background": "light"
     },
     "output_type": "display_data"
    },
    {
     "data": {
      "text/plain": [
       "<matplotlib.axes._subplots.AxesSubplot at 0x132418650>"
      ]
     },
     "execution_count": 52,
     "metadata": {},
     "output_type": "execute_result"
    },
    {
     "data": {
      "image/png": "[encoded data removed]",
      "text/plain": [
       "<Figure size 864x288 with 1 Axes>"
      ]
     },
     "metadata": {
      "needs_background": "light"
     },
     "output_type": "display_data"
    }
   ],
   "source": [
    "plt.figure(figsize=(12,4))\n",
    "# below are plots for tax_rate distributions in three counties\n",
    "sns.distplot(df[df.County == 'Los Angles'].tax_rate, rug=True)\n",
    "plt.show()\n",
    "plt.figure(figsize=(12,4))\n",
    "sns.distplot(df[df.County == 'Orange'].tax_rate, rug=True)\n",
    "plt.show()\n",
    "plt.figure(figsize=(12,4))\n",
    "sns.distplot(df[df.County == 'Ventura'].tax_rate, rug=True)"
   ]
  },
  {
   "cell_type": "markdown",
   "metadata": {},
   "source": [
    "# Lets see if we can add new features to our model. We start by exploring other variables and their correlation with home values. We will use train data for this exploration"
   ]
  },
  {
   "cell_type": "code",
   "execution_count": 53,
   "metadata": {},
   "outputs": [],
   "source": [
    "train_plot2 = train[['assessed_value','bedrooms', 'bathrooms', 'square_feet', 'lot_size', 'year_built']]\n",
    "X_train2 = train[['bedrooms', 'bathrooms', 'square_feet', 'lot_size', 'year_built']]\n",
    "X_test2 = test[['bedrooms', 'bathrooms', 'square_feet', 'lot_size', 'year_built']]"
   ]
  },
  {
   "cell_type": "code",
   "execution_count": 54,
   "metadata": {},
   "outputs": [
    {
     "data": {
      "text/html": [
       "<div>\n",
       "<style scoped>\n",
       "    .dataframe tbody tr th:only-of-type {\n",
       "        vertical-align: middle;\n",
       "    }\n",
       "\n",
       "    .dataframe tbody tr th {\n",
       "        vertical-align: top;\n",
       "    }\n",
       "\n",
       "    .dataframe thead th {\n",
       "        text-align: right;\n",
       "    }\n",
       "</style>\n",
       "<table border=\"1\" class=\"dataframe\">\n",
       "  <thead>\n",
       "    <tr style=\"text-align: right;\">\n",
       "      <th></th>\n",
       "      <th>assessed_value</th>\n",
       "      <th>bedrooms</th>\n",
       "      <th>bathrooms</th>\n",
       "      <th>square_feet</th>\n",
       "      <th>lot_size</th>\n",
       "      <th>year_built</th>\n",
       "    </tr>\n",
       "  </thead>\n",
       "  <tbody>\n",
       "    <tr>\n",
       "      <th>assessed_value</th>\n",
       "      <td>1.000</td>\n",
       "      <td>0.264</td>\n",
       "      <td>0.505</td>\n",
       "      <td>0.589</td>\n",
       "      <td>0.132</td>\n",
       "      <td>0.171</td>\n",
       "    </tr>\n",
       "    <tr>\n",
       "      <th>bedrooms</th>\n",
       "      <td>0.264</td>\n",
       "      <td>1.000</td>\n",
       "      <td>0.642</td>\n",
       "      <td>0.628</td>\n",
       "      <td>0.087</td>\n",
       "      <td>0.391</td>\n",
       "    </tr>\n",
       "    <tr>\n",
       "      <th>bathrooms</th>\n",
       "      <td>0.505</td>\n",
       "      <td>0.642</td>\n",
       "      <td>1.000</td>\n",
       "      <td>0.855</td>\n",
       "      <td>0.160</td>\n",
       "      <td>0.524</td>\n",
       "    </tr>\n",
       "    <tr>\n",
       "      <th>square_feet</th>\n",
       "      <td>0.589</td>\n",
       "      <td>0.628</td>\n",
       "      <td>0.855</td>\n",
       "      <td>1.000</td>\n",
       "      <td>0.206</td>\n",
       "      <td>0.464</td>\n",
       "    </tr>\n",
       "    <tr>\n",
       "      <th>lot_size</th>\n",
       "      <td>0.132</td>\n",
       "      <td>0.087</td>\n",
       "      <td>0.160</td>\n",
       "      <td>0.206</td>\n",
       "      <td>1.000</td>\n",
       "      <td>0.084</td>\n",
       "    </tr>\n",
       "    <tr>\n",
       "      <th>year_built</th>\n",
       "      <td>0.171</td>\n",
       "      <td>0.391</td>\n",
       "      <td>0.524</td>\n",
       "      <td>0.464</td>\n",
       "      <td>0.084</td>\n",
       "      <td>1.000</td>\n",
       "    </tr>\n",
       "  </tbody>\n",
       "</table>\n",
       "</div>"
      ],
      "text/plain": [
       "                assessed_value  bedrooms  bathrooms  square_feet  lot_size  \\\n",
       "assessed_value           1.000     0.264      0.505        0.589     0.132   \n",
       "bedrooms                 0.264     1.000      0.642        0.628     0.087   \n",
       "bathrooms                0.505     0.642      1.000        0.855     0.160   \n",
       "square_feet              0.589     0.628      0.855        1.000     0.206   \n",
       "lot_size                 0.132     0.087      0.160        0.206     1.000   \n",
       "year_built               0.171     0.391      0.524        0.464     0.084   \n",
       "\n",
       "                year_built  \n",
       "assessed_value       0.171  \n",
       "bedrooms             0.391  \n",
       "bathrooms            0.524  \n",
       "square_feet          0.464  \n",
       "lot_size             0.084  \n",
       "year_built           1.000  "
      ]
     },
     "execution_count": 54,
     "metadata": {},
     "output_type": "execute_result"
    }
   ],
   "source": [
    "cm = train_plot2.corr()\n",
    "cm"
   ]
  },
  {
   "cell_type": "code",
   "execution_count": null,
   "metadata": {},
   "outputs": [],
   "source": []
  },
  {
   "cell_type": "code",
   "execution_count": 55,
   "metadata": {},
   "outputs": [
    {
     "data": {
      "text/plain": [
       "<matplotlib.axes._subplots.AxesSubplot at 0x12c752c50>"
      ]
     },
     "execution_count": 55,
     "metadata": {},
     "output_type": "execute_result"
    },
    {
     "data": {
      "image/png": "[encoded data removed]",
      "text/plain": [
       "<Figure size 576x432 with 2 Axes>"
      ]
     },
     "metadata": {
      "needs_background": "light"
     },
     "output_type": "display_data"
    }
   ],
   "source": [
    "# lets look at heatmap and corresponding correlation values \n",
    "plt.figure(figsize=(8,6))\n",
    "sns.heatmap(cm, annot=True, cmap='viridis')"
   ]
  },
  {
   "cell_type": "markdown",
   "metadata": {},
   "source": [
    "The heatmap suggests some correlation between lot_size,year_built and home value too.\n",
    "\n",
    "The histograms above for bedroom, bathroom and square_feet are right skewed. We can possibly tranform the data using log scale to make them more 'normal'"
   ]
  },
  {
   "cell_type": "code",
   "execution_count": 56,
   "metadata": {},
   "outputs": [
    {
     "data": {
      "text/plain": [
       "<matplotlib.axes._subplots.AxesSubplot at 0x132a07f50>"
      ]
     },
     "execution_count": 56,
     "metadata": {},
     "output_type": "execute_result"
    },
    {
     "data": {
      "image/png": "[encoded data removed]",
      "text/plain": [
       "<Figure size 432x288 with 1 Axes>"
      ]
     },
     "metadata": {
      "needs_background": "light"
     },
     "output_type": "display_data"
    }
   ],
   "source": [
    "df.bedrooms.plot.kde(bw_method=3)\n"
   ]
  },
  {
   "cell_type": "code",
   "execution_count": 57,
   "metadata": {},
   "outputs": [
    {
     "data": {
      "text/plain": [
       "<matplotlib.axes._subplots.AxesSubplot at 0x12d718bd0>"
      ]
     },
     "execution_count": 57,
     "metadata": {},
     "output_type": "execute_result"
    },
    {
     "data": {
      "image/png": "[encoded data removed]",
      "text/plain": [
       "<Figure size 432x288 with 1 Axes>"
      ]
     },
     "metadata": {
      "needs_background": "light"
     },
     "output_type": "display_data"
    }
   ],
   "source": [
    "df.bathrooms.plot.kde(bw_method=3)"
   ]
  },
  {
   "cell_type": "code",
   "execution_count": 58,
   "metadata": {},
   "outputs": [
    {
     "data": {
      "text/plain": [
       "<matplotlib.axes._subplots.AxesSubplot at 0x132bd5dd0>"
      ]
     },
     "execution_count": 58,
     "metadata": {},
     "output_type": "execute_result"
    },
    {
     "data": {
      "image/png": "[encoded data removed]",
      "text/plain": [
       "<Figure size 432x288 with 1 Axes>"
      ]
     },
     "metadata": {
      "needs_background": "light"
     },
     "output_type": "display_data"
    }
   ],
   "source": [
    "df.square_feet.plot.kde(bw_method=3)"
   ]
  },
  {
   "cell_type": "markdown",
   "metadata": {},
   "source": [
    "lets use standard scaler and scale all independent variables"
   ]
  },
  {
   "cell_type": "code",
   "execution_count": 59,
   "metadata": {},
   "outputs": [],
   "source": [
    "#scaler, X_train_scaled,  X_test_scaled= split_scale.robust_scalar_scaler(X_train2, X_test2)\n",
    "scaler, X_train_scaled, X_test_scaled = split_scale.iqr_robust_scaler(X_train2, X_test2)"
   ]
  },
  {
   "cell_type": "code",
   "execution_count": 60,
   "metadata": {},
   "outputs": [
    {
     "data": {
      "text/plain": [
       "array([[<matplotlib.axes._subplots.AxesSubplot object at 0x12d88edd0>,\n",
       "        <matplotlib.axes._subplots.AxesSubplot object at 0x12d9a5310>],\n",
       "       [<matplotlib.axes._subplots.AxesSubplot object at 0x12d8d2e10>,\n",
       "        <matplotlib.axes._subplots.AxesSubplot object at 0x132c8f750>],\n",
       "       [<matplotlib.axes._subplots.AxesSubplot object at 0x132cc3cd0>,\n",
       "        <matplotlib.axes._subplots.AxesSubplot object at 0x132d90290>]],\n",
       "      dtype=object)"
      ]
     },
     "execution_count": 60,
     "metadata": {},
     "output_type": "execute_result"
    },
    {
     "data": {
      "image/png": "[encoded data removed]",
      "text/plain": [
       "<Figure size 432x288 with 6 Axes>"
      ]
     },
     "metadata": {
      "needs_background": "light"
     },
     "output_type": "display_data"
    }
   ],
   "source": [
    "X_train_scaled.hist()"
   ]
  },
  {
   "cell_type": "code",
   "execution_count": 61,
   "metadata": {},
   "outputs": [],
   "source": [
    "y_train = train[['assessed_value']]"
   ]
  },
  {
   "cell_type": "code",
   "execution_count": 62,
   "metadata": {},
   "outputs": [],
   "source": [
    "lm = LinearRegression()"
   ]
  },
  {
   "cell_type": "code",
   "execution_count": 63,
   "metadata": {},
   "outputs": [],
   "source": [
    "rfe = RFE(lm, 4)"
   ]
  },
  {
   "cell_type": "code",
   "execution_count": 64,
   "metadata": {},
   "outputs": [],
   "source": [
    "X_rfe = rfe.fit_transform(X_train_scaled,y_train)"
   ]
  },
  {
   "cell_type": "code",
   "execution_count": 65,
   "metadata": {},
   "outputs": [
    {
     "name": "stdout",
     "output_type": "stream",
     "text": [
      "selected 4 features: bedrooms, bathrooms, square_feet, year_built\n"
     ]
    }
   ],
   "source": [
    "mask = rfe.support_\n",
    "\n",
    "# select the column names of the features that were selected and convert them to a list for future use. \n",
    "rfe_features = X_train_scaled.columns[mask]\n",
    "\n",
    "# print them out here for our reference\n",
    "print(f'selected {len(rfe_features)} features:', ', '.join(rfe_features))"
   ]
  },
  {
   "cell_type": "code",
   "execution_count": 66,
   "metadata": {},
   "outputs": [],
   "source": [
    "lm = LinearRegression()"
   ]
  },
  {
   "cell_type": "code",
   "execution_count": 67,
   "metadata": {},
   "outputs": [
    {
     "data": {
      "text/plain": [
       "LinearRegression(copy_X=True, fit_intercept=True, n_jobs=None, normalize=False)"
      ]
     },
     "execution_count": 67,
     "metadata": {},
     "output_type": "execute_result"
    }
   ],
   "source": [
    "lm.fit(X_rfe, y_train)"
   ]
  },
  {
   "cell_type": "code",
   "execution_count": 68,
   "metadata": {},
   "outputs": [
    {
     "name": "stdout",
     "output_type": "stream",
     "text": [
      "Linear Model: LinearRegression(copy_X=True, fit_intercept=True, n_jobs=None, normalize=False)\n",
      "intercept:  [443159.20546056]\n",
      "features:  Index(['bedrooms', 'bathrooms', 'square_feet', 'year_built'], dtype='object')\n",
      "coefficients:  [[-137557.52383447   97862.94724899  499392.7646885  -116826.56048029]]\n"
     ]
    }
   ],
   "source": [
    "print(\"Linear Model:\", lm)\n",
    "\n",
    "print(\"intercept: \", lm.intercept_)\n",
    "\n",
    "print(\"features: \", rfe_features)\n",
    "print(\"coefficients: \", lm.coef_)"
   ]
  },
  {
   "cell_type": "code",
   "execution_count": 69,
   "metadata": {},
   "outputs": [
    {
     "data": {
      "text/plain": [
       "array([[ 0.        ,  1.        ,  0.4249531 ,  0.93103448],\n",
       "       [ 1.        ,  0.        ,  0.02626642, -0.03448276],\n",
       "       [ 0.        ,  0.        ,  0.31613508, -0.86206897],\n",
       "       ...,\n",
       "       [ 0.        ,  0.        , -0.21013133, -0.31034483],\n",
       "       [ 1.        ,  0.5       ,  0.82363977,  1.4137931 ],\n",
       "       [ 1.        ,  0.        , -0.19418386,  0.06896552]])"
      ]
     },
     "execution_count": 69,
     "metadata": {},
     "output_type": "execute_result"
    }
   ],
   "source": [
    "X_rfe"
   ]
  },
  {
   "cell_type": "code",
   "execution_count": 70,
   "metadata": {},
   "outputs": [],
   "source": [
    "predictions['yhat_lm_rfe'] = lm.predict(X_rfe)"
   ]
  },
  {
   "cell_type": "code",
   "execution_count": 71,
   "metadata": {},
   "outputs": [
    {
     "data": {
      "text/plain": [
       "actual             0.000\n",
       "yhat_lm       571669.882\n",
       "baseline      734625.255\n",
       "yhat_lm_rfe   566136.925\n",
       "dtype: float64"
      ]
     },
     "execution_count": 71,
     "metadata": {},
     "output_type": "execute_result"
    }
   ],
   "source": [
    "predictions.apply(lambda col: sqrt(mean_squared_error(predictions.actual, col)))"
   ]
  },
  {
   "cell_type": "code",
   "execution_count": 72,
   "metadata": {},
   "outputs": [
    {
     "data": {
      "text/html": [
       "<div>\n",
       "<style scoped>\n",
       "    .dataframe tbody tr th:only-of-type {\n",
       "        vertical-align: middle;\n",
       "    }\n",
       "\n",
       "    .dataframe tbody tr th {\n",
       "        vertical-align: top;\n",
       "    }\n",
       "\n",
       "    .dataframe thead th {\n",
       "        text-align: right;\n",
       "    }\n",
       "</style>\n",
       "<table border=\"1\" class=\"dataframe\">\n",
       "  <thead>\n",
       "    <tr style=\"text-align: right;\">\n",
       "      <th></th>\n",
       "      <th>actual</th>\n",
       "      <th>yhat_lm</th>\n",
       "      <th>baseline</th>\n",
       "      <th>yhat_lm_rfe</th>\n",
       "    </tr>\n",
       "  </thead>\n",
       "  <tbody>\n",
       "    <tr>\n",
       "      <th>11938</th>\n",
       "      <td>268557.000</td>\n",
       "      <td>718051.869</td>\n",
       "      <td>389610.000</td>\n",
       "      <td>644471.098</td>\n",
       "    </tr>\n",
       "    <tr>\n",
       "      <th>790</th>\n",
       "      <td>95849.000</td>\n",
       "      <td>316295.362</td>\n",
       "      <td>389610.000</td>\n",
       "      <td>322747.442</td>\n",
       "    </tr>\n",
       "    <tr>\n",
       "      <th>3846</th>\n",
       "      <td>324613.000</td>\n",
       "      <td>606590.711</td>\n",
       "      <td>389610.000</td>\n",
       "      <td>701747.331</td>\n",
       "    </tr>\n",
       "    <tr>\n",
       "      <th>14846</th>\n",
       "      <td>499860.000</td>\n",
       "      <td>832519.898</td>\n",
       "      <td>389610.000</td>\n",
       "      <td>755687.080</td>\n",
       "    </tr>\n",
       "    <tr>\n",
       "      <th>1469</th>\n",
       "      <td>517777.000</td>\n",
       "      <td>302273.270</td>\n",
       "      <td>389610.000</td>\n",
       "      <td>278539.094</td>\n",
       "    </tr>\n",
       "  </tbody>\n",
       "</table>\n",
       "</div>"
      ],
      "text/plain": [
       "          actual    yhat_lm   baseline  yhat_lm_rfe\n",
       "11938 268557.000 718051.869 389610.000   644471.098\n",
       "790    95849.000 316295.362 389610.000   322747.442\n",
       "3846  324613.000 606590.711 389610.000   701747.331\n",
       "14846 499860.000 832519.898 389610.000   755687.080\n",
       "1469  517777.000 302273.270 389610.000   278539.094"
      ]
     },
     "execution_count": 72,
     "metadata": {},
     "output_type": "execute_result"
    }
   ],
   "source": [
    "predictions.head()"
   ]
  },
  {
   "cell_type": "code",
   "execution_count": 73,
   "metadata": {
    "scrolled": true
   },
   "outputs": [
    {
     "data": {
      "image/png": "[encoded data removed]",
      "text/plain": [
       "<Figure size 432x288 with 1 Axes>"
      ]
     },
     "metadata": {
      "needs_background": "light"
     },
     "output_type": "display_data"
    }
   ],
   "source": [
    "evaluate.plot_residuals(predictions.actual, predictions.yhat_lm_rfe, predictions)\n",
    "evaluate.plot_residuals(predictions.actual, predictions.yhat_lm, predictions)"
   ]
  },
  {
   "cell_type": "markdown",
   "metadata": {},
   "source": [
    "# Lets apply Linear Regression model using the selected features above to the test dataset"
   ]
  },
  {
   "cell_type": "code",
   "execution_count": 74,
   "metadata": {},
   "outputs": [
    {
     "data": {
      "text/html": [
       "<div>\n",
       "<style scoped>\n",
       "    .dataframe tbody tr th:only-of-type {\n",
       "        vertical-align: middle;\n",
       "    }\n",
       "\n",
       "    .dataframe tbody tr th {\n",
       "        vertical-align: top;\n",
       "    }\n",
       "\n",
       "    .dataframe thead th {\n",
       "        text-align: right;\n",
       "    }\n",
       "</style>\n",
       "<table border=\"1\" class=\"dataframe\">\n",
       "  <thead>\n",
       "    <tr style=\"text-align: right;\">\n",
       "      <th></th>\n",
       "      <th>bedrooms</th>\n",
       "      <th>bathrooms</th>\n",
       "      <th>square_feet</th>\n",
       "      <th>lot_size</th>\n",
       "      <th>year_built</th>\n",
       "    </tr>\n",
       "  </thead>\n",
       "  <tbody>\n",
       "    <tr>\n",
       "      <th>9116</th>\n",
       "      <td>0.000</td>\n",
       "      <td>1.000</td>\n",
       "      <td>1.082</td>\n",
       "      <td>-0.825</td>\n",
       "      <td>0.621</td>\n",
       "    </tr>\n",
       "    <tr>\n",
       "      <th>2397</th>\n",
       "      <td>0.000</td>\n",
       "      <td>0.500</td>\n",
       "      <td>1.015</td>\n",
       "      <td>-0.426</td>\n",
       "      <td>1.379</td>\n",
       "    </tr>\n",
       "    <tr>\n",
       "      <th>2849</th>\n",
       "      <td>0.000</td>\n",
       "      <td>0.000</td>\n",
       "      <td>-0.479</td>\n",
       "      <td>0.060</td>\n",
       "      <td>-0.310</td>\n",
       "    </tr>\n",
       "    <tr>\n",
       "      <th>14308</th>\n",
       "      <td>2.000</td>\n",
       "      <td>1.000</td>\n",
       "      <td>1.332</td>\n",
       "      <td>0.663</td>\n",
       "      <td>1.793</td>\n",
       "    </tr>\n",
       "    <tr>\n",
       "      <th>9780</th>\n",
       "      <td>0.000</td>\n",
       "      <td>0.000</td>\n",
       "      <td>0.305</td>\n",
       "      <td>0.190</td>\n",
       "      <td>0.000</td>\n",
       "    </tr>\n",
       "  </tbody>\n",
       "</table>\n",
       "</div>"
      ],
      "text/plain": [
       "       bedrooms  bathrooms  square_feet  lot_size  year_built\n",
       "9116      0.000      1.000        1.082    -0.825       0.621\n",
       "2397      0.000      0.500        1.015    -0.426       1.379\n",
       "2849      0.000      0.000       -0.479     0.060      -0.310\n",
       "14308     2.000      1.000        1.332     0.663       1.793\n",
       "9780      0.000      0.000        0.305     0.190       0.000"
      ]
     },
     "execution_count": 74,
     "metadata": {},
     "output_type": "execute_result"
    }
   ],
   "source": [
    "X_test_scaled.head()"
   ]
  },
  {
   "cell_type": "code",
   "execution_count": 75,
   "metadata": {},
   "outputs": [],
   "source": [
    "X_test_rfe = rfe.transform(X_test_scaled)"
   ]
  },
  {
   "cell_type": "code",
   "execution_count": 76,
   "metadata": {},
   "outputs": [
    {
     "data": {
      "text/plain": [
       "4462"
      ]
     },
     "execution_count": 76,
     "metadata": {},
     "output_type": "execute_result"
    }
   ],
   "source": [
    "len(X_test_rfe)"
   ]
  },
  {
   "cell_type": "code",
   "execution_count": 77,
   "metadata": {},
   "outputs": [],
   "source": [
    "y_test1 = test[['assessed_value']]\n",
    "y_test1['test_prediction'] = lm.predict(X_test_rfe)"
   ]
  },
  {
   "cell_type": "code",
   "execution_count": 78,
   "metadata": {},
   "outputs": [
    {
     "name": "stdout",
     "output_type": "stream",
     "text": [
      "Linear Model: LinearRegression(copy_X=True, fit_intercept=True, n_jobs=None, normalize=False)\n",
      "intercept:  [443159.20546056]\n",
      "coefficients:  [[-137557.52383447   97862.94724899  499392.7646885  -116826.56048029]]\n"
     ]
    }
   ],
   "source": [
    "print(\"Linear Model:\", lm)\n",
    "\n",
    "print(\"intercept: \", lm.intercept_)\n",
    "\n",
    "print(\"coefficients: \", lm.coef_)"
   ]
  },
  {
   "cell_type": "code",
   "execution_count": 79,
   "metadata": {},
   "outputs": [
    {
     "data": {
      "text/html": [
       "<div>\n",
       "<style scoped>\n",
       "    .dataframe tbody tr th:only-of-type {\n",
       "        vertical-align: middle;\n",
       "    }\n",
       "\n",
       "    .dataframe tbody tr th {\n",
       "        vertical-align: top;\n",
       "    }\n",
       "\n",
       "    .dataframe thead th {\n",
       "        text-align: right;\n",
       "    }\n",
       "</style>\n",
       "<table border=\"1\" class=\"dataframe\">\n",
       "  <thead>\n",
       "    <tr style=\"text-align: right;\">\n",
       "      <th></th>\n",
       "      <th>assessed_value</th>\n",
       "      <th>test_prediction</th>\n",
       "    </tr>\n",
       "  </thead>\n",
       "  <tbody>\n",
       "    <tr>\n",
       "      <th>9116</th>\n",
       "      <td>1352462.000</td>\n",
       "      <td>1008659.075</td>\n",
       "    </tr>\n",
       "    <tr>\n",
       "      <th>2397</th>\n",
       "      <td>797339.000</td>\n",
       "      <td>837838.937</td>\n",
       "    </tr>\n",
       "    <tr>\n",
       "      <th>2849</th>\n",
       "      <td>63577.000</td>\n",
       "      <td>240025.759</td>\n",
       "    </tr>\n",
       "    <tr>\n",
       "      <th>14308</th>\n",
       "      <td>621836.000</td>\n",
       "      <td>721657.385</td>\n",
       "    </tr>\n",
       "    <tr>\n",
       "      <th>9780</th>\n",
       "      <td>362761.000</td>\n",
       "      <td>595413.097</td>\n",
       "    </tr>\n",
       "  </tbody>\n",
       "</table>\n",
       "</div>"
      ],
      "text/plain": [
       "       assessed_value  test_prediction\n",
       "9116      1352462.000      1008659.075\n",
       "2397       797339.000       837838.937\n",
       "2849        63577.000       240025.759\n",
       "14308      621836.000       721657.385\n",
       "9780       362761.000       595413.097"
      ]
     },
     "execution_count": 79,
     "metadata": {},
     "output_type": "execute_result"
    }
   ],
   "source": [
    "y_test1.head()"
   ]
  },
  {
   "cell_type": "code",
   "execution_count": 80,
   "metadata": {},
   "outputs": [
    {
     "data": {
      "text/plain": [
       "assessed_value         0.000\n",
       "test_prediction   569747.128\n",
       "dtype: float64"
      ]
     },
     "execution_count": 80,
     "metadata": {},
     "output_type": "execute_result"
    }
   ],
   "source": [
    "y_test1.apply(lambda col: sqrt(mean_squared_error(y_test1.assessed_value, col)))"
   ]
  },
  {
   "cell_type": "markdown",
   "metadata": {},
   "source": [
    "The test data has similar RMSE as train data. This means our model is not overfitted"
   ]
  },
  {
   "cell_type": "markdown",
   "metadata": {},
   "source": [
    "Lets try this model on test data "
   ]
  },
  {
   "cell_type": "code",
   "execution_count": 81,
   "metadata": {},
   "outputs": [
    {
     "ename": "NameError",
     "evalue": "name 'X_test_scaled_rfe' is not defined",
     "output_type": "error",
     "traceback": [
      "\u001b[0;31m---------------------------------------------------------------------------\u001b[0m",
      "\u001b[0;31mNameError\u001b[0m                                 Traceback (most recent call last)",
      "\u001b[0;32m<ipython-input-81-75806a5f93e3>\u001b[0m in \u001b[0;36m<module>\u001b[0;34m\u001b[0m\n\u001b[0;32m----> 1\u001b[0;31m \u001b[0my_test1\u001b[0m\u001b[0;34m[\u001b[0m\u001b[0;34m'test_prediction'\u001b[0m\u001b[0;34m]\u001b[0m \u001b[0;34m=\u001b[0m \u001b[0mlm\u001b[0m\u001b[0;34m.\u001b[0m\u001b[0mpredict\u001b[0m\u001b[0;34m(\u001b[0m\u001b[0mX_test_scaled_rfe\u001b[0m\u001b[0;34m)\u001b[0m\u001b[0;34m\u001b[0m\u001b[0;34m\u001b[0m\u001b[0m\n\u001b[0m",
      "\u001b[0;31mNameError\u001b[0m: name 'X_test_scaled_rfe' is not defined"
     ]
    }
   ],
   "source": [
    "y_test1['test_prediction'] = lm.predict(X_test_scaled_rfe)"
   ]
  },
  {
   "cell_type": "code",
   "execution_count": 82,
   "metadata": {},
   "outputs": [
    {
     "data": {
      "text/plain": [
       "['1',\n",
       " 'x0',\n",
       " 'x1',\n",
       " 'x2',\n",
       " 'x3',\n",
       " 'x0^2',\n",
       " 'x0 x1',\n",
       " 'x0 x2',\n",
       " 'x0 x3',\n",
       " 'x1^2',\n",
       " 'x1 x2',\n",
       " 'x1 x3',\n",
       " 'x2^2',\n",
       " 'x2 x3',\n",
       " 'x3^2']"
      ]
     },
     "execution_count": 82,
     "metadata": {},
     "output_type": "execute_result"
    }
   ],
   "source": [
    "from sklearn.preprocessing import PolynomialFeatures\n",
    "\n",
    "poly = PolynomialFeatures(degree=2)\n",
    "X_poly = poly.fit_transform(X_rfe)\n",
    "\n",
    "poly.get_feature_names()"
   ]
  },
  {
   "cell_type": "code",
   "execution_count": 83,
   "metadata": {},
   "outputs": [],
   "source": [
    "lm_poly = LinearRegression()\n",
    "lm_poly.fit(X_poly, y_train.assessed_value)\n",
    "y_train['yhat_poly'] = lm_poly.predict(X_poly)"
   ]
  },
  {
   "cell_type": "code",
   "execution_count": 84,
   "metadata": {},
   "outputs": [
    {
     "data": {
      "text/html": [
       "<div>\n",
       "<style scoped>\n",
       "    .dataframe tbody tr th:only-of-type {\n",
       "        vertical-align: middle;\n",
       "    }\n",
       "\n",
       "    .dataframe tbody tr th {\n",
       "        vertical-align: top;\n",
       "    }\n",
       "\n",
       "    .dataframe thead th {\n",
       "        text-align: right;\n",
       "    }\n",
       "</style>\n",
       "<table border=\"1\" class=\"dataframe\">\n",
       "  <thead>\n",
       "    <tr style=\"text-align: right;\">\n",
       "      <th></th>\n",
       "      <th>assessed_value</th>\n",
       "      <th>yhat_poly</th>\n",
       "    </tr>\n",
       "  </thead>\n",
       "  <tbody>\n",
       "    <tr>\n",
       "      <th>11938</th>\n",
       "      <td>268557.000</td>\n",
       "      <td>665397.268</td>\n",
       "    </tr>\n",
       "    <tr>\n",
       "      <th>790</th>\n",
       "      <td>95849.000</td>\n",
       "      <td>304012.126</td>\n",
       "    </tr>\n",
       "    <tr>\n",
       "      <th>3846</th>\n",
       "      <td>324613.000</td>\n",
       "      <td>588795.710</td>\n",
       "    </tr>\n",
       "    <tr>\n",
       "      <th>14846</th>\n",
       "      <td>499860.000</td>\n",
       "      <td>715074.443</td>\n",
       "    </tr>\n",
       "    <tr>\n",
       "      <th>1469</th>\n",
       "      <td>517777.000</td>\n",
       "      <td>320495.662</td>\n",
       "    </tr>\n",
       "    <tr>\n",
       "      <th>...</th>\n",
       "      <td>...</td>\n",
       "      <td>...</td>\n",
       "    </tr>\n",
       "    <tr>\n",
       "      <th>12119</th>\n",
       "      <td>1321024.000</td>\n",
       "      <td>852420.072</td>\n",
       "    </tr>\n",
       "    <tr>\n",
       "      <th>8039</th>\n",
       "      <td>447349.000</td>\n",
       "      <td>321359.367</td>\n",
       "    </tr>\n",
       "    <tr>\n",
       "      <th>14147</th>\n",
       "      <td>665588.000</td>\n",
       "      <td>351919.440</td>\n",
       "    </tr>\n",
       "    <tr>\n",
       "      <th>6936</th>\n",
       "      <td>518732.000</td>\n",
       "      <td>534956.046</td>\n",
       "    </tr>\n",
       "    <tr>\n",
       "      <th>5640</th>\n",
       "      <td>274533.000</td>\n",
       "      <td>199159.700</td>\n",
       "    </tr>\n",
       "  </tbody>\n",
       "</table>\n",
       "<p>10411 rows × 2 columns</p>\n",
       "</div>"
      ],
      "text/plain": [
       "       assessed_value  yhat_poly\n",
       "11938      268557.000 665397.268\n",
       "790         95849.000 304012.126\n",
       "3846       324613.000 588795.710\n",
       "14846      499860.000 715074.443\n",
       "1469       517777.000 320495.662\n",
       "...               ...        ...\n",
       "12119     1321024.000 852420.072\n",
       "8039       447349.000 321359.367\n",
       "14147      665588.000 351919.440\n",
       "6936       518732.000 534956.046\n",
       "5640       274533.000 199159.700\n",
       "\n",
       "[10411 rows x 2 columns]"
      ]
     },
     "execution_count": 84,
     "metadata": {},
     "output_type": "execute_result"
    }
   ],
   "source": [
    "y_train"
   ]
  },
  {
   "cell_type": "code",
   "execution_count": 85,
   "metadata": {},
   "outputs": [
    {
     "data": {
      "text/plain": [
       "assessed_value        0.000\n",
       "yhat_poly        547161.646\n",
       "dtype: float64"
      ]
     },
     "execution_count": 85,
     "metadata": {},
     "output_type": "execute_result"
    }
   ],
   "source": [
    "y_train.apply(lambda col: sqrt(mean_squared_error(y_train.assessed_value, col)))"
   ]
  },
  {
   "cell_type": "markdown",
   "metadata": {},
   "source": [
    "# polynomial model is only marginally better"
   ]
  },
  {
   "cell_type": "markdown",
   "metadata": {},
   "source": [
    "# Lets try to create new feature with Log scale (I am using Log with base 2). Square feet and lot size are good candidates for log scale"
   ]
  },
  {
   "cell_type": "code",
   "execution_count": 86,
   "metadata": {},
   "outputs": [],
   "source": [
    "df['log2sf'] = np.log2(df['square_feet'])\n",
    "df['log2lot_size'] = np.log2(df['lot_size'])\n",
    "df['log2value'] = np.log2(df['assessed_value'])\n",
    "df['age'] = 2000-df.year_built"
   ]
  },
  {
   "cell_type": "code",
   "execution_count": 87,
   "metadata": {},
   "outputs": [
    {
     "data": {
      "text/html": [
       "<div>\n",
       "<style scoped>\n",
       "    .dataframe tbody tr th:only-of-type {\n",
       "        vertical-align: middle;\n",
       "    }\n",
       "\n",
       "    .dataframe tbody tr th {\n",
       "        vertical-align: top;\n",
       "    }\n",
       "\n",
       "    .dataframe thead th {\n",
       "        text-align: right;\n",
       "    }\n",
       "</style>\n",
       "<table border=\"1\" class=\"dataframe\">\n",
       "  <thead>\n",
       "    <tr style=\"text-align: right;\">\n",
       "      <th></th>\n",
       "      <th>bathrooms</th>\n",
       "      <th>bedrooms</th>\n",
       "      <th>square_feet</th>\n",
       "      <th>fips</th>\n",
       "      <th>lot_size</th>\n",
       "      <th>pool</th>\n",
       "      <th>zip_code</th>\n",
       "      <th>year_built</th>\n",
       "      <th>latitude</th>\n",
       "      <th>longitude</th>\n",
       "      <th>assessed_value</th>\n",
       "      <th>tax_value</th>\n",
       "      <th>transaction_date</th>\n",
       "      <th>tax_rate</th>\n",
       "      <th>County</th>\n",
       "      <th>log2sf</th>\n",
       "      <th>log2lot_size</th>\n",
       "      <th>log2value</th>\n",
       "      <th>age</th>\n",
       "    </tr>\n",
       "  </thead>\n",
       "  <tbody>\n",
       "    <tr>\n",
       "      <th>0</th>\n",
       "      <td>2.000</td>\n",
       "      <td>3.000</td>\n",
       "      <td>1458.000</td>\n",
       "      <td>6037</td>\n",
       "      <td>8284</td>\n",
       "      <td>1</td>\n",
       "      <td>97318</td>\n",
       "      <td>1970</td>\n",
       "      <td>34686163.000</td>\n",
       "      <td>-118113100.000</td>\n",
       "      <td>136104.000</td>\n",
       "      <td>2319.900</td>\n",
       "      <td>2017-06-23</td>\n",
       "      <td>0.017</td>\n",
       "      <td>Los Angles</td>\n",
       "      <td>10.510</td>\n",
       "      <td>13.016</td>\n",
       "      <td>17.054</td>\n",
       "      <td>30</td>\n",
       "    </tr>\n",
       "    <tr>\n",
       "      <th>1</th>\n",
       "      <td>1.000</td>\n",
       "      <td>2.000</td>\n",
       "      <td>1421.000</td>\n",
       "      <td>6037</td>\n",
       "      <td>6707</td>\n",
       "      <td>0</td>\n",
       "      <td>96018</td>\n",
       "      <td>1911</td>\n",
       "      <td>33999877.000</td>\n",
       "      <td>-118291863.000</td>\n",
       "      <td>35606.000</td>\n",
       "      <td>543.690</td>\n",
       "      <td>2017-06-30</td>\n",
       "      <td>0.015</td>\n",
       "      <td>Los Angles</td>\n",
       "      <td>10.473</td>\n",
       "      <td>12.711</td>\n",
       "      <td>15.120</td>\n",
       "      <td>89</td>\n",
       "    </tr>\n",
       "  </tbody>\n",
       "</table>\n",
       "</div>"
      ],
      "text/plain": [
       "   bathrooms  bedrooms  square_feet  fips  lot_size  pool  zip_code  \\\n",
       "0      2.000     3.000     1458.000  6037      8284     1     97318   \n",
       "1      1.000     2.000     1421.000  6037      6707     0     96018   \n",
       "\n",
       "   year_built     latitude      longitude  assessed_value  tax_value  \\\n",
       "0        1970 34686163.000 -118113100.000      136104.000   2319.900   \n",
       "1        1911 33999877.000 -118291863.000       35606.000    543.690   \n",
       "\n",
       "  transaction_date  tax_rate      County  log2sf  log2lot_size  log2value  age  \n",
       "0       2017-06-23     0.017  Los Angles  10.510        13.016     17.054   30  \n",
       "1       2017-06-30     0.015  Los Angles  10.473        12.711     15.120   89  "
      ]
     },
     "execution_count": 87,
     "metadata": {},
     "output_type": "execute_result"
    }
   ],
   "source": [
    "df.head(2)"
   ]
  },
  {
   "cell_type": "code",
   "execution_count": 106,
   "metadata": {},
   "outputs": [],
   "source": [
    "train_plot = df[['bathrooms', 'bedrooms', 'log2sf', 'log2lot_size', 'assessed_value', 'age']]"
   ]
  },
  {
   "cell_type": "code",
   "execution_count": 107,
   "metadata": {},
   "outputs": [
    {
     "data": {
      "text/html": [
       "<div>\n",
       "<style scoped>\n",
       "    .dataframe tbody tr th:only-of-type {\n",
       "        vertical-align: middle;\n",
       "    }\n",
       "\n",
       "    .dataframe tbody tr th {\n",
       "        vertical-align: top;\n",
       "    }\n",
       "\n",
       "    .dataframe thead th {\n",
       "        text-align: right;\n",
       "    }\n",
       "</style>\n",
       "<table border=\"1\" class=\"dataframe\">\n",
       "  <thead>\n",
       "    <tr style=\"text-align: right;\">\n",
       "      <th></th>\n",
       "      <th>bathrooms</th>\n",
       "      <th>bedrooms</th>\n",
       "      <th>log2sf</th>\n",
       "      <th>log2lot_size</th>\n",
       "      <th>assessed_value</th>\n",
       "      <th>age</th>\n",
       "    </tr>\n",
       "  </thead>\n",
       "  <tbody>\n",
       "    <tr>\n",
       "      <th>0</th>\n",
       "      <td>2.000</td>\n",
       "      <td>3.000</td>\n",
       "      <td>10.510</td>\n",
       "      <td>13.016</td>\n",
       "      <td>136104.000</td>\n",
       "      <td>30</td>\n",
       "    </tr>\n",
       "    <tr>\n",
       "      <th>1</th>\n",
       "      <td>1.000</td>\n",
       "      <td>2.000</td>\n",
       "      <td>10.473</td>\n",
       "      <td>12.711</td>\n",
       "      <td>35606.000</td>\n",
       "      <td>89</td>\n",
       "    </tr>\n",
       "    <tr>\n",
       "      <th>2</th>\n",
       "      <td>3.000</td>\n",
       "      <td>4.000</td>\n",
       "      <td>11.311</td>\n",
       "      <td>12.280</td>\n",
       "      <td>880456.000</td>\n",
       "      <td>-3</td>\n",
       "    </tr>\n",
       "    <tr>\n",
       "      <th>3</th>\n",
       "      <td>2.000</td>\n",
       "      <td>3.000</td>\n",
       "      <td>10.688</td>\n",
       "      <td>12.834</td>\n",
       "      <td>614000.000</td>\n",
       "      <td>51</td>\n",
       "    </tr>\n",
       "    <tr>\n",
       "      <th>4</th>\n",
       "      <td>1.000</td>\n",
       "      <td>2.000</td>\n",
       "      <td>9.437</td>\n",
       "      <td>11.506</td>\n",
       "      <td>274237.000</td>\n",
       "      <td>79</td>\n",
       "    </tr>\n",
       "  </tbody>\n",
       "</table>\n",
       "</div>"
      ],
      "text/plain": [
       "   bathrooms  bedrooms  log2sf  log2lot_size  assessed_value  age\n",
       "0      2.000     3.000  10.510        13.016      136104.000   30\n",
       "1      1.000     2.000  10.473        12.711       35606.000   89\n",
       "2      3.000     4.000  11.311        12.280      880456.000   -3\n",
       "3      2.000     3.000  10.688        12.834      614000.000   51\n",
       "4      1.000     2.000   9.437        11.506      274237.000   79"
      ]
     },
     "execution_count": 107,
     "metadata": {},
     "output_type": "execute_result"
    }
   ],
   "source": [
    "train_plot.head()"
   ]
  },
  {
   "cell_type": "code",
   "execution_count": 110,
   "metadata": {},
   "outputs": [
    {
     "data": {
      "text/plain": [
       "<matplotlib.axes._subplots.AxesSubplot at 0x12c1d8cd0>"
      ]
     },
     "execution_count": 110,
     "metadata": {},
     "output_type": "execute_result"
    },
    {
     "data": {
      "image/png": "[encoded data removed]",
      "text/plain": [
       "<Figure size 432x288 with 1 Axes>"
      ]
     },
     "metadata": {
      "needs_background": "light"
     },
     "output_type": "display_data"
    }
   ],
   "source": [
    "sns.scatterplot(x='log2sf', y = 'assessed_value', data=train_plot)"
   ]
  },
  {
   "cell_type": "code",
   "execution_count": 109,
   "metadata": {},
   "outputs": [
    {
     "data": {
      "image/png": "[encoded data removed]",
      "text/plain": [
       "<Figure size 1080x1080 with 42 Axes>"
      ]
     },
     "metadata": {
      "needs_background": "light"
     },
     "output_type": "display_data"
    }
   ],
   "source": [
    "explore.plot_variable_pairs(train_plot)"
   ]
  },
  {
   "cell_type": "code",
   "execution_count": 131,
   "metadata": {
    "scrolled": true
   },
   "outputs": [
    {
     "name": "stdout",
     "output_type": "stream",
     "text": [
      "<class 'pandas.core.frame.DataFrame'>\n",
      "Int64Index: 9513 entries, 0 to 14872\n",
      "Data columns (total 19 columns):\n",
      "bathrooms           9513 non-null float64\n",
      "bedrooms            9513 non-null float64\n",
      "square_feet         9513 non-null float64\n",
      "fips                9513 non-null int64\n",
      "lot_size            9513 non-null int64\n",
      "pool                9513 non-null int64\n",
      "zip_code            9513 non-null int64\n",
      "year_built          9513 non-null int64\n",
      "latitude            9513 non-null float64\n",
      "longitude           9513 non-null float64\n",
      "assessed_value      9513 non-null float64\n",
      "tax_value           9513 non-null float64\n",
      "transaction_date    9513 non-null object\n",
      "tax_rate            9513 non-null float64\n",
      "County              9513 non-null object\n",
      "log2sf              9513 non-null float64\n",
      "log2lot_size        9513 non-null float64\n",
      "log2value           9513 non-null float64\n",
      "age                 9513 non-null int64\n",
      "dtypes: float64(11), int64(6), object(2)\n",
      "memory usage: 1.5+ MB\n"
     ]
    }
   ],
   "source": [
    "df[df.County == 'Los Angles'].info()"
   ]
  },
  {
   "cell_type": "code",
   "execution_count": null,
   "metadata": {},
   "outputs": [],
   "source": []
  },
  {
   "cell_type": "code",
   "execution_count": 121,
   "metadata": {},
   "outputs": [],
   "source": [
    "df.to_csv('zillow_cleaned.csv')"
   ]
  },
  {
   "cell_type": "code",
   "execution_count": 119,
   "metadata": {
    "scrolled": false
   },
   "outputs": [
    {
     "data": {
      "text/html": [
       "<div>\n",
       "<style scoped>\n",
       "    .dataframe tbody tr th:only-of-type {\n",
       "        vertical-align: middle;\n",
       "    }\n",
       "\n",
       "    .dataframe tbody tr th {\n",
       "        vertical-align: top;\n",
       "    }\n",
       "\n",
       "    .dataframe thead th {\n",
       "        text-align: right;\n",
       "    }\n",
       "</style>\n",
       "<table border=\"1\" class=\"dataframe\">\n",
       "  <thead>\n",
       "    <tr style=\"text-align: right;\">\n",
       "      <th></th>\n",
       "      <th>bathrooms</th>\n",
       "      <th>bedrooms</th>\n",
       "      <th>square_feet</th>\n",
       "      <th>fips</th>\n",
       "      <th>lot_size</th>\n",
       "      <th>pool</th>\n",
       "      <th>zip_code</th>\n",
       "      <th>year_built</th>\n",
       "      <th>latitude</th>\n",
       "      <th>longitude</th>\n",
       "      <th>assessed_value</th>\n",
       "      <th>tax_value</th>\n",
       "      <th>transaction_date</th>\n",
       "      <th>tax_rate</th>\n",
       "      <th>County</th>\n",
       "      <th>log2sf</th>\n",
       "      <th>log2lot_size</th>\n",
       "      <th>log2value</th>\n",
       "      <th>age</th>\n",
       "    </tr>\n",
       "  </thead>\n",
       "  <tbody>\n",
       "    <tr>\n",
       "      <th>7413</th>\n",
       "      <td>3.000</td>\n",
       "      <td>2.000</td>\n",
       "      <td>2143.000</td>\n",
       "      <td>6037</td>\n",
       "      <td>17176</td>\n",
       "      <td>0</td>\n",
       "      <td>399675</td>\n",
       "      <td>1981</td>\n",
       "      <td>34154731.000</td>\n",
       "      <td>-117954681.000</td>\n",
       "      <td>753001.000</td>\n",
       "      <td>9264.780</td>\n",
       "      <td>2017-06-01</td>\n",
       "      <td>0.012</td>\n",
       "      <td>Los Angles</td>\n",
       "      <td>11.065</td>\n",
       "      <td>14.068</td>\n",
       "      <td>19.522</td>\n",
       "      <td>19</td>\n",
       "    </tr>\n",
       "    <tr>\n",
       "      <th>4829</th>\n",
       "      <td>2.000</td>\n",
       "      <td>3.000</td>\n",
       "      <td>1532.000</td>\n",
       "      <td>6037</td>\n",
       "      <td>7547</td>\n",
       "      <td>0</td>\n",
       "      <td>399675</td>\n",
       "      <td>1954</td>\n",
       "      <td>34144897.000</td>\n",
       "      <td>-117953095.000</td>\n",
       "      <td>69537.000</td>\n",
       "      <td>1139.840</td>\n",
       "      <td>2017-05-23</td>\n",
       "      <td>0.016</td>\n",
       "      <td>Los Angles</td>\n",
       "      <td>10.581</td>\n",
       "      <td>12.882</td>\n",
       "      <td>16.085</td>\n",
       "      <td>46</td>\n",
       "    </tr>\n",
       "    <tr>\n",
       "      <th>11841</th>\n",
       "      <td>2.000</td>\n",
       "      <td>3.000</td>\n",
       "      <td>1895.000</td>\n",
       "      <td>6037</td>\n",
       "      <td>15772</td>\n",
       "      <td>1</td>\n",
       "      <td>399675</td>\n",
       "      <td>1962</td>\n",
       "      <td>34153603.000</td>\n",
       "      <td>-117953027.000</td>\n",
       "      <td>719700.000</td>\n",
       "      <td>8945.780</td>\n",
       "      <td>2017-06-21</td>\n",
       "      <td>0.012</td>\n",
       "      <td>Los Angles</td>\n",
       "      <td>10.888</td>\n",
       "      <td>13.945</td>\n",
       "      <td>19.457</td>\n",
       "      <td>38</td>\n",
       "    </tr>\n",
       "    <tr>\n",
       "      <th>2938</th>\n",
       "      <td>6.000</td>\n",
       "      <td>5.000</td>\n",
       "      <td>4698.000</td>\n",
       "      <td>6037</td>\n",
       "      <td>236449</td>\n",
       "      <td>0</td>\n",
       "      <td>399675</td>\n",
       "      <td>1994</td>\n",
       "      <td>34160173.000</td>\n",
       "      <td>-117973852.000</td>\n",
       "      <td>4548320.000</td>\n",
       "      <td>58943.760</td>\n",
       "      <td>2017-05-12</td>\n",
       "      <td>0.013</td>\n",
       "      <td>Los Angles</td>\n",
       "      <td>12.198</td>\n",
       "      <td>17.851</td>\n",
       "      <td>22.117</td>\n",
       "      <td>6</td>\n",
       "    </tr>\n",
       "    <tr>\n",
       "      <th>10886</th>\n",
       "      <td>1.000</td>\n",
       "      <td>2.000</td>\n",
       "      <td>2458.000</td>\n",
       "      <td>6037</td>\n",
       "      <td>210491</td>\n",
       "      <td>0</td>\n",
       "      <td>97344</td>\n",
       "      <td>1967</td>\n",
       "      <td>34609221.000</td>\n",
       "      <td>-117827701.000</td>\n",
       "      <td>284270.000</td>\n",
       "      <td>3496.890</td>\n",
       "      <td>2017-06-16</td>\n",
       "      <td>0.012</td>\n",
       "      <td>Los Angles</td>\n",
       "      <td>11.263</td>\n",
       "      <td>17.683</td>\n",
       "      <td>18.117</td>\n",
       "      <td>33</td>\n",
       "    </tr>\n",
       "    <tr>\n",
       "      <th>...</th>\n",
       "      <td>...</td>\n",
       "      <td>...</td>\n",
       "      <td>...</td>\n",
       "      <td>...</td>\n",
       "      <td>...</td>\n",
       "      <td>...</td>\n",
       "      <td>...</td>\n",
       "      <td>...</td>\n",
       "      <td>...</td>\n",
       "      <td>...</td>\n",
       "      <td>...</td>\n",
       "      <td>...</td>\n",
       "      <td>...</td>\n",
       "      <td>...</td>\n",
       "      <td>...</td>\n",
       "      <td>...</td>\n",
       "      <td>...</td>\n",
       "      <td>...</td>\n",
       "      <td>...</td>\n",
       "    </tr>\n",
       "    <tr>\n",
       "      <th>3762</th>\n",
       "      <td>1.000</td>\n",
       "      <td>2.000</td>\n",
       "      <td>792.000</td>\n",
       "      <td>6037</td>\n",
       "      <td>4862</td>\n",
       "      <td>0</td>\n",
       "      <td>95982</td>\n",
       "      <td>1925</td>\n",
       "      <td>33963103.000</td>\n",
       "      <td>-118238311.000</td>\n",
       "      <td>207778.000</td>\n",
       "      <td>3031.930</td>\n",
       "      <td>2017-05-17</td>\n",
       "      <td>0.015</td>\n",
       "      <td>Los Angles</td>\n",
       "      <td>9.629</td>\n",
       "      <td>12.247</td>\n",
       "      <td>17.665</td>\n",
       "      <td>75</td>\n",
       "    </tr>\n",
       "    <tr>\n",
       "      <th>4206</th>\n",
       "      <td>1.000</td>\n",
       "      <td>2.000</td>\n",
       "      <td>936.000</td>\n",
       "      <td>6037</td>\n",
       "      <td>3823</td>\n",
       "      <td>0</td>\n",
       "      <td>95982</td>\n",
       "      <td>1901</td>\n",
       "      <td>33964168.000</td>\n",
       "      <td>-118234648.000</td>\n",
       "      <td>242083.000</td>\n",
       "      <td>3432.810</td>\n",
       "      <td>2017-05-19</td>\n",
       "      <td>0.014</td>\n",
       "      <td>Los Angles</td>\n",
       "      <td>9.870</td>\n",
       "      <td>11.900</td>\n",
       "      <td>17.885</td>\n",
       "      <td>99</td>\n",
       "    </tr>\n",
       "    <tr>\n",
       "      <th>4580</th>\n",
       "      <td>2.000</td>\n",
       "      <td>3.000</td>\n",
       "      <td>1122.000</td>\n",
       "      <td>6037</td>\n",
       "      <td>5419</td>\n",
       "      <td>0</td>\n",
       "      <td>95982</td>\n",
       "      <td>1914</td>\n",
       "      <td>33985468.000</td>\n",
       "      <td>-118252728.000</td>\n",
       "      <td>216449.000</td>\n",
       "      <td>3182.630</td>\n",
       "      <td>2017-05-22</td>\n",
       "      <td>0.015</td>\n",
       "      <td>Los Angles</td>\n",
       "      <td>10.132</td>\n",
       "      <td>12.404</td>\n",
       "      <td>17.724</td>\n",
       "      <td>86</td>\n",
       "    </tr>\n",
       "    <tr>\n",
       "      <th>14203</th>\n",
       "      <td>2.000</td>\n",
       "      <td>3.000</td>\n",
       "      <td>960.000</td>\n",
       "      <td>6037</td>\n",
       "      <td>3255</td>\n",
       "      <td>0</td>\n",
       "      <td>95982</td>\n",
       "      <td>1925</td>\n",
       "      <td>33972686.000</td>\n",
       "      <td>-118244738.000</td>\n",
       "      <td>29991.000</td>\n",
       "      <td>868.170</td>\n",
       "      <td>2017-06-30</td>\n",
       "      <td>0.029</td>\n",
       "      <td>Los Angles</td>\n",
       "      <td>9.907</td>\n",
       "      <td>11.668</td>\n",
       "      <td>14.872</td>\n",
       "      <td>75</td>\n",
       "    </tr>\n",
       "    <tr>\n",
       "      <th>3748</th>\n",
       "      <td>1.000</td>\n",
       "      <td>2.000</td>\n",
       "      <td>780.000</td>\n",
       "      <td>6037</td>\n",
       "      <td>5738</td>\n",
       "      <td>0</td>\n",
       "      <td>95982</td>\n",
       "      <td>1925</td>\n",
       "      <td>33969106.000</td>\n",
       "      <td>-118256568.000</td>\n",
       "      <td>198820.000</td>\n",
       "      <td>2528.500</td>\n",
       "      <td>2017-05-17</td>\n",
       "      <td>0.013</td>\n",
       "      <td>Los Angles</td>\n",
       "      <td>9.607</td>\n",
       "      <td>12.486</td>\n",
       "      <td>17.601</td>\n",
       "      <td>75</td>\n",
       "    </tr>\n",
       "  </tbody>\n",
       "</table>\n",
       "<p>14873 rows × 19 columns</p>\n",
       "</div>"
      ],
      "text/plain": [
       "       bathrooms  bedrooms  square_feet  fips  lot_size  pool  zip_code  \\\n",
       "7413       3.000     2.000     2143.000  6037     17176     0    399675   \n",
       "4829       2.000     3.000     1532.000  6037      7547     0    399675   \n",
       "11841      2.000     3.000     1895.000  6037     15772     1    399675   \n",
       "2938       6.000     5.000     4698.000  6037    236449     0    399675   \n",
       "10886      1.000     2.000     2458.000  6037    210491     0     97344   \n",
       "...          ...       ...          ...   ...       ...   ...       ...   \n",
       "3762       1.000     2.000      792.000  6037      4862     0     95982   \n",
       "4206       1.000     2.000      936.000  6037      3823     0     95982   \n",
       "4580       2.000     3.000     1122.000  6037      5419     0     95982   \n",
       "14203      2.000     3.000      960.000  6037      3255     0     95982   \n",
       "3748       1.000     2.000      780.000  6037      5738     0     95982   \n",
       "\n",
       "       year_built     latitude      longitude  assessed_value  tax_value  \\\n",
       "7413         1981 34154731.000 -117954681.000      753001.000   9264.780   \n",
       "4829         1954 34144897.000 -117953095.000       69537.000   1139.840   \n",
       "11841        1962 34153603.000 -117953027.000      719700.000   8945.780   \n",
       "2938         1994 34160173.000 -117973852.000     4548320.000  58943.760   \n",
       "10886        1967 34609221.000 -117827701.000      284270.000   3496.890   \n",
       "...           ...          ...            ...             ...        ...   \n",
       "3762         1925 33963103.000 -118238311.000      207778.000   3031.930   \n",
       "4206         1901 33964168.000 -118234648.000      242083.000   3432.810   \n",
       "4580         1914 33985468.000 -118252728.000      216449.000   3182.630   \n",
       "14203        1925 33972686.000 -118244738.000       29991.000    868.170   \n",
       "3748         1925 33969106.000 -118256568.000      198820.000   2528.500   \n",
       "\n",
       "      transaction_date  tax_rate      County  log2sf  log2lot_size  log2value  \\\n",
       "7413        2017-06-01     0.012  Los Angles  11.065        14.068     19.522   \n",
       "4829        2017-05-23     0.016  Los Angles  10.581        12.882     16.085   \n",
       "11841       2017-06-21     0.012  Los Angles  10.888        13.945     19.457   \n",
       "2938        2017-05-12     0.013  Los Angles  12.198        17.851     22.117   \n",
       "10886       2017-06-16     0.012  Los Angles  11.263        17.683     18.117   \n",
       "...                ...       ...         ...     ...           ...        ...   \n",
       "3762        2017-05-17     0.015  Los Angles   9.629        12.247     17.665   \n",
       "4206        2017-05-19     0.014  Los Angles   9.870        11.900     17.885   \n",
       "4580        2017-05-22     0.015  Los Angles  10.132        12.404     17.724   \n",
       "14203       2017-06-30     0.029  Los Angles   9.907        11.668     14.872   \n",
       "3748        2017-05-17     0.013  Los Angles   9.607        12.486     17.601   \n",
       "\n",
       "       age  \n",
       "7413    19  \n",
       "4829    46  \n",
       "11841   38  \n",
       "2938     6  \n",
       "10886   33  \n",
       "...    ...  \n",
       "3762    75  \n",
       "4206    99  \n",
       "4580    86  \n",
       "14203   75  \n",
       "3748    75  \n",
       "\n",
       "[14873 rows x 19 columns]"
      ]
     },
     "execution_count": 119,
     "metadata": {},
     "output_type": "execute_result"
    }
   ],
   "source": [
    "df.sort_values(by= 'zip_code', ascending = False)"
   ]
  },
  {
   "cell_type": "code",
   "execution_count": 92,
   "metadata": {},
   "outputs": [],
   "source": [
    "train, test = train_test_split(df, train_size = .70, random_state = 100)"
   ]
  },
  {
   "cell_type": "code",
   "execution_count": null,
   "metadata": {},
   "outputs": [],
   "source": []
  },
  {
   "cell_type": "code",
   "execution_count": 93,
   "metadata": {},
   "outputs": [],
   "source": [
    "X_train3 = train[['bedrooms', 'bathrooms', 'log2sf', 'log2lot_size', 'age']]\n",
    "X_test3 = test[['bedrooms', 'bathrooms', 'log2sf' , 'log2lot_size', 'age']]"
   ]
  },
  {
   "cell_type": "code",
   "execution_count": 94,
   "metadata": {},
   "outputs": [],
   "source": [
    "y_train3 = train[['log2value',]]\n",
    "y_test3 = test[['log2value']]"
   ]
  },
  {
   "cell_type": "code",
   "execution_count": 95,
   "metadata": {},
   "outputs": [
    {
     "data": {
      "text/html": [
       "<div>\n",
       "<style scoped>\n",
       "    .dataframe tbody tr th:only-of-type {\n",
       "        vertical-align: middle;\n",
       "    }\n",
       "\n",
       "    .dataframe tbody tr th {\n",
       "        vertical-align: top;\n",
       "    }\n",
       "\n",
       "    .dataframe thead th {\n",
       "        text-align: right;\n",
       "    }\n",
       "</style>\n",
       "<table border=\"1\" class=\"dataframe\">\n",
       "  <thead>\n",
       "    <tr style=\"text-align: right;\">\n",
       "      <th></th>\n",
       "      <th>log2value</th>\n",
       "    </tr>\n",
       "  </thead>\n",
       "  <tbody>\n",
       "    <tr>\n",
       "      <th>11938</th>\n",
       "      <td>18.035</td>\n",
       "    </tr>\n",
       "    <tr>\n",
       "      <th>790</th>\n",
       "      <td>16.548</td>\n",
       "    </tr>\n",
       "  </tbody>\n",
       "</table>\n",
       "</div>"
      ],
      "text/plain": [
       "       log2value\n",
       "11938     18.035\n",
       "790       16.548"
      ]
     },
     "execution_count": 95,
     "metadata": {},
     "output_type": "execute_result"
    }
   ],
   "source": [
    "y_train3.head(2)"
   ]
  },
  {
   "cell_type": "code",
   "execution_count": 96,
   "metadata": {},
   "outputs": [],
   "source": [
    "lm = LinearRegression()"
   ]
  },
  {
   "cell_type": "code",
   "execution_count": 97,
   "metadata": {},
   "outputs": [],
   "source": [
    "rfe = RFE(lm, 2)"
   ]
  },
  {
   "cell_type": "code",
   "execution_count": 98,
   "metadata": {},
   "outputs": [],
   "source": [
    "X_rfe = rfe.fit_transform(X_train3,y_train3)"
   ]
  },
  {
   "cell_type": "code",
   "execution_count": 99,
   "metadata": {},
   "outputs": [
    {
     "data": {
      "text/plain": [
       "array([[ 3.        , 11.05663772],\n",
       "       [ 2.        , 10.73555602],\n",
       "       [ 2.        , 10.97584797],\n",
       "       ...,\n",
       "       [ 2.        , 10.50481899],\n",
       "       [ 2.5       , 11.31910758],\n",
       "       [ 2.        , 10.52160044]])"
      ]
     },
     "execution_count": 99,
     "metadata": {},
     "output_type": "execute_result"
    }
   ],
   "source": [
    "X_rfe"
   ]
  },
  {
   "cell_type": "code",
   "execution_count": 100,
   "metadata": {},
   "outputs": [
    {
     "name": "stdout",
     "output_type": "stream",
     "text": [
      "selected 2 features: bathrooms, log2sf\n"
     ]
    }
   ],
   "source": [
    "mask = rfe.support_\n",
    "\n",
    "# select the column names of the features that were selected and convert them to a list for future use. \n",
    "rfe_features = X_train3.columns[mask]\n",
    "\n",
    "# print them out here for our reference\n",
    "print(f'selected {len(rfe_features)} features:', ', '.join(rfe_features))"
   ]
  },
  {
   "cell_type": "code",
   "execution_count": 101,
   "metadata": {},
   "outputs": [],
   "source": [
    "lm = LinearRegression()"
   ]
  },
  {
   "cell_type": "code",
   "execution_count": 102,
   "metadata": {},
   "outputs": [
    {
     "data": {
      "text/plain": [
       "LinearRegression(copy_X=True, fit_intercept=True, n_jobs=None, normalize=False)"
      ]
     },
     "execution_count": 102,
     "metadata": {},
     "output_type": "execute_result"
    }
   ],
   "source": [
    "lm.fit(X_rfe, y_train3)"
   ]
  },
  {
   "cell_type": "code",
   "execution_count": 103,
   "metadata": {},
   "outputs": [],
   "source": [
    "predictions1 = y_train3.copy()"
   ]
  },
  {
   "cell_type": "code",
   "execution_count": 104,
   "metadata": {},
   "outputs": [],
   "source": [
    "predictions1['y_log_lm'] = lm.predict(X_rfe)"
   ]
  },
  {
   "cell_type": "code",
   "execution_count": 105,
   "metadata": {},
   "outputs": [],
   "source": [
    "predictions1['median_bl'] = y_train3.log2value.median()"
   ]
  },
  {
   "cell_type": "code",
   "execution_count": null,
   "metadata": {},
   "outputs": [],
   "source": [
    "predictions1.head()"
   ]
  },
  {
   "cell_type": "code",
   "execution_count": null,
   "metadata": {},
   "outputs": [],
   "source": [
    "predictions1['actual'] = train['assessed_value']"
   ]
  },
  {
   "cell_type": "code",
   "execution_count": null,
   "metadata": {},
   "outputs": [],
   "source": [
    "predictions1['calculated'] = 2**predictions1.y_log_lm"
   ]
  },
  {
   "cell_type": "code",
   "execution_count": null,
   "metadata": {},
   "outputs": [],
   "source": [
    "predictions1"
   ]
  },
  {
   "cell_type": "code",
   "execution_count": null,
   "metadata": {},
   "outputs": [],
   "source": [
    "#sns.scatterplot(x= 'actual', y = 'calculated', data = predictions1)\n",
    "f, (ax0, ax1) = plt.subplots(1, 2, sharey=True)\n",
    "ax1.scatter(predictions1.actual, predictions1.calculated)\n",
    "ax1.plot([0, 6000000], [0, 6000000], '--k')\n",
    "ax1.set_ylabel('Target predicted')\n",
    "ax1.set_xlabel('True Target')\n",
    "ax1.set_title('Ridge regression \\n with target transformation')\n",
    "ax1.text(1, 4000000, r'$R^2$=%.2f, MAE=%.2f' % (\n",
    "    r2_score(predictions1.actual, predictions1.calculated), median_absolute_error(predictions1.actual, predictions1.calculated)))\n",
    "ax1.set_xlim([0, 6000000])\n",
    "ax1.set_ylim([0, 6000000])"
   ]
  },
  {
   "cell_type": "code",
   "execution_count": null,
   "metadata": {},
   "outputs": [],
   "source": [
    "evaluate.plot_residuals(predictions1.log2value, predictions1.y_log_lm, predictions1)"
   ]
  },
  {
   "cell_type": "code",
   "execution_count": null,
   "metadata": {},
   "outputs": [],
   "source": [
    "evaluate.plot_residuals(predictions1.log2value, predictions1.median_bl, predictions1)"
   ]
  },
  {
   "cell_type": "code",
   "execution_count": null,
   "metadata": {},
   "outputs": [],
   "source": [
    "from sklearn.metrics import median_absolute_error\n",
    "predictions1.apply(lambda col: median_absolute_error(predictions1.log2value, col))"
   ]
  },
  {
   "cell_type": "code",
   "execution_count": null,
   "metadata": {},
   "outputs": [],
   "source": [
    "y_train3.log2value.median()"
   ]
  },
  {
   "cell_type": "code",
   "execution_count": null,
   "metadata": {},
   "outputs": [],
   "source": [
    "2**y_train3.log2value.median()"
   ]
  },
  {
   "cell_type": "code",
   "execution_count": null,
   "metadata": {},
   "outputs": [],
   "source": [
    "2**0.733594"
   ]
  },
  {
   "cell_type": "code",
   "execution_count": null,
   "metadata": {},
   "outputs": [],
   "source": [
    "2**0.814753"
   ]
  },
  {
   "cell_type": "markdown",
   "metadata": {},
   "source": [
    "# lets transform y variable too"
   ]
  },
  {
   "cell_type": "code",
   "execution_count": null,
   "metadata": {},
   "outputs": [],
   "source": [
    "df.head(2)"
   ]
  },
  {
   "cell_type": "code",
   "execution_count": null,
   "metadata": {},
   "outputs": [],
   "source": [
    "plt.hist(df.assessed_value, density=False, bins =[0, 500000, 1000000, 2000000, 3000000, 4000000])  # `density=False` would make counts\n",
    "plt.ylabel('probability')\n",
    "plt.xlabel('assessed_value')"
   ]
  },
  {
   "cell_type": "code",
   "execution_count": null,
   "metadata": {},
   "outputs": [],
   "source": [
    "y = df[['assessed_value']]\n",
    "#y = np.exp((y + abs(y.min())) / 200)\n",
    "#y_trans = np.log1p(y)"
   ]
  },
  {
   "cell_type": "code",
   "execution_count": null,
   "metadata": {},
   "outputs": [],
   "source": [
    "y_trans = quantile_transform(y,\n",
    "                             n_quantiles=300,\n",
    "                             output_distribution='normal',\n",
    "                             copy=True).squeeze()"
   ]
  },
  {
   "cell_type": "code",
   "execution_count": null,
   "metadata": {},
   "outputs": [],
   "source": [
    "plt.hist(y_trans, density=False, bins =100)  # `density=False` would make counts\n",
    "plt.ylabel('probability')\n",
    "plt.xlabel('assessed_value')"
   ]
  },
  {
   "cell_type": "code",
   "execution_count": null,
   "metadata": {},
   "outputs": [],
   "source": [
    "train, test = train_test_split(df, train_size=.80, random_state=123)"
   ]
  },
  {
   "cell_type": "code",
   "execution_count": null,
   "metadata": {},
   "outputs": [],
   "source": [
    "X_train3 = train[['bedrooms', 'bathrooms', 'log2sf', 'log2lot_size', 'age']]\n",
    "X_test3 = test[[ 'bedrooms','bathrooms', 'log2sf' , 'log2lot_size' ,'age']]\n",
    "y_train3 = train[['assessed_value']]\n",
    "y_test3 = test[['assessed_value']]"
   ]
  },
  {
   "cell_type": "code",
   "execution_count": null,
   "metadata": {},
   "outputs": [],
   "source": [
    "from sklearn.linear_model import RidgeCV\n",
    "from sklearn.compose import TransformedTargetRegressor\n",
    "from sklearn.metrics import median_absolute_error, r2_score"
   ]
  },
  {
   "cell_type": "code",
   "execution_count": null,
   "metadata": {},
   "outputs": [],
   "source": [
    "f, (ax0, ax1) = plt.subplots(1, 2, sharey=True)\n",
    "\n",
    "regr = RidgeCV()\n",
    "regr.fit(X_train3, y_train3)\n",
    "y_pred = regr.predict(X_train3)\n",
    "\n",
    "ax0.scatter(y_train3, y_pred)\n",
    "ax0.plot([0, 5000000], [0, 5000000], '--k')\n",
    "ax0.set_ylabel('Target predicted')\n",
    "ax0.set_xlabel('True Target')\n",
    "ax0.set_title('Ridge regression \\n without target transformation')\n",
    "ax0.text(1, 4000000, r'$R^2$=%.2f, MAE=%.2f' % (\n",
    "    r2_score(y_train3, y_pred), median_absolute_error(y_train3, y_pred)))\n",
    "ax0.set_xlim([0, 5000000])\n",
    "ax0.set_ylim([0, 5000000])\n",
    "\n",
    "regr_trans = TransformedTargetRegressor(\n",
    "    regressor=RidgeCV(),\n",
    "    transformer=QuantileTransformer(n_quantiles=300,\n",
    "                                    output_distribution='normal'))\n",
    "regr_trans.fit(X_train3, y_train3)\n",
    "y_pred = regr_trans.predict(X_train3)\n",
    "\n",
    "ax1.scatter(y_train3, y_pred)\n",
    "ax1.plot([0, 5000000], [0, 5000000], '--k')\n",
    "ax1.set_ylabel('Target predicted')\n",
    "ax1.set_xlabel('True Target')\n",
    "ax1.set_title('Ridge regression \\n with target transformation')\n",
    "ax1.text(1, 4000000, r'$R^2$=%.2f, MAE=%.2f' % (\n",
    "    r2_score(y_train3, y_pred), median_absolute_error(y_train3, y_pred)))\n",
    "ax1.set_xlim([0, 5000000])\n",
    "ax1.set_ylim([0, 5000000])\n",
    "\n",
    "#f.suptitle(\"Boston housing data: distance to employment centers\", y=0.035)\n",
    "f.tight_layout(rect=[0.05, 0.05, 0.95, 0.95])\n",
    "\n",
    "plt.show()"
   ]
  },
  {
   "cell_type": "code",
   "execution_count": null,
   "metadata": {},
   "outputs": [],
   "source": []
  },
  {
   "cell_type": "code",
   "execution_count": null,
   "metadata": {},
   "outputs": [],
   "source": [
    "train, test = train_test_split(df, train_size=.80, random_state=123)"
   ]
  },
  {
   "cell_type": "code",
   "execution_count": null,
   "metadata": {},
   "outputs": [],
   "source": [
    "X_train4 = train[['bathrooms', 'log2sf']][train.assessed_value<500000]\n",
    "y_train4 = train[['log2value']][train.assessed_value<500000]"
   ]
  },
  {
   "cell_type": "code",
   "execution_count": null,
   "metadata": {},
   "outputs": [],
   "source": [
    "#X_train4 = [train.assessed_value<1000000].train[['bedrooms', 'bathrooms', 'log2sf', 'log2lot_size', 'age']]\n",
    "X_test4 = test[[ 'bathrooms', 'log2sf']]\n",
    "#y_train4 = train[['assessed_value']]\n",
    "y_test4 = test[['log2value']]"
   ]
  },
  {
   "cell_type": "code",
   "execution_count": null,
   "metadata": {},
   "outputs": [],
   "source": [
    "X_train4.info()"
   ]
  },
  {
   "cell_type": "code",
   "execution_count": null,
   "metadata": {},
   "outputs": [],
   "source": [
    "f, (ax0, ax1) = plt.subplots(1, 2, sharey=True)\n",
    "\n",
    "# regr = RidgeCV()\n",
    "# regr.fit(X_train4, y_train4)\n",
    "# y_pred = regr.predict(X_train4)\n",
    "\n",
    "# ax0.scatter(y_train4, y_pred)\n",
    "# ax0.plot([0, 5000000], [0, 5000000], '--k')\n",
    "# ax0.set_ylabel('Target predicted')\n",
    "# ax0.set_xlabel('True Target')\n",
    "# ax0.set_title('Ridge regression \\n without target transformation')\n",
    "# ax0.text(1, 4000000, r'$R^2$=%.2f, MAE=%.2f' % (\n",
    "#     r2_score(y_train4, y_pred), median_absolute_error(y_train4, y_pred)))\n",
    "# ax0.set_xlim([0, 5000000])\n",
    "# ax0.set_ylim([0, 5000000])\n",
    "\n",
    "regr_trans = TransformedTargetRegressor(\n",
    "    regressor=RidgeCV(),\n",
    "    transformer=QuantileTransformer(n_quantiles=300,\n",
    "                                    output_distribution='normal'))\n",
    "regr_trans.fit(X_train4, y_train4)\n",
    "y_pred = regr_trans.predict(X_train4)\n",
    "\n",
    "ax1.scatter(y_train4, y_pred)\n",
    "ax1.plot([0, 5000000], [0, 5000000], '--k')\n",
    "ax1.set_ylabel('Target predicted')\n",
    "ax1.set_xlabel('True Target')\n",
    "ax1.set_title('Ridge regression \\n with target transformation')\n",
    "ax1.text(1, 4000000, r'$R^2$=%.2f, MAE=%.2f' % (\n",
    "    r2_score(y_train4, y_pred), median_absolute_error(y_train4, y_pred)))\n",
    "ax1.set_xlim([0, 5000000])\n",
    "ax1.set_ylim([0, 5000000])\n",
    "\n",
    "#f.suptitle(\"Boston housing data: distance to employment centers\", y=0.035)\n",
    "#f.tight_layout(rect=[0.05, 0.05, 0.95, 0.95])\n",
    "\n",
    "plt.show()"
   ]
  },
  {
   "cell_type": "code",
   "execution_count": null,
   "metadata": {},
   "outputs": [],
   "source": [
    "f, (ax0, ax1) = plt.subplots(1, 2, sharey=True)\n",
    "\n",
    "#regr_trans.fit(X_test4, y_test4)\n",
    "y_pred = regr_trans.predict(X_test4)\n",
    "\n",
    "ax1.scatter(y_test4, y_pred)\n",
    "ax1.plot([0, 50], [0, 50], '--k')\n",
    "ax1.set_ylabel('Target predicted')\n",
    "ax1.set_xlabel('True Target')\n",
    "ax1.set_title('Ridge regression \\n with target transformation')\n",
    "ax1.text(1, 4, r'$R^2$=%.2f, MAE=%.2f' % (\n",
    "    r2_score(y_test4, y_pred), median_absolute_error(y_test4, y_pred)))\n",
    "ax1.set_xlim([0, 50])\n",
    "ax1.set_ylim([0, 50])\n",
    "\n",
    "#f.suptitle(\"Boston housing data: distance to employment centers\", y=0.035)\n",
    "#f.tight_layout(rect=[0.05, 0.05, 0.95, 0.95])\n",
    "\n",
    "plt.show()"
   ]
  },
  {
   "cell_type": "code",
   "execution_count": null,
   "metadata": {},
   "outputs": [],
   "source": [
    "df.log2value.min()"
   ]
  },
  {
   "cell_type": "code",
   "execution_count": null,
   "metadata": {},
   "outputs": [],
   "source": [
    "df.log2value.max()"
   ]
  },
  {
   "cell_type": "code",
   "execution_count": null,
   "metadata": {},
   "outputs": [],
   "source": [
    "2**df.log2value.min()"
   ]
  },
  {
   "cell_type": "code",
   "execution_count": null,
   "metadata": {},
   "outputs": [],
   "source": [
    "2**df.log2value.max()"
   ]
  },
  {
   "cell_type": "code",
   "execution_count": null,
   "metadata": {},
   "outputs": [],
   "source": [
    "2**y_pred"
   ]
  },
  {
   "cell_type": "code",
   "execution_count": null,
   "metadata": {},
   "outputs": [],
   "source": [
    "test.assessed_value"
   ]
  },
  {
   "cell_type": "code",
   "execution_count": null,
   "metadata": {},
   "outputs": [],
   "source": [
    "f, (ax0, ax1) = plt.subplots(1, 2, sharey=True)\n",
    "#regr_trans.fit(X_test4, y_test4)\n",
    "#y_pred = regr_trans.predict(X_test4)\n",
    "\n",
    "ax1.scatter(test.assessed_value, 2**y_pred)\n",
    "ax1.plot([0, 1000000], [0, 1000000], '--k')\n",
    "ax1.set_ylabel('Target predicted')\n",
    "ax1.set_xlabel('True Target')\n",
    "ax1.set_title('Ridge regression \\n with target transformation')\n",
    "ax1.text(1, 4, r'$R^2$=%.2f, MAE=%.2f' % (\n",
    "    r2_score(test.assessed_value, 2**y_pred), median_absolute_error(test.assessed_value, 2**y_pred)))\n",
    "ax1.set_xlim([0, 1000000])\n",
    "ax1.set_ylim([0, 1000000])\n",
    "\n",
    "#f.suptitle(\"Boston housing data: distance to employment centers\", y=0.035)\n",
    "#f.tight_layout(rect=[0.05, 0.05, 0.95, 0.95])\n",
    "\n",
    "plt.show()"
   ]
  },
  {
   "cell_type": "markdown",
   "metadata": {},
   "source": [
    "# Even with transforming target on log scale, there is no improvement in MAE"
   ]
  },
  {
   "cell_type": "markdown",
   "metadata": {},
   "source": [
    "Lets look at effect of pool on home value"
   ]
  },
  {
   "cell_type": "code",
   "execution_count": null,
   "metadata": {},
   "outputs": [],
   "source": [
    "sns.scatterplot(x='pool', y = 'assessed_value', data=df)"
   ]
  },
  {
   "cell_type": "code",
   "execution_count": null,
   "metadata": {},
   "outputs": [],
   "source": []
  }
 ],
 "metadata": {
  "kernelspec": {
   "display_name": "Python 3",
   "language": "python",
   "name": "python3"
  },
  "language_info": {
   "codemirror_mode": {
    "name": "ipython",
    "version": 3
   },
   "file_extension": ".py",
   "mimetype": "text/x-python",
   "name": "python",
   "nbconvert_exporter": "python",
   "pygments_lexer": "ipython3",
   "version": "3.7.4"
  }
 },
 "nbformat": 4,
 "nbformat_minor": 2
}
