{
 "cells": [
  {
   "cell_type": "markdown",
   "metadata": {},
   "source": [
    "Deliverables\n",
    "\n",
    "\n",
    "\n",
    "1. A report (in the form of a presentation, both verbal and through a slides)\n",
    "\n",
    "\n",
    "2. A github repository containing your jupyter notebook that walks through the pipeline along with the .py files necessary to reproduce your model.\n",
    "\n"
   ]
  },
  {
   "cell_type": "code",
   "execution_count": 1,
   "metadata": {},
   "outputs": [],
   "source": [
    "import wrangle\n",
    "import pandas as pd\n",
    "import numpy as np\n",
    "import evaluate\n",
    "import explore\n",
    "import matplotlib.pyplot as plt\n",
    "import seaborn as sns; sns.set()\n",
    "from sklearn.model_selection import train_test_split\n",
    "import warnings\n",
    "warnings.filterwarnings(\"ignore\")\n",
    "from statsmodels.formula.api import ols\n",
    "from sklearn.linear_model import LinearRegression\n",
    "from sklearn.metrics import mean_squared_error, explained_variance_score\n",
    "from scipy import stats\n",
    "import split_scale\n",
    "import feature_selection\n",
    "from sklearn.linear_model import LinearRegression\n",
    "from sklearn.feature_selection import RFE\n",
    "from sklearn.preprocessing import QuantileTransformer, quantile_transform\n",
    "from sklearn.metrics import median_absolute_error, r2_score"
   ]
  },
  {
   "cell_type": "code",
   "execution_count": 2,
   "metadata": {},
   "outputs": [],
   "source": [
    "#use wrangle.py to import data from mySQL\n",
    "df =wrangle.get_data_from_sql()"
   ]
  },
  {
   "cell_type": "code",
   "execution_count": 3,
   "metadata": {},
   "outputs": [
    {
     "data": {
      "text/html": [
       "<div>\n",
       "<style scoped>\n",
       "    .dataframe tbody tr th:only-of-type {\n",
       "        vertical-align: middle;\n",
       "    }\n",
       "\n",
       "    .dataframe tbody tr th {\n",
       "        vertical-align: top;\n",
       "    }\n",
       "\n",
       "    .dataframe thead th {\n",
       "        text-align: right;\n",
       "    }\n",
       "</style>\n",
       "<table border=\"1\" class=\"dataframe\">\n",
       "  <thead>\n",
       "    <tr style=\"text-align: right;\">\n",
       "      <th></th>\n",
       "      <th>bathrooms</th>\n",
       "      <th>bedrooms</th>\n",
       "      <th>square_feet</th>\n",
       "      <th>fips</th>\n",
       "      <th>lot_size</th>\n",
       "      <th>pool</th>\n",
       "      <th>zip_code</th>\n",
       "      <th>year_built</th>\n",
       "      <th>latitude</th>\n",
       "      <th>longitude</th>\n",
       "      <th>assessed_value</th>\n",
       "      <th>tax_value</th>\n",
       "      <th>transaction_date</th>\n",
       "    </tr>\n",
       "  </thead>\n",
       "  <tbody>\n",
       "    <tr>\n",
       "      <th>0</th>\n",
       "      <td>2.0</td>\n",
       "      <td>3.0</td>\n",
       "      <td>1458.0</td>\n",
       "      <td>6037.0</td>\n",
       "      <td>8284.0</td>\n",
       "      <td>1.0</td>\n",
       "      <td>97318.0</td>\n",
       "      <td>1970.0</td>\n",
       "      <td>34686163.0</td>\n",
       "      <td>-118113100.0</td>\n",
       "      <td>136104.0</td>\n",
       "      <td>2319.90</td>\n",
       "      <td>2017-06-23</td>\n",
       "    </tr>\n",
       "    <tr>\n",
       "      <th>1</th>\n",
       "      <td>1.0</td>\n",
       "      <td>2.0</td>\n",
       "      <td>1421.0</td>\n",
       "      <td>6037.0</td>\n",
       "      <td>6707.0</td>\n",
       "      <td>NaN</td>\n",
       "      <td>96018.0</td>\n",
       "      <td>1911.0</td>\n",
       "      <td>33999877.0</td>\n",
       "      <td>-118291863.0</td>\n",
       "      <td>35606.0</td>\n",
       "      <td>543.69</td>\n",
       "      <td>2017-06-30</td>\n",
       "    </tr>\n",
       "    <tr>\n",
       "      <th>2</th>\n",
       "      <td>3.0</td>\n",
       "      <td>4.0</td>\n",
       "      <td>2541.0</td>\n",
       "      <td>6059.0</td>\n",
       "      <td>4975.0</td>\n",
       "      <td>NaN</td>\n",
       "      <td>96958.0</td>\n",
       "      <td>2003.0</td>\n",
       "      <td>33694636.0</td>\n",
       "      <td>-117912245.0</td>\n",
       "      <td>880456.0</td>\n",
       "      <td>9819.72</td>\n",
       "      <td>2017-06-01</td>\n",
       "    </tr>\n",
       "    <tr>\n",
       "      <th>3</th>\n",
       "      <td>2.0</td>\n",
       "      <td>3.0</td>\n",
       "      <td>1650.0</td>\n",
       "      <td>6037.0</td>\n",
       "      <td>7300.0</td>\n",
       "      <td>NaN</td>\n",
       "      <td>96037.0</td>\n",
       "      <td>1949.0</td>\n",
       "      <td>33985377.0</td>\n",
       "      <td>-118361620.0</td>\n",
       "      <td>614000.0</td>\n",
       "      <td>7673.19</td>\n",
       "      <td>2017-06-01</td>\n",
       "    </tr>\n",
       "    <tr>\n",
       "      <th>4</th>\n",
       "      <td>1.0</td>\n",
       "      <td>2.0</td>\n",
       "      <td>693.0</td>\n",
       "      <td>6037.0</td>\n",
       "      <td>2908.0</td>\n",
       "      <td>NaN</td>\n",
       "      <td>96023.0</td>\n",
       "      <td>1921.0</td>\n",
       "      <td>34112946.0</td>\n",
       "      <td>-118208106.0</td>\n",
       "      <td>274237.0</td>\n",
       "      <td>3267.47</td>\n",
       "      <td>2017-06-29</td>\n",
       "    </tr>\n",
       "  </tbody>\n",
       "</table>\n",
       "</div>"
      ],
      "text/plain": [
       "   bathrooms  bedrooms  square_feet    fips  lot_size  pool  zip_code  \\\n",
       "0        2.0       3.0       1458.0  6037.0    8284.0   1.0   97318.0   \n",
       "1        1.0       2.0       1421.0  6037.0    6707.0   NaN   96018.0   \n",
       "2        3.0       4.0       2541.0  6059.0    4975.0   NaN   96958.0   \n",
       "3        2.0       3.0       1650.0  6037.0    7300.0   NaN   96037.0   \n",
       "4        1.0       2.0        693.0  6037.0    2908.0   NaN   96023.0   \n",
       "\n",
       "   year_built    latitude    longitude  assessed_value  tax_value  \\\n",
       "0      1970.0  34686163.0 -118113100.0        136104.0    2319.90   \n",
       "1      1911.0  33999877.0 -118291863.0         35606.0     543.69   \n",
       "2      2003.0  33694636.0 -117912245.0        880456.0    9819.72   \n",
       "3      1949.0  33985377.0 -118361620.0        614000.0    7673.19   \n",
       "4      1921.0  34112946.0 -118208106.0        274237.0    3267.47   \n",
       "\n",
       "  transaction_date  \n",
       "0       2017-06-23  \n",
       "1       2017-06-30  \n",
       "2       2017-06-01  \n",
       "3       2017-06-01  \n",
       "4       2017-06-29  "
      ]
     },
     "execution_count": 3,
     "metadata": {},
     "output_type": "execute_result"
    }
   ],
   "source": [
    "# check DF head\n",
    "df.head()"
   ]
  },
  {
   "cell_type": "code",
   "execution_count": 4,
   "metadata": {},
   "outputs": [
    {
     "data": {
      "text/html": [
       "<div>\n",
       "<style scoped>\n",
       "    .dataframe tbody tr th:only-of-type {\n",
       "        vertical-align: middle;\n",
       "    }\n",
       "\n",
       "    .dataframe tbody tr th {\n",
       "        vertical-align: top;\n",
       "    }\n",
       "\n",
       "    .dataframe thead th {\n",
       "        text-align: right;\n",
       "    }\n",
       "</style>\n",
       "<table border=\"1\" class=\"dataframe\">\n",
       "  <thead>\n",
       "    <tr style=\"text-align: right;\">\n",
       "      <th></th>\n",
       "      <th>bathrooms</th>\n",
       "      <th>bedrooms</th>\n",
       "      <th>square_feet</th>\n",
       "      <th>fips</th>\n",
       "      <th>lot_size</th>\n",
       "      <th>pool</th>\n",
       "      <th>zip_code</th>\n",
       "      <th>year_built</th>\n",
       "      <th>latitude</th>\n",
       "      <th>longitude</th>\n",
       "      <th>assessed_value</th>\n",
       "      <th>tax_value</th>\n",
       "      <th>transaction_date</th>\n",
       "    </tr>\n",
       "  </thead>\n",
       "  <tbody>\n",
       "    <tr>\n",
       "      <th>14985</th>\n",
       "      <td>3.0</td>\n",
       "      <td>5.0</td>\n",
       "      <td>2526.0</td>\n",
       "      <td>6059.0</td>\n",
       "      <td>7800.0</td>\n",
       "      <td>1.0</td>\n",
       "      <td>97018.0</td>\n",
       "      <td>1994.0</td>\n",
       "      <td>33753643.0</td>\n",
       "      <td>-117766503.0</td>\n",
       "      <td>458903.0</td>\n",
       "      <td>5718.72</td>\n",
       "      <td>2017-06-30</td>\n",
       "    </tr>\n",
       "    <tr>\n",
       "      <th>14986</th>\n",
       "      <td>3.0</td>\n",
       "      <td>5.0</td>\n",
       "      <td>2735.0</td>\n",
       "      <td>6059.0</td>\n",
       "      <td>7100.0</td>\n",
       "      <td>1.0</td>\n",
       "      <td>97067.0</td>\n",
       "      <td>1963.0</td>\n",
       "      <td>33783173.0</td>\n",
       "      <td>-117817799.0</td>\n",
       "      <td>115387.0</td>\n",
       "      <td>1465.88</td>\n",
       "      <td>2017-06-30</td>\n",
       "    </tr>\n",
       "    <tr>\n",
       "      <th>14987</th>\n",
       "      <td>2.0</td>\n",
       "      <td>3.0</td>\n",
       "      <td>1536.0</td>\n",
       "      <td>6037.0</td>\n",
       "      <td>8818.0</td>\n",
       "      <td>1.0</td>\n",
       "      <td>96523.0</td>\n",
       "      <td>1955.0</td>\n",
       "      <td>34058178.0</td>\n",
       "      <td>-117948180.0</td>\n",
       "      <td>297097.0</td>\n",
       "      <td>3519.78</td>\n",
       "      <td>2017-06-30</td>\n",
       "    </tr>\n",
       "    <tr>\n",
       "      <th>14988</th>\n",
       "      <td>3.0</td>\n",
       "      <td>5.0</td>\n",
       "      <td>2655.0</td>\n",
       "      <td>6059.0</td>\n",
       "      <td>6000.0</td>\n",
       "      <td>NaN</td>\n",
       "      <td>97065.0</td>\n",
       "      <td>1994.0</td>\n",
       "      <td>33836898.0</td>\n",
       "      <td>-117801369.0</td>\n",
       "      <td>746963.0</td>\n",
       "      <td>8065.50</td>\n",
       "      <td>2017-06-30</td>\n",
       "    </tr>\n",
       "    <tr>\n",
       "      <th>14989</th>\n",
       "      <td>3.0</td>\n",
       "      <td>4.0</td>\n",
       "      <td>2305.0</td>\n",
       "      <td>6037.0</td>\n",
       "      <td>5742.0</td>\n",
       "      <td>NaN</td>\n",
       "      <td>96129.0</td>\n",
       "      <td>1949.0</td>\n",
       "      <td>33952368.0</td>\n",
       "      <td>-118441155.0</td>\n",
       "      <td>579047.0</td>\n",
       "      <td>6996.21</td>\n",
       "      <td>2017-06-30</td>\n",
       "    </tr>\n",
       "  </tbody>\n",
       "</table>\n",
       "</div>"
      ],
      "text/plain": [
       "       bathrooms  bedrooms  square_feet    fips  lot_size  pool  zip_code  \\\n",
       "14985        3.0       5.0       2526.0  6059.0    7800.0   1.0   97018.0   \n",
       "14986        3.0       5.0       2735.0  6059.0    7100.0   1.0   97067.0   \n",
       "14987        2.0       3.0       1536.0  6037.0    8818.0   1.0   96523.0   \n",
       "14988        3.0       5.0       2655.0  6059.0    6000.0   NaN   97065.0   \n",
       "14989        3.0       4.0       2305.0  6037.0    5742.0   NaN   96129.0   \n",
       "\n",
       "       year_built    latitude    longitude  assessed_value  tax_value  \\\n",
       "14985      1994.0  33753643.0 -117766503.0        458903.0    5718.72   \n",
       "14986      1963.0  33783173.0 -117817799.0        115387.0    1465.88   \n",
       "14987      1955.0  34058178.0 -117948180.0        297097.0    3519.78   \n",
       "14988      1994.0  33836898.0 -117801369.0        746963.0    8065.50   \n",
       "14989      1949.0  33952368.0 -118441155.0        579047.0    6996.21   \n",
       "\n",
       "      transaction_date  \n",
       "14985       2017-06-30  \n",
       "14986       2017-06-30  \n",
       "14987       2017-06-30  \n",
       "14988       2017-06-30  \n",
       "14989       2017-06-30  "
      ]
     },
     "execution_count": 4,
     "metadata": {},
     "output_type": "execute_result"
    }
   ],
   "source": [
    "# check DF tail\n",
    "df.tail()"
   ]
  },
  {
   "cell_type": "code",
   "execution_count": 5,
   "metadata": {},
   "outputs": [
    {
     "name": "stdout",
     "output_type": "stream",
     "text": [
      "<class 'pandas.core.frame.DataFrame'>\n",
      "RangeIndex: 14990 entries, 0 to 14989\n",
      "Data columns (total 13 columns):\n",
      "bathrooms           14990 non-null float64\n",
      "bedrooms            14990 non-null float64\n",
      "square_feet         14990 non-null float64\n",
      "fips                14990 non-null float64\n",
      "lot_size            14893 non-null float64\n",
      "pool                3287 non-null float64\n",
      "zip_code            14982 non-null float64\n",
      "year_built          14974 non-null float64\n",
      "latitude            14990 non-null float64\n",
      "longitude           14990 non-null float64\n",
      "assessed_value      14990 non-null float64\n",
      "tax_value           14989 non-null float64\n",
      "transaction_date    14990 non-null object\n",
      "dtypes: float64(12), object(1)\n",
      "memory usage: 1.5+ MB\n"
     ]
    }
   ],
   "source": [
    "# there are null values in lot_size, pool, zip_code, year_built and tax-value\n",
    "df.info()"
   ]
  },
  {
   "cell_type": "code",
   "execution_count": 6,
   "metadata": {
    "scrolled": true
   },
   "outputs": [],
   "source": [
    "#wrangle data to remove NANs\n",
    "df = wrangle.wrangle_zillow()"
   ]
  },
  {
   "cell_type": "code",
   "execution_count": 7,
   "metadata": {},
   "outputs": [],
   "source": [
    "#create a new column tax-rate\n",
    "df['tax_rate'] = df.tax_value/df.assessed_value"
   ]
  },
  {
   "cell_type": "code",
   "execution_count": 8,
   "metadata": {},
   "outputs": [
    {
     "data": {
      "text/html": [
       "<div>\n",
       "<style scoped>\n",
       "    .dataframe tbody tr th:only-of-type {\n",
       "        vertical-align: middle;\n",
       "    }\n",
       "\n",
       "    .dataframe tbody tr th {\n",
       "        vertical-align: top;\n",
       "    }\n",
       "\n",
       "    .dataframe thead th {\n",
       "        text-align: right;\n",
       "    }\n",
       "</style>\n",
       "<table border=\"1\" class=\"dataframe\">\n",
       "  <thead>\n",
       "    <tr style=\"text-align: right;\">\n",
       "      <th></th>\n",
       "      <th>bathrooms</th>\n",
       "      <th>bedrooms</th>\n",
       "      <th>square_feet</th>\n",
       "      <th>fips</th>\n",
       "      <th>lot_size</th>\n",
       "      <th>pool</th>\n",
       "      <th>zip_code</th>\n",
       "      <th>year_built</th>\n",
       "      <th>latitude</th>\n",
       "      <th>longitude</th>\n",
       "      <th>assessed_value</th>\n",
       "      <th>tax_value</th>\n",
       "      <th>transaction_date</th>\n",
       "      <th>tax_rate</th>\n",
       "    </tr>\n",
       "  </thead>\n",
       "  <tbody>\n",
       "    <tr>\n",
       "      <th>0</th>\n",
       "      <td>2.0</td>\n",
       "      <td>3.0</td>\n",
       "      <td>1458.0</td>\n",
       "      <td>6037</td>\n",
       "      <td>8284</td>\n",
       "      <td>1</td>\n",
       "      <td>97318</td>\n",
       "      <td>1970</td>\n",
       "      <td>34686163.0</td>\n",
       "      <td>-118113100.0</td>\n",
       "      <td>136104.0</td>\n",
       "      <td>2319.90</td>\n",
       "      <td>2017-06-23</td>\n",
       "      <td>0.017045</td>\n",
       "    </tr>\n",
       "    <tr>\n",
       "      <th>1</th>\n",
       "      <td>1.0</td>\n",
       "      <td>2.0</td>\n",
       "      <td>1421.0</td>\n",
       "      <td>6037</td>\n",
       "      <td>6707</td>\n",
       "      <td>0</td>\n",
       "      <td>96018</td>\n",
       "      <td>1911</td>\n",
       "      <td>33999877.0</td>\n",
       "      <td>-118291863.0</td>\n",
       "      <td>35606.0</td>\n",
       "      <td>543.69</td>\n",
       "      <td>2017-06-30</td>\n",
       "      <td>0.015270</td>\n",
       "    </tr>\n",
       "  </tbody>\n",
       "</table>\n",
       "</div>"
      ],
      "text/plain": [
       "   bathrooms  bedrooms  square_feet  fips  lot_size  pool  zip_code  \\\n",
       "0        2.0       3.0       1458.0  6037      8284     1     97318   \n",
       "1        1.0       2.0       1421.0  6037      6707     0     96018   \n",
       "\n",
       "   year_built    latitude    longitude  assessed_value  tax_value  \\\n",
       "0        1970  34686163.0 -118113100.0        136104.0    2319.90   \n",
       "1        1911  33999877.0 -118291863.0         35606.0     543.69   \n",
       "\n",
       "  transaction_date  tax_rate  \n",
       "0       2017-06-23  0.017045  \n",
       "1       2017-06-30  0.015270  "
      ]
     },
     "execution_count": 8,
     "metadata": {},
     "output_type": "execute_result"
    }
   ],
   "source": [
    "df.head(2)"
   ]
  },
  {
   "cell_type": "code",
   "execution_count": 9,
   "metadata": {},
   "outputs": [],
   "source": [
    "#https://www.nrcs.usda.gov/wps/portal/nrcs/detail/national/home/?cid=nrcs143_013697\n",
    "#source for county fips code. Read codes in a data DataFrame named fips_codes\n",
    "#fips_codes = pd.read_clipboard()"
   ]
  },
  {
   "cell_type": "code",
   "execution_count": 10,
   "metadata": {},
   "outputs": [
    {
     "data": {
      "text/html": [
       "<div>\n",
       "<style scoped>\n",
       "    .dataframe tbody tr th:only-of-type {\n",
       "        vertical-align: middle;\n",
       "    }\n",
       "\n",
       "    .dataframe tbody tr th {\n",
       "        vertical-align: top;\n",
       "    }\n",
       "\n",
       "    .dataframe thead th {\n",
       "        text-align: right;\n",
       "    }\n",
       "</style>\n",
       "<table border=\"1\" class=\"dataframe\">\n",
       "  <thead>\n",
       "    <tr style=\"text-align: right;\">\n",
       "      <th></th>\n",
       "      <th>fips</th>\n",
       "      <th>County</th>\n",
       "    </tr>\n",
       "  </thead>\n",
       "  <tbody>\n",
       "    <tr>\n",
       "      <th>0</th>\n",
       "      <td>6037</td>\n",
       "      <td>Los Angles</td>\n",
       "    </tr>\n",
       "    <tr>\n",
       "      <th>1</th>\n",
       "      <td>6059</td>\n",
       "      <td>Orange</td>\n",
       "    </tr>\n",
       "    <tr>\n",
       "      <th>2</th>\n",
       "      <td>6111</td>\n",
       "      <td>Ventura</td>\n",
       "    </tr>\n",
       "  </tbody>\n",
       "</table>\n",
       "</div>"
      ],
      "text/plain": [
       "   fips      County\n",
       "0  6037  Los Angles\n",
       "1  6059      Orange\n",
       "2  6111     Ventura"
      ]
     },
     "execution_count": 10,
     "metadata": {},
     "output_type": "execute_result"
    }
   ],
   "source": [
    "fips_code = pd.DataFrame({\n",
    "    'fips': [6037, 6059, 6111],\n",
    "    'County':['Los Angles', 'Orange', 'Ventura']\n",
    "})\n",
    "fips_code.head()"
   ]
  },
  {
   "cell_type": "code",
   "execution_count": 11,
   "metadata": {},
   "outputs": [],
   "source": [
    "#merge df and fips_codes \n",
    "df = pd.merge(df, fips_code, left_on='fips', right_on='fips', how='left')"
   ]
  },
  {
   "cell_type": "code",
   "execution_count": 12,
   "metadata": {},
   "outputs": [
    {
     "data": {
      "text/html": [
       "<div>\n",
       "<style scoped>\n",
       "    .dataframe tbody tr th:only-of-type {\n",
       "        vertical-align: middle;\n",
       "    }\n",
       "\n",
       "    .dataframe tbody tr th {\n",
       "        vertical-align: top;\n",
       "    }\n",
       "\n",
       "    .dataframe thead th {\n",
       "        text-align: right;\n",
       "    }\n",
       "</style>\n",
       "<table border=\"1\" class=\"dataframe\">\n",
       "  <thead>\n",
       "    <tr style=\"text-align: right;\">\n",
       "      <th></th>\n",
       "      <th>bathrooms</th>\n",
       "      <th>bedrooms</th>\n",
       "      <th>square_feet</th>\n",
       "      <th>fips</th>\n",
       "      <th>lot_size</th>\n",
       "      <th>pool</th>\n",
       "      <th>zip_code</th>\n",
       "      <th>year_built</th>\n",
       "      <th>latitude</th>\n",
       "      <th>longitude</th>\n",
       "      <th>assessed_value</th>\n",
       "      <th>tax_value</th>\n",
       "      <th>transaction_date</th>\n",
       "      <th>tax_rate</th>\n",
       "      <th>County</th>\n",
       "    </tr>\n",
       "  </thead>\n",
       "  <tbody>\n",
       "    <tr>\n",
       "      <th>0</th>\n",
       "      <td>2.0</td>\n",
       "      <td>3.0</td>\n",
       "      <td>1458.0</td>\n",
       "      <td>6037</td>\n",
       "      <td>8284</td>\n",
       "      <td>1</td>\n",
       "      <td>97318</td>\n",
       "      <td>1970</td>\n",
       "      <td>34686163.0</td>\n",
       "      <td>-118113100.0</td>\n",
       "      <td>136104.0</td>\n",
       "      <td>2319.90</td>\n",
       "      <td>2017-06-23</td>\n",
       "      <td>0.017045</td>\n",
       "      <td>Los Angles</td>\n",
       "    </tr>\n",
       "    <tr>\n",
       "      <th>1</th>\n",
       "      <td>1.0</td>\n",
       "      <td>2.0</td>\n",
       "      <td>1421.0</td>\n",
       "      <td>6037</td>\n",
       "      <td>6707</td>\n",
       "      <td>0</td>\n",
       "      <td>96018</td>\n",
       "      <td>1911</td>\n",
       "      <td>33999877.0</td>\n",
       "      <td>-118291863.0</td>\n",
       "      <td>35606.0</td>\n",
       "      <td>543.69</td>\n",
       "      <td>2017-06-30</td>\n",
       "      <td>0.015270</td>\n",
       "      <td>Los Angles</td>\n",
       "    </tr>\n",
       "  </tbody>\n",
       "</table>\n",
       "</div>"
      ],
      "text/plain": [
       "   bathrooms  bedrooms  square_feet  fips  lot_size  pool  zip_code  \\\n",
       "0        2.0       3.0       1458.0  6037      8284     1     97318   \n",
       "1        1.0       2.0       1421.0  6037      6707     0     96018   \n",
       "\n",
       "   year_built    latitude    longitude  assessed_value  tax_value  \\\n",
       "0        1970  34686163.0 -118113100.0        136104.0    2319.90   \n",
       "1        1911  33999877.0 -118291863.0         35606.0     543.69   \n",
       "\n",
       "  transaction_date  tax_rate      County  \n",
       "0       2017-06-23  0.017045  Los Angles  \n",
       "1       2017-06-30  0.015270  Los Angles  "
      ]
     },
     "execution_count": 12,
     "metadata": {},
     "output_type": "execute_result"
    }
   ],
   "source": [
    "df.head(2)"
   ]
  },
  {
   "cell_type": "code",
   "execution_count": 13,
   "metadata": {},
   "outputs": [],
   "source": [
    "#split the data into train and test\n",
    "train, test = train_test_split(df, train_size = .70, random_state = 100)"
   ]
  },
  {
   "cell_type": "markdown",
   "metadata": {},
   "source": [
    "# Data Exploration (Using train data only)"
   ]
  },
  {
   "cell_type": "code",
   "execution_count": 14,
   "metadata": {},
   "outputs": [],
   "source": [
    "#create a subset of df with continuous variables to create pairplot\n",
    "train_plot = df[['bathrooms', 'bedrooms', 'square_feet', 'lot_size', 'assessed_value']]"
   ]
  },
  {
   "cell_type": "code",
   "execution_count": 15,
   "metadata": {
    "scrolled": true
   },
   "outputs": [
    {
     "data": {
      "text/html": [
       "<div>\n",
       "<style scoped>\n",
       "    .dataframe tbody tr th:only-of-type {\n",
       "        vertical-align: middle;\n",
       "    }\n",
       "\n",
       "    .dataframe tbody tr th {\n",
       "        vertical-align: top;\n",
       "    }\n",
       "\n",
       "    .dataframe thead th {\n",
       "        text-align: right;\n",
       "    }\n",
       "</style>\n",
       "<table border=\"1\" class=\"dataframe\">\n",
       "  <thead>\n",
       "    <tr style=\"text-align: right;\">\n",
       "      <th></th>\n",
       "      <th>bathrooms</th>\n",
       "      <th>bedrooms</th>\n",
       "      <th>square_feet</th>\n",
       "      <th>lot_size</th>\n",
       "      <th>assessed_value</th>\n",
       "    </tr>\n",
       "  </thead>\n",
       "  <tbody>\n",
       "    <tr>\n",
       "      <th>0</th>\n",
       "      <td>2.0</td>\n",
       "      <td>3.0</td>\n",
       "      <td>1458.0</td>\n",
       "      <td>8284</td>\n",
       "      <td>136104.0</td>\n",
       "    </tr>\n",
       "    <tr>\n",
       "      <th>1</th>\n",
       "      <td>1.0</td>\n",
       "      <td>2.0</td>\n",
       "      <td>1421.0</td>\n",
       "      <td>6707</td>\n",
       "      <td>35606.0</td>\n",
       "    </tr>\n",
       "  </tbody>\n",
       "</table>\n",
       "</div>"
      ],
      "text/plain": [
       "   bathrooms  bedrooms  square_feet  lot_size  assessed_value\n",
       "0        2.0       3.0       1458.0      8284        136104.0\n",
       "1        1.0       2.0       1421.0      6707         35606.0"
      ]
     },
     "execution_count": 15,
     "metadata": {},
     "output_type": "execute_result"
    }
   ],
   "source": [
    "train_plot.head(2)"
   ]
  },
  {
   "cell_type": "code",
   "execution_count": 16,
   "metadata": {},
   "outputs": [
    {
     "data": {
      "text/plain": [
       "0.8911450279029113"
      ]
     },
     "execution_count": 16,
     "metadata": {},
     "output_type": "execute_result"
    }
   ],
   "source": [
    "df[df.assessed_value<1000000].count()[1]/df.shape[0]"
   ]
  },
  {
   "cell_type": "code",
   "execution_count": 17,
   "metadata": {},
   "outputs": [],
   "source": [
    "#explore.plot_variable_pairs(train_plot)"
   ]
  },
  {
   "cell_type": "markdown",
   "metadata": {},
   "source": [
    "# Home value seems to be correlated to number of bathrooms, bedrooms, square_feet and lot size"
   ]
  },
  {
   "cell_type": "code",
   "execution_count": 18,
   "metadata": {},
   "outputs": [
    {
     "data": {
      "text/plain": [
       "<matplotlib.axes._subplots.AxesSubplot at 0x11df46110>"
      ]
     },
     "execution_count": 18,
     "metadata": {},
     "output_type": "execute_result"
    },
    {
     "data": {
      "image/png": "[encoded data removed]",
      "text/plain": [
       "<Figure size 864x432 with 1 Axes>"
      ]
     },
     "metadata": {
      "needs_background": "light"
     },
     "output_type": "display_data"
    }
   ],
   "source": [
    "# Lets look at box plot of home values in each county. For better visualization, homes above 1 million are not plotted\n",
    "plt.figure(figsize=(12,6))\n",
    "sns.boxplot(x= train[train.assessed_value<100000].County, y= train[train.assessed_value<100000].assessed_value, data=train[train.assessed_value<100000])"
   ]
  },
  {
   "cell_type": "code",
   "execution_count": 19,
   "metadata": {},
   "outputs": [
    {
     "data": {
      "text/html": [
       "<div>\n",
       "<style scoped>\n",
       "    .dataframe tbody tr th:only-of-type {\n",
       "        vertical-align: middle;\n",
       "    }\n",
       "\n",
       "    .dataframe tbody tr th {\n",
       "        vertical-align: top;\n",
       "    }\n",
       "\n",
       "    .dataframe thead th {\n",
       "        text-align: right;\n",
       "    }\n",
       "</style>\n",
       "<table border=\"1\" class=\"dataframe\">\n",
       "  <thead>\n",
       "    <tr style=\"text-align: right;\">\n",
       "      <th></th>\n",
       "      <th>bathrooms</th>\n",
       "      <th>bedrooms</th>\n",
       "      <th>square_feet</th>\n",
       "      <th>fips</th>\n",
       "      <th>lot_size</th>\n",
       "      <th>pool</th>\n",
       "      <th>zip_code</th>\n",
       "      <th>year_built</th>\n",
       "      <th>latitude</th>\n",
       "      <th>longitude</th>\n",
       "      <th>assessed_value</th>\n",
       "      <th>tax_value</th>\n",
       "      <th>transaction_date</th>\n",
       "      <th>tax_rate</th>\n",
       "      <th>County</th>\n",
       "    </tr>\n",
       "  </thead>\n",
       "  <tbody>\n",
       "    <tr>\n",
       "      <th>11938</th>\n",
       "      <td>3.0</td>\n",
       "      <td>3.0</td>\n",
       "      <td>2130.0</td>\n",
       "      <td>6037</td>\n",
       "      <td>7242</td>\n",
       "      <td>1</td>\n",
       "      <td>97319</td>\n",
       "      <td>1988</td>\n",
       "      <td>34663693.0</td>\n",
       "      <td>-118185301.0</td>\n",
       "      <td>268557.0</td>\n",
       "      <td>3975.61</td>\n",
       "      <td>2017-06-22</td>\n",
       "      <td>0.014804</td>\n",
       "      <td>Los Angles</td>\n",
       "    </tr>\n",
       "    <tr>\n",
       "      <th>790</th>\n",
       "      <td>2.0</td>\n",
       "      <td>4.0</td>\n",
       "      <td>1705.0</td>\n",
       "      <td>6037</td>\n",
       "      <td>7412</td>\n",
       "      <td>1</td>\n",
       "      <td>96389</td>\n",
       "      <td>1960</td>\n",
       "      <td>34178821.0</td>\n",
       "      <td>-118607295.0</td>\n",
       "      <td>95849.0</td>\n",
       "      <td>1296.19</td>\n",
       "      <td>2017-05-03</td>\n",
       "      <td>0.013523</td>\n",
       "      <td>Los Angles</td>\n",
       "    </tr>\n",
       "    <tr>\n",
       "      <th>3846</th>\n",
       "      <td>2.0</td>\n",
       "      <td>3.0</td>\n",
       "      <td>2014.0</td>\n",
       "      <td>6037</td>\n",
       "      <td>6491</td>\n",
       "      <td>0</td>\n",
       "      <td>96246</td>\n",
       "      <td>1936</td>\n",
       "      <td>33774191.0</td>\n",
       "      <td>-118123557.0</td>\n",
       "      <td>324613.0</td>\n",
       "      <td>3968.00</td>\n",
       "      <td>2017-05-17</td>\n",
       "      <td>0.012224</td>\n",
       "      <td>Los Angles</td>\n",
       "    </tr>\n",
       "    <tr>\n",
       "      <th>14846</th>\n",
       "      <td>3.0</td>\n",
       "      <td>3.0</td>\n",
       "      <td>2376.0</td>\n",
       "      <td>6059</td>\n",
       "      <td>4500</td>\n",
       "      <td>0</td>\n",
       "      <td>97067</td>\n",
       "      <td>1989</td>\n",
       "      <td>33788519.0</td>\n",
       "      <td>-117766101.0</td>\n",
       "      <td>499860.0</td>\n",
       "      <td>6082.08</td>\n",
       "      <td>2017-06-30</td>\n",
       "      <td>0.012168</td>\n",
       "      <td>Orange</td>\n",
       "    </tr>\n",
       "    <tr>\n",
       "      <th>1469</th>\n",
       "      <td>2.0</td>\n",
       "      <td>3.0</td>\n",
       "      <td>1360.0</td>\n",
       "      <td>6037</td>\n",
       "      <td>5200</td>\n",
       "      <td>0</td>\n",
       "      <td>96012</td>\n",
       "      <td>1965</td>\n",
       "      <td>34087088.0</td>\n",
       "      <td>-118200703.0</td>\n",
       "      <td>517777.0</td>\n",
       "      <td>6302.17</td>\n",
       "      <td>2017-05-05</td>\n",
       "      <td>0.012172</td>\n",
       "      <td>Los Angles</td>\n",
       "    </tr>\n",
       "  </tbody>\n",
       "</table>\n",
       "</div>"
      ],
      "text/plain": [
       "       bathrooms  bedrooms  square_feet  fips  lot_size  pool  zip_code  \\\n",
       "11938        3.0       3.0       2130.0  6037      7242     1     97319   \n",
       "790          2.0       4.0       1705.0  6037      7412     1     96389   \n",
       "3846         2.0       3.0       2014.0  6037      6491     0     96246   \n",
       "14846        3.0       3.0       2376.0  6059      4500     0     97067   \n",
       "1469         2.0       3.0       1360.0  6037      5200     0     96012   \n",
       "\n",
       "       year_built    latitude    longitude  assessed_value  tax_value  \\\n",
       "11938        1988  34663693.0 -118185301.0        268557.0    3975.61   \n",
       "790          1960  34178821.0 -118607295.0         95849.0    1296.19   \n",
       "3846         1936  33774191.0 -118123557.0        324613.0    3968.00   \n",
       "14846        1989  33788519.0 -117766101.0        499860.0    6082.08   \n",
       "1469         1965  34087088.0 -118200703.0        517777.0    6302.17   \n",
       "\n",
       "      transaction_date  tax_rate      County  \n",
       "11938       2017-06-22  0.014804  Los Angles  \n",
       "790         2017-05-03  0.013523  Los Angles  \n",
       "3846        2017-05-17  0.012224  Los Angles  \n",
       "14846       2017-06-30  0.012168      Orange  \n",
       "1469        2017-05-05  0.012172  Los Angles  "
      ]
     },
     "execution_count": 19,
     "metadata": {},
     "output_type": "execute_result"
    }
   ],
   "source": [
    "train.head()"
   ]
  },
  {
   "cell_type": "code",
   "execution_count": 20,
   "metadata": {},
   "outputs": [
    {
     "data": {
      "text/plain": [
       "344387.0"
      ]
     },
     "execution_count": 20,
     "metadata": {},
     "output_type": "execute_result"
    }
   ],
   "source": [
    "# median value of homes is a better measure of central tendency for home values due to outliers.\n",
    "train[train.assessed_value <1000000].assessed_value.median()"
   ]
  },
  {
   "cell_type": "code",
   "execution_count": 21,
   "metadata": {},
   "outputs": [
    {
     "data": {
      "text/plain": [
       "<matplotlib.axes._subplots.AxesSubplot at 0x11e457350>"
      ]
     },
     "execution_count": 21,
     "metadata": {},
     "output_type": "execute_result"
    },
    {
     "data": {
      "image/png": "[encoded data removed]",
      "text/plain": [
       "<Figure size 432x288 with 1 Axes>"
      ]
     },
     "metadata": {
      "needs_background": "light"
     },
     "output_type": "display_data"
    }
   ],
   "source": [
    "# plot showing distribution of home values. This looks like right skewed distribution\n",
    "sns.distplot(train.assessed_value)"
   ]
  },
  {
   "cell_type": "code",
   "execution_count": 22,
   "metadata": {},
   "outputs": [
    {
     "data": {
      "text/html": [
       "<div>\n",
       "<style scoped>\n",
       "    .dataframe tbody tr th:only-of-type {\n",
       "        vertical-align: middle;\n",
       "    }\n",
       "\n",
       "    .dataframe tbody tr th {\n",
       "        vertical-align: top;\n",
       "    }\n",
       "\n",
       "    .dataframe thead th {\n",
       "        text-align: right;\n",
       "    }\n",
       "</style>\n",
       "<table border=\"1\" class=\"dataframe\">\n",
       "  <thead>\n",
       "    <tr style=\"text-align: right;\">\n",
       "      <th></th>\n",
       "      <th>bathrooms</th>\n",
       "      <th>bedrooms</th>\n",
       "      <th>square_feet</th>\n",
       "      <th>lot_size</th>\n",
       "      <th>assessed_value</th>\n",
       "    </tr>\n",
       "  </thead>\n",
       "  <tbody>\n",
       "    <tr>\n",
       "      <th>bathrooms</th>\n",
       "      <td>1.000000</td>\n",
       "      <td>0.643196</td>\n",
       "      <td>0.855253</td>\n",
       "      <td>0.140262</td>\n",
       "      <td>0.516795</td>\n",
       "    </tr>\n",
       "    <tr>\n",
       "      <th>bedrooms</th>\n",
       "      <td>0.643196</td>\n",
       "      <td>1.000000</td>\n",
       "      <td>0.630065</td>\n",
       "      <td>0.069576</td>\n",
       "      <td>0.273758</td>\n",
       "    </tr>\n",
       "    <tr>\n",
       "      <th>square_feet</th>\n",
       "      <td>0.855253</td>\n",
       "      <td>0.630065</td>\n",
       "      <td>1.000000</td>\n",
       "      <td>0.182419</td>\n",
       "      <td>0.602603</td>\n",
       "    </tr>\n",
       "    <tr>\n",
       "      <th>lot_size</th>\n",
       "      <td>0.140262</td>\n",
       "      <td>0.069576</td>\n",
       "      <td>0.182419</td>\n",
       "      <td>1.000000</td>\n",
       "      <td>0.116572</td>\n",
       "    </tr>\n",
       "    <tr>\n",
       "      <th>assessed_value</th>\n",
       "      <td>0.516795</td>\n",
       "      <td>0.273758</td>\n",
       "      <td>0.602603</td>\n",
       "      <td>0.116572</td>\n",
       "      <td>1.000000</td>\n",
       "    </tr>\n",
       "  </tbody>\n",
       "</table>\n",
       "</div>"
      ],
      "text/plain": [
       "                bathrooms  bedrooms  square_feet  lot_size  assessed_value\n",
       "bathrooms        1.000000  0.643196     0.855253  0.140262        0.516795\n",
       "bedrooms         0.643196  1.000000     0.630065  0.069576        0.273758\n",
       "square_feet      0.855253  0.630065     1.000000  0.182419        0.602603\n",
       "lot_size         0.140262  0.069576     0.182419  1.000000        0.116572\n",
       "assessed_value   0.516795  0.273758     0.602603  0.116572        1.000000"
      ]
     },
     "execution_count": 22,
     "metadata": {},
     "output_type": "execute_result"
    }
   ],
   "source": [
    "cm = train_plot.corr()\n",
    "cm"
   ]
  },
  {
   "cell_type": "code",
   "execution_count": 23,
   "metadata": {},
   "outputs": [
    {
     "data": {
      "text/plain": [
       "<matplotlib.axes._subplots.AxesSubplot at 0x11e442690>"
      ]
     },
     "execution_count": 23,
     "metadata": {},
     "output_type": "execute_result"
    },
    {
     "data": {
      "image/png": "[encoded data removed]",
      "text/plain": [
       "<Figure size 576x432 with 2 Axes>"
      ]
     },
     "metadata": {
      "needs_background": "light"
     },
     "output_type": "display_data"
    }
   ],
   "source": [
    "# lets look at heatmap and corresponding correlation values \n",
    "plt.figure(figsize=(8,6))\n",
    "sns.heatmap(cm, annot=True, cmap='viridis')"
   ]
  },
  {
   "cell_type": "markdown",
   "metadata": {},
   "source": [
    "# $H_0$: there is no relationship between home values and number of bedrooms, bathrooms and square_feet\n",
    "# $H_a$: There is a relationship between home values and number of bedrooms, bathrooms and square_feet"
   ]
  },
  {
   "cell_type": "code",
   "execution_count": 24,
   "metadata": {},
   "outputs": [],
   "source": [
    "#Lets take a look at simple model based on bathoom, bedroom and squarefeet and compare if against the baseline(median home value)\n",
    "X_train = train[['bedrooms', 'bathrooms', 'square_feet']]\n",
    "y_train = train[['assessed_value']]\n",
    "y_train['y_baseline'] = train['assessed_value'].median()"
   ]
  },
  {
   "cell_type": "code",
   "execution_count": 25,
   "metadata": {},
   "outputs": [
    {
     "data": {
      "text/html": [
       "<div>\n",
       "<style scoped>\n",
       "    .dataframe tbody tr th:only-of-type {\n",
       "        vertical-align: middle;\n",
       "    }\n",
       "\n",
       "    .dataframe tbody tr th {\n",
       "        vertical-align: top;\n",
       "    }\n",
       "\n",
       "    .dataframe thead th {\n",
       "        text-align: right;\n",
       "    }\n",
       "</style>\n",
       "<table border=\"1\" class=\"dataframe\">\n",
       "  <thead>\n",
       "    <tr style=\"text-align: right;\">\n",
       "      <th></th>\n",
       "      <th>assessed_value</th>\n",
       "      <th>y_baseline</th>\n",
       "    </tr>\n",
       "  </thead>\n",
       "  <tbody>\n",
       "    <tr>\n",
       "      <th>11938</th>\n",
       "      <td>268557.0</td>\n",
       "      <td>389610.0</td>\n",
       "    </tr>\n",
       "    <tr>\n",
       "      <th>790</th>\n",
       "      <td>95849.0</td>\n",
       "      <td>389610.0</td>\n",
       "    </tr>\n",
       "    <tr>\n",
       "      <th>3846</th>\n",
       "      <td>324613.0</td>\n",
       "      <td>389610.0</td>\n",
       "    </tr>\n",
       "    <tr>\n",
       "      <th>14846</th>\n",
       "      <td>499860.0</td>\n",
       "      <td>389610.0</td>\n",
       "    </tr>\n",
       "    <tr>\n",
       "      <th>1469</th>\n",
       "      <td>517777.0</td>\n",
       "      <td>389610.0</td>\n",
       "    </tr>\n",
       "  </tbody>\n",
       "</table>\n",
       "</div>"
      ],
      "text/plain": [
       "       assessed_value  y_baseline\n",
       "11938        268557.0    389610.0\n",
       "790           95849.0    389610.0\n",
       "3846         324613.0    389610.0\n",
       "14846        499860.0    389610.0\n",
       "1469         517777.0    389610.0"
      ]
     },
     "execution_count": 25,
     "metadata": {},
     "output_type": "execute_result"
    }
   ],
   "source": [
    "y_train.head()"
   ]
  },
  {
   "cell_type": "code",
   "execution_count": 26,
   "metadata": {},
   "outputs": [
    {
     "data": {
      "text/plain": [
       "734625.2550096865"
      ]
     },
     "execution_count": 26,
     "metadata": {},
     "output_type": "execute_result"
    }
   ],
   "source": [
    "# Calculating the baseline (based on median) RMSE\n",
    "from sklearn.metrics import mean_squared_error\n",
    "from math import sqrt\n",
    "\n",
    "rmse_bl = sqrt(mean_squared_error(y_train.assessed_value, y_train.y_baseline))\n",
    "\n",
    "rmse_bl"
   ]
  },
  {
   "cell_type": "code",
   "execution_count": 27,
   "metadata": {},
   "outputs": [],
   "source": [
    "#We now create a OLS model based on bedrooms, bathrooms and square_feet\n",
    "from statsmodels.formula.api import ols\n",
    "\n",
    "# generate parameters, i.e. create model\n",
    "ols_model = ols('assessed_value ~ bedrooms + bathrooms + square_feet', data = train).fit()\n",
    "\n",
    "# compute predictions and add to original dataframe\n",
    "y_train['yhat'] = ols_model.predict(X_train)"
   ]
  },
  {
   "cell_type": "code",
   "execution_count": 193,
   "metadata": {},
   "outputs": [
    {
     "data": {
      "text/html": [
       "<div>\n",
       "<style scoped>\n",
       "    .dataframe tbody tr th:only-of-type {\n",
       "        vertical-align: middle;\n",
       "    }\n",
       "\n",
       "    .dataframe tbody tr th {\n",
       "        vertical-align: top;\n",
       "    }\n",
       "\n",
       "    .dataframe thead th {\n",
       "        text-align: right;\n",
       "    }\n",
       "</style>\n",
       "<table border=\"1\" class=\"dataframe\">\n",
       "  <thead>\n",
       "    <tr style=\"text-align: right;\">\n",
       "      <th></th>\n",
       "      <th>assessed_value</th>\n",
       "      <th>yhat_poly</th>\n",
       "    </tr>\n",
       "  </thead>\n",
       "  <tbody>\n",
       "    <tr>\n",
       "      <th>11938</th>\n",
       "      <td>268557.000</td>\n",
       "      <td>665397.268</td>\n",
       "    </tr>\n",
       "    <tr>\n",
       "      <th>790</th>\n",
       "      <td>95849.000</td>\n",
       "      <td>304012.126</td>\n",
       "    </tr>\n",
       "    <tr>\n",
       "      <th>3846</th>\n",
       "      <td>324613.000</td>\n",
       "      <td>588795.710</td>\n",
       "    </tr>\n",
       "    <tr>\n",
       "      <th>14846</th>\n",
       "      <td>499860.000</td>\n",
       "      <td>715074.443</td>\n",
       "    </tr>\n",
       "    <tr>\n",
       "      <th>1469</th>\n",
       "      <td>517777.000</td>\n",
       "      <td>320495.662</td>\n",
       "    </tr>\n",
       "  </tbody>\n",
       "</table>\n",
       "</div>"
      ],
      "text/plain": [
       "       assessed_value  yhat_poly\n",
       "11938      268557.000 665397.268\n",
       "790         95849.000 304012.126\n",
       "3846       324613.000 588795.710\n",
       "14846      499860.000 715074.443\n",
       "1469       517777.000 320495.662"
      ]
     },
     "execution_count": 193,
     "metadata": {},
     "output_type": "execute_result"
    }
   ],
   "source": [
    "y_train.head()"
   ]
  },
  {
   "cell_type": "code",
   "execution_count": 29,
   "metadata": {
    "scrolled": true
   },
   "outputs": [
    {
     "data": {
      "text/html": [
       "<table class=\"simpletable\">\n",
       "<caption>OLS Regression Results</caption>\n",
       "<tr>\n",
       "  <th>Dep. Variable:</th>     <td>assessed_value</td>  <th>  R-squared:         </th>  <td>   0.367</td>  \n",
       "</tr>\n",
       "<tr>\n",
       "  <th>Model:</th>                   <td>OLS</td>       <th>  Adj. R-squared:    </th>  <td>   0.366</td>  \n",
       "</tr>\n",
       "<tr>\n",
       "  <th>Method:</th>             <td>Least Squares</td>  <th>  F-statistic:       </th>  <td>   2007.</td>  \n",
       "</tr>\n",
       "<tr>\n",
       "  <th>Date:</th>             <td>Thu, 09 Apr 2020</td> <th>  Prob (F-statistic):</th>   <td>  0.00</td>   \n",
       "</tr>\n",
       "<tr>\n",
       "  <th>Time:</th>                 <td>16:18:10</td>     <th>  Log-Likelihood:    </th> <td>-1.5278e+05</td>\n",
       "</tr>\n",
       "<tr>\n",
       "  <th>No. Observations:</th>      <td> 10411</td>      <th>  AIC:               </th>  <td>3.056e+05</td> \n",
       "</tr>\n",
       "<tr>\n",
       "  <th>Df Residuals:</th>          <td> 10407</td>      <th>  BIC:               </th>  <td>3.056e+05</td> \n",
       "</tr>\n",
       "<tr>\n",
       "  <th>Df Model:</th>              <td>     3</td>      <th>                     </th>      <td> </td>     \n",
       "</tr>\n",
       "<tr>\n",
       "  <th>Covariance Type:</th>      <td>nonrobust</td>    <th>                     </th>      <td> </td>     \n",
       "</tr>\n",
       "</table>\n",
       "<table class=\"simpletable\">\n",
       "<tr>\n",
       "       <td></td>          <th>coef</th>     <th>std err</th>      <th>t</th>      <th>P>|t|</th>  <th>[0.025</th>    <th>0.975]</th>  \n",
       "</tr>\n",
       "<tr>\n",
       "  <th>Intercept</th>   <td>-5989.8197</td> <td>  2.1e+04</td> <td>   -0.285</td> <td> 0.776</td> <td>-4.72e+04</td> <td> 3.52e+04</td>\n",
       "</tr>\n",
       "<tr>\n",
       "  <th>bedrooms</th>    <td>-1.465e+05</td> <td> 8045.351</td> <td>  -18.211</td> <td> 0.000</td> <td>-1.62e+05</td> <td>-1.31e+05</td>\n",
       "</tr>\n",
       "<tr>\n",
       "  <th>bathrooms</th>   <td> 5.748e+04</td> <td>  1.1e+04</td> <td>    5.220</td> <td> 0.000</td> <td> 3.59e+04</td> <td> 7.91e+04</td>\n",
       "</tr>\n",
       "<tr>\n",
       "  <th>square_feet</th> <td>  465.3172</td> <td>   11.199</td> <td>   41.549</td> <td> 0.000</td> <td>  443.364</td> <td>  487.270</td>\n",
       "</tr>\n",
       "</table>\n",
       "<table class=\"simpletable\">\n",
       "<tr>\n",
       "  <th>Omnibus:</th>       <td>16670.764</td> <th>  Durbin-Watson:     </th>   <td>   2.006</td>  \n",
       "</tr>\n",
       "<tr>\n",
       "  <th>Prob(Omnibus):</th>  <td> 0.000</td>   <th>  Jarque-Bera (JB):  </th> <td>26785887.300</td>\n",
       "</tr>\n",
       "<tr>\n",
       "  <th>Skew:</th>           <td>10.040</td>   <th>  Prob(JB):          </th>   <td>    0.00</td>  \n",
       "</tr>\n",
       "<tr>\n",
       "  <th>Kurtosis:</th>       <td>250.679</td>  <th>  Cond. No.          </th>   <td>8.51e+03</td>  \n",
       "</tr>\n",
       "</table><br/><br/>Warnings:<br/>[1] Standard Errors assume that the covariance matrix of the errors is correctly specified.<br/>[2] The condition number is large, 8.51e+03. This might indicate that there are<br/>strong multicollinearity or other numerical problems."
      ],
      "text/plain": [
       "<class 'statsmodels.iolib.summary.Summary'>\n",
       "\"\"\"\n",
       "                            OLS Regression Results                            \n",
       "==============================================================================\n",
       "Dep. Variable:         assessed_value   R-squared:                       0.367\n",
       "Model:                            OLS   Adj. R-squared:                  0.366\n",
       "Method:                 Least Squares   F-statistic:                     2007.\n",
       "Date:                Thu, 09 Apr 2020   Prob (F-statistic):               0.00\n",
       "Time:                        16:18:10   Log-Likelihood:            -1.5278e+05\n",
       "No. Observations:               10411   AIC:                         3.056e+05\n",
       "Df Residuals:                   10407   BIC:                         3.056e+05\n",
       "Df Model:                           3                                         \n",
       "Covariance Type:            nonrobust                                         \n",
       "===============================================================================\n",
       "                  coef    std err          t      P>|t|      [0.025      0.975]\n",
       "-------------------------------------------------------------------------------\n",
       "Intercept   -5989.8197    2.1e+04     -0.285      0.776   -4.72e+04    3.52e+04\n",
       "bedrooms    -1.465e+05   8045.351    -18.211      0.000   -1.62e+05   -1.31e+05\n",
       "bathrooms    5.748e+04    1.1e+04      5.220      0.000    3.59e+04    7.91e+04\n",
       "square_feet   465.3172     11.199     41.549      0.000     443.364     487.270\n",
       "==============================================================================\n",
       "Omnibus:                    16670.764   Durbin-Watson:                   2.006\n",
       "Prob(Omnibus):                  0.000   Jarque-Bera (JB):         26785887.300\n",
       "Skew:                          10.040   Prob(JB):                         0.00\n",
       "Kurtosis:                     250.679   Cond. No.                     8.51e+03\n",
       "==============================================================================\n",
       "\n",
       "Warnings:\n",
       "[1] Standard Errors assume that the covariance matrix of the errors is correctly specified.\n",
       "[2] The condition number is large, 8.51e+03. This might indicate that there are\n",
       "strong multicollinearity or other numerical problems.\n",
       "\"\"\""
      ]
     },
     "execution_count": 29,
     "metadata": {},
     "output_type": "execute_result"
    }
   ],
   "source": [
    "ols_model.summary()"
   ]
  },
  {
   "cell_type": "markdown",
   "metadata": {},
   "source": [
    "# Since my p-value is <0.05, I can reject my null hypothesis.\n",
    "# This means that there is statistically significant relationship between home prices and  independent variables used above."
   ]
  },
  {
   "cell_type": "code",
   "execution_count": 194,
   "metadata": {},
   "outputs": [
    {
     "ename": "AttributeError",
     "evalue": "'DataFrame' object has no attribute 'yhat'",
     "output_type": "error",
     "traceback": [
      "\u001b[0;31m---------------------------------------------------------------------------\u001b[0m",
      "\u001b[0;31mAttributeError\u001b[0m                            Traceback (most recent call last)",
      "\u001b[0;32m<ipython-input-194-454b1df3a60d>\u001b[0m in \u001b[0;36m<module>\u001b[0;34m\u001b[0m\n\u001b[0;32m----> 1\u001b[0;31m \u001b[0mrmse\u001b[0m \u001b[0;34m=\u001b[0m \u001b[0msqrt\u001b[0m\u001b[0;34m(\u001b[0m\u001b[0mmean_squared_error\u001b[0m\u001b[0;34m(\u001b[0m\u001b[0my_train\u001b[0m\u001b[0;34m.\u001b[0m\u001b[0massessed_value\u001b[0m\u001b[0;34m,\u001b[0m \u001b[0my_train\u001b[0m\u001b[0;34m.\u001b[0m\u001b[0myhat\u001b[0m\u001b[0;34m)\u001b[0m\u001b[0;34m)\u001b[0m\u001b[0;34m\u001b[0m\u001b[0;34m\u001b[0m\u001b[0m\n\u001b[0m\u001b[1;32m      2\u001b[0m \u001b[0mrmse\u001b[0m\u001b[0;34m\u001b[0m\u001b[0;34m\u001b[0m\u001b[0m\n",
      "\u001b[0;32m/usr/local/anaconda3/lib/python3.7/site-packages/pandas/core/generic.py\u001b[0m in \u001b[0;36m__getattr__\u001b[0;34m(self, name)\u001b[0m\n\u001b[1;32m   5177\u001b[0m             \u001b[0;32mif\u001b[0m \u001b[0mself\u001b[0m\u001b[0;34m.\u001b[0m\u001b[0m_info_axis\u001b[0m\u001b[0;34m.\u001b[0m\u001b[0m_can_hold_identifiers_and_holds_name\u001b[0m\u001b[0;34m(\u001b[0m\u001b[0mname\u001b[0m\u001b[0;34m)\u001b[0m\u001b[0;34m:\u001b[0m\u001b[0;34m\u001b[0m\u001b[0;34m\u001b[0m\u001b[0m\n\u001b[1;32m   5178\u001b[0m                 \u001b[0;32mreturn\u001b[0m \u001b[0mself\u001b[0m\u001b[0;34m[\u001b[0m\u001b[0mname\u001b[0m\u001b[0;34m]\u001b[0m\u001b[0;34m\u001b[0m\u001b[0;34m\u001b[0m\u001b[0m\n\u001b[0;32m-> 5179\u001b[0;31m             \u001b[0;32mreturn\u001b[0m \u001b[0mobject\u001b[0m\u001b[0;34m.\u001b[0m\u001b[0m__getattribute__\u001b[0m\u001b[0;34m(\u001b[0m\u001b[0mself\u001b[0m\u001b[0;34m,\u001b[0m \u001b[0mname\u001b[0m\u001b[0;34m)\u001b[0m\u001b[0;34m\u001b[0m\u001b[0;34m\u001b[0m\u001b[0m\n\u001b[0m\u001b[1;32m   5180\u001b[0m \u001b[0;34m\u001b[0m\u001b[0m\n\u001b[1;32m   5181\u001b[0m     \u001b[0;32mdef\u001b[0m \u001b[0m__setattr__\u001b[0m\u001b[0;34m(\u001b[0m\u001b[0mself\u001b[0m\u001b[0;34m,\u001b[0m \u001b[0mname\u001b[0m\u001b[0;34m,\u001b[0m \u001b[0mvalue\u001b[0m\u001b[0;34m)\u001b[0m\u001b[0;34m:\u001b[0m\u001b[0;34m\u001b[0m\u001b[0;34m\u001b[0m\u001b[0m\n",
      "\u001b[0;31mAttributeError\u001b[0m: 'DataFrame' object has no attribute 'yhat'"
     ]
    }
   ],
   "source": [
    "\n",
    "rmse = sqrt(mean_squared_error(y_train.assessed_value, y_train.yhat))\n",
    "rmse"
   ]
  },
  {
   "cell_type": "markdown",
   "metadata": {},
   "source": [
    "#  RMSE for OLS model with bedrooom, bathroom and square feet (578329) is lower than the baseline (based on median)748179.  R2 is 0.37 and p-value is 0."
   ]
  },
  {
   "cell_type": "markdown",
   "metadata": {},
   "source": [
    "# I am next going to build a simple linear regression model based on bathrooms, bedrooms and square feet"
   ]
  },
  {
   "cell_type": "code",
   "execution_count": 195,
   "metadata": {},
   "outputs": [
    {
     "data": {
      "text/html": [
       "<div>\n",
       "<style scoped>\n",
       "    .dataframe tbody tr th:only-of-type {\n",
       "        vertical-align: middle;\n",
       "    }\n",
       "\n",
       "    .dataframe tbody tr th {\n",
       "        vertical-align: top;\n",
       "    }\n",
       "\n",
       "    .dataframe thead th {\n",
       "        text-align: right;\n",
       "    }\n",
       "</style>\n",
       "<table border=\"1\" class=\"dataframe\">\n",
       "  <thead>\n",
       "    <tr style=\"text-align: right;\">\n",
       "      <th></th>\n",
       "      <th>actual</th>\n",
       "    </tr>\n",
       "  </thead>\n",
       "  <tbody>\n",
       "    <tr>\n",
       "      <th>11938</th>\n",
       "      <td>268557.000</td>\n",
       "    </tr>\n",
       "    <tr>\n",
       "      <th>790</th>\n",
       "      <td>95849.000</td>\n",
       "    </tr>\n",
       "    <tr>\n",
       "      <th>3846</th>\n",
       "      <td>324613.000</td>\n",
       "    </tr>\n",
       "    <tr>\n",
       "      <th>14846</th>\n",
       "      <td>499860.000</td>\n",
       "    </tr>\n",
       "    <tr>\n",
       "      <th>1469</th>\n",
       "      <td>517777.000</td>\n",
       "    </tr>\n",
       "  </tbody>\n",
       "</table>\n",
       "</div>"
      ],
      "text/plain": [
       "          actual\n",
       "11938 268557.000\n",
       "790    95849.000\n",
       "3846  324613.000\n",
       "14846 499860.000\n",
       "1469  517777.000"
      ]
     },
     "execution_count": 195,
     "metadata": {},
     "output_type": "execute_result"
    }
   ],
   "source": [
    "# make a dataframe 'predictions' with actual home values\n",
    "predictions = pd.DataFrame({\n",
    "    'actual': y_train.assessed_value\n",
    "})\n",
    "predictions.head()"
   ]
  },
  {
   "cell_type": "code",
   "execution_count": 196,
   "metadata": {},
   "outputs": [],
   "source": [
    "X_train1 = X_train[['bedrooms', 'bathrooms', 'square_feet']]\n",
    "y_train1 = y_train[['assessed_value']]"
   ]
  },
  {
   "cell_type": "code",
   "execution_count": 197,
   "metadata": {},
   "outputs": [],
   "source": [
    "#linear regression model\n",
    "lm = LinearRegression()"
   ]
  },
  {
   "cell_type": "code",
   "execution_count": 198,
   "metadata": {},
   "outputs": [
    {
     "data": {
      "text/plain": [
       "LinearRegression(copy_X=True, fit_intercept=True, n_jobs=None, normalize=False)"
      ]
     },
     "execution_count": 198,
     "metadata": {},
     "output_type": "execute_result"
    }
   ],
   "source": [
    "# fit our train data on the model\n",
    "lm.fit(X_train1, y_train1)"
   ]
  },
  {
   "cell_type": "code",
   "execution_count": 199,
   "metadata": {},
   "outputs": [
    {
     "name": "stdout",
     "output_type": "stream",
     "text": [
      "Linear Model: LinearRegression(copy_X=True, fit_intercept=True, n_jobs=None, normalize=False)\n",
      "intercept:  [-5989.8196941]\n",
      "coefficients:  [[-146512.33805875   57484.36403782     465.31718827]]\n"
     ]
    }
   ],
   "source": [
    "print(\"Linear Model:\", lm)\n",
    "\n",
    "print(\"intercept: \", lm.intercept_)\n",
    "\n",
    "print(\"coefficients: \", lm.coef_)"
   ]
  },
  {
   "cell_type": "code",
   "execution_count": 200,
   "metadata": {},
   "outputs": [],
   "source": [
    "#predictions from linear regresssion model based on X_train independent variable values\n",
    "predictions['yhat_lm'] = lm.predict(X_train1)"
   ]
  },
  {
   "cell_type": "code",
   "execution_count": 201,
   "metadata": {},
   "outputs": [],
   "source": [
    "#Baseline predicted home value (median home price)\n",
    "predictions['baseline'] = y_train.assessed_value.median()"
   ]
  },
  {
   "cell_type": "code",
   "execution_count": 202,
   "metadata": {},
   "outputs": [
    {
     "data": {
      "text/html": [
       "<div>\n",
       "<style scoped>\n",
       "    .dataframe tbody tr th:only-of-type {\n",
       "        vertical-align: middle;\n",
       "    }\n",
       "\n",
       "    .dataframe tbody tr th {\n",
       "        vertical-align: top;\n",
       "    }\n",
       "\n",
       "    .dataframe thead th {\n",
       "        text-align: right;\n",
       "    }\n",
       "</style>\n",
       "<table border=\"1\" class=\"dataframe\">\n",
       "  <thead>\n",
       "    <tr style=\"text-align: right;\">\n",
       "      <th></th>\n",
       "      <th>actual</th>\n",
       "      <th>yhat_lm</th>\n",
       "      <th>baseline</th>\n",
       "    </tr>\n",
       "  </thead>\n",
       "  <tbody>\n",
       "    <tr>\n",
       "      <th>11938</th>\n",
       "      <td>268557.000</td>\n",
       "      <td>718051.869</td>\n",
       "      <td>389610.000</td>\n",
       "    </tr>\n",
       "    <tr>\n",
       "      <th>790</th>\n",
       "      <td>95849.000</td>\n",
       "      <td>316295.362</td>\n",
       "      <td>389610.000</td>\n",
       "    </tr>\n",
       "  </tbody>\n",
       "</table>\n",
       "</div>"
      ],
      "text/plain": [
       "          actual    yhat_lm   baseline\n",
       "11938 268557.000 718051.869 389610.000\n",
       "790    95849.000 316295.362 389610.000"
      ]
     },
     "execution_count": 202,
     "metadata": {},
     "output_type": "execute_result"
    }
   ],
   "source": [
    "predictions.head(2)"
   ]
  },
  {
   "cell_type": "code",
   "execution_count": 203,
   "metadata": {},
   "outputs": [
    {
     "data": {
      "text/plain": [
       "actual          0.000\n",
       "yhat_lm    571669.882\n",
       "baseline   734625.255\n",
       "dtype: float64"
      ]
     },
     "execution_count": 203,
     "metadata": {},
     "output_type": "execute_result"
    }
   ],
   "source": [
    "# Use lamda and calculate RMSE for each columns in prediction dataframe\n",
    "pd.options.display.float_format = '{:.3f}'.format\n",
    "predictions.apply(lambda col: sqrt(mean_squared_error(predictions.actual, col)))"
   ]
  },
  {
   "cell_type": "markdown",
   "metadata": {},
   "source": [
    "# The RMSE above for the linear model is better than baseline"
   ]
  },
  {
   "cell_type": "markdown",
   "metadata": {},
   "source": [
    "# Lets use this model on test data and see how well it does there"
   ]
  },
  {
   "cell_type": "code",
   "execution_count": 204,
   "metadata": {},
   "outputs": [],
   "source": [
    "#using test data and predicting home values based on linear model above\n",
    "X_test = test[['bedrooms', 'bathrooms', 'square_feet']]\n",
    "y_test = test[['assessed_value']]\n",
    "y_test['test_prediction'] = lm.predict(X_test)"
   ]
  },
  {
   "cell_type": "code",
   "execution_count": 205,
   "metadata": {},
   "outputs": [],
   "source": [
    "y_test.rename(columns = {'assessed_value': 'actual'}, inplace = True)"
   ]
  },
  {
   "cell_type": "code",
   "execution_count": 206,
   "metadata": {},
   "outputs": [
    {
     "data": {
      "text/html": [
       "<div>\n",
       "<style scoped>\n",
       "    .dataframe tbody tr th:only-of-type {\n",
       "        vertical-align: middle;\n",
       "    }\n",
       "\n",
       "    .dataframe tbody tr th {\n",
       "        vertical-align: top;\n",
       "    }\n",
       "\n",
       "    .dataframe thead th {\n",
       "        text-align: right;\n",
       "    }\n",
       "</style>\n",
       "<table border=\"1\" class=\"dataframe\">\n",
       "  <thead>\n",
       "    <tr style=\"text-align: right;\">\n",
       "      <th></th>\n",
       "      <th>actual</th>\n",
       "      <th>test_prediction</th>\n",
       "    </tr>\n",
       "  </thead>\n",
       "  <tbody>\n",
       "    <tr>\n",
       "      <th>5884</th>\n",
       "      <td>127320.000</td>\n",
       "      <td>667547.263</td>\n",
       "    </tr>\n",
       "    <tr>\n",
       "      <th>1583</th>\n",
       "      <td>576498.000</td>\n",
       "      <td>322702.319</td>\n",
       "    </tr>\n",
       "  </tbody>\n",
       "</table>\n",
       "</div>"
      ],
      "text/plain": [
       "         actual  test_prediction\n",
       "5884 127320.000       667547.263\n",
       "1583 576498.000       322702.319"
      ]
     },
     "execution_count": 206,
     "metadata": {},
     "output_type": "execute_result"
    }
   ],
   "source": [
    "y_test.head(2)"
   ]
  },
  {
   "cell_type": "code",
   "execution_count": 207,
   "metadata": {},
   "outputs": [
    {
     "data": {
      "text/plain": [
       "actual                 0.000\n",
       "test_prediction   571833.281\n",
       "dtype: float64"
      ]
     },
     "execution_count": 207,
     "metadata": {},
     "output_type": "execute_result"
    }
   ],
   "source": [
    "#Calculating RMSE for test predictions\n",
    "y_test.apply(lambda col: sqrt(mean_squared_error(y_test.actual, col)))"
   ]
  },
  {
   "cell_type": "markdown",
   "metadata": {},
   "source": [
    "# The RMSE for test data is lower than the train data!! This linear means model is working well (atleast better than baseline)"
   ]
  },
  {
   "cell_type": "markdown",
   "metadata": {},
   "source": [
    "# We will know try to explore this data more and do feature engineering to see if we can do better than the model above"
   ]
  },
  {
   "cell_type": "markdown",
   "metadata": {},
   "source": [
    "Seems like most of the data is from LA county followed by Orange and then Ventura county"
   ]
  },
  {
   "cell_type": "code",
   "execution_count": 208,
   "metadata": {},
   "outputs": [
    {
     "data": {
      "text/plain": [
       "Text(0.5, 0, 'County')"
      ]
     },
     "execution_count": 208,
     "metadata": {},
     "output_type": "execute_result"
    },
    {
     "data": {
      "image/png": "[encoded data removed]",
      "text/plain": [
       "<Figure size 432x288 with 1 Axes>"
      ]
     },
     "metadata": {
      "needs_background": "light"
     },
     "output_type": "display_data"
    }
   ],
   "source": [
    "plt.hist(train.County, density=False, bins=3)\n",
    "plt.ylabel('probability')\n",
    "plt.xlabel('County')"
   ]
  },
  {
   "cell_type": "code",
   "execution_count": 45,
   "metadata": {},
   "outputs": [
    {
     "data": {
      "text/plain": [
       "Text(0.5, 0, 'Number of bathrooms')"
      ]
     },
     "execution_count": 45,
     "metadata": {},
     "output_type": "execute_result"
    },
    {
     "data": {
      "image/png": "[encoded data removed]",
      "text/plain": [
       "<Figure size 432x288 with 1 Axes>"
      ]
     },
     "metadata": {
      "needs_background": "light"
     },
     "output_type": "display_data"
    }
   ],
   "source": [
    "plt.hist(train.bathrooms, density=True, bins=8)  # `density=False` would make counts\n",
    "plt.ylabel('probability')\n",
    "plt.xlabel('Number of bathrooms')\n"
   ]
  },
  {
   "cell_type": "code",
   "execution_count": 46,
   "metadata": {},
   "outputs": [
    {
     "data": {
      "text/plain": [
       "Text(0.5, 0, 'Number of bedrooms')"
      ]
     },
     "execution_count": 46,
     "metadata": {},
     "output_type": "execute_result"
    },
    {
     "data": {
      "image/png": "[encoded data removed]",
      "text/plain": [
       "<Figure size 432x288 with 1 Axes>"
      ]
     },
     "metadata": {
      "needs_background": "light"
     },
     "output_type": "display_data"
    }
   ],
   "source": [
    "plt.hist(train.bedrooms, density=True, bins=8)  # `density=False` would make counts\n",
    "plt.ylabel('probability')\n",
    "plt.xlabel('Number of bedrooms')\n",
    "\n"
   ]
  },
  {
   "cell_type": "code",
   "execution_count": 47,
   "metadata": {},
   "outputs": [
    {
     "data": {
      "text/plain": [
       "Text(0.5, 0, 'Year built')"
      ]
     },
     "execution_count": 47,
     "metadata": {},
     "output_type": "execute_result"
    },
    {
     "data": {
      "image/png": "[encoded data removed]",
      "text/plain": [
       "<Figure size 432x288 with 1 Axes>"
      ]
     },
     "metadata": {
      "needs_background": "light"
     },
     "output_type": "display_data"
    }
   ],
   "source": [
    "plt.hist(train.year_built, density=True, bins=8)  # `density=False` would make counts\n",
    "plt.ylabel('probability')\n",
    "plt.xlabel('Year built')"
   ]
  },
  {
   "cell_type": "code",
   "execution_count": 48,
   "metadata": {},
   "outputs": [
    {
     "data": {
      "text/plain": [
       "Text(0.5, 0, 'Square Feet')"
      ]
     },
     "execution_count": 48,
     "metadata": {},
     "output_type": "execute_result"
    },
    {
     "data": {
      "image/png": "[encoded data removed]",
      "text/plain": [
       "<Figure size 432x288 with 1 Axes>"
      ]
     },
     "metadata": {
      "needs_background": "light"
     },
     "output_type": "display_data"
    }
   ],
   "source": [
    "plt.hist(train.square_feet, density=True, bins=[0, 1000, 2000, 3000, 4000, 5000, 6000, 7000, 8000])  # `density=False` would make counts\n",
    "plt.ylabel('probability')\n",
    "plt.xlabel('Square Feet')"
   ]
  },
  {
   "cell_type": "code",
   "execution_count": 49,
   "metadata": {},
   "outputs": [
    {
     "data": {
      "text/plain": [
       "Text(0.5, 0, 'tax_rate')"
      ]
     },
     "execution_count": 49,
     "metadata": {},
     "output_type": "execute_result"
    },
    {
     "data": {
      "image/png": "[encoded data removed]",
      "text/plain": [
       "<Figure size 432x288 with 1 Axes>"
      ]
     },
     "metadata": {
      "needs_background": "light"
     },
     "output_type": "display_data"
    }
   ],
   "source": [
    "plt.hist(df.tax_rate, density=False, bins=[0, 0.01, 0.02, 0.03, 0.04, 0.05])  # `density=False` would make counts\n",
    "plt.ylabel('probability')\n",
    "plt.xlim(0,0.2)\n",
    "plt.xlabel('tax_rate')"
   ]
  },
  {
   "cell_type": "code",
   "execution_count": 50,
   "metadata": {},
   "outputs": [
    {
     "data": {
      "text/plain": [
       "Text(0.5, 0, 'assessed_value')"
      ]
     },
     "execution_count": 50,
     "metadata": {},
     "output_type": "execute_result"
    },
    {
     "data": {
      "image/png": "[encoded data removed]",
      "text/plain": [
       "<Figure size 432x288 with 1 Axes>"
      ]
     },
     "metadata": {
      "needs_background": "light"
     },
     "output_type": "display_data"
    }
   ],
   "source": [
    "plt.hist(df.assessed_value, density=False, bins =[0, 500000, 1000000, 2000000, 3000000, 4000000])  # `density=False` would make counts\n",
    "plt.ylabel('probability')\n",
    "#plt.xlim(0,0.2)\n",
    "plt.xlabel('assessed_value')"
   ]
  },
  {
   "cell_type": "code",
   "execution_count": 51,
   "metadata": {},
   "outputs": [
    {
     "data": {
      "text/plain": [
       "(0.0, 0.04)"
      ]
     },
     "execution_count": 51,
     "metadata": {},
     "output_type": "execute_result"
    },
    {
     "data": {
      "text/plain": [
       "<Figure size 864x432 with 0 Axes>"
      ]
     },
     "metadata": {},
     "output_type": "display_data"
    },
    {
     "data": {
      "image/png": "[encoded data removed]",
      "text/plain": [
       "<Figure size 864x432 with 1 Axes>"
      ]
     },
     "metadata": {
      "needs_background": "light"
     },
     "output_type": "display_data"
    }
   ],
   "source": [
    "plt.figure(figsize=(12,6))\n",
    "plt.figure(figsize=(12,6))\n",
    "sns.boxplot(x= train[train.assessed_value<100000].County, y= train[train.assessed_value<100000].tax_rate, data=train[train.assessed_value<100000])\n",
    "plt.ylim(0,0.04)"
   ]
  },
  {
   "cell_type": "markdown",
   "metadata": {},
   "source": [
    "# It seems like tax rate (average) is higher compared to Orange and Ventura counties"
   ]
  },
  {
   "cell_type": "code",
   "execution_count": 52,
   "metadata": {},
   "outputs": [
    {
     "data": {
      "image/png": "[encoded data removed]",
      "text/plain": [
       "<Figure size 864x288 with 1 Axes>"
      ]
     },
     "metadata": {
      "needs_background": "light"
     },
     "output_type": "display_data"
    },
    {
     "data": {
      "image/png": "[encoded data removed]",
      "text/plain": [
       "<Figure size 864x288 with 1 Axes>"
      ]
     },
     "metadata": {
      "needs_background": "light"
     },
     "output_type": "display_data"
    },
    {
     "data": {
      "text/plain": [
       "<matplotlib.axes._subplots.AxesSubplot at 0x123afffd0>"
      ]
     },
     "execution_count": 52,
     "metadata": {},
     "output_type": "execute_result"
    },
    {
     "data": {
      "image/png": "[encoded data removed]",
      "text/plain": [
       "<Figure size 864x288 with 1 Axes>"
      ]
     },
     "metadata": {
      "needs_background": "light"
     },
     "output_type": "display_data"
    }
   ],
   "source": [
    "plt.figure(figsize=(12,4))\n",
    "# below are plots for tax_rate distributions in three counties\n",
    "sns.distplot(df[df.County == 'Los Angles'].tax_rate, rug=True)\n",
    "plt.show()\n",
    "plt.figure(figsize=(12,4))\n",
    "sns.distplot(df[df.County == 'Orange'].tax_rate, rug=True)\n",
    "plt.show()\n",
    "plt.figure(figsize=(12,4))\n",
    "sns.distplot(df[df.County == 'Ventura'].tax_rate, rug=True)"
   ]
  },
  {
   "cell_type": "markdown",
   "metadata": {},
   "source": [
    "# Lets see if we can add new features to our model. We start by exploring other variables and their correlation with home values. We will use train data for this exploration"
   ]
  },
  {
   "cell_type": "code",
   "execution_count": 209,
   "metadata": {},
   "outputs": [],
   "source": [
    "train_plot2 = train[['assessed_value','bedrooms', 'bathrooms', 'square_feet', 'lot_size', 'year_built']]\n",
    "X_train2 = train[['bedrooms', 'bathrooms', 'square_feet', 'lot_size', 'year_built']]\n",
    "X_test2 = test[['bedrooms', 'bathrooms', 'square_feet', 'lot_size', 'year_built']]"
   ]
  },
  {
   "cell_type": "code",
   "execution_count": 210,
   "metadata": {},
   "outputs": [
    {
     "data": {
      "text/html": [
       "<div>\n",
       "<style scoped>\n",
       "    .dataframe tbody tr th:only-of-type {\n",
       "        vertical-align: middle;\n",
       "    }\n",
       "\n",
       "    .dataframe tbody tr th {\n",
       "        vertical-align: top;\n",
       "    }\n",
       "\n",
       "    .dataframe thead th {\n",
       "        text-align: right;\n",
       "    }\n",
       "</style>\n",
       "<table border=\"1\" class=\"dataframe\">\n",
       "  <thead>\n",
       "    <tr style=\"text-align: right;\">\n",
       "      <th></th>\n",
       "      <th>assessed_value</th>\n",
       "      <th>bedrooms</th>\n",
       "      <th>bathrooms</th>\n",
       "      <th>square_feet</th>\n",
       "      <th>lot_size</th>\n",
       "      <th>year_built</th>\n",
       "    </tr>\n",
       "  </thead>\n",
       "  <tbody>\n",
       "    <tr>\n",
       "      <th>assessed_value</th>\n",
       "      <td>1.000</td>\n",
       "      <td>0.272</td>\n",
       "      <td>0.510</td>\n",
       "      <td>0.599</td>\n",
       "      <td>0.134</td>\n",
       "      <td>0.174</td>\n",
       "    </tr>\n",
       "    <tr>\n",
       "      <th>bedrooms</th>\n",
       "      <td>0.272</td>\n",
       "      <td>1.000</td>\n",
       "      <td>0.646</td>\n",
       "      <td>0.632</td>\n",
       "      <td>0.071</td>\n",
       "      <td>0.394</td>\n",
       "    </tr>\n",
       "    <tr>\n",
       "      <th>bathrooms</th>\n",
       "      <td>0.510</td>\n",
       "      <td>0.646</td>\n",
       "      <td>1.000</td>\n",
       "      <td>0.856</td>\n",
       "      <td>0.157</td>\n",
       "      <td>0.530</td>\n",
       "    </tr>\n",
       "    <tr>\n",
       "      <th>square_feet</th>\n",
       "      <td>0.599</td>\n",
       "      <td>0.632</td>\n",
       "      <td>0.856</td>\n",
       "      <td>1.000</td>\n",
       "      <td>0.199</td>\n",
       "      <td>0.462</td>\n",
       "    </tr>\n",
       "    <tr>\n",
       "      <th>lot_size</th>\n",
       "      <td>0.134</td>\n",
       "      <td>0.071</td>\n",
       "      <td>0.157</td>\n",
       "      <td>0.199</td>\n",
       "      <td>1.000</td>\n",
       "      <td>0.076</td>\n",
       "    </tr>\n",
       "    <tr>\n",
       "      <th>year_built</th>\n",
       "      <td>0.174</td>\n",
       "      <td>0.394</td>\n",
       "      <td>0.530</td>\n",
       "      <td>0.462</td>\n",
       "      <td>0.076</td>\n",
       "      <td>1.000</td>\n",
       "    </tr>\n",
       "  </tbody>\n",
       "</table>\n",
       "</div>"
      ],
      "text/plain": [
       "                assessed_value  bedrooms  bathrooms  square_feet  lot_size  \\\n",
       "assessed_value           1.000     0.272      0.510        0.599     0.134   \n",
       "bedrooms                 0.272     1.000      0.646        0.632     0.071   \n",
       "bathrooms                0.510     0.646      1.000        0.856     0.157   \n",
       "square_feet              0.599     0.632      0.856        1.000     0.199   \n",
       "lot_size                 0.134     0.071      0.157        0.199     1.000   \n",
       "year_built               0.174     0.394      0.530        0.462     0.076   \n",
       "\n",
       "                year_built  \n",
       "assessed_value       0.174  \n",
       "bedrooms             0.394  \n",
       "bathrooms            0.530  \n",
       "square_feet          0.462  \n",
       "lot_size             0.076  \n",
       "year_built           1.000  "
      ]
     },
     "execution_count": 210,
     "metadata": {},
     "output_type": "execute_result"
    }
   ],
   "source": [
    "cm = train_plot2.corr()\n",
    "cm"
   ]
  },
  {
   "cell_type": "code",
   "execution_count": null,
   "metadata": {},
   "outputs": [],
   "source": []
  },
  {
   "cell_type": "code",
   "execution_count": 211,
   "metadata": {},
   "outputs": [
    {
     "data": {
      "text/plain": [
       "<matplotlib.axes._subplots.AxesSubplot at 0x125557710>"
      ]
     },
     "execution_count": 211,
     "metadata": {},
     "output_type": "execute_result"
    },
    {
     "data": {
      "image/png": "[encoded data removed]",
      "text/plain": [
       "<Figure size 576x432 with 2 Axes>"
      ]
     },
     "metadata": {
      "needs_background": "light"
     },
     "output_type": "display_data"
    }
   ],
   "source": [
    "# lets look at heatmap and corresponding correlation values \n",
    "plt.figure(figsize=(8,6))\n",
    "sns.heatmap(cm, annot=True, cmap='viridis')"
   ]
  },
  {
   "cell_type": "markdown",
   "metadata": {},
   "source": [
    "The heatmap suggests some correlation between lot_size,year_built and home value too.\n",
    "\n",
    "The histograms above for bedroom, bathroom and square_feet are right skewed. We can possibly tranform the data using log scale to make them more 'normal'"
   ]
  },
  {
   "cell_type": "code",
   "execution_count": 212,
   "metadata": {},
   "outputs": [
    {
     "data": {
      "text/plain": [
       "<matplotlib.axes._subplots.AxesSubplot at 0x123c05ed0>"
      ]
     },
     "execution_count": 212,
     "metadata": {},
     "output_type": "execute_result"
    },
    {
     "data": {
      "image/png": "[encoded data removed]",
      "text/plain": [
       "<Figure size 432x288 with 1 Axes>"
      ]
     },
     "metadata": {
      "needs_background": "light"
     },
     "output_type": "display_data"
    }
   ],
   "source": [
    "df.bedrooms.plot.kde(bw_method=3)\n"
   ]
  },
  {
   "cell_type": "code",
   "execution_count": 213,
   "metadata": {},
   "outputs": [
    {
     "data": {
      "text/plain": [
       "<matplotlib.axes._subplots.AxesSubplot at 0x11e3059d0>"
      ]
     },
     "execution_count": 213,
     "metadata": {},
     "output_type": "execute_result"
    },
    {
     "data": {
      "image/png": "[encoded data removed]",
      "text/plain": [
       "<Figure size 432x288 with 1 Axes>"
      ]
     },
     "metadata": {
      "needs_background": "light"
     },
     "output_type": "display_data"
    }
   ],
   "source": [
    "df.bathrooms.plot.kde(bw_method=3)"
   ]
  },
  {
   "cell_type": "code",
   "execution_count": 214,
   "metadata": {},
   "outputs": [
    {
     "data": {
      "text/plain": [
       "<matplotlib.axes._subplots.AxesSubplot at 0x124f52850>"
      ]
     },
     "execution_count": 214,
     "metadata": {},
     "output_type": "execute_result"
    },
    {
     "data": {
      "image/png": "[encoded data removed]",
      "text/plain": [
       "<Figure size 432x288 with 1 Axes>"
      ]
     },
     "metadata": {
      "needs_background": "light"
     },
     "output_type": "display_data"
    }
   ],
   "source": [
    "df.square_feet.plot.kde(bw_method=3)"
   ]
  },
  {
   "cell_type": "markdown",
   "metadata": {},
   "source": [
    "lets use standard scaler and scale all independent variables"
   ]
  },
  {
   "cell_type": "code",
   "execution_count": 215,
   "metadata": {},
   "outputs": [],
   "source": [
    "#scaler, X_train_scaled,  X_test_scaled= split_scale.robust_scalar_scaler(X_train2, X_test2)\n",
    "scaler, X_train_scaled, X_test_scaled = split_scale.iqr_robust_scaler(X_train2, X_test2)"
   ]
  },
  {
   "cell_type": "code",
   "execution_count": 216,
   "metadata": {},
   "outputs": [
    {
     "data": {
      "text/plain": [
       "array([[<matplotlib.axes._subplots.AxesSubplot object at 0x124f67510>,\n",
       "        <matplotlib.axes._subplots.AxesSubplot object at 0x1243e7d90>],\n",
       "       [<matplotlib.axes._subplots.AxesSubplot object at 0x11edc9b90>,\n",
       "        <matplotlib.axes._subplots.AxesSubplot object at 0x125070b50>],\n",
       "       [<matplotlib.axes._subplots.AxesSubplot object at 0x11ede2f90>,\n",
       "        <matplotlib.axes._subplots.AxesSubplot object at 0x11edb5690>]],\n",
       "      dtype=object)"
      ]
     },
     "execution_count": 216,
     "metadata": {},
     "output_type": "execute_result"
    },
    {
     "data": {
      "image/png": "[encoded data removed]",
      "text/plain": [
       "<Figure size 432x288 with 6 Axes>"
      ]
     },
     "metadata": {
      "needs_background": "light"
     },
     "output_type": "display_data"
    }
   ],
   "source": [
    "X_train_scaled.hist()"
   ]
  },
  {
   "cell_type": "code",
   "execution_count": 217,
   "metadata": {},
   "outputs": [],
   "source": [
    "y_train = train[['assessed_value']]"
   ]
  },
  {
   "cell_type": "code",
   "execution_count": 218,
   "metadata": {},
   "outputs": [],
   "source": [
    "lm = LinearRegression()"
   ]
  },
  {
   "cell_type": "code",
   "execution_count": 219,
   "metadata": {},
   "outputs": [],
   "source": [
    "rfe = RFE(lm, 4)"
   ]
  },
  {
   "cell_type": "code",
   "execution_count": 220,
   "metadata": {},
   "outputs": [],
   "source": [
    "X_rfe = rfe.fit_transform(X_train_scaled,y_train)"
   ]
  },
  {
   "cell_type": "code",
   "execution_count": 221,
   "metadata": {},
   "outputs": [
    {
     "name": "stdout",
     "output_type": "stream",
     "text": [
      "selected 4 features: bedrooms, bathrooms, square_feet, year_built\n"
     ]
    }
   ],
   "source": [
    "mask = rfe.support_\n",
    "\n",
    "# select the column names of the features that were selected and convert them to a list for future use. \n",
    "rfe_features = X_train_scaled.columns[mask]\n",
    "\n",
    "# print them out here for our reference\n",
    "print(f'selected {len(rfe_features)} features:', ', '.join(rfe_features))"
   ]
  },
  {
   "cell_type": "code",
   "execution_count": 222,
   "metadata": {},
   "outputs": [],
   "source": [
    "lm = LinearRegression()"
   ]
  },
  {
   "cell_type": "code",
   "execution_count": 223,
   "metadata": {},
   "outputs": [
    {
     "data": {
      "text/plain": [
       "LinearRegression(copy_X=True, fit_intercept=True, n_jobs=None, normalize=False)"
      ]
     },
     "execution_count": 223,
     "metadata": {},
     "output_type": "execute_result"
    }
   ],
   "source": [
    "lm.fit(X_rfe, y_train)"
   ]
  },
  {
   "cell_type": "code",
   "execution_count": 224,
   "metadata": {},
   "outputs": [
    {
     "name": "stdout",
     "output_type": "stream",
     "text": [
      "Linear Model: LinearRegression(copy_X=True, fit_intercept=True, n_jobs=None, normalize=False)\n",
      "intercept:  [438141.45095039]\n",
      "features:  Index(['bedrooms', 'bathrooms', 'square_feet', 'year_built'], dtype='object')\n",
      "coefficients:  [[-138813.57891587   91626.68903697  517938.24857418 -121770.52872871]]\n"
     ]
    }
   ],
   "source": [
    "print(\"Linear Model:\", lm)\n",
    "\n",
    "print(\"intercept: \", lm.intercept_)\n",
    "\n",
    "print(\"features: \", rfe_features)\n",
    "print(\"coefficients: \", lm.coef_)"
   ]
  },
  {
   "cell_type": "code",
   "execution_count": 225,
   "metadata": {},
   "outputs": [
    {
     "data": {
      "text/plain": [
       "array([[ 1.        ,  0.        , -0.12852154,  0.36666667],\n",
       "       [ 0.        ,  0.        , -0.22817229, -0.1       ],\n",
       "       [ 1.        ,  2.        ,  1.20419092,  0.2       ],\n",
       "       ...,\n",
       "       [ 0.        ,  0.        ,  0.01583236, -0.16666667],\n",
       "       [ 1.        ,  1.        ,  0.35389988,  0.66666667],\n",
       "       [ 1.        ,  2.        ,  1.25075669, -1.5       ]])"
      ]
     },
     "execution_count": 225,
     "metadata": {},
     "output_type": "execute_result"
    }
   ],
   "source": [
    "X_rfe"
   ]
  },
  {
   "cell_type": "code",
   "execution_count": 226,
   "metadata": {},
   "outputs": [
    {
     "ename": "ValueError",
     "evalue": "Length of values does not match length of index",
     "output_type": "error",
     "traceback": [
      "\u001b[0;31m---------------------------------------------------------------------------\u001b[0m",
      "\u001b[0;31mValueError\u001b[0m                                Traceback (most recent call last)",
      "\u001b[0;32m<ipython-input-226-10a90e9da100>\u001b[0m in \u001b[0;36m<module>\u001b[0;34m\u001b[0m\n\u001b[0;32m----> 1\u001b[0;31m \u001b[0mpredictions\u001b[0m\u001b[0;34m[\u001b[0m\u001b[0;34m'yhat_lm_rfe'\u001b[0m\u001b[0;34m]\u001b[0m \u001b[0;34m=\u001b[0m \u001b[0mlm\u001b[0m\u001b[0;34m.\u001b[0m\u001b[0mpredict\u001b[0m\u001b[0;34m(\u001b[0m\u001b[0mX_rfe\u001b[0m\u001b[0;34m)\u001b[0m\u001b[0;34m\u001b[0m\u001b[0;34m\u001b[0m\u001b[0m\n\u001b[0m",
      "\u001b[0;32m/usr/local/anaconda3/lib/python3.7/site-packages/pandas/core/frame.py\u001b[0m in \u001b[0;36m__setitem__\u001b[0;34m(self, key, value)\u001b[0m\n\u001b[1;32m   3485\u001b[0m         \u001b[0;32melse\u001b[0m\u001b[0;34m:\u001b[0m\u001b[0;34m\u001b[0m\u001b[0;34m\u001b[0m\u001b[0m\n\u001b[1;32m   3486\u001b[0m             \u001b[0;31m# set column\u001b[0m\u001b[0;34m\u001b[0m\u001b[0;34m\u001b[0m\u001b[0;34m\u001b[0m\u001b[0m\n\u001b[0;32m-> 3487\u001b[0;31m             \u001b[0mself\u001b[0m\u001b[0;34m.\u001b[0m\u001b[0m_set_item\u001b[0m\u001b[0;34m(\u001b[0m\u001b[0mkey\u001b[0m\u001b[0;34m,\u001b[0m \u001b[0mvalue\u001b[0m\u001b[0;34m)\u001b[0m\u001b[0;34m\u001b[0m\u001b[0;34m\u001b[0m\u001b[0m\n\u001b[0m\u001b[1;32m   3488\u001b[0m \u001b[0;34m\u001b[0m\u001b[0m\n\u001b[1;32m   3489\u001b[0m     \u001b[0;32mdef\u001b[0m \u001b[0m_setitem_slice\u001b[0m\u001b[0;34m(\u001b[0m\u001b[0mself\u001b[0m\u001b[0;34m,\u001b[0m \u001b[0mkey\u001b[0m\u001b[0;34m,\u001b[0m \u001b[0mvalue\u001b[0m\u001b[0;34m)\u001b[0m\u001b[0;34m:\u001b[0m\u001b[0;34m\u001b[0m\u001b[0;34m\u001b[0m\u001b[0m\n",
      "\u001b[0;32m/usr/local/anaconda3/lib/python3.7/site-packages/pandas/core/frame.py\u001b[0m in \u001b[0;36m_set_item\u001b[0;34m(self, key, value)\u001b[0m\n\u001b[1;32m   3562\u001b[0m \u001b[0;34m\u001b[0m\u001b[0m\n\u001b[1;32m   3563\u001b[0m         \u001b[0mself\u001b[0m\u001b[0;34m.\u001b[0m\u001b[0m_ensure_valid_index\u001b[0m\u001b[0;34m(\u001b[0m\u001b[0mvalue\u001b[0m\u001b[0;34m)\u001b[0m\u001b[0;34m\u001b[0m\u001b[0;34m\u001b[0m\u001b[0m\n\u001b[0;32m-> 3564\u001b[0;31m         \u001b[0mvalue\u001b[0m \u001b[0;34m=\u001b[0m \u001b[0mself\u001b[0m\u001b[0;34m.\u001b[0m\u001b[0m_sanitize_column\u001b[0m\u001b[0;34m(\u001b[0m\u001b[0mkey\u001b[0m\u001b[0;34m,\u001b[0m \u001b[0mvalue\u001b[0m\u001b[0;34m)\u001b[0m\u001b[0;34m\u001b[0m\u001b[0;34m\u001b[0m\u001b[0m\n\u001b[0m\u001b[1;32m   3565\u001b[0m         \u001b[0mNDFrame\u001b[0m\u001b[0;34m.\u001b[0m\u001b[0m_set_item\u001b[0m\u001b[0;34m(\u001b[0m\u001b[0mself\u001b[0m\u001b[0;34m,\u001b[0m \u001b[0mkey\u001b[0m\u001b[0;34m,\u001b[0m \u001b[0mvalue\u001b[0m\u001b[0;34m)\u001b[0m\u001b[0;34m\u001b[0m\u001b[0;34m\u001b[0m\u001b[0m\n\u001b[1;32m   3566\u001b[0m \u001b[0;34m\u001b[0m\u001b[0m\n",
      "\u001b[0;32m/usr/local/anaconda3/lib/python3.7/site-packages/pandas/core/frame.py\u001b[0m in \u001b[0;36m_sanitize_column\u001b[0;34m(self, key, value, broadcast)\u001b[0m\n\u001b[1;32m   3747\u001b[0m \u001b[0;34m\u001b[0m\u001b[0m\n\u001b[1;32m   3748\u001b[0m             \u001b[0;31m# turn me into an ndarray\u001b[0m\u001b[0;34m\u001b[0m\u001b[0;34m\u001b[0m\u001b[0;34m\u001b[0m\u001b[0m\n\u001b[0;32m-> 3749\u001b[0;31m             \u001b[0mvalue\u001b[0m \u001b[0;34m=\u001b[0m \u001b[0msanitize_index\u001b[0m\u001b[0;34m(\u001b[0m\u001b[0mvalue\u001b[0m\u001b[0;34m,\u001b[0m \u001b[0mself\u001b[0m\u001b[0;34m.\u001b[0m\u001b[0mindex\u001b[0m\u001b[0;34m,\u001b[0m \u001b[0mcopy\u001b[0m\u001b[0;34m=\u001b[0m\u001b[0;32mFalse\u001b[0m\u001b[0;34m)\u001b[0m\u001b[0;34m\u001b[0m\u001b[0;34m\u001b[0m\u001b[0m\n\u001b[0m\u001b[1;32m   3750\u001b[0m             \u001b[0;32mif\u001b[0m \u001b[0;32mnot\u001b[0m \u001b[0misinstance\u001b[0m\u001b[0;34m(\u001b[0m\u001b[0mvalue\u001b[0m\u001b[0;34m,\u001b[0m \u001b[0;34m(\u001b[0m\u001b[0mnp\u001b[0m\u001b[0;34m.\u001b[0m\u001b[0mndarray\u001b[0m\u001b[0;34m,\u001b[0m \u001b[0mIndex\u001b[0m\u001b[0;34m)\u001b[0m\u001b[0;34m)\u001b[0m\u001b[0;34m:\u001b[0m\u001b[0;34m\u001b[0m\u001b[0;34m\u001b[0m\u001b[0m\n\u001b[1;32m   3751\u001b[0m                 \u001b[0;32mif\u001b[0m \u001b[0misinstance\u001b[0m\u001b[0;34m(\u001b[0m\u001b[0mvalue\u001b[0m\u001b[0;34m,\u001b[0m \u001b[0mlist\u001b[0m\u001b[0;34m)\u001b[0m \u001b[0;32mand\u001b[0m \u001b[0mlen\u001b[0m\u001b[0;34m(\u001b[0m\u001b[0mvalue\u001b[0m\u001b[0;34m)\u001b[0m \u001b[0;34m>\u001b[0m \u001b[0;36m0\u001b[0m\u001b[0;34m:\u001b[0m\u001b[0;34m\u001b[0m\u001b[0;34m\u001b[0m\u001b[0m\n",
      "\u001b[0;32m/usr/local/anaconda3/lib/python3.7/site-packages/pandas/core/internals/construction.py\u001b[0m in \u001b[0;36msanitize_index\u001b[0;34m(data, index, copy)\u001b[0m\n\u001b[1;32m    610\u001b[0m \u001b[0;34m\u001b[0m\u001b[0m\n\u001b[1;32m    611\u001b[0m     \u001b[0;32mif\u001b[0m \u001b[0mlen\u001b[0m\u001b[0;34m(\u001b[0m\u001b[0mdata\u001b[0m\u001b[0;34m)\u001b[0m \u001b[0;34m!=\u001b[0m \u001b[0mlen\u001b[0m\u001b[0;34m(\u001b[0m\u001b[0mindex\u001b[0m\u001b[0;34m)\u001b[0m\u001b[0;34m:\u001b[0m\u001b[0;34m\u001b[0m\u001b[0;34m\u001b[0m\u001b[0m\n\u001b[0;32m--> 612\u001b[0;31m         \u001b[0;32mraise\u001b[0m \u001b[0mValueError\u001b[0m\u001b[0;34m(\u001b[0m\u001b[0;34m\"Length of values does not match length of index\"\u001b[0m\u001b[0;34m)\u001b[0m\u001b[0;34m\u001b[0m\u001b[0;34m\u001b[0m\u001b[0m\n\u001b[0m\u001b[1;32m    613\u001b[0m \u001b[0;34m\u001b[0m\u001b[0m\n\u001b[1;32m    614\u001b[0m     \u001b[0;32mif\u001b[0m \u001b[0misinstance\u001b[0m\u001b[0;34m(\u001b[0m\u001b[0mdata\u001b[0m\u001b[0;34m,\u001b[0m \u001b[0mABCIndexClass\u001b[0m\u001b[0;34m)\u001b[0m \u001b[0;32mand\u001b[0m \u001b[0;32mnot\u001b[0m \u001b[0mcopy\u001b[0m\u001b[0;34m:\u001b[0m\u001b[0;34m\u001b[0m\u001b[0;34m\u001b[0m\u001b[0m\n",
      "\u001b[0;31mValueError\u001b[0m: Length of values does not match length of index"
     ]
    }
   ],
   "source": [
    "predictions['yhat_lm_rfe'] = lm.predict(X_rfe)"
   ]
  },
  {
   "cell_type": "code",
   "execution_count": 227,
   "metadata": {},
   "outputs": [
    {
     "data": {
      "text/plain": [
       "actual          0.000\n",
       "yhat_lm    193941.156\n",
       "baseline   209842.000\n",
       "dtype: float64"
      ]
     },
     "execution_count": 227,
     "metadata": {},
     "output_type": "execute_result"
    }
   ],
   "source": [
    "predictions.apply(lambda col: median_absolute_error(predictions.actual, col))"
   ]
  },
  {
   "cell_type": "code",
   "execution_count": 228,
   "metadata": {},
   "outputs": [
    {
     "data": {
      "text/html": [
       "<div>\n",
       "<style scoped>\n",
       "    .dataframe tbody tr th:only-of-type {\n",
       "        vertical-align: middle;\n",
       "    }\n",
       "\n",
       "    .dataframe tbody tr th {\n",
       "        vertical-align: top;\n",
       "    }\n",
       "\n",
       "    .dataframe thead th {\n",
       "        text-align: right;\n",
       "    }\n",
       "</style>\n",
       "<table border=\"1\" class=\"dataframe\">\n",
       "  <thead>\n",
       "    <tr style=\"text-align: right;\">\n",
       "      <th></th>\n",
       "      <th>actual</th>\n",
       "      <th>yhat_lm</th>\n",
       "      <th>baseline</th>\n",
       "    </tr>\n",
       "  </thead>\n",
       "  <tbody>\n",
       "    <tr>\n",
       "      <th>11938</th>\n",
       "      <td>268557.000</td>\n",
       "      <td>718051.869</td>\n",
       "      <td>389610.000</td>\n",
       "    </tr>\n",
       "    <tr>\n",
       "      <th>790</th>\n",
       "      <td>95849.000</td>\n",
       "      <td>316295.362</td>\n",
       "      <td>389610.000</td>\n",
       "    </tr>\n",
       "    <tr>\n",
       "      <th>3846</th>\n",
       "      <td>324613.000</td>\n",
       "      <td>606590.711</td>\n",
       "      <td>389610.000</td>\n",
       "    </tr>\n",
       "    <tr>\n",
       "      <th>14846</th>\n",
       "      <td>499860.000</td>\n",
       "      <td>832519.898</td>\n",
       "      <td>389610.000</td>\n",
       "    </tr>\n",
       "    <tr>\n",
       "      <th>1469</th>\n",
       "      <td>517777.000</td>\n",
       "      <td>302273.270</td>\n",
       "      <td>389610.000</td>\n",
       "    </tr>\n",
       "  </tbody>\n",
       "</table>\n",
       "</div>"
      ],
      "text/plain": [
       "          actual    yhat_lm   baseline\n",
       "11938 268557.000 718051.869 389610.000\n",
       "790    95849.000 316295.362 389610.000\n",
       "3846  324613.000 606590.711 389610.000\n",
       "14846 499860.000 832519.898 389610.000\n",
       "1469  517777.000 302273.270 389610.000"
      ]
     },
     "execution_count": 228,
     "metadata": {},
     "output_type": "execute_result"
    }
   ],
   "source": [
    "predictions.head()"
   ]
  },
  {
   "cell_type": "code",
   "execution_count": 229,
   "metadata": {
    "scrolled": true
   },
   "outputs": [
    {
     "ename": "AttributeError",
     "evalue": "'DataFrame' object has no attribute 'yhat_lm_rfe'",
     "output_type": "error",
     "traceback": [
      "\u001b[0;31m---------------------------------------------------------------------------\u001b[0m",
      "\u001b[0;31mAttributeError\u001b[0m                            Traceback (most recent call last)",
      "\u001b[0;32m<ipython-input-229-b6ea8087137c>\u001b[0m in \u001b[0;36m<module>\u001b[0;34m\u001b[0m\n\u001b[0;32m----> 1\u001b[0;31m \u001b[0mevaluate\u001b[0m\u001b[0;34m.\u001b[0m\u001b[0mplot_residuals\u001b[0m\u001b[0;34m(\u001b[0m\u001b[0mpredictions\u001b[0m\u001b[0;34m.\u001b[0m\u001b[0mactual\u001b[0m\u001b[0;34m,\u001b[0m \u001b[0mpredictions\u001b[0m\u001b[0;34m.\u001b[0m\u001b[0myhat_lm_rfe\u001b[0m\u001b[0;34m,\u001b[0m \u001b[0mpredictions\u001b[0m\u001b[0;34m)\u001b[0m\u001b[0;34m\u001b[0m\u001b[0;34m\u001b[0m\u001b[0m\n\u001b[0m\u001b[1;32m      2\u001b[0m \u001b[0mevaluate\u001b[0m\u001b[0;34m.\u001b[0m\u001b[0mplot_residuals\u001b[0m\u001b[0;34m(\u001b[0m\u001b[0mpredictions\u001b[0m\u001b[0;34m.\u001b[0m\u001b[0mactual\u001b[0m\u001b[0;34m,\u001b[0m \u001b[0mpredictions\u001b[0m\u001b[0;34m.\u001b[0m\u001b[0myhat_lm\u001b[0m\u001b[0;34m,\u001b[0m \u001b[0mpredictions\u001b[0m\u001b[0;34m)\u001b[0m\u001b[0;34m\u001b[0m\u001b[0;34m\u001b[0m\u001b[0m\n",
      "\u001b[0;32m/usr/local/anaconda3/lib/python3.7/site-packages/pandas/core/generic.py\u001b[0m in \u001b[0;36m__getattr__\u001b[0;34m(self, name)\u001b[0m\n\u001b[1;32m   5177\u001b[0m             \u001b[0;32mif\u001b[0m \u001b[0mself\u001b[0m\u001b[0;34m.\u001b[0m\u001b[0m_info_axis\u001b[0m\u001b[0;34m.\u001b[0m\u001b[0m_can_hold_identifiers_and_holds_name\u001b[0m\u001b[0;34m(\u001b[0m\u001b[0mname\u001b[0m\u001b[0;34m)\u001b[0m\u001b[0;34m:\u001b[0m\u001b[0;34m\u001b[0m\u001b[0;34m\u001b[0m\u001b[0m\n\u001b[1;32m   5178\u001b[0m                 \u001b[0;32mreturn\u001b[0m \u001b[0mself\u001b[0m\u001b[0;34m[\u001b[0m\u001b[0mname\u001b[0m\u001b[0;34m]\u001b[0m\u001b[0;34m\u001b[0m\u001b[0;34m\u001b[0m\u001b[0m\n\u001b[0;32m-> 5179\u001b[0;31m             \u001b[0;32mreturn\u001b[0m \u001b[0mobject\u001b[0m\u001b[0;34m.\u001b[0m\u001b[0m__getattribute__\u001b[0m\u001b[0;34m(\u001b[0m\u001b[0mself\u001b[0m\u001b[0;34m,\u001b[0m \u001b[0mname\u001b[0m\u001b[0;34m)\u001b[0m\u001b[0;34m\u001b[0m\u001b[0;34m\u001b[0m\u001b[0m\n\u001b[0m\u001b[1;32m   5180\u001b[0m \u001b[0;34m\u001b[0m\u001b[0m\n\u001b[1;32m   5181\u001b[0m     \u001b[0;32mdef\u001b[0m \u001b[0m__setattr__\u001b[0m\u001b[0;34m(\u001b[0m\u001b[0mself\u001b[0m\u001b[0;34m,\u001b[0m \u001b[0mname\u001b[0m\u001b[0;34m,\u001b[0m \u001b[0mvalue\u001b[0m\u001b[0;34m)\u001b[0m\u001b[0;34m:\u001b[0m\u001b[0;34m\u001b[0m\u001b[0;34m\u001b[0m\u001b[0m\n",
      "\u001b[0;31mAttributeError\u001b[0m: 'DataFrame' object has no attribute 'yhat_lm_rfe'"
     ]
    }
   ],
   "source": [
    "evaluate.plot_residuals(predictions.actual, predictions.yhat_lm_rfe, predictions)\n",
    "evaluate.plot_residuals(predictions.actual, predictions.yhat_lm, predictions)"
   ]
  },
  {
   "cell_type": "markdown",
   "metadata": {},
   "source": [
    "# Lets apply Linear Regression model using the selected features above to the test dataset"
   ]
  },
  {
   "cell_type": "code",
   "execution_count": 230,
   "metadata": {},
   "outputs": [
    {
     "data": {
      "text/html": [
       "<div>\n",
       "<style scoped>\n",
       "    .dataframe tbody tr th:only-of-type {\n",
       "        vertical-align: middle;\n",
       "    }\n",
       "\n",
       "    .dataframe tbody tr th {\n",
       "        vertical-align: top;\n",
       "    }\n",
       "\n",
       "    .dataframe thead th {\n",
       "        text-align: right;\n",
       "    }\n",
       "</style>\n",
       "<table border=\"1\" class=\"dataframe\">\n",
       "  <thead>\n",
       "    <tr style=\"text-align: right;\">\n",
       "      <th></th>\n",
       "      <th>bedrooms</th>\n",
       "      <th>bathrooms</th>\n",
       "      <th>square_feet</th>\n",
       "      <th>lot_size</th>\n",
       "      <th>year_built</th>\n",
       "    </tr>\n",
       "  </thead>\n",
       "  <tbody>\n",
       "    <tr>\n",
       "      <th>5884</th>\n",
       "      <td>0.000</td>\n",
       "      <td>0.000</td>\n",
       "      <td>0.433</td>\n",
       "      <td>0.828</td>\n",
       "      <td>-0.633</td>\n",
       "    </tr>\n",
       "    <tr>\n",
       "      <th>1583</th>\n",
       "      <td>1.000</td>\n",
       "      <td>0.500</td>\n",
       "      <td>-0.021</td>\n",
       "      <td>-0.361</td>\n",
       "      <td>0.100</td>\n",
       "    </tr>\n",
       "    <tr>\n",
       "      <th>13532</th>\n",
       "      <td>-1.000</td>\n",
       "      <td>0.000</td>\n",
       "      <td>-0.224</td>\n",
       "      <td>1.656</td>\n",
       "      <td>-0.100</td>\n",
       "    </tr>\n",
       "    <tr>\n",
       "      <th>12732</th>\n",
       "      <td>0.000</td>\n",
       "      <td>0.500</td>\n",
       "      <td>0.167</td>\n",
       "      <td>-0.561</td>\n",
       "      <td>0.600</td>\n",
       "    </tr>\n",
       "    <tr>\n",
       "      <th>11248</th>\n",
       "      <td>1.000</td>\n",
       "      <td>1.000</td>\n",
       "      <td>0.357</td>\n",
       "      <td>13.719</td>\n",
       "      <td>0.267</td>\n",
       "    </tr>\n",
       "  </tbody>\n",
       "</table>\n",
       "</div>"
      ],
      "text/plain": [
       "       bedrooms  bathrooms  square_feet  lot_size  year_built\n",
       "5884      0.000      0.000        0.433     0.828      -0.633\n",
       "1583      1.000      0.500       -0.021    -0.361       0.100\n",
       "13532    -1.000      0.000       -0.224     1.656      -0.100\n",
       "12732     0.000      0.500        0.167    -0.561       0.600\n",
       "11248     1.000      1.000        0.357    13.719       0.267"
      ]
     },
     "execution_count": 230,
     "metadata": {},
     "output_type": "execute_result"
    }
   ],
   "source": [
    "X_test_scaled.head()"
   ]
  },
  {
   "cell_type": "code",
   "execution_count": 231,
   "metadata": {},
   "outputs": [],
   "source": [
    "X_test_rfe = rfe.transform(X_test_scaled)"
   ]
  },
  {
   "cell_type": "code",
   "execution_count": 232,
   "metadata": {},
   "outputs": [
    {
     "data": {
      "text/plain": [
       "2975"
      ]
     },
     "execution_count": 232,
     "metadata": {},
     "output_type": "execute_result"
    }
   ],
   "source": [
    "len(X_test_rfe)"
   ]
  },
  {
   "cell_type": "code",
   "execution_count": 233,
   "metadata": {},
   "outputs": [],
   "source": [
    "y_test1 = test[['assessed_value']]\n",
    "y_test1['test_prediction'] = lm.predict(X_test_rfe)"
   ]
  },
  {
   "cell_type": "code",
   "execution_count": 234,
   "metadata": {},
   "outputs": [
    {
     "name": "stdout",
     "output_type": "stream",
     "text": [
      "Linear Model: LinearRegression(copy_X=True, fit_intercept=True, n_jobs=None, normalize=False)\n",
      "intercept:  [438141.45095039]\n",
      "coefficients:  [[-138813.57891587   91626.68903697  517938.24857418 -121770.52872871]]\n"
     ]
    }
   ],
   "source": [
    "print(\"Linear Model:\", lm)\n",
    "\n",
    "print(\"intercept: \", lm.intercept_)\n",
    "\n",
    "print(\"coefficients: \", lm.coef_)"
   ]
  },
  {
   "cell_type": "code",
   "execution_count": 235,
   "metadata": {},
   "outputs": [
    {
     "data": {
      "text/html": [
       "<div>\n",
       "<style scoped>\n",
       "    .dataframe tbody tr th:only-of-type {\n",
       "        vertical-align: middle;\n",
       "    }\n",
       "\n",
       "    .dataframe tbody tr th {\n",
       "        vertical-align: top;\n",
       "    }\n",
       "\n",
       "    .dataframe thead th {\n",
       "        text-align: right;\n",
       "    }\n",
       "</style>\n",
       "<table border=\"1\" class=\"dataframe\">\n",
       "  <thead>\n",
       "    <tr style=\"text-align: right;\">\n",
       "      <th></th>\n",
       "      <th>assessed_value</th>\n",
       "      <th>test_prediction</th>\n",
       "    </tr>\n",
       "  </thead>\n",
       "  <tbody>\n",
       "    <tr>\n",
       "      <th>5884</th>\n",
       "      <td>127320.000</td>\n",
       "      <td>739562.004</td>\n",
       "    </tr>\n",
       "    <tr>\n",
       "      <th>1583</th>\n",
       "      <td>576498.000</td>\n",
       "      <td>321869.794</td>\n",
       "    </tr>\n",
       "    <tr>\n",
       "      <th>13532</th>\n",
       "      <td>161853.000</td>\n",
       "      <td>473364.744</td>\n",
       "    </tr>\n",
       "    <tr>\n",
       "      <th>12732</th>\n",
       "      <td>357559.000</td>\n",
       "      <td>497235.618</td>\n",
       "    </tr>\n",
       "    <tr>\n",
       "      <th>11248</th>\n",
       "      <td>355506.000</td>\n",
       "      <td>543227.798</td>\n",
       "    </tr>\n",
       "  </tbody>\n",
       "</table>\n",
       "</div>"
      ],
      "text/plain": [
       "       assessed_value  test_prediction\n",
       "5884       127320.000       739562.004\n",
       "1583       576498.000       321869.794\n",
       "13532      161853.000       473364.744\n",
       "12732      357559.000       497235.618\n",
       "11248      355506.000       543227.798"
      ]
     },
     "execution_count": 235,
     "metadata": {},
     "output_type": "execute_result"
    }
   ],
   "source": [
    "y_test1.head()"
   ]
  },
  {
   "cell_type": "code",
   "execution_count": 237,
   "metadata": {},
   "outputs": [
    {
     "data": {
      "text/plain": [
       "assessed_value         0.000\n",
       "test_prediction   196049.157\n",
       "dtype: float64"
      ]
     },
     "execution_count": 237,
     "metadata": {},
     "output_type": "execute_result"
    }
   ],
   "source": [
    "y_test1.apply(lambda col: median_absolute_error(y_test1.assessed_value, col))"
   ]
  },
  {
   "cell_type": "markdown",
   "metadata": {},
   "source": [
    "The test data has similar RMSE as train data. This means our model is not overfitted"
   ]
  },
  {
   "cell_type": "markdown",
   "metadata": {},
   "source": [
    "Polynomial Regression Model"
   ]
  },
  {
   "cell_type": "code",
   "execution_count": 238,
   "metadata": {},
   "outputs": [
    {
     "ename": "NameError",
     "evalue": "name 'X_test_scaled_rfe' is not defined",
     "output_type": "error",
     "traceback": [
      "\u001b[0;31m---------------------------------------------------------------------------\u001b[0m",
      "\u001b[0;31mNameError\u001b[0m                                 Traceback (most recent call last)",
      "\u001b[0;32m<ipython-input-238-75806a5f93e3>\u001b[0m in \u001b[0;36m<module>\u001b[0;34m\u001b[0m\n\u001b[0;32m----> 1\u001b[0;31m \u001b[0my_test1\u001b[0m\u001b[0;34m[\u001b[0m\u001b[0;34m'test_prediction'\u001b[0m\u001b[0;34m]\u001b[0m \u001b[0;34m=\u001b[0m \u001b[0mlm\u001b[0m\u001b[0;34m.\u001b[0m\u001b[0mpredict\u001b[0m\u001b[0;34m(\u001b[0m\u001b[0mX_test_scaled_rfe\u001b[0m\u001b[0;34m)\u001b[0m\u001b[0;34m\u001b[0m\u001b[0;34m\u001b[0m\u001b[0m\n\u001b[0m",
      "\u001b[0;31mNameError\u001b[0m: name 'X_test_scaled_rfe' is not defined"
     ]
    }
   ],
   "source": [
    "#y_test1['test_prediction'] = lm.predict(X_test_scaled_rfe)"
   ]
  },
  {
   "cell_type": "code",
   "execution_count": 247,
   "metadata": {},
   "outputs": [
    {
     "data": {
      "text/plain": [
       "['1',\n",
       " 'x0',\n",
       " 'x1',\n",
       " 'x2',\n",
       " 'x3',\n",
       " 'x0^2',\n",
       " 'x0 x1',\n",
       " 'x0 x2',\n",
       " 'x0 x3',\n",
       " 'x1^2',\n",
       " 'x1 x2',\n",
       " 'x1 x3',\n",
       " 'x2^2',\n",
       " 'x2 x3',\n",
       " 'x3^2']"
      ]
     },
     "execution_count": 247,
     "metadata": {},
     "output_type": "execute_result"
    }
   ],
   "source": [
    "from sklearn.preprocessing import PolynomialFeatures\n",
    "\n",
    "poly = PolynomialFeatures(degree=2)\n",
    "X_poly = poly.fit_transform(X_rfe)\n",
    "poly.get_feature_names()"
   ]
  },
  {
   "cell_type": "code",
   "execution_count": 248,
   "metadata": {},
   "outputs": [],
   "source": [
    "lm_poly = LinearRegression()\n",
    "lm_poly.fit(X_poly, y_train.assessed_value)\n",
    "y_train['yhat_poly'] = lm_poly.predict(X_poly)"
   ]
  },
  {
   "cell_type": "code",
   "execution_count": 251,
   "metadata": {},
   "outputs": [
    {
     "data": {
      "text/html": [
       "<div>\n",
       "<style scoped>\n",
       "    .dataframe tbody tr th:only-of-type {\n",
       "        vertical-align: middle;\n",
       "    }\n",
       "\n",
       "    .dataframe tbody tr th {\n",
       "        vertical-align: top;\n",
       "    }\n",
       "\n",
       "    .dataframe thead th {\n",
       "        text-align: right;\n",
       "    }\n",
       "</style>\n",
       "<table border=\"1\" class=\"dataframe\">\n",
       "  <thead>\n",
       "    <tr style=\"text-align: right;\">\n",
       "      <th></th>\n",
       "      <th>assessed_value</th>\n",
       "      <th>yhat_poly</th>\n",
       "    </tr>\n",
       "  </thead>\n",
       "  <tbody>\n",
       "    <tr>\n",
       "      <th>13430</th>\n",
       "      <td>596967.000</td>\n",
       "      <td>226866.774</td>\n",
       "    </tr>\n",
       "    <tr>\n",
       "      <th>10631</th>\n",
       "      <td>57931.000</td>\n",
       "      <td>344820.087</td>\n",
       "    </tr>\n",
       "  </tbody>\n",
       "</table>\n",
       "</div>"
      ],
      "text/plain": [
       "       assessed_value  yhat_poly\n",
       "13430      596967.000 226866.774\n",
       "10631       57931.000 344820.087"
      ]
     },
     "execution_count": 251,
     "metadata": {},
     "output_type": "execute_result"
    }
   ],
   "source": [
    "y_train.head(2)"
   ]
  },
  {
   "cell_type": "code",
   "execution_count": 250,
   "metadata": {},
   "outputs": [
    {
     "data": {
      "text/plain": [
       "assessed_value        0.000\n",
       "yhat_poly        183072.631\n",
       "dtype: float64"
      ]
     },
     "execution_count": 250,
     "metadata": {},
     "output_type": "execute_result"
    }
   ],
   "source": [
    "y_train.apply(lambda col: median_absolute_error(y_train.assessed_value, col))"
   ]
  },
  {
   "cell_type": "markdown",
   "metadata": {},
   "source": [
    "# polynomial model is only marginally better"
   ]
  },
  {
   "cell_type": "markdown",
   "metadata": {},
   "source": [
    "# Lets try to create new feature with Log scale (I am using Log with base 2). Square feet and lot size are good candidates for log scale"
   ]
  },
  {
   "cell_type": "code",
   "execution_count": 252,
   "metadata": {},
   "outputs": [],
   "source": [
    "df['log2sf'] = np.log2(df['square_feet'])\n",
    "df['log2lot_size'] = np.log2(df['lot_size'])\n",
    "df['log2value'] = np.log2(df['assessed_value'])\n",
    "df['age'] = 2000-df.year_built"
   ]
  },
  {
   "cell_type": "code",
   "execution_count": 253,
   "metadata": {},
   "outputs": [
    {
     "data": {
      "text/html": [
       "<div>\n",
       "<style scoped>\n",
       "    .dataframe tbody tr th:only-of-type {\n",
       "        vertical-align: middle;\n",
       "    }\n",
       "\n",
       "    .dataframe tbody tr th {\n",
       "        vertical-align: top;\n",
       "    }\n",
       "\n",
       "    .dataframe thead th {\n",
       "        text-align: right;\n",
       "    }\n",
       "</style>\n",
       "<table border=\"1\" class=\"dataframe\">\n",
       "  <thead>\n",
       "    <tr style=\"text-align: right;\">\n",
       "      <th></th>\n",
       "      <th>bathrooms</th>\n",
       "      <th>bedrooms</th>\n",
       "      <th>square_feet</th>\n",
       "      <th>fips</th>\n",
       "      <th>lot_size</th>\n",
       "      <th>pool</th>\n",
       "      <th>zip_code</th>\n",
       "      <th>year_built</th>\n",
       "      <th>latitude</th>\n",
       "      <th>longitude</th>\n",
       "      <th>assessed_value</th>\n",
       "      <th>tax_value</th>\n",
       "      <th>transaction_date</th>\n",
       "      <th>tax_rate</th>\n",
       "      <th>County</th>\n",
       "      <th>log2sf</th>\n",
       "      <th>log2lot_size</th>\n",
       "      <th>log2value</th>\n",
       "      <th>age</th>\n",
       "    </tr>\n",
       "  </thead>\n",
       "  <tbody>\n",
       "    <tr>\n",
       "      <th>0</th>\n",
       "      <td>2.000</td>\n",
       "      <td>3.000</td>\n",
       "      <td>1458.000</td>\n",
       "      <td>6037</td>\n",
       "      <td>8284</td>\n",
       "      <td>1</td>\n",
       "      <td>97318</td>\n",
       "      <td>1970</td>\n",
       "      <td>34686163.000</td>\n",
       "      <td>-118113100.000</td>\n",
       "      <td>136104.000</td>\n",
       "      <td>2319.900</td>\n",
       "      <td>2017-06-23</td>\n",
       "      <td>0.017</td>\n",
       "      <td>Los Angles</td>\n",
       "      <td>10.510</td>\n",
       "      <td>13.016</td>\n",
       "      <td>17.054</td>\n",
       "      <td>30</td>\n",
       "    </tr>\n",
       "    <tr>\n",
       "      <th>1</th>\n",
       "      <td>1.000</td>\n",
       "      <td>2.000</td>\n",
       "      <td>1421.000</td>\n",
       "      <td>6037</td>\n",
       "      <td>6707</td>\n",
       "      <td>0</td>\n",
       "      <td>96018</td>\n",
       "      <td>1911</td>\n",
       "      <td>33999877.000</td>\n",
       "      <td>-118291863.000</td>\n",
       "      <td>35606.000</td>\n",
       "      <td>543.690</td>\n",
       "      <td>2017-06-30</td>\n",
       "      <td>0.015</td>\n",
       "      <td>Los Angles</td>\n",
       "      <td>10.473</td>\n",
       "      <td>12.711</td>\n",
       "      <td>15.120</td>\n",
       "      <td>89</td>\n",
       "    </tr>\n",
       "  </tbody>\n",
       "</table>\n",
       "</div>"
      ],
      "text/plain": [
       "   bathrooms  bedrooms  square_feet  fips  lot_size  pool  zip_code  \\\n",
       "0      2.000     3.000     1458.000  6037      8284     1     97318   \n",
       "1      1.000     2.000     1421.000  6037      6707     0     96018   \n",
       "\n",
       "   year_built     latitude      longitude  assessed_value  tax_value  \\\n",
       "0        1970 34686163.000 -118113100.000      136104.000   2319.900   \n",
       "1        1911 33999877.000 -118291863.000       35606.000    543.690   \n",
       "\n",
       "  transaction_date  tax_rate      County  log2sf  log2lot_size  log2value  age  \n",
       "0       2017-06-23     0.017  Los Angles  10.510        13.016     17.054   30  \n",
       "1       2017-06-30     0.015  Los Angles  10.473        12.711     15.120   89  "
      ]
     },
     "execution_count": 253,
     "metadata": {},
     "output_type": "execute_result"
    }
   ],
   "source": [
    "df.head(2)"
   ]
  },
  {
   "cell_type": "code",
   "execution_count": 254,
   "metadata": {},
   "outputs": [],
   "source": [
    "train_plot = df[['bathrooms', 'bedrooms', 'log2sf', 'log2lot_size', 'assessed_value', 'age']]"
   ]
  },
  {
   "cell_type": "code",
   "execution_count": 255,
   "metadata": {},
   "outputs": [
    {
     "data": {
      "text/html": [
       "<div>\n",
       "<style scoped>\n",
       "    .dataframe tbody tr th:only-of-type {\n",
       "        vertical-align: middle;\n",
       "    }\n",
       "\n",
       "    .dataframe tbody tr th {\n",
       "        vertical-align: top;\n",
       "    }\n",
       "\n",
       "    .dataframe thead th {\n",
       "        text-align: right;\n",
       "    }\n",
       "</style>\n",
       "<table border=\"1\" class=\"dataframe\">\n",
       "  <thead>\n",
       "    <tr style=\"text-align: right;\">\n",
       "      <th></th>\n",
       "      <th>bathrooms</th>\n",
       "      <th>bedrooms</th>\n",
       "      <th>log2sf</th>\n",
       "      <th>log2lot_size</th>\n",
       "      <th>assessed_value</th>\n",
       "      <th>age</th>\n",
       "    </tr>\n",
       "  </thead>\n",
       "  <tbody>\n",
       "    <tr>\n",
       "      <th>0</th>\n",
       "      <td>2.000</td>\n",
       "      <td>3.000</td>\n",
       "      <td>10.510</td>\n",
       "      <td>13.016</td>\n",
       "      <td>136104.000</td>\n",
       "      <td>30</td>\n",
       "    </tr>\n",
       "    <tr>\n",
       "      <th>1</th>\n",
       "      <td>1.000</td>\n",
       "      <td>2.000</td>\n",
       "      <td>10.473</td>\n",
       "      <td>12.711</td>\n",
       "      <td>35606.000</td>\n",
       "      <td>89</td>\n",
       "    </tr>\n",
       "    <tr>\n",
       "      <th>2</th>\n",
       "      <td>3.000</td>\n",
       "      <td>4.000</td>\n",
       "      <td>11.311</td>\n",
       "      <td>12.280</td>\n",
       "      <td>880456.000</td>\n",
       "      <td>-3</td>\n",
       "    </tr>\n",
       "    <tr>\n",
       "      <th>3</th>\n",
       "      <td>2.000</td>\n",
       "      <td>3.000</td>\n",
       "      <td>10.688</td>\n",
       "      <td>12.834</td>\n",
       "      <td>614000.000</td>\n",
       "      <td>51</td>\n",
       "    </tr>\n",
       "    <tr>\n",
       "      <th>4</th>\n",
       "      <td>1.000</td>\n",
       "      <td>2.000</td>\n",
       "      <td>9.437</td>\n",
       "      <td>11.506</td>\n",
       "      <td>274237.000</td>\n",
       "      <td>79</td>\n",
       "    </tr>\n",
       "  </tbody>\n",
       "</table>\n",
       "</div>"
      ],
      "text/plain": [
       "   bathrooms  bedrooms  log2sf  log2lot_size  assessed_value  age\n",
       "0      2.000     3.000  10.510        13.016      136104.000   30\n",
       "1      1.000     2.000  10.473        12.711       35606.000   89\n",
       "2      3.000     4.000  11.311        12.280      880456.000   -3\n",
       "3      2.000     3.000  10.688        12.834      614000.000   51\n",
       "4      1.000     2.000   9.437        11.506      274237.000   79"
      ]
     },
     "execution_count": 255,
     "metadata": {},
     "output_type": "execute_result"
    }
   ],
   "source": [
    "train_plot.head()"
   ]
  },
  {
   "cell_type": "code",
   "execution_count": 256,
   "metadata": {},
   "outputs": [
    {
     "data": {
      "text/plain": [
       "<matplotlib.axes._subplots.AxesSubplot at 0x124ff7f50>"
      ]
     },
     "execution_count": 256,
     "metadata": {},
     "output_type": "execute_result"
    },
    {
     "data": {
      "image/png": "[encoded data removed]",
      "text/plain": [
       "<Figure size 432x288 with 1 Axes>"
      ]
     },
     "metadata": {
      "needs_background": "light"
     },
     "output_type": "display_data"
    }
   ],
   "source": [
    "sns.scatterplot(x='log2sf', y = 'assessed_value', data=train_plot)"
   ]
  },
  {
   "cell_type": "code",
   "execution_count": 258,
   "metadata": {},
   "outputs": [
    {
     "data": {
      "image/png": "[encoded data removed]",
      "text/plain": [
       "<Figure size 1080x1080 with 42 Axes>"
      ]
     },
     "metadata": {
      "needs_background": "light"
     },
     "output_type": "display_data"
    }
   ],
   "source": [
    "explore.plot_variable_pairs(train_plot)"
   ]
  },
  {
   "cell_type": "code",
   "execution_count": 92,
   "metadata": {
    "scrolled": true
   },
   "outputs": [
    {
     "name": "stdout",
     "output_type": "stream",
     "text": [
      "<class 'pandas.core.frame.DataFrame'>\n",
      "Int64Index: 9513 entries, 0 to 14872\n",
      "Data columns (total 19 columns):\n",
      "bathrooms           9513 non-null float64\n",
      "bedrooms            9513 non-null float64\n",
      "square_feet         9513 non-null float64\n",
      "fips                9513 non-null int64\n",
      "lot_size            9513 non-null int64\n",
      "pool                9513 non-null int64\n",
      "zip_code            9513 non-null int64\n",
      "year_built          9513 non-null int64\n",
      "latitude            9513 non-null float64\n",
      "longitude           9513 non-null float64\n",
      "assessed_value      9513 non-null float64\n",
      "tax_value           9513 non-null float64\n",
      "transaction_date    9513 non-null object\n",
      "tax_rate            9513 non-null float64\n",
      "County              9513 non-null object\n",
      "log2sf              9513 non-null float64\n",
      "log2lot_size        9513 non-null float64\n",
      "log2value           9513 non-null float64\n",
      "age                 9513 non-null int64\n",
      "dtypes: float64(11), int64(6), object(2)\n",
      "memory usage: 1.5+ MB\n"
     ]
    }
   ],
   "source": [
    "df[df.County == 'Los Angles'].info()"
   ]
  },
  {
   "cell_type": "code",
   "execution_count": 93,
   "metadata": {},
   "outputs": [],
   "source": [
    "#df.to_csv('zillow_cleaned.csv')"
   ]
  },
  {
   "cell_type": "code",
   "execution_count": 259,
   "metadata": {},
   "outputs": [],
   "source": [
    "train, test = train_test_split(df, train_size = .70, random_state = 100)"
   ]
  },
  {
   "cell_type": "code",
   "execution_count": 260,
   "metadata": {},
   "outputs": [],
   "source": [
    "X_train3 = train[['bedrooms', 'bathrooms', 'log2sf', 'log2lot_size', 'age']]\n",
    "X_test3 = test[['bedrooms', 'bathrooms', 'log2sf' , 'log2lot_size', 'age']]"
   ]
  },
  {
   "cell_type": "code",
   "execution_count": 261,
   "metadata": {},
   "outputs": [],
   "source": [
    "y_train3 = train[['log2value',]]\n",
    "y_test3 = test[['log2value']]"
   ]
  },
  {
   "cell_type": "code",
   "execution_count": 97,
   "metadata": {},
   "outputs": [
    {
     "data": {
      "text/html": [
       "<div>\n",
       "<style scoped>\n",
       "    .dataframe tbody tr th:only-of-type {\n",
       "        vertical-align: middle;\n",
       "    }\n",
       "\n",
       "    .dataframe tbody tr th {\n",
       "        vertical-align: top;\n",
       "    }\n",
       "\n",
       "    .dataframe thead th {\n",
       "        text-align: right;\n",
       "    }\n",
       "</style>\n",
       "<table border=\"1\" class=\"dataframe\">\n",
       "  <thead>\n",
       "    <tr style=\"text-align: right;\">\n",
       "      <th></th>\n",
       "      <th>log2value</th>\n",
       "    </tr>\n",
       "  </thead>\n",
       "  <tbody>\n",
       "    <tr>\n",
       "      <th>11938</th>\n",
       "      <td>18.035</td>\n",
       "    </tr>\n",
       "    <tr>\n",
       "      <th>790</th>\n",
       "      <td>16.548</td>\n",
       "    </tr>\n",
       "  </tbody>\n",
       "</table>\n",
       "</div>"
      ],
      "text/plain": [
       "       log2value\n",
       "11938     18.035\n",
       "790       16.548"
      ]
     },
     "execution_count": 97,
     "metadata": {},
     "output_type": "execute_result"
    }
   ],
   "source": [
    "y_train3.head(2)"
   ]
  },
  {
   "cell_type": "code",
   "execution_count": 262,
   "metadata": {},
   "outputs": [],
   "source": [
    "lm = LinearRegression()"
   ]
  },
  {
   "cell_type": "code",
   "execution_count": 263,
   "metadata": {},
   "outputs": [],
   "source": [
    "rfe = RFE(lm, 2)"
   ]
  },
  {
   "cell_type": "code",
   "execution_count": 264,
   "metadata": {},
   "outputs": [],
   "source": [
    "X_rfe = rfe.fit_transform(X_train3,y_train3)"
   ]
  },
  {
   "cell_type": "code",
   "execution_count": 265,
   "metadata": {},
   "outputs": [
    {
     "data": {
      "text/plain": [
       "array([[ 3.        , 11.05663772],\n",
       "       [ 2.        , 10.73555602],\n",
       "       [ 2.        , 10.97584797],\n",
       "       ...,\n",
       "       [ 2.        , 10.50481899],\n",
       "       [ 2.5       , 11.31910758],\n",
       "       [ 2.        , 10.52160044]])"
      ]
     },
     "execution_count": 265,
     "metadata": {},
     "output_type": "execute_result"
    }
   ],
   "source": [
    "X_rfe"
   ]
  },
  {
   "cell_type": "code",
   "execution_count": 266,
   "metadata": {},
   "outputs": [
    {
     "name": "stdout",
     "output_type": "stream",
     "text": [
      "selected 2 features: bathrooms, log2sf\n"
     ]
    }
   ],
   "source": [
    "mask = rfe.support_\n",
    "\n",
    "# select the column names of the features that were selected and convert them to a list for future use. \n",
    "rfe_features = X_train3.columns[mask]\n",
    "\n",
    "# print them out here for our reference\n",
    "print(f'selected {len(rfe_features)} features:', ', '.join(rfe_features))"
   ]
  },
  {
   "cell_type": "code",
   "execution_count": 267,
   "metadata": {},
   "outputs": [],
   "source": [
    "lm = LinearRegression()"
   ]
  },
  {
   "cell_type": "code",
   "execution_count": 268,
   "metadata": {},
   "outputs": [
    {
     "data": {
      "text/plain": [
       "LinearRegression(copy_X=True, fit_intercept=True, n_jobs=None, normalize=False)"
      ]
     },
     "execution_count": 268,
     "metadata": {},
     "output_type": "execute_result"
    }
   ],
   "source": [
    "lm.fit(X_rfe, y_train3)"
   ]
  },
  {
   "cell_type": "code",
   "execution_count": 269,
   "metadata": {},
   "outputs": [],
   "source": [
    "predictions1 = y_train3.copy()"
   ]
  },
  {
   "cell_type": "code",
   "execution_count": 270,
   "metadata": {},
   "outputs": [],
   "source": [
    "predictions1['y_log_lm'] = lm.predict(X_rfe)"
   ]
  },
  {
   "cell_type": "code",
   "execution_count": 271,
   "metadata": {},
   "outputs": [],
   "source": [
    "predictions1['median_bl'] = y_train3.log2value.median()"
   ]
  },
  {
   "cell_type": "code",
   "execution_count": 272,
   "metadata": {},
   "outputs": [
    {
     "data": {
      "text/html": [
       "<div>\n",
       "<style scoped>\n",
       "    .dataframe tbody tr th:only-of-type {\n",
       "        vertical-align: middle;\n",
       "    }\n",
       "\n",
       "    .dataframe tbody tr th {\n",
       "        vertical-align: top;\n",
       "    }\n",
       "\n",
       "    .dataframe thead th {\n",
       "        text-align: right;\n",
       "    }\n",
       "</style>\n",
       "<table border=\"1\" class=\"dataframe\">\n",
       "  <thead>\n",
       "    <tr style=\"text-align: right;\">\n",
       "      <th></th>\n",
       "      <th>log2value</th>\n",
       "      <th>y_log_lm</th>\n",
       "      <th>median_bl</th>\n",
       "    </tr>\n",
       "  </thead>\n",
       "  <tbody>\n",
       "    <tr>\n",
       "      <th>11938</th>\n",
       "      <td>18.035</td>\n",
       "      <td>18.832</td>\n",
       "      <td>18.572</td>\n",
       "    </tr>\n",
       "    <tr>\n",
       "      <th>790</th>\n",
       "      <td>16.548</td>\n",
       "      <td>18.303</td>\n",
       "      <td>18.572</td>\n",
       "    </tr>\n",
       "    <tr>\n",
       "      <th>3846</th>\n",
       "      <td>18.308</td>\n",
       "      <td>18.504</td>\n",
       "      <td>18.572</td>\n",
       "    </tr>\n",
       "    <tr>\n",
       "      <th>14846</th>\n",
       "      <td>18.931</td>\n",
       "      <td>18.964</td>\n",
       "      <td>18.572</td>\n",
       "    </tr>\n",
       "    <tr>\n",
       "      <th>1469</th>\n",
       "      <td>18.982</td>\n",
       "      <td>18.030</td>\n",
       "      <td>18.572</td>\n",
       "    </tr>\n",
       "  </tbody>\n",
       "</table>\n",
       "</div>"
      ],
      "text/plain": [
       "       log2value  y_log_lm  median_bl\n",
       "11938     18.035    18.832     18.572\n",
       "790       16.548    18.303     18.572\n",
       "3846      18.308    18.504     18.572\n",
       "14846     18.931    18.964     18.572\n",
       "1469      18.982    18.030     18.572"
      ]
     },
     "execution_count": 272,
     "metadata": {},
     "output_type": "execute_result"
    }
   ],
   "source": [
    "predictions1.head()"
   ]
  },
  {
   "cell_type": "code",
   "execution_count": 273,
   "metadata": {},
   "outputs": [],
   "source": [
    "predictions1['actual'] = train['assessed_value']"
   ]
  },
  {
   "cell_type": "code",
   "execution_count": 274,
   "metadata": {},
   "outputs": [],
   "source": [
    "predictions1['calculated'] = 2**predictions1.y_log_lm"
   ]
  },
  {
   "cell_type": "code",
   "execution_count": 275,
   "metadata": {},
   "outputs": [
    {
     "data": {
      "text/html": [
       "<div>\n",
       "<style scoped>\n",
       "    .dataframe tbody tr th:only-of-type {\n",
       "        vertical-align: middle;\n",
       "    }\n",
       "\n",
       "    .dataframe tbody tr th {\n",
       "        vertical-align: top;\n",
       "    }\n",
       "\n",
       "    .dataframe thead th {\n",
       "        text-align: right;\n",
       "    }\n",
       "</style>\n",
       "<table border=\"1\" class=\"dataframe\">\n",
       "  <thead>\n",
       "    <tr style=\"text-align: right;\">\n",
       "      <th></th>\n",
       "      <th>log2value</th>\n",
       "      <th>y_log_lm</th>\n",
       "      <th>median_bl</th>\n",
       "      <th>actual</th>\n",
       "      <th>calculated</th>\n",
       "    </tr>\n",
       "  </thead>\n",
       "  <tbody>\n",
       "    <tr>\n",
       "      <th>11938</th>\n",
       "      <td>18.035</td>\n",
       "      <td>18.832</td>\n",
       "      <td>18.572</td>\n",
       "      <td>268557.000</td>\n",
       "      <td>466653.160</td>\n",
       "    </tr>\n",
       "    <tr>\n",
       "      <th>790</th>\n",
       "      <td>16.548</td>\n",
       "      <td>18.303</td>\n",
       "      <td>18.572</td>\n",
       "      <td>95849.000</td>\n",
       "      <td>323400.003</td>\n",
       "    </tr>\n",
       "    <tr>\n",
       "      <th>3846</th>\n",
       "      <td>18.308</td>\n",
       "      <td>18.504</td>\n",
       "      <td>18.572</td>\n",
       "      <td>324613.000</td>\n",
       "      <td>371749.488</td>\n",
       "    </tr>\n",
       "    <tr>\n",
       "      <th>14846</th>\n",
       "      <td>18.931</td>\n",
       "      <td>18.964</td>\n",
       "      <td>18.572</td>\n",
       "      <td>499860.000</td>\n",
       "      <td>511330.350</td>\n",
       "    </tr>\n",
       "    <tr>\n",
       "      <th>1469</th>\n",
       "      <td>18.982</td>\n",
       "      <td>18.030</td>\n",
       "      <td>18.572</td>\n",
       "      <td>517777.000</td>\n",
       "      <td>267673.311</td>\n",
       "    </tr>\n",
       "    <tr>\n",
       "      <th>...</th>\n",
       "      <td>...</td>\n",
       "      <td>...</td>\n",
       "      <td>...</td>\n",
       "      <td>...</td>\n",
       "      <td>...</td>\n",
       "    </tr>\n",
       "    <tr>\n",
       "      <th>12119</th>\n",
       "      <td>20.333</td>\n",
       "      <td>19.069</td>\n",
       "      <td>18.572</td>\n",
       "      <td>1321024.000</td>\n",
       "      <td>550114.274</td>\n",
       "    </tr>\n",
       "    <tr>\n",
       "      <th>8039</th>\n",
       "      <td>18.771</td>\n",
       "      <td>18.027</td>\n",
       "      <td>18.572</td>\n",
       "      <td>447349.000</td>\n",
       "      <td>267179.288</td>\n",
       "    </tr>\n",
       "    <tr>\n",
       "      <th>14147</th>\n",
       "      <td>19.344</td>\n",
       "      <td>18.110</td>\n",
       "      <td>18.572</td>\n",
       "      <td>665588.000</td>\n",
       "      <td>282901.844</td>\n",
       "    </tr>\n",
       "    <tr>\n",
       "      <th>6936</th>\n",
       "      <td>18.985</td>\n",
       "      <td>18.921</td>\n",
       "      <td>18.572</td>\n",
       "      <td>518732.000</td>\n",
       "      <td>496466.268</td>\n",
       "    </tr>\n",
       "    <tr>\n",
       "      <th>5640</th>\n",
       "      <td>18.067</td>\n",
       "      <td>18.124</td>\n",
       "      <td>18.572</td>\n",
       "      <td>274533.000</td>\n",
       "      <td>285668.061</td>\n",
       "    </tr>\n",
       "  </tbody>\n",
       "</table>\n",
       "<p>10411 rows × 5 columns</p>\n",
       "</div>"
      ],
      "text/plain": [
       "       log2value  y_log_lm  median_bl      actual  calculated\n",
       "11938     18.035    18.832     18.572  268557.000  466653.160\n",
       "790       16.548    18.303     18.572   95849.000  323400.003\n",
       "3846      18.308    18.504     18.572  324613.000  371749.488\n",
       "14846     18.931    18.964     18.572  499860.000  511330.350\n",
       "1469      18.982    18.030     18.572  517777.000  267673.311\n",
       "...          ...       ...        ...         ...         ...\n",
       "12119     20.333    19.069     18.572 1321024.000  550114.274\n",
       "8039      18.771    18.027     18.572  447349.000  267179.288\n",
       "14147     19.344    18.110     18.572  665588.000  282901.844\n",
       "6936      18.985    18.921     18.572  518732.000  496466.268\n",
       "5640      18.067    18.124     18.572  274533.000  285668.061\n",
       "\n",
       "[10411 rows x 5 columns]"
      ]
     },
     "execution_count": 275,
     "metadata": {},
     "output_type": "execute_result"
    }
   ],
   "source": [
    "predictions1"
   ]
  },
  {
   "cell_type": "code",
   "execution_count": 280,
   "metadata": {},
   "outputs": [
    {
     "data": {
      "text/plain": [
       "(0.0, 6000000.0)"
      ]
     },
     "execution_count": 280,
     "metadata": {},
     "output_type": "execute_result"
    },
    {
     "data": {
      "image/png": "[encoded data removed]",
      "text/plain": [
       "<Figure size 432x288 with 2 Axes>"
      ]
     },
     "metadata": {
      "needs_background": "light"
     },
     "output_type": "display_data"
    }
   ],
   "source": [
    "#sns.scatterplot(x= 'actual', y = 'calculated', data = predictions1)\n",
    "f, (ax0, ax1) = plt.subplots(1, 2, sharey=True)\n",
    "ax1.scatter(predictions1.actual, predictions1.calculated)\n",
    "ax1.plot([0, 6000000], [0, 6000000], '--k')\n",
    "ax1.set_ylabel('Target predicted')\n",
    "ax1.set_xlabel('True Target')\n",
    "#ax1.set_title('Ridge regression \\n with target transformation')\n",
    "ax1.text(1, 4000000, r'$R^2$=%.2f, MAE=%.2f' % (\n",
    "    r2_score(predictions1.actual, predictions1.calculated), median_absolute_error(predictions1.actual, predictions1.calculated)))\n",
    "ax1.set_xlim([0, 6000000])\n",
    "ax1.set_ylim([0, 6000000])"
   ]
  },
  {
   "cell_type": "code",
   "execution_count": 277,
   "metadata": {
    "scrolled": true
   },
   "outputs": [
    {
     "data": {
      "image/png": "[encoded data removed]",
      "text/plain": [
       "<Figure size 432x288 with 1 Axes>"
      ]
     },
     "metadata": {
      "needs_background": "light"
     },
     "output_type": "display_data"
    }
   ],
   "source": [
    "evaluate.plot_residuals(predictions1.actual, predictions1.calculated, predictions1)"
   ]
  },
  {
   "cell_type": "code",
   "execution_count": 278,
   "metadata": {},
   "outputs": [
    {
     "data": {
      "text/plain": [
       "log2value    389591.428\n",
       "y_log_lm     389592.039\n",
       "median_bl    389591.428\n",
       "actual            0.000\n",
       "calculated   172968.242\n",
       "dtype: float64"
      ]
     },
     "execution_count": 278,
     "metadata": {},
     "output_type": "execute_result"
    }
   ],
   "source": [
    "predictions1.apply(lambda col: median_absolute_error(predictions1.actual, col))"
   ]
  },
  {
   "cell_type": "code",
   "execution_count": 279,
   "metadata": {},
   "outputs": [
    {
     "data": {
      "image/png": "[encoded data removed]",
      "text/plain": [
       "<Figure size 432x288 with 1 Axes>"
      ]
     },
     "metadata": {
      "needs_background": "light"
     },
     "output_type": "display_data"
    }
   ],
   "source": [
    "evaluate.plot_residuals(predictions1.log2value, predictions1.median_bl, predictions1)"
   ]
  },
  {
   "cell_type": "code",
   "execution_count": 116,
   "metadata": {},
   "outputs": [
    {
     "data": {
      "text/plain": [
       "log2value         0.000\n",
       "y_log_lm          0.727\n",
       "median_bl         0.815\n",
       "actual       389591.428\n",
       "calculated   326235.226\n",
       "dtype: float64"
      ]
     },
     "execution_count": 116,
     "metadata": {},
     "output_type": "execute_result"
    }
   ],
   "source": [
    "from sklearn.metrics import median_absolute_error\n",
    "predictions1.apply(lambda col: median_absolute_error(predictions1.log2value, col))"
   ]
  },
  {
   "cell_type": "code",
   "execution_count": 117,
   "metadata": {},
   "outputs": [
    {
     "data": {
      "text/plain": [
       "18.57167118154203"
      ]
     },
     "execution_count": 117,
     "metadata": {},
     "output_type": "execute_result"
    }
   ],
   "source": [
    "y_train3.log2value.median()"
   ]
  },
  {
   "cell_type": "code",
   "execution_count": 118,
   "metadata": {},
   "outputs": [
    {
     "data": {
      "text/plain": [
       "389610.0000000002"
      ]
     },
     "execution_count": 118,
     "metadata": {},
     "output_type": "execute_result"
    }
   ],
   "source": [
    "2**y_train3.log2value.median()"
   ]
  },
  {
   "cell_type": "code",
   "execution_count": 119,
   "metadata": {},
   "outputs": [
    {
     "data": {
      "text/plain": [
       "1.6627761961563623"
      ]
     },
     "execution_count": 119,
     "metadata": {},
     "output_type": "execute_result"
    }
   ],
   "source": [
    "2**0.733594"
   ]
  },
  {
   "cell_type": "code",
   "execution_count": 120,
   "metadata": {},
   "outputs": [
    {
     "data": {
      "text/plain": [
       "1.7589969728468688"
      ]
     },
     "execution_count": 120,
     "metadata": {},
     "output_type": "execute_result"
    }
   ],
   "source": [
    "2**0.814753"
   ]
  },
  {
   "cell_type": "markdown",
   "metadata": {},
   "source": [
    "# lets transform y variable too"
   ]
  },
  {
   "cell_type": "code",
   "execution_count": 121,
   "metadata": {},
   "outputs": [
    {
     "data": {
      "text/html": [
       "<div>\n",
       "<style scoped>\n",
       "    .dataframe tbody tr th:only-of-type {\n",
       "        vertical-align: middle;\n",
       "    }\n",
       "\n",
       "    .dataframe tbody tr th {\n",
       "        vertical-align: top;\n",
       "    }\n",
       "\n",
       "    .dataframe thead th {\n",
       "        text-align: right;\n",
       "    }\n",
       "</style>\n",
       "<table border=\"1\" class=\"dataframe\">\n",
       "  <thead>\n",
       "    <tr style=\"text-align: right;\">\n",
       "      <th></th>\n",
       "      <th>bathrooms</th>\n",
       "      <th>bedrooms</th>\n",
       "      <th>square_feet</th>\n",
       "      <th>fips</th>\n",
       "      <th>lot_size</th>\n",
       "      <th>pool</th>\n",
       "      <th>zip_code</th>\n",
       "      <th>year_built</th>\n",
       "      <th>latitude</th>\n",
       "      <th>longitude</th>\n",
       "      <th>assessed_value</th>\n",
       "      <th>tax_value</th>\n",
       "      <th>transaction_date</th>\n",
       "      <th>tax_rate</th>\n",
       "      <th>County</th>\n",
       "      <th>log2sf</th>\n",
       "      <th>log2lot_size</th>\n",
       "      <th>log2value</th>\n",
       "      <th>age</th>\n",
       "    </tr>\n",
       "  </thead>\n",
       "  <tbody>\n",
       "    <tr>\n",
       "      <th>0</th>\n",
       "      <td>2.000</td>\n",
       "      <td>3.000</td>\n",
       "      <td>1458.000</td>\n",
       "      <td>6037</td>\n",
       "      <td>8284</td>\n",
       "      <td>1</td>\n",
       "      <td>97318</td>\n",
       "      <td>1970</td>\n",
       "      <td>34686163.000</td>\n",
       "      <td>-118113100.000</td>\n",
       "      <td>136104.000</td>\n",
       "      <td>2319.900</td>\n",
       "      <td>2017-06-23</td>\n",
       "      <td>0.017</td>\n",
       "      <td>Los Angles</td>\n",
       "      <td>10.510</td>\n",
       "      <td>13.016</td>\n",
       "      <td>17.054</td>\n",
       "      <td>30</td>\n",
       "    </tr>\n",
       "    <tr>\n",
       "      <th>1</th>\n",
       "      <td>1.000</td>\n",
       "      <td>2.000</td>\n",
       "      <td>1421.000</td>\n",
       "      <td>6037</td>\n",
       "      <td>6707</td>\n",
       "      <td>0</td>\n",
       "      <td>96018</td>\n",
       "      <td>1911</td>\n",
       "      <td>33999877.000</td>\n",
       "      <td>-118291863.000</td>\n",
       "      <td>35606.000</td>\n",
       "      <td>543.690</td>\n",
       "      <td>2017-06-30</td>\n",
       "      <td>0.015</td>\n",
       "      <td>Los Angles</td>\n",
       "      <td>10.473</td>\n",
       "      <td>12.711</td>\n",
       "      <td>15.120</td>\n",
       "      <td>89</td>\n",
       "    </tr>\n",
       "  </tbody>\n",
       "</table>\n",
       "</div>"
      ],
      "text/plain": [
       "   bathrooms  bedrooms  square_feet  fips  lot_size  pool  zip_code  \\\n",
       "0      2.000     3.000     1458.000  6037      8284     1     97318   \n",
       "1      1.000     2.000     1421.000  6037      6707     0     96018   \n",
       "\n",
       "   year_built     latitude      longitude  assessed_value  tax_value  \\\n",
       "0        1970 34686163.000 -118113100.000      136104.000   2319.900   \n",
       "1        1911 33999877.000 -118291863.000       35606.000    543.690   \n",
       "\n",
       "  transaction_date  tax_rate      County  log2sf  log2lot_size  log2value  age  \n",
       "0       2017-06-23     0.017  Los Angles  10.510        13.016     17.054   30  \n",
       "1       2017-06-30     0.015  Los Angles  10.473        12.711     15.120   89  "
      ]
     },
     "execution_count": 121,
     "metadata": {},
     "output_type": "execute_result"
    }
   ],
   "source": [
    "df.head(2)"
   ]
  },
  {
   "cell_type": "code",
   "execution_count": 122,
   "metadata": {},
   "outputs": [
    {
     "data": {
      "text/plain": [
       "Text(0.5, 0, 'assessed_value')"
      ]
     },
     "execution_count": 122,
     "metadata": {},
     "output_type": "execute_result"
    },
    {
     "data": {
      "image/png": "[encoded data removed]",
      "text/plain": [
       "<Figure size 432x288 with 1 Axes>"
      ]
     },
     "metadata": {
      "needs_background": "light"
     },
     "output_type": "display_data"
    }
   ],
   "source": [
    "plt.hist(df.assessed_value, density=False, bins =[0, 500000, 1000000, 2000000, 3000000, 4000000])  # `density=False` would make counts\n",
    "plt.ylabel('probability')\n",
    "plt.xlabel('assessed_value')"
   ]
  },
  {
   "cell_type": "code",
   "execution_count": 123,
   "metadata": {},
   "outputs": [],
   "source": [
    "y = df[['assessed_value']]\n",
    "#y = np.exp((y + abs(y.min())) / 200)\n",
    "#y_trans = np.log1p(y)"
   ]
  },
  {
   "cell_type": "code",
   "execution_count": 124,
   "metadata": {},
   "outputs": [],
   "source": [
    "y_trans = quantile_transform(y,\n",
    "                             n_quantiles=300,\n",
    "                             output_distribution='normal',\n",
    "                             copy=True).squeeze()"
   ]
  },
  {
   "cell_type": "code",
   "execution_count": 125,
   "metadata": {},
   "outputs": [
    {
     "data": {
      "text/plain": [
       "Text(0.5, 0, 'assessed_value')"
      ]
     },
     "execution_count": 125,
     "metadata": {},
     "output_type": "execute_result"
    },
    {
     "data": {
      "image/png": "[encoded data removed]",
      "text/plain": [
       "<Figure size 432x288 with 1 Axes>"
      ]
     },
     "metadata": {
      "needs_background": "light"
     },
     "output_type": "display_data"
    }
   ],
   "source": [
    "plt.hist(y_trans, density=False, bins =100)  # `density=False` would make counts\n",
    "plt.ylabel('probability')\n",
    "plt.xlabel('assessed_value')"
   ]
  },
  {
   "cell_type": "code",
   "execution_count": 126,
   "metadata": {},
   "outputs": [],
   "source": [
    "train, test = train_test_split(df, train_size=.80, random_state=123)"
   ]
  },
  {
   "cell_type": "code",
   "execution_count": 127,
   "metadata": {},
   "outputs": [],
   "source": [
    "X_train3 = train[['bedrooms', 'bathrooms', 'log2sf', 'log2lot_size', 'age']]\n",
    "X_test3 = test[[ 'bedrooms','bathrooms', 'log2sf' , 'log2lot_size' ,'age']]\n",
    "y_train3 = train[['assessed_value']]\n",
    "y_test3 = test[['assessed_value']]"
   ]
  },
  {
   "cell_type": "code",
   "execution_count": 128,
   "metadata": {},
   "outputs": [],
   "source": [
    "from sklearn.linear_model import RidgeCV\n",
    "from sklearn.compose import TransformedTargetRegressor\n",
    "from sklearn.metrics import median_absolute_error, r2_score"
   ]
  },
  {
   "cell_type": "code",
   "execution_count": 129,
   "metadata": {},
   "outputs": [
    {
     "data": {
      "image/png": "[encoded data removed]",
      "text/plain": [
       "<Figure size 432x288 with 2 Axes>"
      ]
     },
     "metadata": {
      "needs_background": "light"
     },
     "output_type": "display_data"
    }
   ],
   "source": [
    "f, (ax0, ax1) = plt.subplots(1, 2, sharey=True)\n",
    "\n",
    "regr = RidgeCV()\n",
    "regr.fit(X_train3, y_train3)\n",
    "y_pred = regr.predict(X_train3)\n",
    "\n",
    "ax0.scatter(y_train3, y_pred)\n",
    "ax0.plot([0, 5000000], [0, 5000000], '--k')\n",
    "ax0.set_ylabel('Target predicted')\n",
    "ax0.set_xlabel('True Target')\n",
    "ax0.set_title('Ridge regression \\n without target transformation')\n",
    "ax0.text(1, 4000000, r'$R^2$=%.2f, MAE=%.2f' % (\n",
    "    r2_score(y_train3, y_pred), median_absolute_error(y_train3, y_pred)))\n",
    "ax0.set_xlim([0, 5000000])\n",
    "ax0.set_ylim([0, 5000000])\n",
    "\n",
    "regr_trans = TransformedTargetRegressor(\n",
    "    regressor=RidgeCV(),\n",
    "    transformer=QuantileTransformer(n_quantiles=300,\n",
    "                                    output_distribution='normal'))\n",
    "regr_trans.fit(X_train3, y_train3)\n",
    "y_pred = regr_trans.predict(X_train3)\n",
    "\n",
    "ax1.scatter(y_train3, y_pred)\n",
    "ax1.plot([0, 5000000], [0, 5000000], '--k')\n",
    "ax1.set_ylabel('Target predicted')\n",
    "ax1.set_xlabel('True Target')\n",
    "ax1.set_title('Ridge regression \\n with target transformation')\n",
    "ax1.text(1, 4000000, r'$R^2$=%.2f, MAE=%.2f' % (\n",
    "    r2_score(y_train3, y_pred), median_absolute_error(y_train3, y_pred)))\n",
    "ax1.set_xlim([0, 5000000])\n",
    "ax1.set_ylim([0, 5000000])\n",
    "\n",
    "f.tight_layout(rect=[0.05, 0.05, 0.95, 0.95])\n",
    "\n",
    "plt.show()"
   ]
  },
  {
   "cell_type": "code",
   "execution_count": 130,
   "metadata": {},
   "outputs": [],
   "source": [
    "train, test = train_test_split(df, train_size=.80, random_state=123)"
   ]
  },
  {
   "cell_type": "code",
   "execution_count": 131,
   "metadata": {},
   "outputs": [],
   "source": [
    "X_train4 = train[['bathrooms', 'log2sf']][train.assessed_value<500000]\n",
    "y_train4 = train[['log2value']][train.assessed_value<500000]"
   ]
  },
  {
   "cell_type": "code",
   "execution_count": 132,
   "metadata": {},
   "outputs": [],
   "source": [
    "#X_train4 = [train.assessed_value<1000000].train[['bedrooms', 'bathrooms', 'log2sf', 'log2lot_size', 'age']]\n",
    "X_test4 = test[[ 'bathrooms', 'log2sf']]\n",
    "#y_train4 = train[['assessed_value']]\n",
    "y_test4 = test[['log2value']]"
   ]
  },
  {
   "cell_type": "code",
   "execution_count": 133,
   "metadata": {},
   "outputs": [
    {
     "name": "stdout",
     "output_type": "stream",
     "text": [
      "<class 'pandas.core.frame.DataFrame'>\n",
      "Int64Index: 7606 entries, 10631 to 11646\n",
      "Data columns (total 2 columns):\n",
      "bathrooms    7606 non-null float64\n",
      "log2sf       7606 non-null float64\n",
      "dtypes: float64(2)\n",
      "memory usage: 178.3 KB\n"
     ]
    }
   ],
   "source": [
    "X_train4.info()"
   ]
  },
  {
   "cell_type": "code",
   "execution_count": 134,
   "metadata": {},
   "outputs": [
    {
     "data": {
      "image/png": "[encoded data removed]",
      "text/plain": [
       "<Figure size 432x288 with 2 Axes>"
      ]
     },
     "metadata": {
      "needs_background": "light"
     },
     "output_type": "display_data"
    }
   ],
   "source": [
    "f, (ax0, ax1) = plt.subplots(1, 2, sharey=True)\n",
    "\n",
    "# regr = RidgeCV()\n",
    "# regr.fit(X_train4, y_train4)\n",
    "# y_pred = regr.predict(X_train4)\n",
    "\n",
    "# ax0.scatter(y_train4, y_pred)\n",
    "# ax0.plot([0, 5000000], [0, 5000000], '--k')\n",
    "# ax0.set_ylabel('Target predicted')\n",
    "# ax0.set_xlabel('True Target')\n",
    "# ax0.set_title('Ridge regression \\n without target transformation')\n",
    "# ax0.text(1, 4000000, r'$R^2$=%.2f, MAE=%.2f' % (\n",
    "#     r2_score(y_train4, y_pred), median_absolute_error(y_train4, y_pred)))\n",
    "# ax0.set_xlim([0, 5000000])\n",
    "# ax0.set_ylim([0, 5000000])\n",
    "\n",
    "regr_trans = TransformedTargetRegressor(\n",
    "    regressor=RidgeCV(),\n",
    "    transformer=QuantileTransformer(n_quantiles=300,\n",
    "                                    output_distribution='normal'))\n",
    "regr_trans.fit(X_train4, y_train4)\n",
    "y_pred = regr_trans.predict(X_train4)\n",
    "\n",
    "ax1.scatter(y_train4, y_pred)\n",
    "ax1.plot([0, 5000000], [0, 5000000], '--k')\n",
    "ax1.set_ylabel('Target predicted')\n",
    "ax1.set_xlabel('True Target')\n",
    "ax1.set_title('Ridge regression \\n with target transformation')\n",
    "ax1.text(1, 4000000, r'$R^2$=%.2f, MAE=%.2f' % (\n",
    "    r2_score(y_train4, y_pred), median_absolute_error(y_train4, y_pred)))\n",
    "ax1.set_xlim([0, 5000000])\n",
    "ax1.set_ylim([0, 5000000])\n",
    "\n",
    "#f.suptitle(\"Boston housing data: distance to employment centers\", y=0.035)\n",
    "#f.tight_layout(rect=[0.05, 0.05, 0.95, 0.95])\n",
    "\n",
    "plt.show()"
   ]
  },
  {
   "cell_type": "code",
   "execution_count": 135,
   "metadata": {},
   "outputs": [
    {
     "data": {
      "image/png": "[encoded data removed]",
      "text/plain": [
       "<Figure size 432x288 with 2 Axes>"
      ]
     },
     "metadata": {
      "needs_background": "light"
     },
     "output_type": "display_data"
    }
   ],
   "source": [
    "f, (ax0, ax1) = plt.subplots(1, 2, sharey=True)\n",
    "\n",
    "#regr_trans.fit(X_test4, y_test4)\n",
    "y_pred = regr_trans.predict(X_test4)\n",
    "\n",
    "ax1.scatter(y_test4, y_pred)\n",
    "ax1.plot([0, 50], [0, 50], '--k')\n",
    "ax1.set_ylabel('Target predicted')\n",
    "ax1.set_xlabel('True Target')\n",
    "ax1.set_title('Ridge regression \\n with target transformation')\n",
    "ax1.text(1, 4, r'$R^2$=%.2f, MAE=%.2f' % (\n",
    "    r2_score(y_test4, y_pred), median_absolute_error(y_test4, y_pred)))\n",
    "ax1.set_xlim([0, 50])\n",
    "ax1.set_ylim([0, 50])\n",
    "\n",
    "#f.suptitle(\"Boston housing data: distance to employment centers\", y=0.035)\n",
    "#f.tight_layout(rect=[0.05, 0.05, 0.95, 0.95])\n",
    "\n",
    "plt.show()"
   ]
  },
  {
   "cell_type": "code",
   "execution_count": 136,
   "metadata": {},
   "outputs": [
    {
     "data": {
      "text/plain": [
       "13.358651200892886"
      ]
     },
     "execution_count": 136,
     "metadata": {},
     "output_type": "execute_result"
    }
   ],
   "source": [
    "df.log2value.min()"
   ]
  },
  {
   "cell_type": "code",
   "execution_count": 137,
   "metadata": {},
   "outputs": [
    {
     "data": {
      "text/plain": [
       "24.507992387794925"
      ]
     },
     "execution_count": 137,
     "metadata": {},
     "output_type": "execute_result"
    }
   ],
   "source": [
    "df.log2value.max()"
   ]
  },
  {
   "cell_type": "code",
   "execution_count": 138,
   "metadata": {},
   "outputs": [
    {
     "data": {
      "text/plain": [
       "10503.999999999996"
      ]
     },
     "execution_count": 138,
     "metadata": {},
     "output_type": "execute_result"
    }
   ],
   "source": [
    "2**df.log2value.min()"
   ]
  },
  {
   "cell_type": "code",
   "execution_count": 139,
   "metadata": {},
   "outputs": [
    {
     "data": {
      "text/plain": [
       "23858374.000000007"
      ]
     },
     "execution_count": 139,
     "metadata": {},
     "output_type": "execute_result"
    }
   ],
   "source": [
    "2**df.log2value.max()"
   ]
  },
  {
   "cell_type": "code",
   "execution_count": 140,
   "metadata": {},
   "outputs": [
    {
     "data": {
      "text/plain": [
       "array([[272595.38122961],\n",
       "       [275311.60827773],\n",
       "       [248869.19241781],\n",
       "       ...,\n",
       "       [153575.59098341],\n",
       "       [268168.64123311],\n",
       "       [442147.85373664]])"
      ]
     },
     "execution_count": 140,
     "metadata": {},
     "output_type": "execute_result"
    }
   ],
   "source": [
    "2**y_pred"
   ]
  },
  {
   "cell_type": "code",
   "execution_count": 141,
   "metadata": {},
   "outputs": [
    {
     "data": {
      "text/plain": [
       "5884    127320.000\n",
       "1583    576498.000\n",
       "13532   161853.000\n",
       "12732   357559.000\n",
       "11248   355506.000\n",
       "           ...    \n",
       "2375    196992.000\n",
       "4783     21902.000\n",
       "5618     30399.000\n",
       "10128   176699.000\n",
       "3031    481004.000\n",
       "Name: assessed_value, Length: 2975, dtype: float64"
      ]
     },
     "execution_count": 141,
     "metadata": {},
     "output_type": "execute_result"
    }
   ],
   "source": [
    "test.assessed_value"
   ]
  },
  {
   "cell_type": "code",
   "execution_count": 142,
   "metadata": {},
   "outputs": [
    {
     "data": {
      "image/png": "[encoded data removed]",
      "text/plain": [
       "<Figure size 432x288 with 2 Axes>"
      ]
     },
     "metadata": {
      "needs_background": "light"
     },
     "output_type": "display_data"
    }
   ],
   "source": [
    "f, (ax0, ax1) = plt.subplots(1, 2, sharey=True)\n",
    "#regr_trans.fit(X_test4, y_test4)\n",
    "#y_pred = regr_trans.predict(X_test4)\n",
    "\n",
    "ax1.scatter(test.assessed_value, 2**y_pred)\n",
    "ax1.plot([0, 1000000], [0, 1000000], '--k')\n",
    "ax1.set_ylabel('Target predicted')\n",
    "ax1.set_xlabel('True Target')\n",
    "ax1.set_title('Ridge regression \\n with target transformation')\n",
    "ax1.text(1, 4, r'$R^2$=%.2f, MAE=%.2f' % (\n",
    "    r2_score(test.assessed_value, 2**y_pred), median_absolute_error(test.assessed_value, 2**y_pred)))\n",
    "ax1.set_xlim([0, 1000000])\n",
    "ax1.set_ylim([0, 1000000])\n",
    "\n",
    "#f.suptitle(\"Boston housing data: distance to employment centers\", y=0.035)\n",
    "#f.tight_layout(rect=[0.05, 0.05, 0.95, 0.95])\n",
    "\n",
    "plt.show()"
   ]
  },
  {
   "cell_type": "markdown",
   "metadata": {},
   "source": [
    "# Even with transforming target on log scale, there is no improvement in MAE"
   ]
  },
  {
   "cell_type": "markdown",
   "metadata": {},
   "source": [
    "# GAM Model"
   ]
  },
  {
   "cell_type": "code",
   "execution_count": 174,
   "metadata": {},
   "outputs": [],
   "source": [
    "from pygam import LinearGAM, s, f, te\n",
    "from pygam.datasets import wage\n",
    "import matplotlib.pyplot as plt\n",
    "import seaborn as sns\n",
    "import numpy as np\n",
    "from patsy import dmatrix\n",
    "from matplotlib import pyplot as plt"
   ]
  },
  {
   "cell_type": "code",
   "execution_count": 170,
   "metadata": {},
   "outputs": [],
   "source": [
    "X_train4 = train[['bathrooms', 'log2sf', 'latitude', 'longitude']]\n",
    "y_train4 = train[['log2value']]\n",
    "X_test4 = test[[ 'bathrooms', 'log2sf','latitude', 'longitude']]\n",
    "y_test4 = test[['log2value']]"
   ]
  },
  {
   "cell_type": "code",
   "execution_count": 171,
   "metadata": {},
   "outputs": [],
   "source": [
    "X_train4 = X_train4.to_numpy()\n",
    "y_train4 = y_train4.to_numpy()"
   ]
  },
  {
   "cell_type": "code",
   "execution_count": 172,
   "metadata": {
    "scrolled": true
   },
   "outputs": [
    {
     "data": {
      "text/plain": [
       "array([ 2.00000000e+00,  1.04868350e+01,  3.41362400e+07, -1.17885266e+08])"
      ]
     },
     "execution_count": 172,
     "metadata": {},
     "output_type": "execute_result"
    }
   ],
   "source": [
    "X_train4[1]"
   ]
  },
  {
   "cell_type": "code",
   "execution_count": 175,
   "metadata": {},
   "outputs": [],
   "source": [
    "gam_pbs = LinearGAM(s(0) + s(1) + te(2,3))"
   ]
  },
  {
   "cell_type": "code",
   "execution_count": 176,
   "metadata": {},
   "outputs": [
    {
     "name": "stderr",
     "output_type": "stream",
     "text": [
      "100% (11 of 11) |########################| Elapsed Time: 0:00:03 Time:  0:00:03\n"
     ]
    },
    {
     "data": {
      "text/plain": [
       "LinearGAM(callbacks=[Deviance(), Diffs()], fit_intercept=True, \n",
       "   max_iter=100, scale=None, terms=s(0) + s(1) + te(2, 3) + intercept,\n",
       "   tol=0.0001, verbose=False)"
      ]
     },
     "execution_count": 176,
     "metadata": {},
     "output_type": "execute_result"
    }
   ],
   "source": [
    "gam_pbs.gridsearch(X_train4,y_train4)"
   ]
  },
  {
   "cell_type": "code",
   "execution_count": 177,
   "metadata": {},
   "outputs": [
    {
     "name": "stdout",
     "output_type": "stream",
     "text": [
      "LinearGAM                                                                                                 \n",
      "=============================================== ==========================================================\n",
      "Distribution:                        NormalDist Effective DoF:                                     86.2199\n",
      "Link Function:                     IdentityLink Log Likelihood:                                -17161.6025\n",
      "Number of Samples:                        11898 AIC:                                            34497.6449\n",
      "                                                AICc:                                            34498.948\n",
      "                                                GCV:                                                1.0678\n",
      "                                                Scale:                                              1.0538\n",
      "                                                Pseudo R-Squared:                                   0.4427\n",
      "==========================================================================================================\n",
      "Feature Function                  Lambda               Rank         EDoF         P > x        Sig. Code   \n",
      "================================= ==================== ============ ============ ============ ============\n",
      "s(0)                              [0.001]              20           16.6         1.11e-16     ***         \n",
      "s(1)                              [0.001]              20           17.5         1.11e-16     ***         \n",
      "te(2, 3)                          [0.001 0.001]        100          52.1         1.11e-16     ***         \n",
      "intercept                                              1            0.0          1.15e-11     ***         \n",
      "==========================================================================================================\n",
      "Significance codes:  0 '***' 0.001 '**' 0.01 '*' 0.05 '.' 0.1 ' ' 1\n",
      "\n",
      "WARNING: Fitting splines and a linear function to a feature introduces a model identifiability problem\n",
      "         which can cause p-values to appear significant when they are not.\n",
      "\n",
      "WARNING: p-values calculated in this manner behave correctly for un-penalized models or models with\n",
      "         known smoothing parameters, but when smoothing parameters have been estimated, the p-values\n",
      "         are typically lower than they should be, meaning that the tests reject the null too readily.\n"
     ]
    }
   ],
   "source": [
    "gam_pbs.summary()"
   ]
  },
  {
   "cell_type": "code",
   "execution_count": 178,
   "metadata": {},
   "outputs": [],
   "source": [
    "y_pred_pbs = gam_pbs.predict(X_train4)"
   ]
  },
  {
   "cell_type": "code",
   "execution_count": 179,
   "metadata": {},
   "outputs": [
    {
     "data": {
      "text/plain": [
       "array([18.37660567, 17.87767152, 19.89025136, ..., 18.70157275,\n",
       "       18.52021636, 20.74676809])"
      ]
     },
     "execution_count": 179,
     "metadata": {},
     "output_type": "execute_result"
    }
   ],
   "source": [
    "y_pred_pbs"
   ]
  },
  {
   "cell_type": "code",
   "execution_count": 180,
   "metadata": {},
   "outputs": [],
   "source": [
    "y_pred_pbs = pd.DataFrame(y_pred_pbs)"
   ]
  },
  {
   "cell_type": "code",
   "execution_count": 181,
   "metadata": {},
   "outputs": [],
   "source": [
    "y_pred_pbs['actual'] =y_train4"
   ]
  },
  {
   "cell_type": "code",
   "execution_count": 182,
   "metadata": {},
   "outputs": [],
   "source": [
    "y_pred_pbs.rename(columns = {'0': 'predicted'}, inplace = True)"
   ]
  },
  {
   "cell_type": "code",
   "execution_count": 183,
   "metadata": {},
   "outputs": [
    {
     "data": {
      "text/html": [
       "<div>\n",
       "<style scoped>\n",
       "    .dataframe tbody tr th:only-of-type {\n",
       "        vertical-align: middle;\n",
       "    }\n",
       "\n",
       "    .dataframe tbody tr th {\n",
       "        vertical-align: top;\n",
       "    }\n",
       "\n",
       "    .dataframe thead th {\n",
       "        text-align: right;\n",
       "    }\n",
       "</style>\n",
       "<table border=\"1\" class=\"dataframe\">\n",
       "  <thead>\n",
       "    <tr style=\"text-align: right;\">\n",
       "      <th></th>\n",
       "      <th>0</th>\n",
       "      <th>actual</th>\n",
       "    </tr>\n",
       "  </thead>\n",
       "  <tbody>\n",
       "    <tr>\n",
       "      <th>0</th>\n",
       "      <td>18.377</td>\n",
       "      <td>19.187</td>\n",
       "    </tr>\n",
       "    <tr>\n",
       "      <th>1</th>\n",
       "      <td>17.878</td>\n",
       "      <td>15.822</td>\n",
       "    </tr>\n",
       "    <tr>\n",
       "      <th>2</th>\n",
       "      <td>19.890</td>\n",
       "      <td>19.992</td>\n",
       "    </tr>\n",
       "    <tr>\n",
       "      <th>3</th>\n",
       "      <td>19.752</td>\n",
       "      <td>19.109</td>\n",
       "    </tr>\n",
       "    <tr>\n",
       "      <th>4</th>\n",
       "      <td>18.904</td>\n",
       "      <td>19.011</td>\n",
       "    </tr>\n",
       "    <tr>\n",
       "      <th>...</th>\n",
       "      <td>...</td>\n",
       "      <td>...</td>\n",
       "    </tr>\n",
       "    <tr>\n",
       "      <th>11893</th>\n",
       "      <td>20.017</td>\n",
       "      <td>19.317</td>\n",
       "    </tr>\n",
       "    <tr>\n",
       "      <th>11894</th>\n",
       "      <td>18.408</td>\n",
       "      <td>15.868</td>\n",
       "    </tr>\n",
       "    <tr>\n",
       "      <th>11895</th>\n",
       "      <td>18.702</td>\n",
       "      <td>16.975</td>\n",
       "    </tr>\n",
       "    <tr>\n",
       "      <th>11896</th>\n",
       "      <td>18.520</td>\n",
       "      <td>18.590</td>\n",
       "    </tr>\n",
       "    <tr>\n",
       "      <th>11897</th>\n",
       "      <td>20.747</td>\n",
       "      <td>23.152</td>\n",
       "    </tr>\n",
       "  </tbody>\n",
       "</table>\n",
       "<p>11898 rows × 2 columns</p>\n",
       "</div>"
      ],
      "text/plain": [
       "           0  actual\n",
       "0     18.377  19.187\n",
       "1     17.878  15.822\n",
       "2     19.890  19.992\n",
       "3     19.752  19.109\n",
       "4     18.904  19.011\n",
       "...      ...     ...\n",
       "11893 20.017  19.317\n",
       "11894 18.408  15.868\n",
       "11895 18.702  16.975\n",
       "11896 18.520  18.590\n",
       "11897 20.747  23.152\n",
       "\n",
       "[11898 rows x 2 columns]"
      ]
     },
     "execution_count": 183,
     "metadata": {},
     "output_type": "execute_result"
    }
   ],
   "source": [
    "y_pred_pbs"
   ]
  },
  {
   "cell_type": "code",
   "execution_count": 184,
   "metadata": {},
   "outputs": [],
   "source": [
    "y_pred_pbs['actual1'] = 2**y_pred_pbs.actual\n",
    "y_pred_pbs['predicted1'] = 2**y_pred_pbs[0]"
   ]
  },
  {
   "cell_type": "code",
   "execution_count": 185,
   "metadata": {},
   "outputs": [
    {
     "data": {
      "text/plain": [
       "0            385834.751\n",
       "actual       385834.442\n",
       "actual1           0.000\n",
       "predicted1   154997.528\n",
       "dtype: float64"
      ]
     },
     "execution_count": 185,
     "metadata": {},
     "output_type": "execute_result"
    }
   ],
   "source": [
    "y_pred_pbs.apply(lambda col: median_absolute_error(y_pred_pbs.actual1, col))"
   ]
  },
  {
   "cell_type": "code",
   "execution_count": 186,
   "metadata": {},
   "outputs": [
    {
     "data": {
      "image/png": "[encoded data removed]",
      "text/plain": [
       "<Figure size 432x288 with 1 Axes>"
      ]
     },
     "metadata": {
      "needs_background": "light"
     },
     "output_type": "display_data"
    }
   ],
   "source": [
    "evaluate.plot_residuals(y_pred_pbs.actual1, y_pred_pbs.predicted1, y_pred_pbs)\n",
    "evaluate.plot_residuals(predictions1.actual, predictions1.calculated, predictions1)"
   ]
  },
  {
   "cell_type": "code",
   "execution_count": null,
   "metadata": {},
   "outputs": [],
   "source": []
  },
  {
   "cell_type": "code",
   "execution_count": null,
   "metadata": {},
   "outputs": [],
   "source": []
  }
 ],
 "metadata": {
  "kernelspec": {
   "display_name": "Python 3",
   "language": "python",
   "name": "python3"
  },
  "language_info": {
   "codemirror_mode": {
    "name": "ipython",
    "version": 3
   },
   "file_extension": ".py",
   "mimetype": "text/x-python",
   "name": "python",
   "nbconvert_exporter": "python",
   "pygments_lexer": "ipython3",
   "version": "3.7.4"
  }
 },
 "nbformat": 4,
 "nbformat_minor": 2
}
