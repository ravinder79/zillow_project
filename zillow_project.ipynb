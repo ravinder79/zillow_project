{
 "cells": [
  {
   "cell_type": "markdown",
   "metadata": {},
   "source": [
    "Deliverables\n",
    "\n",
    "\n",
    "\n",
    "1. A report (in the form of a presentation, both verbal and through a slides)\n",
    "\n",
    "\n",
    "2. A github repository containing your jupyter notebook that walks through the pipeline along with the .py files necessary to reproduce your model.\n",
    "\n"
   ]
  },
  {
   "cell_type": "code",
   "execution_count": 1,
   "metadata": {},
   "outputs": [],
   "source": [
    "import wrangle\n",
    "import pandas as pd\n",
    "import numpy as np\n",
    "import evaluate\n",
    "import explore\n",
    "import matplotlib.pyplot as plt\n",
    "import seaborn as sns; sns.set()\n",
    "from sklearn.model_selection import train_test_split\n",
    "import warnings\n",
    "warnings.filterwarnings(\"ignore\")\n",
    "from statsmodels.formula.api import ols\n",
    "from sklearn.linear_model import LinearRegression\n"
   ]
  },
  {
   "cell_type": "code",
   "execution_count": 2,
   "metadata": {},
   "outputs": [],
   "source": [
    "#use wrangle.py to import data from mySQL\n",
    "df =wrangle.get_data_from_sql()"
   ]
  },
  {
   "cell_type": "code",
   "execution_count": 3,
   "metadata": {},
   "outputs": [
    {
     "data": {
      "text/html": [
       "<div>\n",
       "<style scoped>\n",
       "    .dataframe tbody tr th:only-of-type {\n",
       "        vertical-align: middle;\n",
       "    }\n",
       "\n",
       "    .dataframe tbody tr th {\n",
       "        vertical-align: top;\n",
       "    }\n",
       "\n",
       "    .dataframe thead th {\n",
       "        text-align: right;\n",
       "    }\n",
       "</style>\n",
       "<table border=\"1\" class=\"dataframe\">\n",
       "  <thead>\n",
       "    <tr style=\"text-align: right;\">\n",
       "      <th></th>\n",
       "      <th>bathrooms</th>\n",
       "      <th>bedrooms</th>\n",
       "      <th>square_feet</th>\n",
       "      <th>fips</th>\n",
       "      <th>lot_size</th>\n",
       "      <th>pool</th>\n",
       "      <th>zip_code</th>\n",
       "      <th>year_built</th>\n",
       "      <th>latitude</th>\n",
       "      <th>longitude</th>\n",
       "      <th>assessed_value</th>\n",
       "      <th>tax_value</th>\n",
       "      <th>transaction_date</th>\n",
       "    </tr>\n",
       "  </thead>\n",
       "  <tbody>\n",
       "    <tr>\n",
       "      <th>0</th>\n",
       "      <td>2.0</td>\n",
       "      <td>3.0</td>\n",
       "      <td>1458.0</td>\n",
       "      <td>6037.0</td>\n",
       "      <td>8284.0</td>\n",
       "      <td>1.0</td>\n",
       "      <td>97318.0</td>\n",
       "      <td>1970.0</td>\n",
       "      <td>34686163.0</td>\n",
       "      <td>-118113100.0</td>\n",
       "      <td>136104.0</td>\n",
       "      <td>2319.90</td>\n",
       "      <td>2017-06-23</td>\n",
       "    </tr>\n",
       "    <tr>\n",
       "      <th>1</th>\n",
       "      <td>1.0</td>\n",
       "      <td>2.0</td>\n",
       "      <td>1421.0</td>\n",
       "      <td>6037.0</td>\n",
       "      <td>6707.0</td>\n",
       "      <td>NaN</td>\n",
       "      <td>96018.0</td>\n",
       "      <td>1911.0</td>\n",
       "      <td>33999877.0</td>\n",
       "      <td>-118291863.0</td>\n",
       "      <td>35606.0</td>\n",
       "      <td>543.69</td>\n",
       "      <td>2017-06-30</td>\n",
       "    </tr>\n",
       "    <tr>\n",
       "      <th>2</th>\n",
       "      <td>3.0</td>\n",
       "      <td>4.0</td>\n",
       "      <td>2541.0</td>\n",
       "      <td>6059.0</td>\n",
       "      <td>4975.0</td>\n",
       "      <td>NaN</td>\n",
       "      <td>96958.0</td>\n",
       "      <td>2003.0</td>\n",
       "      <td>33694636.0</td>\n",
       "      <td>-117912245.0</td>\n",
       "      <td>880456.0</td>\n",
       "      <td>9819.72</td>\n",
       "      <td>2017-06-01</td>\n",
       "    </tr>\n",
       "    <tr>\n",
       "      <th>3</th>\n",
       "      <td>2.0</td>\n",
       "      <td>3.0</td>\n",
       "      <td>1650.0</td>\n",
       "      <td>6037.0</td>\n",
       "      <td>7300.0</td>\n",
       "      <td>NaN</td>\n",
       "      <td>96037.0</td>\n",
       "      <td>1949.0</td>\n",
       "      <td>33985377.0</td>\n",
       "      <td>-118361620.0</td>\n",
       "      <td>614000.0</td>\n",
       "      <td>7673.19</td>\n",
       "      <td>2017-06-01</td>\n",
       "    </tr>\n",
       "    <tr>\n",
       "      <th>4</th>\n",
       "      <td>1.0</td>\n",
       "      <td>2.0</td>\n",
       "      <td>693.0</td>\n",
       "      <td>6037.0</td>\n",
       "      <td>2908.0</td>\n",
       "      <td>NaN</td>\n",
       "      <td>96023.0</td>\n",
       "      <td>1921.0</td>\n",
       "      <td>34112946.0</td>\n",
       "      <td>-118208106.0</td>\n",
       "      <td>274237.0</td>\n",
       "      <td>3267.47</td>\n",
       "      <td>2017-06-29</td>\n",
       "    </tr>\n",
       "  </tbody>\n",
       "</table>\n",
       "</div>"
      ],
      "text/plain": [
       "   bathrooms  bedrooms  square_feet    fips  lot_size  pool  zip_code  \\\n",
       "0        2.0       3.0       1458.0  6037.0    8284.0   1.0   97318.0   \n",
       "1        1.0       2.0       1421.0  6037.0    6707.0   NaN   96018.0   \n",
       "2        3.0       4.0       2541.0  6059.0    4975.0   NaN   96958.0   \n",
       "3        2.0       3.0       1650.0  6037.0    7300.0   NaN   96037.0   \n",
       "4        1.0       2.0        693.0  6037.0    2908.0   NaN   96023.0   \n",
       "\n",
       "   year_built    latitude    longitude  assessed_value  tax_value  \\\n",
       "0      1970.0  34686163.0 -118113100.0        136104.0    2319.90   \n",
       "1      1911.0  33999877.0 -118291863.0         35606.0     543.69   \n",
       "2      2003.0  33694636.0 -117912245.0        880456.0    9819.72   \n",
       "3      1949.0  33985377.0 -118361620.0        614000.0    7673.19   \n",
       "4      1921.0  34112946.0 -118208106.0        274237.0    3267.47   \n",
       "\n",
       "  transaction_date  \n",
       "0       2017-06-23  \n",
       "1       2017-06-30  \n",
       "2       2017-06-01  \n",
       "3       2017-06-01  \n",
       "4       2017-06-29  "
      ]
     },
     "execution_count": 3,
     "metadata": {},
     "output_type": "execute_result"
    }
   ],
   "source": [
    "# check DF head\n",
    "df.head()"
   ]
  },
  {
   "cell_type": "code",
   "execution_count": 4,
   "metadata": {},
   "outputs": [
    {
     "data": {
      "text/html": [
       "<div>\n",
       "<style scoped>\n",
       "    .dataframe tbody tr th:only-of-type {\n",
       "        vertical-align: middle;\n",
       "    }\n",
       "\n",
       "    .dataframe tbody tr th {\n",
       "        vertical-align: top;\n",
       "    }\n",
       "\n",
       "    .dataframe thead th {\n",
       "        text-align: right;\n",
       "    }\n",
       "</style>\n",
       "<table border=\"1\" class=\"dataframe\">\n",
       "  <thead>\n",
       "    <tr style=\"text-align: right;\">\n",
       "      <th></th>\n",
       "      <th>bathrooms</th>\n",
       "      <th>bedrooms</th>\n",
       "      <th>square_feet</th>\n",
       "      <th>fips</th>\n",
       "      <th>lot_size</th>\n",
       "      <th>pool</th>\n",
       "      <th>zip_code</th>\n",
       "      <th>year_built</th>\n",
       "      <th>latitude</th>\n",
       "      <th>longitude</th>\n",
       "      <th>assessed_value</th>\n",
       "      <th>tax_value</th>\n",
       "      <th>transaction_date</th>\n",
       "    </tr>\n",
       "  </thead>\n",
       "  <tbody>\n",
       "    <tr>\n",
       "      <th>14985</th>\n",
       "      <td>3.0</td>\n",
       "      <td>5.0</td>\n",
       "      <td>2526.0</td>\n",
       "      <td>6059.0</td>\n",
       "      <td>7800.0</td>\n",
       "      <td>1.0</td>\n",
       "      <td>97018.0</td>\n",
       "      <td>1994.0</td>\n",
       "      <td>33753643.0</td>\n",
       "      <td>-117766503.0</td>\n",
       "      <td>458903.0</td>\n",
       "      <td>5718.72</td>\n",
       "      <td>2017-06-30</td>\n",
       "    </tr>\n",
       "    <tr>\n",
       "      <th>14986</th>\n",
       "      <td>3.0</td>\n",
       "      <td>5.0</td>\n",
       "      <td>2735.0</td>\n",
       "      <td>6059.0</td>\n",
       "      <td>7100.0</td>\n",
       "      <td>1.0</td>\n",
       "      <td>97067.0</td>\n",
       "      <td>1963.0</td>\n",
       "      <td>33783173.0</td>\n",
       "      <td>-117817799.0</td>\n",
       "      <td>115387.0</td>\n",
       "      <td>1465.88</td>\n",
       "      <td>2017-06-30</td>\n",
       "    </tr>\n",
       "    <tr>\n",
       "      <th>14987</th>\n",
       "      <td>2.0</td>\n",
       "      <td>3.0</td>\n",
       "      <td>1536.0</td>\n",
       "      <td>6037.0</td>\n",
       "      <td>8818.0</td>\n",
       "      <td>1.0</td>\n",
       "      <td>96523.0</td>\n",
       "      <td>1955.0</td>\n",
       "      <td>34058178.0</td>\n",
       "      <td>-117948180.0</td>\n",
       "      <td>297097.0</td>\n",
       "      <td>3519.78</td>\n",
       "      <td>2017-06-30</td>\n",
       "    </tr>\n",
       "    <tr>\n",
       "      <th>14988</th>\n",
       "      <td>3.0</td>\n",
       "      <td>5.0</td>\n",
       "      <td>2655.0</td>\n",
       "      <td>6059.0</td>\n",
       "      <td>6000.0</td>\n",
       "      <td>NaN</td>\n",
       "      <td>97065.0</td>\n",
       "      <td>1994.0</td>\n",
       "      <td>33836898.0</td>\n",
       "      <td>-117801369.0</td>\n",
       "      <td>746963.0</td>\n",
       "      <td>8065.50</td>\n",
       "      <td>2017-06-30</td>\n",
       "    </tr>\n",
       "    <tr>\n",
       "      <th>14989</th>\n",
       "      <td>3.0</td>\n",
       "      <td>4.0</td>\n",
       "      <td>2305.0</td>\n",
       "      <td>6037.0</td>\n",
       "      <td>5742.0</td>\n",
       "      <td>NaN</td>\n",
       "      <td>96129.0</td>\n",
       "      <td>1949.0</td>\n",
       "      <td>33952368.0</td>\n",
       "      <td>-118441155.0</td>\n",
       "      <td>579047.0</td>\n",
       "      <td>6996.21</td>\n",
       "      <td>2017-06-30</td>\n",
       "    </tr>\n",
       "  </tbody>\n",
       "</table>\n",
       "</div>"
      ],
      "text/plain": [
       "       bathrooms  bedrooms  square_feet    fips  lot_size  pool  zip_code  \\\n",
       "14985        3.0       5.0       2526.0  6059.0    7800.0   1.0   97018.0   \n",
       "14986        3.0       5.0       2735.0  6059.0    7100.0   1.0   97067.0   \n",
       "14987        2.0       3.0       1536.0  6037.0    8818.0   1.0   96523.0   \n",
       "14988        3.0       5.0       2655.0  6059.0    6000.0   NaN   97065.0   \n",
       "14989        3.0       4.0       2305.0  6037.0    5742.0   NaN   96129.0   \n",
       "\n",
       "       year_built    latitude    longitude  assessed_value  tax_value  \\\n",
       "14985      1994.0  33753643.0 -117766503.0        458903.0    5718.72   \n",
       "14986      1963.0  33783173.0 -117817799.0        115387.0    1465.88   \n",
       "14987      1955.0  34058178.0 -117948180.0        297097.0    3519.78   \n",
       "14988      1994.0  33836898.0 -117801369.0        746963.0    8065.50   \n",
       "14989      1949.0  33952368.0 -118441155.0        579047.0    6996.21   \n",
       "\n",
       "      transaction_date  \n",
       "14985       2017-06-30  \n",
       "14986       2017-06-30  \n",
       "14987       2017-06-30  \n",
       "14988       2017-06-30  \n",
       "14989       2017-06-30  "
      ]
     },
     "execution_count": 4,
     "metadata": {},
     "output_type": "execute_result"
    }
   ],
   "source": [
    "# check DF tail\n",
    "df.tail()"
   ]
  },
  {
   "cell_type": "code",
   "execution_count": 5,
   "metadata": {},
   "outputs": [
    {
     "name": "stdout",
     "output_type": "stream",
     "text": [
      "<class 'pandas.core.frame.DataFrame'>\n",
      "RangeIndex: 14990 entries, 0 to 14989\n",
      "Data columns (total 13 columns):\n",
      "bathrooms           14990 non-null float64\n",
      "bedrooms            14990 non-null float64\n",
      "square_feet         14990 non-null float64\n",
      "fips                14990 non-null float64\n",
      "lot_size            14893 non-null float64\n",
      "pool                3287 non-null float64\n",
      "zip_code            14982 non-null float64\n",
      "year_built          14974 non-null float64\n",
      "latitude            14990 non-null float64\n",
      "longitude           14990 non-null float64\n",
      "assessed_value      14990 non-null float64\n",
      "tax_value           14989 non-null float64\n",
      "transaction_date    14990 non-null object\n",
      "dtypes: float64(12), object(1)\n",
      "memory usage: 1.5+ MB\n"
     ]
    }
   ],
   "source": [
    "# there are null values in lot_size, pool, zip_code, year_built and tax-value\n",
    "df.info()"
   ]
  },
  {
   "cell_type": "code",
   "execution_count": 6,
   "metadata": {
    "scrolled": true
   },
   "outputs": [],
   "source": [
    "#wrangle data to remove NANs\n",
    "df = wrangle.wrangle_zillow()"
   ]
  },
  {
   "cell_type": "code",
   "execution_count": 7,
   "metadata": {},
   "outputs": [],
   "source": [
    "#create a new column tax-rate\n",
    "df['tax_rate'] = df.tax_value/df.assessed_value"
   ]
  },
  {
   "cell_type": "code",
   "execution_count": 8,
   "metadata": {},
   "outputs": [
    {
     "data": {
      "text/html": [
       "<div>\n",
       "<style scoped>\n",
       "    .dataframe tbody tr th:only-of-type {\n",
       "        vertical-align: middle;\n",
       "    }\n",
       "\n",
       "    .dataframe tbody tr th {\n",
       "        vertical-align: top;\n",
       "    }\n",
       "\n",
       "    .dataframe thead th {\n",
       "        text-align: right;\n",
       "    }\n",
       "</style>\n",
       "<table border=\"1\" class=\"dataframe\">\n",
       "  <thead>\n",
       "    <tr style=\"text-align: right;\">\n",
       "      <th></th>\n",
       "      <th>bathrooms</th>\n",
       "      <th>bedrooms</th>\n",
       "      <th>square_feet</th>\n",
       "      <th>fips</th>\n",
       "      <th>lot_size</th>\n",
       "      <th>pool</th>\n",
       "      <th>zip_code</th>\n",
       "      <th>year_built</th>\n",
       "      <th>latitude</th>\n",
       "      <th>longitude</th>\n",
       "      <th>assessed_value</th>\n",
       "      <th>tax_value</th>\n",
       "      <th>transaction_date</th>\n",
       "      <th>tax_rate</th>\n",
       "    </tr>\n",
       "  </thead>\n",
       "  <tbody>\n",
       "    <tr>\n",
       "      <th>0</th>\n",
       "      <td>2.0</td>\n",
       "      <td>3.0</td>\n",
       "      <td>1458.0</td>\n",
       "      <td>6037</td>\n",
       "      <td>8284</td>\n",
       "      <td>1</td>\n",
       "      <td>97318</td>\n",
       "      <td>1970</td>\n",
       "      <td>34686163.0</td>\n",
       "      <td>-118113100.0</td>\n",
       "      <td>136104.0</td>\n",
       "      <td>2319.90</td>\n",
       "      <td>2017-06-23</td>\n",
       "      <td>0.017045</td>\n",
       "    </tr>\n",
       "    <tr>\n",
       "      <th>1</th>\n",
       "      <td>1.0</td>\n",
       "      <td>2.0</td>\n",
       "      <td>1421.0</td>\n",
       "      <td>6037</td>\n",
       "      <td>6707</td>\n",
       "      <td>0</td>\n",
       "      <td>96018</td>\n",
       "      <td>1911</td>\n",
       "      <td>33999877.0</td>\n",
       "      <td>-118291863.0</td>\n",
       "      <td>35606.0</td>\n",
       "      <td>543.69</td>\n",
       "      <td>2017-06-30</td>\n",
       "      <td>0.015270</td>\n",
       "    </tr>\n",
       "    <tr>\n",
       "      <th>2</th>\n",
       "      <td>3.0</td>\n",
       "      <td>4.0</td>\n",
       "      <td>2541.0</td>\n",
       "      <td>6059</td>\n",
       "      <td>4975</td>\n",
       "      <td>0</td>\n",
       "      <td>96958</td>\n",
       "      <td>2003</td>\n",
       "      <td>33694636.0</td>\n",
       "      <td>-117912245.0</td>\n",
       "      <td>880456.0</td>\n",
       "      <td>9819.72</td>\n",
       "      <td>2017-06-01</td>\n",
       "      <td>0.011153</td>\n",
       "    </tr>\n",
       "    <tr>\n",
       "      <th>3</th>\n",
       "      <td>2.0</td>\n",
       "      <td>3.0</td>\n",
       "      <td>1650.0</td>\n",
       "      <td>6037</td>\n",
       "      <td>7300</td>\n",
       "      <td>0</td>\n",
       "      <td>96037</td>\n",
       "      <td>1949</td>\n",
       "      <td>33985377.0</td>\n",
       "      <td>-118361620.0</td>\n",
       "      <td>614000.0</td>\n",
       "      <td>7673.19</td>\n",
       "      <td>2017-06-01</td>\n",
       "      <td>0.012497</td>\n",
       "    </tr>\n",
       "    <tr>\n",
       "      <th>4</th>\n",
       "      <td>1.0</td>\n",
       "      <td>2.0</td>\n",
       "      <td>693.0</td>\n",
       "      <td>6037</td>\n",
       "      <td>2908</td>\n",
       "      <td>0</td>\n",
       "      <td>96023</td>\n",
       "      <td>1921</td>\n",
       "      <td>34112946.0</td>\n",
       "      <td>-118208106.0</td>\n",
       "      <td>274237.0</td>\n",
       "      <td>3267.47</td>\n",
       "      <td>2017-06-29</td>\n",
       "      <td>0.011915</td>\n",
       "    </tr>\n",
       "  </tbody>\n",
       "</table>\n",
       "</div>"
      ],
      "text/plain": [
       "   bathrooms  bedrooms  square_feet  fips  lot_size  pool  zip_code  \\\n",
       "0        2.0       3.0       1458.0  6037      8284     1     97318   \n",
       "1        1.0       2.0       1421.0  6037      6707     0     96018   \n",
       "2        3.0       4.0       2541.0  6059      4975     0     96958   \n",
       "3        2.0       3.0       1650.0  6037      7300     0     96037   \n",
       "4        1.0       2.0        693.0  6037      2908     0     96023   \n",
       "\n",
       "   year_built    latitude    longitude  assessed_value  tax_value  \\\n",
       "0        1970  34686163.0 -118113100.0        136104.0    2319.90   \n",
       "1        1911  33999877.0 -118291863.0         35606.0     543.69   \n",
       "2        2003  33694636.0 -117912245.0        880456.0    9819.72   \n",
       "3        1949  33985377.0 -118361620.0        614000.0    7673.19   \n",
       "4        1921  34112946.0 -118208106.0        274237.0    3267.47   \n",
       "\n",
       "  transaction_date  tax_rate  \n",
       "0       2017-06-23  0.017045  \n",
       "1       2017-06-30  0.015270  \n",
       "2       2017-06-01  0.011153  \n",
       "3       2017-06-01  0.012497  \n",
       "4       2017-06-29  0.011915  "
      ]
     },
     "execution_count": 8,
     "metadata": {},
     "output_type": "execute_result"
    }
   ],
   "source": [
    "df.head()"
   ]
  },
  {
   "cell_type": "code",
   "execution_count": 9,
   "metadata": {},
   "outputs": [],
   "source": [
    "#https://www.nrcs.usda.gov/wps/portal/nrcs/detail/national/home/?cid=nrcs143_013697\n",
    "#source for county fips code. Read codes in a data DataFrame named fips_codes\n",
    "#fips_codes = pd.read_clipboard()"
   ]
  },
  {
   "cell_type": "code",
   "execution_count": 14,
   "metadata": {},
   "outputs": [
    {
     "data": {
      "text/html": [
       "<div>\n",
       "<style scoped>\n",
       "    .dataframe tbody tr th:only-of-type {\n",
       "        vertical-align: middle;\n",
       "    }\n",
       "\n",
       "    .dataframe tbody tr th {\n",
       "        vertical-align: top;\n",
       "    }\n",
       "\n",
       "    .dataframe thead th {\n",
       "        text-align: right;\n",
       "    }\n",
       "</style>\n",
       "<table border=\"1\" class=\"dataframe\">\n",
       "  <thead>\n",
       "    <tr style=\"text-align: right;\">\n",
       "      <th></th>\n",
       "      <th>fips</th>\n",
       "      <th>County</th>\n",
       "    </tr>\n",
       "  </thead>\n",
       "  <tbody>\n",
       "    <tr>\n",
       "      <th>0</th>\n",
       "      <td>6037</td>\n",
       "      <td>Los Angles</td>\n",
       "    </tr>\n",
       "    <tr>\n",
       "      <th>1</th>\n",
       "      <td>6059</td>\n",
       "      <td>Orange</td>\n",
       "    </tr>\n",
       "    <tr>\n",
       "      <th>2</th>\n",
       "      <td>6111</td>\n",
       "      <td>Ventura</td>\n",
       "    </tr>\n",
       "  </tbody>\n",
       "</table>\n",
       "</div>"
      ],
      "text/plain": [
       "   fips      County\n",
       "0  6037  Los Angles\n",
       "1  6059      Orange\n",
       "2  6111     Ventura"
      ]
     },
     "execution_count": 14,
     "metadata": {},
     "output_type": "execute_result"
    }
   ],
   "source": [
    "fips_code = pd.DataFrame({\n",
    "    'fips': [6037, 6059, 6111],\n",
    "    'County':['Los Angles', 'Orange', 'Ventura']\n",
    "    \n",
    "})\n",
    "fips_code.head()"
   ]
  },
  {
   "cell_type": "code",
   "execution_count": 12,
   "metadata": {},
   "outputs": [],
   "source": [
    "#merge df and fips_codes \n",
    "df = pd.merge(df, fips_code, left_on='fips', right_on='fips', how='left')"
   ]
  },
  {
   "cell_type": "code",
   "execution_count": 15,
   "metadata": {},
   "outputs": [
    {
     "data": {
      "text/html": [
       "<div>\n",
       "<style scoped>\n",
       "    .dataframe tbody tr th:only-of-type {\n",
       "        vertical-align: middle;\n",
       "    }\n",
       "\n",
       "    .dataframe tbody tr th {\n",
       "        vertical-align: top;\n",
       "    }\n",
       "\n",
       "    .dataframe thead th {\n",
       "        text-align: right;\n",
       "    }\n",
       "</style>\n",
       "<table border=\"1\" class=\"dataframe\">\n",
       "  <thead>\n",
       "    <tr style=\"text-align: right;\">\n",
       "      <th></th>\n",
       "      <th>bathrooms</th>\n",
       "      <th>bedrooms</th>\n",
       "      <th>square_feet</th>\n",
       "      <th>fips</th>\n",
       "      <th>lot_size</th>\n",
       "      <th>pool</th>\n",
       "      <th>zip_code</th>\n",
       "      <th>year_built</th>\n",
       "      <th>latitude</th>\n",
       "      <th>longitude</th>\n",
       "      <th>assessed_value</th>\n",
       "      <th>tax_value</th>\n",
       "      <th>transaction_date</th>\n",
       "      <th>tax_rate</th>\n",
       "      <th>County</th>\n",
       "    </tr>\n",
       "  </thead>\n",
       "  <tbody>\n",
       "    <tr>\n",
       "      <th>0</th>\n",
       "      <td>2.0</td>\n",
       "      <td>3.0</td>\n",
       "      <td>1458.0</td>\n",
       "      <td>6037</td>\n",
       "      <td>8284</td>\n",
       "      <td>1</td>\n",
       "      <td>97318</td>\n",
       "      <td>1970</td>\n",
       "      <td>34686163.0</td>\n",
       "      <td>-118113100.0</td>\n",
       "      <td>136104.0</td>\n",
       "      <td>2319.90</td>\n",
       "      <td>2017-06-23</td>\n",
       "      <td>0.017045</td>\n",
       "      <td>Los Angles</td>\n",
       "    </tr>\n",
       "    <tr>\n",
       "      <th>1</th>\n",
       "      <td>1.0</td>\n",
       "      <td>2.0</td>\n",
       "      <td>1421.0</td>\n",
       "      <td>6037</td>\n",
       "      <td>6707</td>\n",
       "      <td>0</td>\n",
       "      <td>96018</td>\n",
       "      <td>1911</td>\n",
       "      <td>33999877.0</td>\n",
       "      <td>-118291863.0</td>\n",
       "      <td>35606.0</td>\n",
       "      <td>543.69</td>\n",
       "      <td>2017-06-30</td>\n",
       "      <td>0.015270</td>\n",
       "      <td>Los Angles</td>\n",
       "    </tr>\n",
       "    <tr>\n",
       "      <th>2</th>\n",
       "      <td>3.0</td>\n",
       "      <td>4.0</td>\n",
       "      <td>2541.0</td>\n",
       "      <td>6059</td>\n",
       "      <td>4975</td>\n",
       "      <td>0</td>\n",
       "      <td>96958</td>\n",
       "      <td>2003</td>\n",
       "      <td>33694636.0</td>\n",
       "      <td>-117912245.0</td>\n",
       "      <td>880456.0</td>\n",
       "      <td>9819.72</td>\n",
       "      <td>2017-06-01</td>\n",
       "      <td>0.011153</td>\n",
       "      <td>Orange</td>\n",
       "    </tr>\n",
       "    <tr>\n",
       "      <th>3</th>\n",
       "      <td>2.0</td>\n",
       "      <td>3.0</td>\n",
       "      <td>1650.0</td>\n",
       "      <td>6037</td>\n",
       "      <td>7300</td>\n",
       "      <td>0</td>\n",
       "      <td>96037</td>\n",
       "      <td>1949</td>\n",
       "      <td>33985377.0</td>\n",
       "      <td>-118361620.0</td>\n",
       "      <td>614000.0</td>\n",
       "      <td>7673.19</td>\n",
       "      <td>2017-06-01</td>\n",
       "      <td>0.012497</td>\n",
       "      <td>Los Angles</td>\n",
       "    </tr>\n",
       "    <tr>\n",
       "      <th>4</th>\n",
       "      <td>1.0</td>\n",
       "      <td>2.0</td>\n",
       "      <td>693.0</td>\n",
       "      <td>6037</td>\n",
       "      <td>2908</td>\n",
       "      <td>0</td>\n",
       "      <td>96023</td>\n",
       "      <td>1921</td>\n",
       "      <td>34112946.0</td>\n",
       "      <td>-118208106.0</td>\n",
       "      <td>274237.0</td>\n",
       "      <td>3267.47</td>\n",
       "      <td>2017-06-29</td>\n",
       "      <td>0.011915</td>\n",
       "      <td>Los Angles</td>\n",
       "    </tr>\n",
       "  </tbody>\n",
       "</table>\n",
       "</div>"
      ],
      "text/plain": [
       "   bathrooms  bedrooms  square_feet  fips  lot_size  pool  zip_code  \\\n",
       "0        2.0       3.0       1458.0  6037      8284     1     97318   \n",
       "1        1.0       2.0       1421.0  6037      6707     0     96018   \n",
       "2        3.0       4.0       2541.0  6059      4975     0     96958   \n",
       "3        2.0       3.0       1650.0  6037      7300     0     96037   \n",
       "4        1.0       2.0        693.0  6037      2908     0     96023   \n",
       "\n",
       "   year_built    latitude    longitude  assessed_value  tax_value  \\\n",
       "0        1970  34686163.0 -118113100.0        136104.0    2319.90   \n",
       "1        1911  33999877.0 -118291863.0         35606.0     543.69   \n",
       "2        2003  33694636.0 -117912245.0        880456.0    9819.72   \n",
       "3        1949  33985377.0 -118361620.0        614000.0    7673.19   \n",
       "4        1921  34112946.0 -118208106.0        274237.0    3267.47   \n",
       "\n",
       "  transaction_date  tax_rate      County  \n",
       "0       2017-06-23  0.017045  Los Angles  \n",
       "1       2017-06-30  0.015270  Los Angles  \n",
       "2       2017-06-01  0.011153      Orange  \n",
       "3       2017-06-01  0.012497  Los Angles  \n",
       "4       2017-06-29  0.011915  Los Angles  "
      ]
     },
     "execution_count": 15,
     "metadata": {},
     "output_type": "execute_result"
    }
   ],
   "source": [
    "df.head()"
   ]
  },
  {
   "cell_type": "code",
   "execution_count": 16,
   "metadata": {},
   "outputs": [],
   "source": [
    "#split the data into train and test\n",
    "train, test = train_test_split(df, train_size = .70, random_state = 123)"
   ]
  },
  {
   "cell_type": "code",
   "execution_count": 18,
   "metadata": {},
   "outputs": [],
   "source": [
    "#create a subset of df with continuous variables to create pairplot\n",
    "train_plot = df[['bathrooms', 'bedrooms', 'square_feet', 'lot_size', 'assessed_value']]"
   ]
  },
  {
   "cell_type": "code",
   "execution_count": 19,
   "metadata": {
    "scrolled": true
   },
   "outputs": [
    {
     "data": {
      "text/html": [
       "<div>\n",
       "<style scoped>\n",
       "    .dataframe tbody tr th:only-of-type {\n",
       "        vertical-align: middle;\n",
       "    }\n",
       "\n",
       "    .dataframe tbody tr th {\n",
       "        vertical-align: top;\n",
       "    }\n",
       "\n",
       "    .dataframe thead th {\n",
       "        text-align: right;\n",
       "    }\n",
       "</style>\n",
       "<table border=\"1\" class=\"dataframe\">\n",
       "  <thead>\n",
       "    <tr style=\"text-align: right;\">\n",
       "      <th></th>\n",
       "      <th>bathrooms</th>\n",
       "      <th>bedrooms</th>\n",
       "      <th>square_feet</th>\n",
       "      <th>lot_size</th>\n",
       "      <th>assessed_value</th>\n",
       "    </tr>\n",
       "  </thead>\n",
       "  <tbody>\n",
       "    <tr>\n",
       "      <th>0</th>\n",
       "      <td>2.0</td>\n",
       "      <td>3.0</td>\n",
       "      <td>1458.0</td>\n",
       "      <td>8284</td>\n",
       "      <td>136104.0</td>\n",
       "    </tr>\n",
       "    <tr>\n",
       "      <th>1</th>\n",
       "      <td>1.0</td>\n",
       "      <td>2.0</td>\n",
       "      <td>1421.0</td>\n",
       "      <td>6707</td>\n",
       "      <td>35606.0</td>\n",
       "    </tr>\n",
       "    <tr>\n",
       "      <th>2</th>\n",
       "      <td>3.0</td>\n",
       "      <td>4.0</td>\n",
       "      <td>2541.0</td>\n",
       "      <td>4975</td>\n",
       "      <td>880456.0</td>\n",
       "    </tr>\n",
       "    <tr>\n",
       "      <th>3</th>\n",
       "      <td>2.0</td>\n",
       "      <td>3.0</td>\n",
       "      <td>1650.0</td>\n",
       "      <td>7300</td>\n",
       "      <td>614000.0</td>\n",
       "    </tr>\n",
       "    <tr>\n",
       "      <th>4</th>\n",
       "      <td>1.0</td>\n",
       "      <td>2.0</td>\n",
       "      <td>693.0</td>\n",
       "      <td>2908</td>\n",
       "      <td>274237.0</td>\n",
       "    </tr>\n",
       "  </tbody>\n",
       "</table>\n",
       "</div>"
      ],
      "text/plain": [
       "   bathrooms  bedrooms  square_feet  lot_size  assessed_value\n",
       "0        2.0       3.0       1458.0      8284        136104.0\n",
       "1        1.0       2.0       1421.0      6707         35606.0\n",
       "2        3.0       4.0       2541.0      4975        880456.0\n",
       "3        2.0       3.0       1650.0      7300        614000.0\n",
       "4        1.0       2.0        693.0      2908        274237.0"
      ]
     },
     "execution_count": 19,
     "metadata": {},
     "output_type": "execute_result"
    }
   ],
   "source": [
    "train_plot.head()"
   ]
  },
  {
   "cell_type": "code",
   "execution_count": 20,
   "metadata": {},
   "outputs": [
    {
     "data": {
      "image/png": "[encoded data removed]",
      "text/plain": [
       "<Figure size 900x900 with 30 Axes>"
      ]
     },
     "metadata": {
      "needs_background": "light"
     },
     "output_type": "display_data"
    }
   ],
   "source": [
    "explore.plot_variable_pairs(train_plot)"
   ]
  },
  {
   "cell_type": "markdown",
   "metadata": {},
   "source": [
    "Assessed_value of seems to be correlated to number of bathrooms, bedrooms, square_feet and lot size"
   ]
  },
  {
   "cell_type": "code",
   "execution_count": 22,
   "metadata": {},
   "outputs": [
    {
     "data": {
      "text/plain": [
       "<matplotlib.axes._subplots.AxesSubplot at 0x121d28a50>"
      ]
     },
     "execution_count": 22,
     "metadata": {},
     "output_type": "execute_result"
    },
    {
     "data": {
      "image/png": "[encoded data removed]",
      "text/plain": [
       "<Figure size 864x432 with 1 Axes>"
      ]
     },
     "metadata": {
      "needs_background": "light"
     },
     "output_type": "display_data"
    }
   ],
   "source": [
    "# Lets look at box plot of home values in each county. For better visualization, homes above 1 million are not plotted\n",
    "plt.figure(figsize=(12,6))\n",
    "sns.boxplot(x= train[train.assessed_value<100000].County, y= train[train.assessed_value<100000].assessed_value, data=train[train.assessed_value<100000])"
   ]
  },
  {
   "cell_type": "code",
   "execution_count": 23,
   "metadata": {},
   "outputs": [
    {
     "data": {
      "text/html": [
       "<div>\n",
       "<style scoped>\n",
       "    .dataframe tbody tr th:only-of-type {\n",
       "        vertical-align: middle;\n",
       "    }\n",
       "\n",
       "    .dataframe tbody tr th {\n",
       "        vertical-align: top;\n",
       "    }\n",
       "\n",
       "    .dataframe thead th {\n",
       "        text-align: right;\n",
       "    }\n",
       "</style>\n",
       "<table border=\"1\" class=\"dataframe\">\n",
       "  <thead>\n",
       "    <tr style=\"text-align: right;\">\n",
       "      <th></th>\n",
       "      <th>bathrooms</th>\n",
       "      <th>bedrooms</th>\n",
       "      <th>square_feet</th>\n",
       "      <th>fips</th>\n",
       "      <th>lot_size</th>\n",
       "      <th>pool</th>\n",
       "      <th>zip_code</th>\n",
       "      <th>year_built</th>\n",
       "      <th>latitude</th>\n",
       "      <th>longitude</th>\n",
       "      <th>assessed_value</th>\n",
       "      <th>tax_value</th>\n",
       "      <th>transaction_date</th>\n",
       "      <th>tax_rate</th>\n",
       "      <th>County</th>\n",
       "    </tr>\n",
       "  </thead>\n",
       "  <tbody>\n",
       "    <tr>\n",
       "      <th>1969</th>\n",
       "      <td>2.0</td>\n",
       "      <td>3.0</td>\n",
       "      <td>1793.0</td>\n",
       "      <td>6037</td>\n",
       "      <td>10032</td>\n",
       "      <td>1</td>\n",
       "      <td>96469</td>\n",
       "      <td>1956</td>\n",
       "      <td>34112268.0</td>\n",
       "      <td>-117736579.0</td>\n",
       "      <td>471862.0</td>\n",
       "      <td>5805.08</td>\n",
       "      <td>2017-05-09</td>\n",
       "      <td>0.012302</td>\n",
       "      <td>Los Angles</td>\n",
       "    </tr>\n",
       "    <tr>\n",
       "      <th>11174</th>\n",
       "      <td>1.0</td>\n",
       "      <td>1.0</td>\n",
       "      <td>768.0</td>\n",
       "      <td>6059</td>\n",
       "      <td>1320</td>\n",
       "      <td>1</td>\n",
       "      <td>96181</td>\n",
       "      <td>1964</td>\n",
       "      <td>33890131.0</td>\n",
       "      <td>-117990185.0</td>\n",
       "      <td>233507.0</td>\n",
       "      <td>2828.78</td>\n",
       "      <td>2017-06-19</td>\n",
       "      <td>0.012114</td>\n",
       "      <td>Orange</td>\n",
       "    </tr>\n",
       "    <tr>\n",
       "      <th>7468</th>\n",
       "      <td>2.0</td>\n",
       "      <td>3.0</td>\n",
       "      <td>1480.0</td>\n",
       "      <td>6037</td>\n",
       "      <td>7013</td>\n",
       "      <td>0</td>\n",
       "      <td>96161</td>\n",
       "      <td>1955</td>\n",
       "      <td>33857952.0</td>\n",
       "      <td>-118360292.0</td>\n",
       "      <td>98324.0</td>\n",
       "      <td>1310.38</td>\n",
       "      <td>2017-06-01</td>\n",
       "      <td>0.013327</td>\n",
       "      <td>Los Angles</td>\n",
       "    </tr>\n",
       "    <tr>\n",
       "      <th>6287</th>\n",
       "      <td>1.0</td>\n",
       "      <td>3.0</td>\n",
       "      <td>1073.0</td>\n",
       "      <td>6037</td>\n",
       "      <td>6328</td>\n",
       "      <td>0</td>\n",
       "      <td>96173</td>\n",
       "      <td>1951</td>\n",
       "      <td>33954504.0</td>\n",
       "      <td>-118032119.0</td>\n",
       "      <td>286277.0</td>\n",
       "      <td>3781.14</td>\n",
       "      <td>2017-05-26</td>\n",
       "      <td>0.013208</td>\n",
       "      <td>Los Angles</td>\n",
       "    </tr>\n",
       "    <tr>\n",
       "      <th>11360</th>\n",
       "      <td>1.0</td>\n",
       "      <td>3.0</td>\n",
       "      <td>1188.0</td>\n",
       "      <td>6037</td>\n",
       "      <td>5302</td>\n",
       "      <td>0</td>\n",
       "      <td>96212</td>\n",
       "      <td>1946</td>\n",
       "      <td>33863931.0</td>\n",
       "      <td>-118142447.0</td>\n",
       "      <td>70158.0</td>\n",
       "      <td>1133.55</td>\n",
       "      <td>2017-06-20</td>\n",
       "      <td>0.016157</td>\n",
       "      <td>Los Angles</td>\n",
       "    </tr>\n",
       "  </tbody>\n",
       "</table>\n",
       "</div>"
      ],
      "text/plain": [
       "       bathrooms  bedrooms  square_feet  fips  lot_size  pool  zip_code  \\\n",
       "1969         2.0       3.0       1793.0  6037     10032     1     96469   \n",
       "11174        1.0       1.0        768.0  6059      1320     1     96181   \n",
       "7468         2.0       3.0       1480.0  6037      7013     0     96161   \n",
       "6287         1.0       3.0       1073.0  6037      6328     0     96173   \n",
       "11360        1.0       3.0       1188.0  6037      5302     0     96212   \n",
       "\n",
       "       year_built    latitude    longitude  assessed_value  tax_value  \\\n",
       "1969         1956  34112268.0 -117736579.0        471862.0    5805.08   \n",
       "11174        1964  33890131.0 -117990185.0        233507.0    2828.78   \n",
       "7468         1955  33857952.0 -118360292.0         98324.0    1310.38   \n",
       "6287         1951  33954504.0 -118032119.0        286277.0    3781.14   \n",
       "11360        1946  33863931.0 -118142447.0         70158.0    1133.55   \n",
       "\n",
       "      transaction_date  tax_rate      County  \n",
       "1969        2017-05-09  0.012302  Los Angles  \n",
       "11174       2017-06-19  0.012114      Orange  \n",
       "7468        2017-06-01  0.013327  Los Angles  \n",
       "6287        2017-05-26  0.013208  Los Angles  \n",
       "11360       2017-06-20  0.016157  Los Angles  "
      ]
     },
     "execution_count": 23,
     "metadata": {},
     "output_type": "execute_result"
    }
   ],
   "source": [
    "train.head()"
   ]
  },
  {
   "cell_type": "code",
   "execution_count": 26,
   "metadata": {},
   "outputs": [
    {
     "data": {
      "text/plain": [
       "341639.5"
      ]
     },
     "execution_count": 26,
     "metadata": {},
     "output_type": "execute_result"
    }
   ],
   "source": [
    "# median value of homes is a better measure of central tendency for home values due to outliers.\n",
    "train[train.assessed_value <1000000].assessed_value.median()"
   ]
  },
  {
   "cell_type": "code",
   "execution_count": 27,
   "metadata": {},
   "outputs": [
    {
     "data": {
      "text/plain": [
       "<matplotlib.axes._subplots.AxesSubplot at 0x1222af490>"
      ]
     },
     "execution_count": 27,
     "metadata": {},
     "output_type": "execute_result"
    },
    {
     "data": {
      "image/png": "[encoded data removed]",
      "text/plain": [
       "<Figure size 432x288 with 1 Axes>"
      ]
     },
     "metadata": {
      "needs_background": "light"
     },
     "output_type": "display_data"
    }
   ],
   "source": [
    "# plot showing distribution of home values. This looks like right skewed distribution\n",
    "sns.distplot(train.assessed_value)"
   ]
  },
  {
   "cell_type": "code",
   "execution_count": 32,
   "metadata": {},
   "outputs": [
    {
     "data": {
      "text/html": [
       "<div>\n",
       "<style scoped>\n",
       "    .dataframe tbody tr th:only-of-type {\n",
       "        vertical-align: middle;\n",
       "    }\n",
       "\n",
       "    .dataframe tbody tr th {\n",
       "        vertical-align: top;\n",
       "    }\n",
       "\n",
       "    .dataframe thead th {\n",
       "        text-align: right;\n",
       "    }\n",
       "</style>\n",
       "<table border=\"1\" class=\"dataframe\">\n",
       "  <thead>\n",
       "    <tr style=\"text-align: right;\">\n",
       "      <th></th>\n",
       "      <th>bathrooms</th>\n",
       "      <th>bedrooms</th>\n",
       "      <th>square_feet</th>\n",
       "      <th>lot_size</th>\n",
       "      <th>assessed_value</th>\n",
       "    </tr>\n",
       "  </thead>\n",
       "  <tbody>\n",
       "    <tr>\n",
       "      <th>bathrooms</th>\n",
       "      <td>1.000000</td>\n",
       "      <td>0.643196</td>\n",
       "      <td>0.855253</td>\n",
       "      <td>0.140262</td>\n",
       "      <td>0.516795</td>\n",
       "    </tr>\n",
       "    <tr>\n",
       "      <th>bedrooms</th>\n",
       "      <td>0.643196</td>\n",
       "      <td>1.000000</td>\n",
       "      <td>0.630065</td>\n",
       "      <td>0.069576</td>\n",
       "      <td>0.273758</td>\n",
       "    </tr>\n",
       "    <tr>\n",
       "      <th>square_feet</th>\n",
       "      <td>0.855253</td>\n",
       "      <td>0.630065</td>\n",
       "      <td>1.000000</td>\n",
       "      <td>0.182419</td>\n",
       "      <td>0.602603</td>\n",
       "    </tr>\n",
       "    <tr>\n",
       "      <th>lot_size</th>\n",
       "      <td>0.140262</td>\n",
       "      <td>0.069576</td>\n",
       "      <td>0.182419</td>\n",
       "      <td>1.000000</td>\n",
       "      <td>0.116572</td>\n",
       "    </tr>\n",
       "    <tr>\n",
       "      <th>assessed_value</th>\n",
       "      <td>0.516795</td>\n",
       "      <td>0.273758</td>\n",
       "      <td>0.602603</td>\n",
       "      <td>0.116572</td>\n",
       "      <td>1.000000</td>\n",
       "    </tr>\n",
       "  </tbody>\n",
       "</table>\n",
       "</div>"
      ],
      "text/plain": [
       "                bathrooms  bedrooms  square_feet  lot_size  assessed_value\n",
       "bathrooms        1.000000  0.643196     0.855253  0.140262        0.516795\n",
       "bedrooms         0.643196  1.000000     0.630065  0.069576        0.273758\n",
       "square_feet      0.855253  0.630065     1.000000  0.182419        0.602603\n",
       "lot_size         0.140262  0.069576     0.182419  1.000000        0.116572\n",
       "assessed_value   0.516795  0.273758     0.602603  0.116572        1.000000"
      ]
     },
     "execution_count": 32,
     "metadata": {},
     "output_type": "execute_result"
    }
   ],
   "source": [
    "cm = train_plot.corr()\n",
    "cm"
   ]
  },
  {
   "cell_type": "code",
   "execution_count": 35,
   "metadata": {},
   "outputs": [
    {
     "data": {
      "text/plain": [
       "<matplotlib.axes._subplots.AxesSubplot at 0x11fe1f5d0>"
      ]
     },
     "execution_count": 35,
     "metadata": {},
     "output_type": "execute_result"
    },
    {
     "data": {
      "image/png": "[encoded data removed]",
      "text/plain": [
       "<Figure size 576x432 with 2 Axes>"
      ]
     },
     "metadata": {
      "needs_background": "light"
     },
     "output_type": "display_data"
    }
   ],
   "source": [
    "# lets look at heatmap and corresponding correlation values \n",
    "plt.figure(figsize=(8,6))\n",
    "sns.heatmap(cm, annot=True, cmap='viridis')"
   ]
  },
  {
   "cell_type": "code",
   "execution_count": null,
   "metadata": {},
   "outputs": [],
   "source": [
    "train['yhat_baseline'] = train['assessed_value'].median()"
   ]
  },
  {
   "cell_type": "code",
   "execution_count": null,
   "metadata": {},
   "outputs": [],
   "source": [
    "train.head()"
   ]
  },
  {
   "cell_type": "code",
   "execution_count": null,
   "metadata": {},
   "outputs": [],
   "source": [
    "from sklearn.metrics import mean_squared_error\n",
    "from math import sqrt\n",
    "\n",
    "rmse_bl = sqrt(mean_squared_error(train.assessed_value, train.yhat_baseline))\n",
    "\n",
    "rmse_bl"
   ]
  },
  {
   "cell_type": "code",
   "execution_count": null,
   "metadata": {},
   "outputs": [],
   "source": [
    "X_train = train[['bedrooms', 'bathrooms', 'square_feet']]\n",
    "y_train = train[['assessed_value']]"
   ]
  },
  {
   "cell_type": "code",
   "execution_count": null,
   "metadata": {},
   "outputs": [],
   "source": [
    "from statsmodels.formula.api import ols\n",
    "\n",
    "# generate parameters, i.e. create model\n",
    "ols_model = ols('assessed_value ~ bedrooms + bathrooms + square_feet', data = train).fit()\n",
    "\n",
    "# compute predictions and add to original dataframe\n",
    "train['yhat'] = ols_model.predict(X)"
   ]
  },
  {
   "cell_type": "code",
   "execution_count": null,
   "metadata": {},
   "outputs": [],
   "source": [
    "ols_model.summary()"
   ]
  },
  {
   "cell_type": "code",
   "execution_count": null,
   "metadata": {},
   "outputs": [],
   "source": [
    "rmse = sqrt(mean_squared_error(train.assessed_value, train.yhat))\n",
    "rmse"
   ]
  },
  {
   "cell_type": "markdown",
   "metadata": {},
   "source": [
    "# My RMSE for OLS model with bedrooom, bathroom and square feet (578329) is lower than my baseline (based on median)748179.  R2 is 0.37 and p-value is 0."
   ]
  },
  {
   "cell_type": "markdown",
   "metadata": {},
   "source": [
    "I am going to do a simple linear regression model based on bathrooms, bedrooms and square feet"
   ]
  },
  {
   "cell_type": "code",
   "execution_count": null,
   "metadata": {},
   "outputs": [],
   "source": [
    "predictions = pd.DataFrame({\n",
    "    'actual': y_train.final_grade\n",
    "})\n",
    "predictions.head()"
   ]
  },
  {
   "cell_type": "code",
   "execution_count": null,
   "metadata": {},
   "outputs": [],
   "source": [
    "lm = LinearRegression()"
   ]
  },
  {
   "cell_type": "code",
   "execution_count": null,
   "metadata": {},
   "outputs": [],
   "source": [
    "lm.fit(X, y)"
   ]
  },
  {
   "cell_type": "code",
   "execution_count": null,
   "metadata": {},
   "outputs": [],
   "source": [
    "print(\"Linear Model:\", lm)\n",
    "\n",
    "print(\"intercept: \", lm.intercept_)\n",
    "\n",
    "print(\"coefficients: \", lm.coef_)"
   ]
  },
  {
   "cell_type": "code",
   "execution_count": null,
   "metadata": {},
   "outputs": [],
   "source": [
    "y['yhat_lm'] = lm.predict(X)"
   ]
  },
  {
   "cell_type": "code",
   "execution_count": null,
   "metadata": {},
   "outputs": [],
   "source": [
    "y['baseline'] = y.assessed_value.median()"
   ]
  },
  {
   "cell_type": "code",
   "execution_count": null,
   "metadata": {},
   "outputs": [],
   "source": [
    "y"
   ]
  },
  {
   "cell_type": "code",
   "execution_count": null,
   "metadata": {},
   "outputs": [],
   "source": [
    "RMSE_lm = np.sqrt(mean_squared_error(y_train.final_grade, y_train.yhat_lm))\n",
    "RMSE_lm\n",
    "\n",
    "print(\"linear model\\n  Root mean squared error: {:.3}\".format(RMSE_lm)"
   ]
  }
 ],
 "metadata": {
  "kernelspec": {
   "display_name": "Python 3",
   "language": "python",
   "name": "python3"
  },
  "language_info": {
   "codemirror_mode": {
    "name": "ipython",
    "version": 3
   },
   "file_extension": ".py",
   "mimetype": "text/x-python",
   "name": "python",
   "nbconvert_exporter": "python",
   "pygments_lexer": "ipython3",
   "version": "3.7.4"
  }
 },
 "nbformat": 4,
 "nbformat_minor": 2
}
