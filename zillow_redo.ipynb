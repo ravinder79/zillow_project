{
 "cells": [
  {
   "cell_type": "code",
   "execution_count": 24,
   "metadata": {},
   "outputs": [],
   "source": [
    "import numpy as np\n",
    "import pandas as pd\n",
    "import env\n",
    "import matplotlib.pyplot as plt\n",
    "import seaborn as sns\n",
    "from sklearn.model_selection import train_test_split\n",
    "import itertools\n"
   ]
  },
  {
   "cell_type": "code",
   "execution_count": 2,
   "metadata": {},
   "outputs": [],
   "source": [
    "query = \"\"\"\n",
    "    SELECT p.id, transactiondate, parcelid, bathroomcnt, bedroomcnt, calculatedfinishedsquarefeet as squarefeet,\n",
    "    fips, latitude,  longitude, regionidcity as city, regionidcounty as county, regionidzip as zipcode, yearbuilt, taxvaluedollarcnt as price FROM predictions_2017 p\n",
    "JOIN properties_2017 USING (parcelid)\n",
    "WHERE transactiondate BETWEEN '2017-05-01' AND '2017-06-30'\n",
    "AND bedroomcnt >0 AND bathroomcnt>0 AND `propertylandusetypeid` = 261\n",
    "    \"\"\""
   ]
  },
  {
   "cell_type": "code",
   "execution_count": 3,
   "metadata": {},
   "outputs": [],
   "source": [
    "df = pd.read_sql(query, env.get_db_url('zillow'))"
   ]
  },
  {
   "cell_type": "code",
   "execution_count": 4,
   "metadata": {},
   "outputs": [
    {
     "data": {
      "text/html": [
       "<div>\n",
       "<style scoped>\n",
       "    .dataframe tbody tr th:only-of-type {\n",
       "        vertical-align: middle;\n",
       "    }\n",
       "\n",
       "    .dataframe tbody tr th {\n",
       "        vertical-align: top;\n",
       "    }\n",
       "\n",
       "    .dataframe thead th {\n",
       "        text-align: right;\n",
       "    }\n",
       "</style>\n",
       "<table border=\"1\" class=\"dataframe\">\n",
       "  <thead>\n",
       "    <tr style=\"text-align: right;\">\n",
       "      <th></th>\n",
       "      <th>id</th>\n",
       "      <th>transactiondate</th>\n",
       "      <th>parcelid</th>\n",
       "      <th>bathroomcnt</th>\n",
       "      <th>bedroomcnt</th>\n",
       "      <th>squarefeet</th>\n",
       "      <th>fips</th>\n",
       "      <th>latitude</th>\n",
       "      <th>longitude</th>\n",
       "      <th>city</th>\n",
       "      <th>county</th>\n",
       "      <th>zipcode</th>\n",
       "      <th>yearbuilt</th>\n",
       "      <th>price</th>\n",
       "    </tr>\n",
       "  </thead>\n",
       "  <tbody>\n",
       "    <tr>\n",
       "      <th>0</th>\n",
       "      <td>1248</td>\n",
       "      <td>2017-06-23</td>\n",
       "      <td>11289917</td>\n",
       "      <td>2.0</td>\n",
       "      <td>3.0</td>\n",
       "      <td>1458.0</td>\n",
       "      <td>6037.0</td>\n",
       "      <td>34686163.0</td>\n",
       "      <td>-118113100.0</td>\n",
       "      <td>5534.0</td>\n",
       "      <td>3101.0</td>\n",
       "      <td>97318.0</td>\n",
       "      <td>1970.0</td>\n",
       "      <td>136104.0</td>\n",
       "    </tr>\n",
       "    <tr>\n",
       "      <th>1</th>\n",
       "      <td>1772</td>\n",
       "      <td>2017-06-30</td>\n",
       "      <td>11705026</td>\n",
       "      <td>1.0</td>\n",
       "      <td>2.0</td>\n",
       "      <td>1421.0</td>\n",
       "      <td>6037.0</td>\n",
       "      <td>33999877.0</td>\n",
       "      <td>-118291863.0</td>\n",
       "      <td>12447.0</td>\n",
       "      <td>3101.0</td>\n",
       "      <td>96018.0</td>\n",
       "      <td>1911.0</td>\n",
       "      <td>35606.0</td>\n",
       "    </tr>\n",
       "    <tr>\n",
       "      <th>2</th>\n",
       "      <td>2028</td>\n",
       "      <td>2017-06-01</td>\n",
       "      <td>14269464</td>\n",
       "      <td>3.0</td>\n",
       "      <td>4.0</td>\n",
       "      <td>2541.0</td>\n",
       "      <td>6059.0</td>\n",
       "      <td>33694636.0</td>\n",
       "      <td>-117912245.0</td>\n",
       "      <td>38032.0</td>\n",
       "      <td>1286.0</td>\n",
       "      <td>96958.0</td>\n",
       "      <td>2003.0</td>\n",
       "      <td>880456.0</td>\n",
       "    </tr>\n",
       "    <tr>\n",
       "      <th>3</th>\n",
       "      <td>3273</td>\n",
       "      <td>2017-06-01</td>\n",
       "      <td>11389003</td>\n",
       "      <td>2.0</td>\n",
       "      <td>3.0</td>\n",
       "      <td>1650.0</td>\n",
       "      <td>6037.0</td>\n",
       "      <td>33985377.0</td>\n",
       "      <td>-118361620.0</td>\n",
       "      <td>396550.0</td>\n",
       "      <td>3101.0</td>\n",
       "      <td>96037.0</td>\n",
       "      <td>1949.0</td>\n",
       "      <td>614000.0</td>\n",
       "    </tr>\n",
       "    <tr>\n",
       "      <th>4</th>\n",
       "      <td>3429</td>\n",
       "      <td>2017-06-29</td>\n",
       "      <td>11967869</td>\n",
       "      <td>1.0</td>\n",
       "      <td>2.0</td>\n",
       "      <td>693.0</td>\n",
       "      <td>6037.0</td>\n",
       "      <td>34112946.0</td>\n",
       "      <td>-118208106.0</td>\n",
       "      <td>12447.0</td>\n",
       "      <td>3101.0</td>\n",
       "      <td>96023.0</td>\n",
       "      <td>1921.0</td>\n",
       "      <td>274237.0</td>\n",
       "    </tr>\n",
       "  </tbody>\n",
       "</table>\n",
       "</div>"
      ],
      "text/plain": [
       "     id transactiondate  parcelid  bathroomcnt  bedroomcnt  squarefeet  \\\n",
       "0  1248      2017-06-23  11289917          2.0         3.0      1458.0   \n",
       "1  1772      2017-06-30  11705026          1.0         2.0      1421.0   \n",
       "2  2028      2017-06-01  14269464          3.0         4.0      2541.0   \n",
       "3  3273      2017-06-01  11389003          2.0         3.0      1650.0   \n",
       "4  3429      2017-06-29  11967869          1.0         2.0       693.0   \n",
       "\n",
       "     fips    latitude    longitude      city  county  zipcode  yearbuilt  \\\n",
       "0  6037.0  34686163.0 -118113100.0    5534.0  3101.0  97318.0     1970.0   \n",
       "1  6037.0  33999877.0 -118291863.0   12447.0  3101.0  96018.0     1911.0   \n",
       "2  6059.0  33694636.0 -117912245.0   38032.0  1286.0  96958.0     2003.0   \n",
       "3  6037.0  33985377.0 -118361620.0  396550.0  3101.0  96037.0     1949.0   \n",
       "4  6037.0  34112946.0 -118208106.0   12447.0  3101.0  96023.0     1921.0   \n",
       "\n",
       "      price  \n",
       "0  136104.0  \n",
       "1   35606.0  \n",
       "2  880456.0  \n",
       "3  614000.0  \n",
       "4  274237.0  "
      ]
     },
     "execution_count": 4,
     "metadata": {},
     "output_type": "execute_result"
    }
   ],
   "source": [
    "df.head()"
   ]
  },
  {
   "cell_type": "code",
   "execution_count": 5,
   "metadata": {},
   "outputs": [
    {
     "data": {
      "text/html": [
       "<div>\n",
       "<style scoped>\n",
       "    .dataframe tbody tr th:only-of-type {\n",
       "        vertical-align: middle;\n",
       "    }\n",
       "\n",
       "    .dataframe tbody tr th {\n",
       "        vertical-align: top;\n",
       "    }\n",
       "\n",
       "    .dataframe thead th {\n",
       "        text-align: right;\n",
       "    }\n",
       "</style>\n",
       "<table border=\"1\" class=\"dataframe\">\n",
       "  <thead>\n",
       "    <tr style=\"text-align: right;\">\n",
       "      <th></th>\n",
       "      <th>id</th>\n",
       "      <th>parcelid</th>\n",
       "      <th>bathroomcnt</th>\n",
       "      <th>bedroomcnt</th>\n",
       "      <th>squarefeet</th>\n",
       "      <th>fips</th>\n",
       "      <th>latitude</th>\n",
       "      <th>longitude</th>\n",
       "      <th>city</th>\n",
       "      <th>county</th>\n",
       "      <th>zipcode</th>\n",
       "      <th>yearbuilt</th>\n",
       "      <th>price</th>\n",
       "    </tr>\n",
       "  </thead>\n",
       "  <tbody>\n",
       "    <tr>\n",
       "      <th>count</th>\n",
       "      <td>14990.000000</td>\n",
       "      <td>1.499000e+04</td>\n",
       "      <td>14990.000000</td>\n",
       "      <td>14990.000000</td>\n",
       "      <td>14990.000000</td>\n",
       "      <td>14990.000000</td>\n",
       "      <td>1.499000e+04</td>\n",
       "      <td>1.499000e+04</td>\n",
       "      <td>14701.000000</td>\n",
       "      <td>14990.000000</td>\n",
       "      <td>14982.000000</td>\n",
       "      <td>14974.000000</td>\n",
       "      <td>1.499000e+04</td>\n",
       "    </tr>\n",
       "    <tr>\n",
       "      <th>mean</th>\n",
       "      <td>42507.143763</td>\n",
       "      <td>1.302688e+07</td>\n",
       "      <td>2.329153</td>\n",
       "      <td>3.316878</td>\n",
       "      <td>1943.132355</td>\n",
       "      <td>6049.381721</td>\n",
       "      <td>3.402249e+07</td>\n",
       "      <td>-1.181957e+08</td>\n",
       "      <td>33076.205088</td>\n",
       "      <td>2515.726484</td>\n",
       "      <td>96651.749499</td>\n",
       "      <td>1963.886470</td>\n",
       "      <td>5.416945e+05</td>\n",
       "    </tr>\n",
       "    <tr>\n",
       "      <th>std</th>\n",
       "      <td>6467.351347</td>\n",
       "      <td>3.723348e+06</td>\n",
       "      <td>1.019375</td>\n",
       "      <td>0.936250</td>\n",
       "      <td>1001.275394</td>\n",
       "      <td>21.225607</td>\n",
       "      <td>2.760549e+05</td>\n",
       "      <td>3.593028e+05</td>\n",
       "      <td>47688.437636</td>\n",
       "      <td>806.445112</td>\n",
       "      <td>4970.071943</td>\n",
       "      <td>23.314756</td>\n",
       "      <td>7.309388e+05</td>\n",
       "    </tr>\n",
       "    <tr>\n",
       "      <th>min</th>\n",
       "      <td>1248.000000</td>\n",
       "      <td>1.071210e+07</td>\n",
       "      <td>1.000000</td>\n",
       "      <td>1.000000</td>\n",
       "      <td>300.000000</td>\n",
       "      <td>6037.000000</td>\n",
       "      <td>3.334085e+07</td>\n",
       "      <td>-1.193883e+08</td>\n",
       "      <td>3491.000000</td>\n",
       "      <td>1286.000000</td>\n",
       "      <td>95982.000000</td>\n",
       "      <td>1878.000000</td>\n",
       "      <td>1.050400e+04</td>\n",
       "    </tr>\n",
       "    <tr>\n",
       "      <th>25%</th>\n",
       "      <td>37038.250000</td>\n",
       "      <td>1.150300e+07</td>\n",
       "      <td>2.000000</td>\n",
       "      <td>3.000000</td>\n",
       "      <td>1276.000000</td>\n",
       "      <td>6037.000000</td>\n",
       "      <td>3.382366e+07</td>\n",
       "      <td>-1.184062e+08</td>\n",
       "      <td>12447.000000</td>\n",
       "      <td>1286.000000</td>\n",
       "      <td>96208.000000</td>\n",
       "      <td>1950.000000</td>\n",
       "      <td>1.990028e+05</td>\n",
       "    </tr>\n",
       "    <tr>\n",
       "      <th>50%</th>\n",
       "      <td>42558.500000</td>\n",
       "      <td>1.258458e+07</td>\n",
       "      <td>2.000000</td>\n",
       "      <td>3.000000</td>\n",
       "      <td>1680.000000</td>\n",
       "      <td>6037.000000</td>\n",
       "      <td>3.402708e+07</td>\n",
       "      <td>-1.181547e+08</td>\n",
       "      <td>24812.000000</td>\n",
       "      <td>3101.000000</td>\n",
       "      <td>96414.000000</td>\n",
       "      <td>1961.000000</td>\n",
       "      <td>3.851740e+05</td>\n",
       "    </tr>\n",
       "    <tr>\n",
       "      <th>75%</th>\n",
       "      <td>48034.750000</td>\n",
       "      <td>1.414273e+07</td>\n",
       "      <td>3.000000</td>\n",
       "      <td>4.000000</td>\n",
       "      <td>2346.000000</td>\n",
       "      <td>6059.000000</td>\n",
       "      <td>3.419064e+07</td>\n",
       "      <td>-1.179260e+08</td>\n",
       "      <td>40227.000000</td>\n",
       "      <td>3101.000000</td>\n",
       "      <td>96996.000000</td>\n",
       "      <td>1980.000000</td>\n",
       "      <td>6.449650e+05</td>\n",
       "    </tr>\n",
       "    <tr>\n",
       "      <th>max</th>\n",
       "      <td>53501.000000</td>\n",
       "      <td>1.676392e+08</td>\n",
       "      <td>11.000000</td>\n",
       "      <td>12.000000</td>\n",
       "      <td>15450.000000</td>\n",
       "      <td>6111.000000</td>\n",
       "      <td>3.477966e+07</td>\n",
       "      <td>-1.175554e+08</td>\n",
       "      <td>396556.000000</td>\n",
       "      <td>3101.000000</td>\n",
       "      <td>399675.000000</td>\n",
       "      <td>2015.000000</td>\n",
       "      <td>2.385837e+07</td>\n",
       "    </tr>\n",
       "  </tbody>\n",
       "</table>\n",
       "</div>"
      ],
      "text/plain": [
       "                 id      parcelid   bathroomcnt    bedroomcnt    squarefeet  \\\n",
       "count  14990.000000  1.499000e+04  14990.000000  14990.000000  14990.000000   \n",
       "mean   42507.143763  1.302688e+07      2.329153      3.316878   1943.132355   \n",
       "std     6467.351347  3.723348e+06      1.019375      0.936250   1001.275394   \n",
       "min     1248.000000  1.071210e+07      1.000000      1.000000    300.000000   \n",
       "25%    37038.250000  1.150300e+07      2.000000      3.000000   1276.000000   \n",
       "50%    42558.500000  1.258458e+07      2.000000      3.000000   1680.000000   \n",
       "75%    48034.750000  1.414273e+07      3.000000      4.000000   2346.000000   \n",
       "max    53501.000000  1.676392e+08     11.000000     12.000000  15450.000000   \n",
       "\n",
       "               fips      latitude     longitude           city        county  \\\n",
       "count  14990.000000  1.499000e+04  1.499000e+04   14701.000000  14990.000000   \n",
       "mean    6049.381721  3.402249e+07 -1.181957e+08   33076.205088   2515.726484   \n",
       "std       21.225607  2.760549e+05  3.593028e+05   47688.437636    806.445112   \n",
       "min     6037.000000  3.334085e+07 -1.193883e+08    3491.000000   1286.000000   \n",
       "25%     6037.000000  3.382366e+07 -1.184062e+08   12447.000000   1286.000000   \n",
       "50%     6037.000000  3.402708e+07 -1.181547e+08   24812.000000   3101.000000   \n",
       "75%     6059.000000  3.419064e+07 -1.179260e+08   40227.000000   3101.000000   \n",
       "max     6111.000000  3.477966e+07 -1.175554e+08  396556.000000   3101.000000   \n",
       "\n",
       "             zipcode     yearbuilt         price  \n",
       "count   14982.000000  14974.000000  1.499000e+04  \n",
       "mean    96651.749499   1963.886470  5.416945e+05  \n",
       "std      4970.071943     23.314756  7.309388e+05  \n",
       "min     95982.000000   1878.000000  1.050400e+04  \n",
       "25%     96208.000000   1950.000000  1.990028e+05  \n",
       "50%     96414.000000   1961.000000  3.851740e+05  \n",
       "75%     96996.000000   1980.000000  6.449650e+05  \n",
       "max    399675.000000   2015.000000  2.385837e+07  "
      ]
     },
     "execution_count": 5,
     "metadata": {},
     "output_type": "execute_result"
    }
   ],
   "source": [
    "df.describe()"
   ]
  },
  {
   "cell_type": "code",
   "execution_count": 6,
   "metadata": {},
   "outputs": [
    {
     "name": "stdout",
     "output_type": "stream",
     "text": [
      "<class 'pandas.core.frame.DataFrame'>\n",
      "RangeIndex: 14990 entries, 0 to 14989\n",
      "Data columns (total 14 columns):\n",
      " #   Column           Non-Null Count  Dtype  \n",
      "---  ------           --------------  -----  \n",
      " 0   id               14990 non-null  int64  \n",
      " 1   transactiondate  14990 non-null  object \n",
      " 2   parcelid         14990 non-null  int64  \n",
      " 3   bathroomcnt      14990 non-null  float64\n",
      " 4   bedroomcnt       14990 non-null  float64\n",
      " 5   squarefeet       14990 non-null  float64\n",
      " 6   fips             14990 non-null  float64\n",
      " 7   latitude         14990 non-null  float64\n",
      " 8   longitude        14990 non-null  float64\n",
      " 9   city             14701 non-null  float64\n",
      " 10  county           14990 non-null  float64\n",
      " 11  zipcode          14982 non-null  float64\n",
      " 12  yearbuilt        14974 non-null  float64\n",
      " 13  price            14990 non-null  float64\n",
      "dtypes: float64(11), int64(2), object(1)\n",
      "memory usage: 1.6+ MB\n"
     ]
    }
   ],
   "source": [
    "df.info()"
   ]
  },
  {
   "cell_type": "code",
   "execution_count": 7,
   "metadata": {},
   "outputs": [],
   "source": [
    "df = df.drop(columns = 'city')"
   ]
  },
  {
   "cell_type": "code",
   "execution_count": 8,
   "metadata": {},
   "outputs": [
    {
     "name": "stdout",
     "output_type": "stream",
     "text": [
      "<class 'pandas.core.frame.DataFrame'>\n",
      "RangeIndex: 14990 entries, 0 to 14989\n",
      "Data columns (total 13 columns):\n",
      " #   Column           Non-Null Count  Dtype  \n",
      "---  ------           --------------  -----  \n",
      " 0   id               14990 non-null  int64  \n",
      " 1   transactiondate  14990 non-null  object \n",
      " 2   parcelid         14990 non-null  int64  \n",
      " 3   bathroomcnt      14990 non-null  float64\n",
      " 4   bedroomcnt       14990 non-null  float64\n",
      " 5   squarefeet       14990 non-null  float64\n",
      " 6   fips             14990 non-null  float64\n",
      " 7   latitude         14990 non-null  float64\n",
      " 8   longitude        14990 non-null  float64\n",
      " 9   county           14990 non-null  float64\n",
      " 10  zipcode          14982 non-null  float64\n",
      " 11  yearbuilt        14974 non-null  float64\n",
      " 12  price            14990 non-null  float64\n",
      "dtypes: float64(10), int64(2), object(1)\n",
      "memory usage: 1.5+ MB\n"
     ]
    }
   ],
   "source": [
    "df.info()"
   ]
  },
  {
   "cell_type": "code",
   "execution_count": 9,
   "metadata": {},
   "outputs": [],
   "source": [
    "df = df.dropna()"
   ]
  },
  {
   "cell_type": "code",
   "execution_count": 10,
   "metadata": {},
   "outputs": [
    {
     "name": "stdout",
     "output_type": "stream",
     "text": [
      "<class 'pandas.core.frame.DataFrame'>\n",
      "Int64Index: 14967 entries, 0 to 14989\n",
      "Data columns (total 13 columns):\n",
      " #   Column           Non-Null Count  Dtype  \n",
      "---  ------           --------------  -----  \n",
      " 0   id               14967 non-null  int64  \n",
      " 1   transactiondate  14967 non-null  object \n",
      " 2   parcelid         14967 non-null  int64  \n",
      " 3   bathroomcnt      14967 non-null  float64\n",
      " 4   bedroomcnt       14967 non-null  float64\n",
      " 5   squarefeet       14967 non-null  float64\n",
      " 6   fips             14967 non-null  float64\n",
      " 7   latitude         14967 non-null  float64\n",
      " 8   longitude        14967 non-null  float64\n",
      " 9   county           14967 non-null  float64\n",
      " 10  zipcode          14967 non-null  float64\n",
      " 11  yearbuilt        14967 non-null  float64\n",
      " 12  price            14967 non-null  float64\n",
      "dtypes: float64(10), int64(2), object(1)\n",
      "memory usage: 1.6+ MB\n"
     ]
    }
   ],
   "source": [
    "df.info()"
   ]
  },
  {
   "cell_type": "code",
   "execution_count": 11,
   "metadata": {},
   "outputs": [],
   "source": [
    "# convert zip code to categorical\n",
    "df.zipcode = df.zipcode.astype(int).astype(str)"
   ]
  },
  {
   "cell_type": "code",
   "execution_count": 12,
   "metadata": {},
   "outputs": [
    {
     "data": {
      "text/plain": [
       "0        97318\n",
       "1        96018\n",
       "2        96958\n",
       "3        96037\n",
       "4        96023\n",
       "         ...  \n",
       "14985    97018\n",
       "14986    97067\n",
       "14987    96523\n",
       "14988    97065\n",
       "14989    96129\n",
       "Name: zipcode, Length: 14967, dtype: object"
      ]
     },
     "execution_count": 12,
     "metadata": {},
     "output_type": "execute_result"
    }
   ],
   "source": [
    "df.zipcode"
   ]
  },
  {
   "cell_type": "code",
   "execution_count": 13,
   "metadata": {},
   "outputs": [],
   "source": [
    "fip = {\n",
    "    'fips': [6037, 6059, 6111],\n",
    "    'County':['Los Angles', 'Orange', 'Ventura']\n",
    "}"
   ]
  },
  {
   "cell_type": "code",
   "execution_count": 14,
   "metadata": {},
   "outputs": [],
   "source": [
    "fips = pd.DataFrame(fip)"
   ]
  },
  {
   "cell_type": "code",
   "execution_count": 15,
   "metadata": {},
   "outputs": [
    {
     "data": {
      "text/html": [
       "<div>\n",
       "<style scoped>\n",
       "    .dataframe tbody tr th:only-of-type {\n",
       "        vertical-align: middle;\n",
       "    }\n",
       "\n",
       "    .dataframe tbody tr th {\n",
       "        vertical-align: top;\n",
       "    }\n",
       "\n",
       "    .dataframe thead th {\n",
       "        text-align: right;\n",
       "    }\n",
       "</style>\n",
       "<table border=\"1\" class=\"dataframe\">\n",
       "  <thead>\n",
       "    <tr style=\"text-align: right;\">\n",
       "      <th></th>\n",
       "      <th>fips</th>\n",
       "      <th>County</th>\n",
       "    </tr>\n",
       "  </thead>\n",
       "  <tbody>\n",
       "    <tr>\n",
       "      <th>0</th>\n",
       "      <td>6037</td>\n",
       "      <td>Los Angles</td>\n",
       "    </tr>\n",
       "    <tr>\n",
       "      <th>1</th>\n",
       "      <td>6059</td>\n",
       "      <td>Orange</td>\n",
       "    </tr>\n",
       "    <tr>\n",
       "      <th>2</th>\n",
       "      <td>6111</td>\n",
       "      <td>Ventura</td>\n",
       "    </tr>\n",
       "  </tbody>\n",
       "</table>\n",
       "</div>"
      ],
      "text/plain": [
       "   fips      County\n",
       "0  6037  Los Angles\n",
       "1  6059      Orange\n",
       "2  6111     Ventura"
      ]
     },
     "execution_count": 15,
     "metadata": {},
     "output_type": "execute_result"
    }
   ],
   "source": [
    "fips"
   ]
  },
  {
   "cell_type": "code",
   "execution_count": 16,
   "metadata": {},
   "outputs": [],
   "source": [
    "df = pd.merge(df, fips, left_on = 'fips', right_on = 'fips', how = 'left')"
   ]
  },
  {
   "cell_type": "code",
   "execution_count": 17,
   "metadata": {},
   "outputs": [
    {
     "ename": "KeyError",
     "evalue": "\"['fips_county'] not found in axis\"",
     "output_type": "error",
     "traceback": [
      "\u001b[0;31m---------------------------------------------------------------------------\u001b[0m",
      "\u001b[0;31mKeyError\u001b[0m                                  Traceback (most recent call last)",
      "\u001b[0;32m<ipython-input-17-7d1434edfb2a>\u001b[0m in \u001b[0;36m<module>\u001b[0;34m\u001b[0m\n\u001b[0;32m----> 1\u001b[0;31m \u001b[0mdf\u001b[0m \u001b[0;34m=\u001b[0m \u001b[0mdf\u001b[0m\u001b[0;34m.\u001b[0m\u001b[0mdrop\u001b[0m\u001b[0;34m(\u001b[0m\u001b[0mcolumns\u001b[0m \u001b[0;34m=\u001b[0m \u001b[0;34m'fips_county'\u001b[0m\u001b[0;34m)\u001b[0m\u001b[0;34m\u001b[0m\u001b[0;34m\u001b[0m\u001b[0m\n\u001b[0m",
      "\u001b[0;32m/usr/local/anaconda3/lib/python3.7/site-packages/pandas/core/frame.py\u001b[0m in \u001b[0;36mdrop\u001b[0;34m(self, labels, axis, index, columns, level, inplace, errors)\u001b[0m\n\u001b[1;32m   3995\u001b[0m             \u001b[0mlevel\u001b[0m\u001b[0;34m=\u001b[0m\u001b[0mlevel\u001b[0m\u001b[0;34m,\u001b[0m\u001b[0;34m\u001b[0m\u001b[0;34m\u001b[0m\u001b[0m\n\u001b[1;32m   3996\u001b[0m             \u001b[0minplace\u001b[0m\u001b[0;34m=\u001b[0m\u001b[0minplace\u001b[0m\u001b[0;34m,\u001b[0m\u001b[0;34m\u001b[0m\u001b[0;34m\u001b[0m\u001b[0m\n\u001b[0;32m-> 3997\u001b[0;31m             \u001b[0merrors\u001b[0m\u001b[0;34m=\u001b[0m\u001b[0merrors\u001b[0m\u001b[0;34m,\u001b[0m\u001b[0;34m\u001b[0m\u001b[0;34m\u001b[0m\u001b[0m\n\u001b[0m\u001b[1;32m   3998\u001b[0m         )\n\u001b[1;32m   3999\u001b[0m \u001b[0;34m\u001b[0m\u001b[0m\n",
      "\u001b[0;32m/usr/local/anaconda3/lib/python3.7/site-packages/pandas/core/generic.py\u001b[0m in \u001b[0;36mdrop\u001b[0;34m(self, labels, axis, index, columns, level, inplace, errors)\u001b[0m\n\u001b[1;32m   3934\u001b[0m         \u001b[0;32mfor\u001b[0m \u001b[0maxis\u001b[0m\u001b[0;34m,\u001b[0m \u001b[0mlabels\u001b[0m \u001b[0;32min\u001b[0m \u001b[0maxes\u001b[0m\u001b[0;34m.\u001b[0m\u001b[0mitems\u001b[0m\u001b[0;34m(\u001b[0m\u001b[0;34m)\u001b[0m\u001b[0;34m:\u001b[0m\u001b[0;34m\u001b[0m\u001b[0;34m\u001b[0m\u001b[0m\n\u001b[1;32m   3935\u001b[0m             \u001b[0;32mif\u001b[0m \u001b[0mlabels\u001b[0m \u001b[0;32mis\u001b[0m \u001b[0;32mnot\u001b[0m \u001b[0;32mNone\u001b[0m\u001b[0;34m:\u001b[0m\u001b[0;34m\u001b[0m\u001b[0;34m\u001b[0m\u001b[0m\n\u001b[0;32m-> 3936\u001b[0;31m                 \u001b[0mobj\u001b[0m \u001b[0;34m=\u001b[0m \u001b[0mobj\u001b[0m\u001b[0;34m.\u001b[0m\u001b[0m_drop_axis\u001b[0m\u001b[0;34m(\u001b[0m\u001b[0mlabels\u001b[0m\u001b[0;34m,\u001b[0m \u001b[0maxis\u001b[0m\u001b[0;34m,\u001b[0m \u001b[0mlevel\u001b[0m\u001b[0;34m=\u001b[0m\u001b[0mlevel\u001b[0m\u001b[0;34m,\u001b[0m \u001b[0merrors\u001b[0m\u001b[0;34m=\u001b[0m\u001b[0merrors\u001b[0m\u001b[0;34m)\u001b[0m\u001b[0;34m\u001b[0m\u001b[0;34m\u001b[0m\u001b[0m\n\u001b[0m\u001b[1;32m   3937\u001b[0m \u001b[0;34m\u001b[0m\u001b[0m\n\u001b[1;32m   3938\u001b[0m         \u001b[0;32mif\u001b[0m \u001b[0minplace\u001b[0m\u001b[0;34m:\u001b[0m\u001b[0;34m\u001b[0m\u001b[0;34m\u001b[0m\u001b[0m\n",
      "\u001b[0;32m/usr/local/anaconda3/lib/python3.7/site-packages/pandas/core/generic.py\u001b[0m in \u001b[0;36m_drop_axis\u001b[0;34m(self, labels, axis, level, errors)\u001b[0m\n\u001b[1;32m   3968\u001b[0m                 \u001b[0mnew_axis\u001b[0m \u001b[0;34m=\u001b[0m \u001b[0maxis\u001b[0m\u001b[0;34m.\u001b[0m\u001b[0mdrop\u001b[0m\u001b[0;34m(\u001b[0m\u001b[0mlabels\u001b[0m\u001b[0;34m,\u001b[0m \u001b[0mlevel\u001b[0m\u001b[0;34m=\u001b[0m\u001b[0mlevel\u001b[0m\u001b[0;34m,\u001b[0m \u001b[0merrors\u001b[0m\u001b[0;34m=\u001b[0m\u001b[0merrors\u001b[0m\u001b[0;34m)\u001b[0m\u001b[0;34m\u001b[0m\u001b[0;34m\u001b[0m\u001b[0m\n\u001b[1;32m   3969\u001b[0m             \u001b[0;32melse\u001b[0m\u001b[0;34m:\u001b[0m\u001b[0;34m\u001b[0m\u001b[0;34m\u001b[0m\u001b[0m\n\u001b[0;32m-> 3970\u001b[0;31m                 \u001b[0mnew_axis\u001b[0m \u001b[0;34m=\u001b[0m \u001b[0maxis\u001b[0m\u001b[0;34m.\u001b[0m\u001b[0mdrop\u001b[0m\u001b[0;34m(\u001b[0m\u001b[0mlabels\u001b[0m\u001b[0;34m,\u001b[0m \u001b[0merrors\u001b[0m\u001b[0;34m=\u001b[0m\u001b[0merrors\u001b[0m\u001b[0;34m)\u001b[0m\u001b[0;34m\u001b[0m\u001b[0;34m\u001b[0m\u001b[0m\n\u001b[0m\u001b[1;32m   3971\u001b[0m             \u001b[0mresult\u001b[0m \u001b[0;34m=\u001b[0m \u001b[0mself\u001b[0m\u001b[0;34m.\u001b[0m\u001b[0mreindex\u001b[0m\u001b[0;34m(\u001b[0m\u001b[0;34m**\u001b[0m\u001b[0;34m{\u001b[0m\u001b[0maxis_name\u001b[0m\u001b[0;34m:\u001b[0m \u001b[0mnew_axis\u001b[0m\u001b[0;34m}\u001b[0m\u001b[0;34m)\u001b[0m\u001b[0;34m\u001b[0m\u001b[0;34m\u001b[0m\u001b[0m\n\u001b[1;32m   3972\u001b[0m \u001b[0;34m\u001b[0m\u001b[0m\n",
      "\u001b[0;32m/usr/local/anaconda3/lib/python3.7/site-packages/pandas/core/indexes/base.py\u001b[0m in \u001b[0;36mdrop\u001b[0;34m(self, labels, errors)\u001b[0m\n\u001b[1;32m   5016\u001b[0m         \u001b[0;32mif\u001b[0m \u001b[0mmask\u001b[0m\u001b[0;34m.\u001b[0m\u001b[0many\u001b[0m\u001b[0;34m(\u001b[0m\u001b[0;34m)\u001b[0m\u001b[0;34m:\u001b[0m\u001b[0;34m\u001b[0m\u001b[0;34m\u001b[0m\u001b[0m\n\u001b[1;32m   5017\u001b[0m             \u001b[0;32mif\u001b[0m \u001b[0merrors\u001b[0m \u001b[0;34m!=\u001b[0m \u001b[0;34m\"ignore\"\u001b[0m\u001b[0;34m:\u001b[0m\u001b[0;34m\u001b[0m\u001b[0;34m\u001b[0m\u001b[0m\n\u001b[0;32m-> 5018\u001b[0;31m                 \u001b[0;32mraise\u001b[0m \u001b[0mKeyError\u001b[0m\u001b[0;34m(\u001b[0m\u001b[0;34mf\"{labels[mask]} not found in axis\"\u001b[0m\u001b[0;34m)\u001b[0m\u001b[0;34m\u001b[0m\u001b[0;34m\u001b[0m\u001b[0m\n\u001b[0m\u001b[1;32m   5019\u001b[0m             \u001b[0mindexer\u001b[0m \u001b[0;34m=\u001b[0m \u001b[0mindexer\u001b[0m\u001b[0;34m[\u001b[0m\u001b[0;34m~\u001b[0m\u001b[0mmask\u001b[0m\u001b[0;34m]\u001b[0m\u001b[0;34m\u001b[0m\u001b[0;34m\u001b[0m\u001b[0m\n\u001b[1;32m   5020\u001b[0m         \u001b[0;32mreturn\u001b[0m \u001b[0mself\u001b[0m\u001b[0;34m.\u001b[0m\u001b[0mdelete\u001b[0m\u001b[0;34m(\u001b[0m\u001b[0mindexer\u001b[0m\u001b[0;34m)\u001b[0m\u001b[0;34m\u001b[0m\u001b[0;34m\u001b[0m\u001b[0m\n",
      "\u001b[0;31mKeyError\u001b[0m: \"['fips_county'] not found in axis\""
     ]
    }
   ],
   "source": [
    "df = df.drop(columns = 'fips_county')"
   ]
  },
  {
   "cell_type": "code",
   "execution_count": 23,
   "metadata": {},
   "outputs": [
    {
     "data": {
      "text/html": [
       "<div>\n",
       "<style scoped>\n",
       "    .dataframe tbody tr th:only-of-type {\n",
       "        vertical-align: middle;\n",
       "    }\n",
       "\n",
       "    .dataframe tbody tr th {\n",
       "        vertical-align: top;\n",
       "    }\n",
       "\n",
       "    .dataframe thead th {\n",
       "        text-align: right;\n",
       "    }\n",
       "</style>\n",
       "<table border=\"1\" class=\"dataframe\">\n",
       "  <thead>\n",
       "    <tr style=\"text-align: right;\">\n",
       "      <th></th>\n",
       "      <th>id</th>\n",
       "      <th>transactiondate</th>\n",
       "      <th>parcelid</th>\n",
       "      <th>bathroomcnt</th>\n",
       "      <th>bedroomcnt</th>\n",
       "      <th>squarefeet</th>\n",
       "      <th>fips</th>\n",
       "      <th>latitude</th>\n",
       "      <th>longitude</th>\n",
       "      <th>county</th>\n",
       "      <th>zipcode</th>\n",
       "      <th>yearbuilt</th>\n",
       "      <th>price</th>\n",
       "      <th>County</th>\n",
       "    </tr>\n",
       "  </thead>\n",
       "  <tbody>\n",
       "    <tr>\n",
       "      <th>0</th>\n",
       "      <td>1248</td>\n",
       "      <td>2017-06-23</td>\n",
       "      <td>11289917</td>\n",
       "      <td>2.0</td>\n",
       "      <td>3.0</td>\n",
       "      <td>1458.0</td>\n",
       "      <td>6037.0</td>\n",
       "      <td>34686163.0</td>\n",
       "      <td>-118113100.0</td>\n",
       "      <td>3101.0</td>\n",
       "      <td>97318</td>\n",
       "      <td>1970.0</td>\n",
       "      <td>136104.0</td>\n",
       "      <td>Los Angles</td>\n",
       "    </tr>\n",
       "    <tr>\n",
       "      <th>1</th>\n",
       "      <td>1772</td>\n",
       "      <td>2017-06-30</td>\n",
       "      <td>11705026</td>\n",
       "      <td>1.0</td>\n",
       "      <td>2.0</td>\n",
       "      <td>1421.0</td>\n",
       "      <td>6037.0</td>\n",
       "      <td>33999877.0</td>\n",
       "      <td>-118291863.0</td>\n",
       "      <td>3101.0</td>\n",
       "      <td>96018</td>\n",
       "      <td>1911.0</td>\n",
       "      <td>35606.0</td>\n",
       "      <td>Los Angles</td>\n",
       "    </tr>\n",
       "    <tr>\n",
       "      <th>2</th>\n",
       "      <td>2028</td>\n",
       "      <td>2017-06-01</td>\n",
       "      <td>14269464</td>\n",
       "      <td>3.0</td>\n",
       "      <td>4.0</td>\n",
       "      <td>2541.0</td>\n",
       "      <td>6059.0</td>\n",
       "      <td>33694636.0</td>\n",
       "      <td>-117912245.0</td>\n",
       "      <td>1286.0</td>\n",
       "      <td>96958</td>\n",
       "      <td>2003.0</td>\n",
       "      <td>880456.0</td>\n",
       "      <td>Orange</td>\n",
       "    </tr>\n",
       "  </tbody>\n",
       "</table>\n",
       "</div>"
      ],
      "text/plain": [
       "     id transactiondate  parcelid  bathroomcnt  bedroomcnt  squarefeet  \\\n",
       "0  1248      2017-06-23  11289917          2.0         3.0      1458.0   \n",
       "1  1772      2017-06-30  11705026          1.0         2.0      1421.0   \n",
       "2  2028      2017-06-01  14269464          3.0         4.0      2541.0   \n",
       "\n",
       "     fips    latitude    longitude  county zipcode  yearbuilt     price  \\\n",
       "0  6037.0  34686163.0 -118113100.0  3101.0   97318     1970.0  136104.0   \n",
       "1  6037.0  33999877.0 -118291863.0  3101.0   96018     1911.0   35606.0   \n",
       "2  6059.0  33694636.0 -117912245.0  1286.0   96958     2003.0  880456.0   \n",
       "\n",
       "       County  \n",
       "0  Los Angles  \n",
       "1  Los Angles  \n",
       "2      Orange  "
      ]
     },
     "execution_count": 23,
     "metadata": {},
     "output_type": "execute_result"
    }
   ],
   "source": [
    "df.head(3)"
   ]
  },
  {
   "cell_type": "code",
   "execution_count": 24,
   "metadata": {},
   "outputs": [],
   "source": [
    "train, test = train_test_split(df, train_size = .70, random_state = 100)"
   ]
  },
  {
   "cell_type": "code",
   "execution_count": 25,
   "metadata": {},
   "outputs": [
    {
     "data": {
      "text/html": [
       "<div>\n",
       "<style scoped>\n",
       "    .dataframe tbody tr th:only-of-type {\n",
       "        vertical-align: middle;\n",
       "    }\n",
       "\n",
       "    .dataframe tbody tr th {\n",
       "        vertical-align: top;\n",
       "    }\n",
       "\n",
       "    .dataframe thead th {\n",
       "        text-align: right;\n",
       "    }\n",
       "</style>\n",
       "<table border=\"1\" class=\"dataframe\">\n",
       "  <thead>\n",
       "    <tr style=\"text-align: right;\">\n",
       "      <th></th>\n",
       "      <th>id</th>\n",
       "      <th>transactiondate</th>\n",
       "      <th>parcelid</th>\n",
       "      <th>bathroomcnt</th>\n",
       "      <th>bedroomcnt</th>\n",
       "      <th>squarefeet</th>\n",
       "      <th>fips</th>\n",
       "      <th>latitude</th>\n",
       "      <th>longitude</th>\n",
       "      <th>county</th>\n",
       "      <th>zipcode</th>\n",
       "      <th>yearbuilt</th>\n",
       "      <th>price</th>\n",
       "      <th>County</th>\n",
       "    </tr>\n",
       "  </thead>\n",
       "  <tbody>\n",
       "    <tr>\n",
       "      <th>14113</th>\n",
       "      <td>52239</td>\n",
       "      <td>2017-06-29</td>\n",
       "      <td>11428689</td>\n",
       "      <td>2.0</td>\n",
       "      <td>3.0</td>\n",
       "      <td>1291.0</td>\n",
       "      <td>6037.0</td>\n",
       "      <td>33905093.0</td>\n",
       "      <td>-118319125.0</td>\n",
       "      <td>3101.0</td>\n",
       "      <td>96106</td>\n",
       "      <td>1957.0</td>\n",
       "      <td>268863.0</td>\n",
       "      <td>Los Angles</td>\n",
       "    </tr>\n",
       "    <tr>\n",
       "      <th>3456</th>\n",
       "      <td>36635</td>\n",
       "      <td>2017-05-16</td>\n",
       "      <td>13849709</td>\n",
       "      <td>2.0</td>\n",
       "      <td>4.0</td>\n",
       "      <td>1833.0</td>\n",
       "      <td>6059.0</td>\n",
       "      <td>33942120.0</td>\n",
       "      <td>-117970825.0</td>\n",
       "      <td>1286.0</td>\n",
       "      <td>96186</td>\n",
       "      <td>1956.0</td>\n",
       "      <td>476193.0</td>\n",
       "      <td>Orange</td>\n",
       "    </tr>\n",
       "    <tr>\n",
       "      <th>9743</th>\n",
       "      <td>45905</td>\n",
       "      <td>2017-06-13</td>\n",
       "      <td>13065441</td>\n",
       "      <td>2.0</td>\n",
       "      <td>4.0</td>\n",
       "      <td>1200.0</td>\n",
       "      <td>6037.0</td>\n",
       "      <td>34060299.0</td>\n",
       "      <td>-117795042.0</td>\n",
       "      <td>3101.0</td>\n",
       "      <td>96508</td>\n",
       "      <td>1954.0</td>\n",
       "      <td>157915.0</td>\n",
       "      <td>Los Angles</td>\n",
       "    </tr>\n",
       "    <tr>\n",
       "      <th>1244</th>\n",
       "      <td>33380</td>\n",
       "      <td>2017-05-05</td>\n",
       "      <td>14413214</td>\n",
       "      <td>4.0</td>\n",
       "      <td>5.0</td>\n",
       "      <td>3586.0</td>\n",
       "      <td>6059.0</td>\n",
       "      <td>33517619.0</td>\n",
       "      <td>-117697388.0</td>\n",
       "      <td>1286.0</td>\n",
       "      <td>96987</td>\n",
       "      <td>1994.0</td>\n",
       "      <td>869805.0</td>\n",
       "      <td>Orange</td>\n",
       "    </tr>\n",
       "    <tr>\n",
       "      <th>7511</th>\n",
       "      <td>42594</td>\n",
       "      <td>2017-06-01</td>\n",
       "      <td>12869924</td>\n",
       "      <td>1.0</td>\n",
       "      <td>3.0</td>\n",
       "      <td>1222.0</td>\n",
       "      <td>6037.0</td>\n",
       "      <td>34086978.0</td>\n",
       "      <td>-117713653.0</td>\n",
       "      <td>3101.0</td>\n",
       "      <td>96469</td>\n",
       "      <td>1952.0</td>\n",
       "      <td>461938.0</td>\n",
       "      <td>Los Angles</td>\n",
       "    </tr>\n",
       "  </tbody>\n",
       "</table>\n",
       "</div>"
      ],
      "text/plain": [
       "          id transactiondate  parcelid  bathroomcnt  bedroomcnt  squarefeet  \\\n",
       "14113  52239      2017-06-29  11428689          2.0         3.0      1291.0   \n",
       "3456   36635      2017-05-16  13849709          2.0         4.0      1833.0   \n",
       "9743   45905      2017-06-13  13065441          2.0         4.0      1200.0   \n",
       "1244   33380      2017-05-05  14413214          4.0         5.0      3586.0   \n",
       "7511   42594      2017-06-01  12869924          1.0         3.0      1222.0   \n",
       "\n",
       "         fips    latitude    longitude  county zipcode  yearbuilt     price  \\\n",
       "14113  6037.0  33905093.0 -118319125.0  3101.0   96106     1957.0  268863.0   \n",
       "3456   6059.0  33942120.0 -117970825.0  1286.0   96186     1956.0  476193.0   \n",
       "9743   6037.0  34060299.0 -117795042.0  3101.0   96508     1954.0  157915.0   \n",
       "1244   6059.0  33517619.0 -117697388.0  1286.0   96987     1994.0  869805.0   \n",
       "7511   6037.0  34086978.0 -117713653.0  3101.0   96469     1952.0  461938.0   \n",
       "\n",
       "           County  \n",
       "14113  Los Angles  \n",
       "3456       Orange  \n",
       "9743   Los Angles  \n",
       "1244       Orange  \n",
       "7511   Los Angles  "
      ]
     },
     "execution_count": 25,
     "metadata": {},
     "output_type": "execute_result"
    }
   ],
   "source": [
    "train.head()"
   ]
  },
  {
   "cell_type": "code",
   "execution_count": 26,
   "metadata": {},
   "outputs": [
    {
     "data": {
      "text/html": [
       "<div>\n",
       "<style scoped>\n",
       "    .dataframe tbody tr th:only-of-type {\n",
       "        vertical-align: middle;\n",
       "    }\n",
       "\n",
       "    .dataframe tbody tr th {\n",
       "        vertical-align: top;\n",
       "    }\n",
       "\n",
       "    .dataframe thead th {\n",
       "        text-align: right;\n",
       "    }\n",
       "</style>\n",
       "<table border=\"1\" class=\"dataframe\">\n",
       "  <thead>\n",
       "    <tr style=\"text-align: right;\">\n",
       "      <th></th>\n",
       "      <th>id</th>\n",
       "      <th>transactiondate</th>\n",
       "      <th>parcelid</th>\n",
       "      <th>bathroomcnt</th>\n",
       "      <th>bedroomcnt</th>\n",
       "      <th>squarefeet</th>\n",
       "      <th>fips</th>\n",
       "      <th>latitude</th>\n",
       "      <th>longitude</th>\n",
       "      <th>county</th>\n",
       "      <th>zipcode</th>\n",
       "      <th>yearbuilt</th>\n",
       "      <th>price</th>\n",
       "      <th>County</th>\n",
       "    </tr>\n",
       "  </thead>\n",
       "  <tbody>\n",
       "    <tr>\n",
       "      <th>2952</th>\n",
       "      <td>35872</td>\n",
       "      <td>2017-05-12</td>\n",
       "      <td>12969877</td>\n",
       "      <td>6.0</td>\n",
       "      <td>5.0</td>\n",
       "      <td>4698.0</td>\n",
       "      <td>6037.0</td>\n",
       "      <td>34160173.0</td>\n",
       "      <td>-117973852.0</td>\n",
       "      <td>3101.0</td>\n",
       "      <td>399675</td>\n",
       "      <td>1994.0</td>\n",
       "      <td>4548320.0</td>\n",
       "      <td>Los Angles</td>\n",
       "    </tr>\n",
       "    <tr>\n",
       "      <th>4854</th>\n",
       "      <td>38690</td>\n",
       "      <td>2017-05-23</td>\n",
       "      <td>12969536</td>\n",
       "      <td>2.0</td>\n",
       "      <td>3.0</td>\n",
       "      <td>1532.0</td>\n",
       "      <td>6037.0</td>\n",
       "      <td>34144897.0</td>\n",
       "      <td>-117953095.0</td>\n",
       "      <td>3101.0</td>\n",
       "      <td>399675</td>\n",
       "      <td>1954.0</td>\n",
       "      <td>69537.0</td>\n",
       "      <td>Los Angles</td>\n",
       "    </tr>\n",
       "    <tr>\n",
       "      <th>7450</th>\n",
       "      <td>42510</td>\n",
       "      <td>2017-06-01</td>\n",
       "      <td>12969457</td>\n",
       "      <td>3.0</td>\n",
       "      <td>2.0</td>\n",
       "      <td>2143.0</td>\n",
       "      <td>6037.0</td>\n",
       "      <td>34154731.0</td>\n",
       "      <td>-117954681.0</td>\n",
       "      <td>3101.0</td>\n",
       "      <td>399675</td>\n",
       "      <td>1981.0</td>\n",
       "      <td>753001.0</td>\n",
       "      <td>Los Angles</td>\n",
       "    </tr>\n",
       "    <tr>\n",
       "      <th>11914</th>\n",
       "      <td>49034</td>\n",
       "      <td>2017-06-21</td>\n",
       "      <td>12969466</td>\n",
       "      <td>2.0</td>\n",
       "      <td>3.0</td>\n",
       "      <td>1895.0</td>\n",
       "      <td>6037.0</td>\n",
       "      <td>34153603.0</td>\n",
       "      <td>-117953027.0</td>\n",
       "      <td>3101.0</td>\n",
       "      <td>399675</td>\n",
       "      <td>1962.0</td>\n",
       "      <td>719700.0</td>\n",
       "      <td>Los Angles</td>\n",
       "    </tr>\n",
       "  </tbody>\n",
       "</table>\n",
       "</div>"
      ],
      "text/plain": [
       "          id transactiondate  parcelid  bathroomcnt  bedroomcnt  squarefeet  \\\n",
       "2952   35872      2017-05-12  12969877          6.0         5.0      4698.0   \n",
       "4854   38690      2017-05-23  12969536          2.0         3.0      1532.0   \n",
       "7450   42510      2017-06-01  12969457          3.0         2.0      2143.0   \n",
       "11914  49034      2017-06-21  12969466          2.0         3.0      1895.0   \n",
       "\n",
       "         fips    latitude    longitude  county zipcode  yearbuilt      price  \\\n",
       "2952   6037.0  34160173.0 -117973852.0  3101.0  399675     1994.0  4548320.0   \n",
       "4854   6037.0  34144897.0 -117953095.0  3101.0  399675     1954.0    69537.0   \n",
       "7450   6037.0  34154731.0 -117954681.0  3101.0  399675     1981.0   753001.0   \n",
       "11914  6037.0  34153603.0 -117953027.0  3101.0  399675     1962.0   719700.0   \n",
       "\n",
       "           County  \n",
       "2952   Los Angles  \n",
       "4854   Los Angles  \n",
       "7450   Los Angles  \n",
       "11914  Los Angles  "
      ]
     },
     "execution_count": 26,
     "metadata": {},
     "output_type": "execute_result"
    }
   ],
   "source": [
    "df[df.zipcode == '399675']"
   ]
  },
  {
   "cell_type": "code",
   "execution_count": 27,
   "metadata": {},
   "outputs": [
    {
     "data": {
      "text/plain": [
       "zipcode\n",
       "399675    753001.0\n",
       "95982      33084.0\n",
       "95983     190816.5\n",
       "95984     148542.0\n",
       "95985     691076.5\n",
       "            ...   \n",
       "97328     147200.0\n",
       "97329     263500.0\n",
       "97330     199000.0\n",
       "97331     194000.0\n",
       "97344     101401.0\n",
       "Name: price, Length: 370, dtype: float64"
      ]
     },
     "execution_count": 27,
     "metadata": {},
     "output_type": "execute_result"
    }
   ],
   "source": [
    "train.groupby('zipcode').price.median()"
   ]
  },
  {
   "cell_type": "code",
   "execution_count": 28,
   "metadata": {},
   "outputs": [
    {
     "name": "stderr",
     "output_type": "stream",
     "text": [
      "/usr/local/anaconda3/lib/python3.7/site-packages/pandas/core/frame.py:3997: SettingWithCopyWarning: \n",
      "A value is trying to be set on a copy of a slice from a DataFrame\n",
      "\n",
      "See the caveats in the documentation: https://pandas.pydata.org/pandas-docs/stable/user_guide/indexing.html#returning-a-view-versus-a-copy\n",
      "  errors=errors,\n"
     ]
    }
   ],
   "source": [
    "train.drop(train[train.zipcode == '399675'].index, inplace = True)"
   ]
  },
  {
   "cell_type": "code",
   "execution_count": 29,
   "metadata": {},
   "outputs": [],
   "source": [
    "median_price = pd.Series(train.groupby('zipcode').price.median())"
   ]
  },
  {
   "cell_type": "code",
   "execution_count": 30,
   "metadata": {},
   "outputs": [
    {
     "data": {
      "text/plain": [
       "zipcode\n",
       "95982     33084.0\n",
       "95983    190816.5\n",
       "95984    148542.0\n",
       "95985    691076.5\n",
       "95986    528450.0\n",
       "           ...   \n",
       "97328    147200.0\n",
       "97329    263500.0\n",
       "97330    199000.0\n",
       "97331    194000.0\n",
       "97344    101401.0\n",
       "Name: price, Length: 369, dtype: float64"
      ]
     },
     "execution_count": 30,
     "metadata": {},
     "output_type": "execute_result"
    }
   ],
   "source": [
    "median_price"
   ]
  },
  {
   "cell_type": "code",
   "execution_count": 31,
   "metadata": {},
   "outputs": [
    {
     "name": "stderr",
     "output_type": "stream",
     "text": [
      "/usr/local/anaconda3/lib/python3.7/site-packages/ipykernel_launcher.py:1: SettingWithCopyWarning: \n",
      "A value is trying to be set on a copy of a slice from a DataFrame.\n",
      "Try using .loc[row_indexer,col_indexer] = value instead\n",
      "\n",
      "See the caveats in the documentation: https://pandas.pydata.org/pandas-docs/stable/user_guide/indexing.html#returning-a-view-versus-a-copy\n",
      "  \"\"\"Entry point for launching an IPython kernel.\n"
     ]
    }
   ],
   "source": [
    "train['median_price'] = train.zipcode.map(median_price)"
   ]
  },
  {
   "cell_type": "code",
   "execution_count": 32,
   "metadata": {},
   "outputs": [
    {
     "data": {
      "text/html": [
       "<div>\n",
       "<style scoped>\n",
       "    .dataframe tbody tr th:only-of-type {\n",
       "        vertical-align: middle;\n",
       "    }\n",
       "\n",
       "    .dataframe tbody tr th {\n",
       "        vertical-align: top;\n",
       "    }\n",
       "\n",
       "    .dataframe thead th {\n",
       "        text-align: right;\n",
       "    }\n",
       "</style>\n",
       "<table border=\"1\" class=\"dataframe\">\n",
       "  <thead>\n",
       "    <tr style=\"text-align: right;\">\n",
       "      <th></th>\n",
       "      <th>id</th>\n",
       "      <th>transactiondate</th>\n",
       "      <th>parcelid</th>\n",
       "      <th>bathroomcnt</th>\n",
       "      <th>bedroomcnt</th>\n",
       "      <th>squarefeet</th>\n",
       "      <th>fips</th>\n",
       "      <th>latitude</th>\n",
       "      <th>longitude</th>\n",
       "      <th>county</th>\n",
       "      <th>zipcode</th>\n",
       "      <th>yearbuilt</th>\n",
       "      <th>price</th>\n",
       "      <th>County</th>\n",
       "      <th>median_price</th>\n",
       "    </tr>\n",
       "  </thead>\n",
       "  <tbody>\n",
       "    <tr>\n",
       "      <th>14113</th>\n",
       "      <td>52239</td>\n",
       "      <td>2017-06-29</td>\n",
       "      <td>11428689</td>\n",
       "      <td>2.0</td>\n",
       "      <td>3.0</td>\n",
       "      <td>1291.0</td>\n",
       "      <td>6037.0</td>\n",
       "      <td>33905093.0</td>\n",
       "      <td>-118319125.0</td>\n",
       "      <td>3101.0</td>\n",
       "      <td>96106</td>\n",
       "      <td>1957.0</td>\n",
       "      <td>268863.0</td>\n",
       "      <td>Los Angles</td>\n",
       "      <td>202153.5</td>\n",
       "    </tr>\n",
       "    <tr>\n",
       "      <th>3456</th>\n",
       "      <td>36635</td>\n",
       "      <td>2017-05-16</td>\n",
       "      <td>13849709</td>\n",
       "      <td>2.0</td>\n",
       "      <td>4.0</td>\n",
       "      <td>1833.0</td>\n",
       "      <td>6059.0</td>\n",
       "      <td>33942120.0</td>\n",
       "      <td>-117970825.0</td>\n",
       "      <td>1286.0</td>\n",
       "      <td>96186</td>\n",
       "      <td>1956.0</td>\n",
       "      <td>476193.0</td>\n",
       "      <td>Orange</td>\n",
       "      <td>313678.0</td>\n",
       "    </tr>\n",
       "    <tr>\n",
       "      <th>9743</th>\n",
       "      <td>45905</td>\n",
       "      <td>2017-06-13</td>\n",
       "      <td>13065441</td>\n",
       "      <td>2.0</td>\n",
       "      <td>4.0</td>\n",
       "      <td>1200.0</td>\n",
       "      <td>6037.0</td>\n",
       "      <td>34060299.0</td>\n",
       "      <td>-117795042.0</td>\n",
       "      <td>3101.0</td>\n",
       "      <td>96508</td>\n",
       "      <td>1954.0</td>\n",
       "      <td>157915.0</td>\n",
       "      <td>Los Angles</td>\n",
       "      <td>213202.0</td>\n",
       "    </tr>\n",
       "    <tr>\n",
       "      <th>1244</th>\n",
       "      <td>33380</td>\n",
       "      <td>2017-05-05</td>\n",
       "      <td>14413214</td>\n",
       "      <td>4.0</td>\n",
       "      <td>5.0</td>\n",
       "      <td>3586.0</td>\n",
       "      <td>6059.0</td>\n",
       "      <td>33517619.0</td>\n",
       "      <td>-117697388.0</td>\n",
       "      <td>1286.0</td>\n",
       "      <td>96987</td>\n",
       "      <td>1994.0</td>\n",
       "      <td>869805.0</td>\n",
       "      <td>Orange</td>\n",
       "      <td>700522.0</td>\n",
       "    </tr>\n",
       "  </tbody>\n",
       "</table>\n",
       "</div>"
      ],
      "text/plain": [
       "          id transactiondate  parcelid  bathroomcnt  bedroomcnt  squarefeet  \\\n",
       "14113  52239      2017-06-29  11428689          2.0         3.0      1291.0   \n",
       "3456   36635      2017-05-16  13849709          2.0         4.0      1833.0   \n",
       "9743   45905      2017-06-13  13065441          2.0         4.0      1200.0   \n",
       "1244   33380      2017-05-05  14413214          4.0         5.0      3586.0   \n",
       "\n",
       "         fips    latitude    longitude  county zipcode  yearbuilt     price  \\\n",
       "14113  6037.0  33905093.0 -118319125.0  3101.0   96106     1957.0  268863.0   \n",
       "3456   6059.0  33942120.0 -117970825.0  1286.0   96186     1956.0  476193.0   \n",
       "9743   6037.0  34060299.0 -117795042.0  3101.0   96508     1954.0  157915.0   \n",
       "1244   6059.0  33517619.0 -117697388.0  1286.0   96987     1994.0  869805.0   \n",
       "\n",
       "           County  median_price  \n",
       "14113  Los Angles      202153.5  \n",
       "3456       Orange      313678.0  \n",
       "9743   Los Angles      213202.0  \n",
       "1244       Orange      700522.0  "
      ]
     },
     "execution_count": 32,
     "metadata": {},
     "output_type": "execute_result"
    }
   ],
   "source": [
    "train.head(4)"
   ]
  },
  {
   "cell_type": "code",
   "execution_count": 33,
   "metadata": {},
   "outputs": [],
   "source": [
    "train_plot = train[['bathroomcnt', 'bedroomcnt', 'squarefeet', 'median_price', 'price']]"
   ]
  },
  {
   "cell_type": "code",
   "execution_count": 34,
   "metadata": {},
   "outputs": [
    {
     "data": {
      "text/plain": [
       "<seaborn.axisgrid.PairGrid at 0x1a1dcfce10>"
      ]
     },
     "execution_count": 34,
     "metadata": {},
     "output_type": "execute_result"
    },
    {
     "data": {
      "image/png": "[encoded data removed]",
      "text/plain": [
       "<Figure size 900x900 with 30 Axes>"
      ]
     },
     "metadata": {
      "needs_background": "light"
     },
     "output_type": "display_data"
    }
   ],
   "source": [
    "sns.pairplot(train_plot)"
   ]
  },
  {
   "cell_type": "code",
   "execution_count": 35,
   "metadata": {},
   "outputs": [],
   "source": [
    "cm = train_plot.corr()"
   ]
  },
  {
   "cell_type": "code",
   "execution_count": 36,
   "metadata": {},
   "outputs": [
    {
     "data": {
      "text/plain": [
       "<matplotlib.axes._subplots.AxesSubplot at 0x1a205325d0>"
      ]
     },
     "execution_count": 36,
     "metadata": {},
     "output_type": "execute_result"
    },
    {
     "data": {
      "image/png": "[encoded data removed]",
      "text/plain": [
       "<Figure size 432x288 with 2 Axes>"
      ]
     },
     "metadata": {
      "needs_background": "light"
     },
     "output_type": "display_data"
    }
   ],
   "source": [
    "sns.heatmap(cm, annot= True, cmap = 'viridis')"
   ]
  },
  {
   "cell_type": "code",
   "execution_count": 37,
   "metadata": {},
   "outputs": [],
   "source": [
    "input = pd.read_clipboard()"
   ]
  },
  {
   "cell_type": "code",
   "execution_count": 38,
   "metadata": {},
   "outputs": [
    {
     "ename": "ValueError",
     "evalue": "invalid literal for int() with base 10: 'itertools.product(A,'",
     "output_type": "error",
     "traceback": [
      "\u001b[0;31m---------------------------------------------------------------------------\u001b[0m",
      "\u001b[0;31mValueError\u001b[0m                                Traceback (most recent call last)",
      "\u001b[0;32m<ipython-input-38-a0bbedd685b7>\u001b[0m in \u001b[0;36m<module>\u001b[0;34m\u001b[0m\n\u001b[0;32m----> 1\u001b[0;31m \u001b[0mF\u001b[0m \u001b[0;34m=\u001b[0m \u001b[0mint\u001b[0m\u001b[0;34m(\u001b[0m\u001b[0minput\u001b[0m\u001b[0;34m.\u001b[0m\u001b[0mcolumns\u001b[0m\u001b[0;34m[\u001b[0m\u001b[0;36m0\u001b[0m\u001b[0;34m]\u001b[0m\u001b[0;34m)\u001b[0m\u001b[0;34m\u001b[0m\u001b[0;34m\u001b[0m\u001b[0m\n\u001b[0m\u001b[1;32m      2\u001b[0m \u001b[0mF\u001b[0m\u001b[0;34m\u001b[0m\u001b[0;34m\u001b[0m\u001b[0m\n",
      "\u001b[0;31mValueError\u001b[0m: invalid literal for int() with base 10: 'itertools.product(A,'"
     ]
    }
   ],
   "source": [
    "F = int(input.columns[0])\n",
    "F"
   ]
  },
  {
   "cell_type": "code",
   "execution_count": null,
   "metadata": {},
   "outputs": [],
   "source": [
    "N = int(input.columns[1])\n",
    "N"
   ]
  },
  {
   "cell_type": "code",
   "execution_count": null,
   "metadata": {},
   "outputs": [],
   "source": [
    "T = input[N]"
   ]
  },
  {
   "cell_type": "code",
   "execution_count": null,
   "metadata": {},
   "outputs": [],
   "source": [
    "input.index[int(N)]"
   ]
  },
  {
   "cell_type": "code",
   "execution_count": 25,
   "metadata": {},
   "outputs": [],
   "source": [
    "census = pd.read_csv('census.csv', names = ['age', 'sex', 'education', 'country', 'race', 'marital_status', 'workclass',\n",
    "            'occupation', 'hours_per_week', 'income', 'capital_gain', 'capital_loss'])"
   ]
  },
  {
   "cell_type": "code",
   "execution_count": 26,
   "metadata": {},
   "outputs": [
    {
     "data": {
      "text/html": [
       "<div>\n",
       "<style scoped>\n",
       "    .dataframe tbody tr th:only-of-type {\n",
       "        vertical-align: middle;\n",
       "    }\n",
       "\n",
       "    .dataframe tbody tr th {\n",
       "        vertical-align: top;\n",
       "    }\n",
       "\n",
       "    .dataframe thead th {\n",
       "        text-align: right;\n",
       "    }\n",
       "</style>\n",
       "<table border=\"1\" class=\"dataframe\">\n",
       "  <thead>\n",
       "    <tr style=\"text-align: right;\">\n",
       "      <th></th>\n",
       "      <th>age</th>\n",
       "      <th>sex</th>\n",
       "      <th>education</th>\n",
       "      <th>country</th>\n",
       "      <th>race</th>\n",
       "      <th>marital_status</th>\n",
       "      <th>workclass</th>\n",
       "      <th>occupation</th>\n",
       "      <th>hours_per_week</th>\n",
       "      <th>income</th>\n",
       "      <th>capital_gain</th>\n",
       "      <th>capital_loss</th>\n",
       "    </tr>\n",
       "  </thead>\n",
       "  <tbody>\n",
       "    <tr>\n",
       "      <th>0</th>\n",
       "      <td>age=Middle-aged</td>\n",
       "      <td>sex=Male</td>\n",
       "      <td>education=Bachelors</td>\n",
       "      <td>native-country=United-States</td>\n",
       "      <td>race=White</td>\n",
       "      <td>marital-status=Never-married</td>\n",
       "      <td>workclass=State-gov</td>\n",
       "      <td>occupation=Adm-clerical</td>\n",
       "      <td>hours-per-week=Full-time</td>\n",
       "      <td>income=Small</td>\n",
       "      <td>capital-gain=Low</td>\n",
       "      <td>capital-loss=None</td>\n",
       "    </tr>\n",
       "    <tr>\n",
       "      <th>1</th>\n",
       "      <td>age=Senior</td>\n",
       "      <td>sex=Male</td>\n",
       "      <td>education=Bachelors</td>\n",
       "      <td>native-country=United-States</td>\n",
       "      <td>race=White</td>\n",
       "      <td>marital-status=Married-civ-spouse</td>\n",
       "      <td>workclass=Self-emp-not-inc</td>\n",
       "      <td>occupation=Exec-managerial</td>\n",
       "      <td>hours-per-week=Part-time</td>\n",
       "      <td>income=Small</td>\n",
       "      <td>capital-gain=None</td>\n",
       "      <td>capital-loss=None</td>\n",
       "    </tr>\n",
       "    <tr>\n",
       "      <th>2</th>\n",
       "      <td>age=Middle-aged</td>\n",
       "      <td>sex=Male</td>\n",
       "      <td>education=HS-grad</td>\n",
       "      <td>native-country=United-States</td>\n",
       "      <td>race=White</td>\n",
       "      <td>marital-status=Divorced</td>\n",
       "      <td>workclass=Private</td>\n",
       "      <td>occupation=Handlers-cleaners</td>\n",
       "      <td>hours-per-week=Full-time</td>\n",
       "      <td>income=Small</td>\n",
       "      <td>capital-gain=None</td>\n",
       "      <td>capital-loss=None</td>\n",
       "    </tr>\n",
       "    <tr>\n",
       "      <th>3</th>\n",
       "      <td>age=Senior</td>\n",
       "      <td>sex=Male</td>\n",
       "      <td>education=11th</td>\n",
       "      <td>native-country=United-States</td>\n",
       "      <td>race=Black</td>\n",
       "      <td>marital-status=Married-civ-spouse</td>\n",
       "      <td>workclass=Private</td>\n",
       "      <td>occupation=Handlers-cleaners</td>\n",
       "      <td>hours-per-week=Full-time</td>\n",
       "      <td>income=Small</td>\n",
       "      <td>capital-gain=None</td>\n",
       "      <td>capital-loss=None</td>\n",
       "    </tr>\n",
       "    <tr>\n",
       "      <th>4</th>\n",
       "      <td>age=Middle-aged</td>\n",
       "      <td>sex=Female</td>\n",
       "      <td>education=Bachelors</td>\n",
       "      <td>native-country=Cuba</td>\n",
       "      <td>race=Black</td>\n",
       "      <td>marital-status=Married-civ-spouse</td>\n",
       "      <td>workclass=Private</td>\n",
       "      <td>occupation=Prof-specialty</td>\n",
       "      <td>hours-per-week=Full-time</td>\n",
       "      <td>income=Small</td>\n",
       "      <td>capital-gain=None</td>\n",
       "      <td>capital-loss=None</td>\n",
       "    </tr>\n",
       "    <tr>\n",
       "      <th>5</th>\n",
       "      <td>age=Middle-aged</td>\n",
       "      <td>sex=Female</td>\n",
       "      <td>education=Masters</td>\n",
       "      <td>native-country=United-States</td>\n",
       "      <td>race=White</td>\n",
       "      <td>marital-status=Married-civ-spouse</td>\n",
       "      <td>workclass=Private</td>\n",
       "      <td>occupation=Exec-managerial</td>\n",
       "      <td>hours-per-week=Full-time</td>\n",
       "      <td>income=Small</td>\n",
       "      <td>capital-gain=None</td>\n",
       "      <td>capital-loss=None</td>\n",
       "    </tr>\n",
       "    <tr>\n",
       "      <th>6</th>\n",
       "      <td>age=Senior</td>\n",
       "      <td>sex=Female</td>\n",
       "      <td>education=9th</td>\n",
       "      <td>native-country=Jamaica</td>\n",
       "      <td>race=Black</td>\n",
       "      <td>marital-status=Married-spouse-absent</td>\n",
       "      <td>workclass=Private</td>\n",
       "      <td>occupation=Other-service</td>\n",
       "      <td>hours-per-week=Part-time</td>\n",
       "      <td>income=Small</td>\n",
       "      <td>capital-gain=None</td>\n",
       "      <td>capital-loss=None</td>\n",
       "    </tr>\n",
       "    <tr>\n",
       "      <th>7</th>\n",
       "      <td>age=Senior</td>\n",
       "      <td>sex=Male</td>\n",
       "      <td>education=HS-grad</td>\n",
       "      <td>native-country=United-States</td>\n",
       "      <td>race=White</td>\n",
       "      <td>marital-status=Married-civ-spouse</td>\n",
       "      <td>workclass=Self-emp-not-inc</td>\n",
       "      <td>occupation=Exec-managerial</td>\n",
       "      <td>hours-per-week=Over-time</td>\n",
       "      <td>income=Large</td>\n",
       "      <td>capital-gain=None</td>\n",
       "      <td>capital-loss=None</td>\n",
       "    </tr>\n",
       "    <tr>\n",
       "      <th>8</th>\n",
       "      <td>age=Middle-aged</td>\n",
       "      <td>sex=Female</td>\n",
       "      <td>education=Masters</td>\n",
       "      <td>native-country=United-States</td>\n",
       "      <td>race=White</td>\n",
       "      <td>marital-status=Never-married</td>\n",
       "      <td>workclass=Private</td>\n",
       "      <td>occupation=Prof-specialty</td>\n",
       "      <td>hours-per-week=Over-time</td>\n",
       "      <td>income=Large</td>\n",
       "      <td>capital-gain=High</td>\n",
       "      <td>capital-loss=None</td>\n",
       "    </tr>\n",
       "    <tr>\n",
       "      <th>9</th>\n",
       "      <td>age=Middle-aged</td>\n",
       "      <td>sex=Male</td>\n",
       "      <td>education=Bachelors</td>\n",
       "      <td>native-country=United-States</td>\n",
       "      <td>race=White</td>\n",
       "      <td>marital-status=Married-civ-spouse</td>\n",
       "      <td>workclass=Private</td>\n",
       "      <td>occupation=Exec-managerial</td>\n",
       "      <td>hours-per-week=Full-time</td>\n",
       "      <td>income=Large</td>\n",
       "      <td>capital-gain=Low</td>\n",
       "      <td>capital-loss=None</td>\n",
       "    </tr>\n",
       "  </tbody>\n",
       "</table>\n",
       "</div>"
      ],
      "text/plain": [
       "               age         sex            education  \\\n",
       "0  age=Middle-aged    sex=Male  education=Bachelors   \n",
       "1       age=Senior    sex=Male  education=Bachelors   \n",
       "2  age=Middle-aged    sex=Male    education=HS-grad   \n",
       "3       age=Senior    sex=Male       education=11th   \n",
       "4  age=Middle-aged  sex=Female  education=Bachelors   \n",
       "5  age=Middle-aged  sex=Female    education=Masters   \n",
       "6       age=Senior  sex=Female        education=9th   \n",
       "7       age=Senior    sex=Male    education=HS-grad   \n",
       "8  age=Middle-aged  sex=Female    education=Masters   \n",
       "9  age=Middle-aged    sex=Male  education=Bachelors   \n",
       "\n",
       "                        country        race  \\\n",
       "0  native-country=United-States  race=White   \n",
       "1  native-country=United-States  race=White   \n",
       "2  native-country=United-States  race=White   \n",
       "3  native-country=United-States  race=Black   \n",
       "4           native-country=Cuba  race=Black   \n",
       "5  native-country=United-States  race=White   \n",
       "6        native-country=Jamaica  race=Black   \n",
       "7  native-country=United-States  race=White   \n",
       "8  native-country=United-States  race=White   \n",
       "9  native-country=United-States  race=White   \n",
       "\n",
       "                         marital_status                   workclass  \\\n",
       "0          marital-status=Never-married         workclass=State-gov   \n",
       "1     marital-status=Married-civ-spouse  workclass=Self-emp-not-inc   \n",
       "2               marital-status=Divorced           workclass=Private   \n",
       "3     marital-status=Married-civ-spouse           workclass=Private   \n",
       "4     marital-status=Married-civ-spouse           workclass=Private   \n",
       "5     marital-status=Married-civ-spouse           workclass=Private   \n",
       "6  marital-status=Married-spouse-absent           workclass=Private   \n",
       "7     marital-status=Married-civ-spouse  workclass=Self-emp-not-inc   \n",
       "8          marital-status=Never-married           workclass=Private   \n",
       "9     marital-status=Married-civ-spouse           workclass=Private   \n",
       "\n",
       "                     occupation            hours_per_week        income  \\\n",
       "0       occupation=Adm-clerical  hours-per-week=Full-time  income=Small   \n",
       "1    occupation=Exec-managerial  hours-per-week=Part-time  income=Small   \n",
       "2  occupation=Handlers-cleaners  hours-per-week=Full-time  income=Small   \n",
       "3  occupation=Handlers-cleaners  hours-per-week=Full-time  income=Small   \n",
       "4     occupation=Prof-specialty  hours-per-week=Full-time  income=Small   \n",
       "5    occupation=Exec-managerial  hours-per-week=Full-time  income=Small   \n",
       "6      occupation=Other-service  hours-per-week=Part-time  income=Small   \n",
       "7    occupation=Exec-managerial  hours-per-week=Over-time  income=Large   \n",
       "8     occupation=Prof-specialty  hours-per-week=Over-time  income=Large   \n",
       "9    occupation=Exec-managerial  hours-per-week=Full-time  income=Large   \n",
       "\n",
       "        capital_gain       capital_loss  \n",
       "0   capital-gain=Low  capital-loss=None  \n",
       "1  capital-gain=None  capital-loss=None  \n",
       "2  capital-gain=None  capital-loss=None  \n",
       "3  capital-gain=None  capital-loss=None  \n",
       "4  capital-gain=None  capital-loss=None  \n",
       "5  capital-gain=None  capital-loss=None  \n",
       "6  capital-gain=None  capital-loss=None  \n",
       "7  capital-gain=None  capital-loss=None  \n",
       "8  capital-gain=High  capital-loss=None  \n",
       "9   capital-gain=Low  capital-loss=None  "
      ]
     },
     "execution_count": 26,
     "metadata": {},
     "output_type": "execute_result"
    }
   ],
   "source": [
    "census"
   ]
  },
  {
   "cell_type": "code",
   "execution_count": 43,
   "metadata": {},
   "outputs": [
    {
     "data": {
      "text/html": [
       "<div>\n",
       "<style scoped>\n",
       "    .dataframe tbody tr th:only-of-type {\n",
       "        vertical-align: middle;\n",
       "    }\n",
       "\n",
       "    .dataframe tbody tr th {\n",
       "        vertical-align: top;\n",
       "    }\n",
       "\n",
       "    .dataframe thead th {\n",
       "        text-align: right;\n",
       "    }\n",
       "</style>\n",
       "<table border=\"1\" class=\"dataframe\">\n",
       "  <thead>\n",
       "    <tr style=\"text-align: right;\">\n",
       "      <th></th>\n",
       "      <th>age</th>\n",
       "      <th>sex</th>\n",
       "      <th>education</th>\n",
       "      <th>country</th>\n",
       "      <th>race</th>\n",
       "      <th>marital_status</th>\n",
       "      <th>workclass</th>\n",
       "      <th>occupation</th>\n",
       "      <th>hours_per_week</th>\n",
       "      <th>income</th>\n",
       "      <th>capital_gain</th>\n",
       "      <th>capital_loss</th>\n",
       "    </tr>\n",
       "  </thead>\n",
       "  <tbody>\n",
       "    <tr>\n",
       "      <th>0</th>\n",
       "      <td>age=Middle-aged</td>\n",
       "      <td>sex=Male</td>\n",
       "      <td>education=Bachelors</td>\n",
       "      <td>native-country=United-States</td>\n",
       "      <td>race=White</td>\n",
       "      <td>marital-status=Never-married</td>\n",
       "      <td>workclass=State-gov</td>\n",
       "      <td>occupation=Adm-clerical</td>\n",
       "      <td>hours-per-week=Full-time</td>\n",
       "      <td>income=Small</td>\n",
       "      <td>capital-gain=Low</td>\n",
       "      <td>capital-loss=None</td>\n",
       "    </tr>\n",
       "  </tbody>\n",
       "</table>\n",
       "</div>"
      ],
      "text/plain": [
       "               age       sex            education  \\\n",
       "0  age=Middle-aged  sex=Male  education=Bachelors   \n",
       "\n",
       "                        country        race                marital_status  \\\n",
       "0  native-country=United-States  race=White  marital-status=Never-married   \n",
       "\n",
       "             workclass               occupation            hours_per_week  \\\n",
       "0  workclass=State-gov  occupation=Adm-clerical  hours-per-week=Full-time   \n",
       "\n",
       "         income      capital_gain       capital_loss  \n",
       "0  income=Small  capital-gain=Low  capital-loss=None  "
      ]
     },
     "execution_count": 43,
     "metadata": {},
     "output_type": "execute_result"
    }
   ],
   "source": [
    "(census.iloc[0:1,])"
   ]
  },
  {
   "cell_type": "code",
   "execution_count": 45,
   "metadata": {},
   "outputs": [],
   "source": [
    "census = np.array(census)"
   ]
  },
  {
   "cell_type": "code",
   "execution_count": 137,
   "metadata": {},
   "outputs": [
    {
     "data": {
      "text/plain": [
       "array([['age=Middle-aged', 'sex=Male', 'education=Bachelors',\n",
       "        'native-country=United-States', 'race=White',\n",
       "        'marital-status=Never-married', 'workclass=State-gov',\n",
       "        'occupation=Adm-clerical', 'hours-per-week=Full-time',\n",
       "        'income=Small', 'capital-gain=Low', 'capital-loss=None'],\n",
       "       ['age=Senior', 'sex=Male', 'education=Bachelors',\n",
       "        'native-country=United-States', 'race=White',\n",
       "        'marital-status=Married-civ-spouse',\n",
       "        'workclass=Self-emp-not-inc', 'occupation=Exec-managerial',\n",
       "        'hours-per-week=Part-time', 'income=Small', 'capital-gain=None',\n",
       "        'capital-loss=None'],\n",
       "       ['age=Middle-aged', 'sex=Male', 'education=HS-grad',\n",
       "        'native-country=United-States', 'race=White',\n",
       "        'marital-status=Divorced', 'workclass=Private',\n",
       "        'occupation=Handlers-cleaners', 'hours-per-week=Full-time',\n",
       "        'income=Small', 'capital-gain=None', 'capital-loss=None'],\n",
       "       ['age=Senior', 'sex=Male', 'education=11th',\n",
       "        'native-country=United-States', 'race=Black',\n",
       "        'marital-status=Married-civ-spouse', 'workclass=Private',\n",
       "        'occupation=Handlers-cleaners', 'hours-per-week=Full-time',\n",
       "        'income=Small', 'capital-gain=None', 'capital-loss=None'],\n",
       "       ['age=Middle-aged', 'sex=Female', 'education=Bachelors',\n",
       "        'native-country=Cuba', 'race=Black',\n",
       "        'marital-status=Married-civ-spouse', 'workclass=Private',\n",
       "        'occupation=Prof-specialty', 'hours-per-week=Full-time',\n",
       "        'income=Small', 'capital-gain=None', 'capital-loss=None'],\n",
       "       ['age=Middle-aged', 'sex=Female', 'education=Masters',\n",
       "        'native-country=United-States', 'race=White',\n",
       "        'marital-status=Married-civ-spouse', 'workclass=Private',\n",
       "        'occupation=Exec-managerial', 'hours-per-week=Full-time',\n",
       "        'income=Small', 'capital-gain=None', 'capital-loss=None'],\n",
       "       ['age=Senior', 'sex=Female', 'education=9th',\n",
       "        'native-country=Jamaica', 'race=Black',\n",
       "        'marital-status=Married-spouse-absent', 'workclass=Private',\n",
       "        'occupation=Other-service', 'hours-per-week=Part-time',\n",
       "        'income=Small', 'capital-gain=None', 'capital-loss=None'],\n",
       "       ['age=Senior', 'sex=Male', 'education=HS-grad',\n",
       "        'native-country=United-States', 'race=White',\n",
       "        'marital-status=Married-civ-spouse',\n",
       "        'workclass=Self-emp-not-inc', 'occupation=Exec-managerial',\n",
       "        'hours-per-week=Over-time', 'income=Large', 'capital-gain=None',\n",
       "        'capital-loss=None'],\n",
       "       ['age=Middle-aged', 'sex=Female', 'education=Masters',\n",
       "        'native-country=United-States', 'race=White',\n",
       "        'marital-status=Never-married', 'workclass=Private',\n",
       "        'occupation=Prof-specialty', 'hours-per-week=Over-time',\n",
       "        'income=Large', 'capital-gain=High', 'capital-loss=None'],\n",
       "       ['age=Middle-aged', 'sex=Male', 'education=Bachelors',\n",
       "        'native-country=United-States', 'race=White',\n",
       "        'marital-status=Married-civ-spouse', 'workclass=Private',\n",
       "        'occupation=Exec-managerial', 'hours-per-week=Full-time',\n",
       "        'income=Large', 'capital-gain=Low', 'capital-loss=None']],\n",
       "      dtype=object)"
      ]
     },
     "execution_count": 137,
     "metadata": {},
     "output_type": "execute_result"
    }
   ],
   "source": [
    "census"
   ]
  },
  {
   "cell_type": "code",
   "execution_count": 249,
   "metadata": {},
   "outputs": [],
   "source": [
    "def support(n, lst):\n",
    "    count = 0\n",
    "    for i in range(len(census)):\n",
    "        if (np.isin(census[i], lst)).sum() == n:\n",
    "            count = count +1\n",
    "    return count/len(census)"
   ]
  },
  {
   "cell_type": "code",
   "execution_count": null,
   "metadata": {},
   "outputs": [],
   "source": []
  },
  {
   "cell_type": "code",
   "execution_count": 254,
   "metadata": {},
   "outputs": [
    {
     "data": {
      "text/plain": [
       "array([['native-country=United-States', 'race=White'],\n",
       "       ['native-country=United-States', 'capital-loss=None'],\n",
       "       ['race=White', 'capital-loss=None'],\n",
       "       ['income=Small', 'capital-loss=None'],\n",
       "       ['native-country=United-States', 'race=White'],\n",
       "       ['native-country=United-States', 'capital-loss=None'],\n",
       "       ['race=White', 'capital-loss=None'],\n",
       "       ['income=Small', 'capital-loss=None'],\n",
       "       ['capital-gain=None', 'capital-loss=None'],\n",
       "       ['native-country=United-States', 'race=White'],\n",
       "       ['native-country=United-States', 'capital-loss=None'],\n",
       "       ['race=White', 'capital-loss=None'],\n",
       "       ['workclass=Private', 'capital-loss=None'],\n",
       "       ['income=Small', 'capital-loss=None'],\n",
       "       ['capital-gain=None', 'capital-loss=None'],\n",
       "       ['native-country=United-States', 'capital-loss=None'],\n",
       "       ['workclass=Private', 'capital-loss=None'],\n",
       "       ['income=Small', 'capital-loss=None'],\n",
       "       ['capital-gain=None', 'capital-loss=None'],\n",
       "       ['workclass=Private', 'capital-loss=None'],\n",
       "       ['income=Small', 'capital-loss=None'],\n",
       "       ['capital-gain=None', 'capital-loss=None'],\n",
       "       ['native-country=United-States', 'race=White'],\n",
       "       ['native-country=United-States', 'capital-loss=None'],\n",
       "       ['race=White', 'capital-loss=None'],\n",
       "       ['workclass=Private', 'capital-loss=None'],\n",
       "       ['income=Small', 'capital-loss=None'],\n",
       "       ['capital-gain=None', 'capital-loss=None'],\n",
       "       ['workclass=Private', 'capital-loss=None'],\n",
       "       ['income=Small', 'capital-loss=None'],\n",
       "       ['capital-gain=None', 'capital-loss=None'],\n",
       "       ['native-country=United-States', 'race=White'],\n",
       "       ['native-country=United-States', 'capital-loss=None'],\n",
       "       ['race=White', 'capital-loss=None'],\n",
       "       ['capital-gain=None', 'capital-loss=None'],\n",
       "       ['native-country=United-States', 'race=White'],\n",
       "       ['native-country=United-States', 'capital-loss=None'],\n",
       "       ['race=White', 'capital-loss=None'],\n",
       "       ['workclass=Private', 'capital-loss=None'],\n",
       "       ['native-country=United-States', 'race=White'],\n",
       "       ['native-country=United-States', 'capital-loss=None'],\n",
       "       ['race=White', 'capital-loss=None'],\n",
       "       ['workclass=Private', 'capital-loss=None']], dtype='<U28')"
      ]
     },
     "execution_count": 254,
     "metadata": {},
     "output_type": "execute_result"
    }
   ],
   "source": [
    "def attribute(n, thd):\n",
    "    attribute = []\n",
    "    for i in range(len(census)):\n",
    "        for comb in list(itertools.combinations(census[i],n)):\n",
    "            if ((support(n, comb) >= thd) and (support(n, comb) <= 1.0)):\n",
    "                attribute.append(comb)\n",
    "    return np.array(attribute)\n",
    "\n",
    "attribute(2, 0.7)"
   ]
  },
  {
   "cell_type": "code",
   "execution_count": 231,
   "metadata": {},
   "outputs": [
    {
     "data": {
      "text/plain": [
       "40830"
      ]
     },
     "execution_count": 231,
     "metadata": {},
     "output_type": "execute_result"
    }
   ],
   "source": [
    "len(np.array(attribute))"
   ]
  },
  {
   "cell_type": "code",
   "execution_count": 267,
   "metadata": {},
   "outputs": [
    {
     "ename": "SyntaxError",
     "evalue": "invalid syntax (<ipython-input-267-8379e00e254f>, line 1)",
     "output_type": "error",
     "traceback": [
      "\u001b[0;36m  File \u001b[0;32m\"<ipython-input-267-8379e00e254f>\"\u001b[0;36m, line \u001b[0;32m1\u001b[0m\n\u001b[0;31m    {'native-country=United-States', 'capital-gain=None'} => {'capital-loss=None'}\u001b[0m\n\u001b[0m                                                           ^\u001b[0m\n\u001b[0;31mSyntaxError\u001b[0m\u001b[0;31m:\u001b[0m invalid syntax\n"
     ]
    }
   ],
   "source": [
    "{'native-country=United-States', 'capital-gain=None'} => {'capital-loss=None'}\n",
    "{'native-country=United-States', 'capital-loss=None'} => {'capital-gain=None'}\n",
    "{'capital-gain=None', 'capital-loss=None'} => {'native-country=United-States'}\n",
    "\n",
    "\n",
    "\n",
    "\n",
    "\n"
   ]
  },
  {
   "cell_type": "code",
   "execution_count": 260,
   "metadata": {},
   "outputs": [
    {
     "data": {
      "text/plain": [
       "('native-country=United-States', 'capital-gain=None,capital-loss=None')"
      ]
     },
     "execution_count": 260,
     "metadata": {},
     "output_type": "execute_result"
    }
   ],
   "source": [
    "'native-country=United-States', 'capital-gain=None' + ',' +'capital-loss=None'"
   ]
  },
  {
   "cell_type": "code",
   "execution_count": 265,
   "metadata": {},
   "outputs": [
    {
     "data": {
      "text/plain": [
       "1.0"
      ]
     },
     "execution_count": 265,
     "metadata": {},
     "output_type": "execute_result"
    }
   ],
   "source": [
    "support(3,['native-country=United-States', 'capital-gain=None','capital-loss=None'])/support(2, ['native-country=United-States', 'capital-gain=None'])"
   ]
  },
  {
   "cell_type": "code",
   "execution_count": 244,
   "metadata": {},
   "outputs": [],
   "source": [
    "# list(itertools.combinations(census[i],4))"
   ]
  },
  {
   "cell_type": "code",
   "execution_count": 245,
   "metadata": {},
   "outputs": [],
   "source": [
    "# count = 0\n",
    "# for i in range(len(census)):\n",
    "#     if ('age=Middle-aged' inand 'sex=Male') in census[i]:\n",
    "#         count +=1\n",
    "# print(count)"
   ]
  },
  {
   "cell_type": "code",
   "execution_count": 62,
   "metadata": {},
   "outputs": [
    {
     "data": {
      "text/plain": [
       "True"
      ]
     },
     "execution_count": 62,
     "metadata": {},
     "output_type": "execute_result"
    }
   ],
   "source": [
    "'age=Middle-aged' in census[0] "
   ]
  },
  {
   "cell_type": "code",
   "execution_count": 27,
   "metadata": {},
   "outputs": [
    {
     "data": {
      "text/plain": [
       "['age=Middle-aged', 'age=Senior']"
      ]
     },
     "execution_count": 27,
     "metadata": {},
     "output_type": "execute_result"
    }
   ],
   "source": [
    "census.age.value_counts().index.tolist()"
   ]
  },
  {
   "cell_type": "code",
   "execution_count": 28,
   "metadata": {},
   "outputs": [],
   "source": [
    "l = []\n",
    "for col in census.columns:\n",
    "    l.append(census[col].value_counts().index.tolist())"
   ]
  },
  {
   "cell_type": "code",
   "execution_count": 10,
   "metadata": {},
   "outputs": [
    {
     "name": "stdout",
     "output_type": "stream",
     "text": [
      "age\n",
      "sex\n",
      "education\n",
      "country\n",
      "race\n",
      "marital_status\n",
      "workclass\n",
      "occupation\n",
      "hours_per_week\n",
      "income\n",
      "capital_gain\n",
      "capital_loss\n"
     ]
    }
   ],
   "source": [
    "for col in census.columns:\n",
    "    print(col)\n",
    "    col = census[col].value_counts().index.tolist()"
   ]
  },
  {
   "cell_type": "code",
   "execution_count": 20,
   "metadata": {},
   "outputs": [],
   "source": [
    "l = sum(l, [])"
   ]
  },
  {
   "cell_type": "code",
   "execution_count": 29,
   "metadata": {
    "scrolled": false
   },
   "outputs": [
    {
     "data": {
      "text/plain": [
       "[['age=Middle-aged', 'age=Senior'],\n",
       " ['sex=Male', 'sex=Female'],\n",
       " ['education=Bachelors',\n",
       "  'education=HS-grad',\n",
       "  'education=Masters',\n",
       "  'education=11th',\n",
       "  'education=9th'],\n",
       " ['native-country=United-States',\n",
       "  'native-country=Cuba',\n",
       "  'native-country=Jamaica'],\n",
       " ['race=White', 'race=Black'],\n",
       " ['marital-status=Married-civ-spouse',\n",
       "  'marital-status=Never-married',\n",
       "  'marital-status=Divorced',\n",
       "  'marital-status=Married-spouse-absent'],\n",
       " ['workclass=Private', 'workclass=Self-emp-not-inc', 'workclass=State-gov'],\n",
       " ['occupation=Exec-managerial',\n",
       "  'occupation=Handlers-cleaners',\n",
       "  'occupation=Prof-specialty',\n",
       "  'occupation=Other-service',\n",
       "  'occupation=Adm-clerical'],\n",
       " ['hours-per-week=Full-time',\n",
       "  'hours-per-week=Part-time',\n",
       "  'hours-per-week=Over-time'],\n",
       " ['income=Small', 'income=Large'],\n",
       " ['capital-gain=None', 'capital-gain=Low', 'capital-gain=High'],\n",
       " ['capital-loss=None']]"
      ]
     },
     "execution_count": 29,
     "metadata": {},
     "output_type": "execute_result"
    }
   ],
   "source": [
    "l"
   ]
  },
  {
   "cell_type": "code",
   "execution_count": null,
   "metadata": {},
   "outputs": [],
   "source": [
    "# for i in for t in itertools.combinations(l,):\n",
    "#     print(t)"
   ]
  },
  {
   "cell_type": "code",
   "execution_count": 13,
   "metadata": {},
   "outputs": [],
   "source": [
    "comb = list(itertools.combinations(l,2))"
   ]
  },
  {
   "cell_type": "code",
   "execution_count": 1,
   "metadata": {
    "scrolled": false
   },
   "outputs": [
    {
     "ename": "NameError",
     "evalue": "name 'itertools' is not defined",
     "output_type": "error",
     "traceback": [
      "\u001b[0;31m---------------------------------------------------------------------------\u001b[0m",
      "\u001b[0;31mNameError\u001b[0m                                 Traceback (most recent call last)",
      "\u001b[0;32m<ipython-input-1-a99d2d7c18c3>\u001b[0m in \u001b[0;36m<module>\u001b[0;34m\u001b[0m\n\u001b[0;32m----> 1\u001b[0;31m \u001b[0mprint\u001b[0m\u001b[0;34m(\u001b[0m\u001b[0mlist\u001b[0m\u001b[0;34m(\u001b[0m\u001b[0mitertools\u001b[0m\u001b[0;34m.\u001b[0m\u001b[0mcombinations\u001b[0m\u001b[0;34m(\u001b[0m\u001b[0mitertools\u001b[0m\u001b[0;34m.\u001b[0m\u001b[0mchain\u001b[0m\u001b[0;34m(\u001b[0m\u001b[0;34m*\u001b[0m\u001b[0ml\u001b[0m\u001b[0;34m)\u001b[0m\u001b[0;34m,\u001b[0m \u001b[0;36m1\u001b[0m\u001b[0;34m)\u001b[0m\u001b[0;34m)\u001b[0m\u001b[0;34m)\u001b[0m\u001b[0;34m\u001b[0m\u001b[0;34m\u001b[0m\u001b[0m\n\u001b[0m",
      "\u001b[0;31mNameError\u001b[0m: name 'itertools' is not defined"
     ]
    }
   ],
   "source": [
    "print(list(itertools.combinations(itertools.chain(*l), 1)))"
   ]
  },
  {
   "cell_type": "code",
   "execution_count": 182,
   "metadata": {},
   "outputs": [],
   "source": [
    "A = [1,2,3]\n",
    "B = [4,5,6]\n",
    "C = [7,8,9]"
   ]
  },
  {
   "cell_type": "code",
   "execution_count": 188,
   "metadata": {},
   "outputs": [
    {
     "data": {
      "text/plain": [
       "[(1, 4, 7),\n",
       " (1, 4, 8),\n",
       " (1, 4, 9),\n",
       " (1, 5, 7),\n",
       " (1, 5, 8),\n",
       " (1, 5, 9),\n",
       " (1, 6, 7),\n",
       " (1, 6, 8),\n",
       " (1, 6, 9),\n",
       " (2, 4, 7),\n",
       " (2, 4, 8),\n",
       " (2, 4, 9),\n",
       " (2, 5, 7),\n",
       " (2, 5, 8),\n",
       " (2, 5, 9),\n",
       " (2, 6, 7),\n",
       " (2, 6, 8),\n",
       " (2, 6, 9),\n",
       " (3, 4, 7),\n",
       " (3, 4, 8),\n",
       " (3, 4, 9),\n",
       " (3, 5, 7),\n",
       " (3, 5, 8),\n",
       " (3, 5, 9),\n",
       " (3, 6, 7),\n",
       " (3, 6, 8),\n",
       " (3, 6, 9)]"
      ]
     },
     "execution_count": 188,
     "metadata": {},
     "output_type": "execute_result"
    }
   ],
   "source": [
    "list(itertools.product(A, B, C))"
   ]
  },
  {
   "cell_type": "code",
   "execution_count": 71,
   "metadata": {},
   "outputs": [
    {
     "data": {
      "text/plain": [
       "0     Middle-aged\n",
       "1           aged \n",
       "2            aged\n",
       "Name: age, dtype: object"
      ]
     },
     "execution_count": 71,
     "metadata": {},
     "output_type": "execute_result"
    }
   ],
   "source": [
    "# census = census.strip().split('=')[1]\n",
    "\n",
    "census['age'].apply(lambda x : x.split('=')[1])"
   ]
  },
  {
   "cell_type": "code",
   "execution_count": 73,
   "metadata": {},
   "outputs": [],
   "source": [
    "for col in census.columns:\n",
    "    census[col] = census[col].apply(lambda x: x.split('=')[1].strip())"
   ]
  },
  {
   "cell_type": "code",
   "execution_count": 75,
   "metadata": {},
   "outputs": [
    {
     "data": {
      "text/html": [
       "<div>\n",
       "<style scoped>\n",
       "    .dataframe tbody tr th:only-of-type {\n",
       "        vertical-align: middle;\n",
       "    }\n",
       "\n",
       "    .dataframe tbody tr th {\n",
       "        vertical-align: top;\n",
       "    }\n",
       "\n",
       "    .dataframe thead th {\n",
       "        text-align: right;\n",
       "    }\n",
       "</style>\n",
       "<table border=\"1\" class=\"dataframe\">\n",
       "  <thead>\n",
       "    <tr style=\"text-align: right;\">\n",
       "      <th></th>\n",
       "      <th>age</th>\n",
       "      <th>sex</th>\n",
       "      <th>education</th>\n",
       "      <th>country</th>\n",
       "      <th>race</th>\n",
       "      <th>marital_status</th>\n",
       "      <th>workclass</th>\n",
       "      <th>occupation</th>\n",
       "      <th>hours_per_week</th>\n",
       "      <th>capital_gain</th>\n",
       "      <th>capital_loss</th>\n",
       "    </tr>\n",
       "  </thead>\n",
       "  <tbody>\n",
       "    <tr>\n",
       "      <th>0</th>\n",
       "      <td>Middle-aged</td>\n",
       "      <td>Male</td>\n",
       "      <td>Bachelors</td>\n",
       "      <td>United-States</td>\n",
       "      <td>white</td>\n",
       "      <td>married</td>\n",
       "      <td>state-gov</td>\n",
       "      <td>clerk</td>\n",
       "      <td>full_time</td>\n",
       "      <td>None</td>\n",
       "      <td>None</td>\n",
       "    </tr>\n",
       "    <tr>\n",
       "      <th>1</th>\n",
       "      <td>aged</td>\n",
       "      <td>Male</td>\n",
       "      <td>high-school</td>\n",
       "      <td>England</td>\n",
       "      <td>white</td>\n",
       "      <td>married</td>\n",
       "      <td>fed-gov</td>\n",
       "      <td>clerk</td>\n",
       "      <td>park_time</td>\n",
       "      <td>None</td>\n",
       "      <td>None</td>\n",
       "    </tr>\n",
       "    <tr>\n",
       "      <th>2</th>\n",
       "      <td>aged</td>\n",
       "      <td>Male</td>\n",
       "      <td>high-school</td>\n",
       "      <td>United-States</td>\n",
       "      <td>white</td>\n",
       "      <td>unmarried</td>\n",
       "      <td>unemployed</td>\n",
       "      <td>clerk</td>\n",
       "      <td>park_time</td>\n",
       "      <td>None</td>\n",
       "      <td>None</td>\n",
       "    </tr>\n",
       "  </tbody>\n",
       "</table>\n",
       "</div>"
      ],
      "text/plain": [
       "           age   sex    education        country   race marital_status  \\\n",
       "0  Middle-aged  Male    Bachelors  United-States  white        married   \n",
       "1         aged  Male  high-school        England  white        married   \n",
       "2         aged  Male  high-school  United-States  white      unmarried   \n",
       "\n",
       "    workclass occupation hours_per_week capital_gain capital_loss  \n",
       "0   state-gov      clerk      full_time         None         None  \n",
       "1     fed-gov      clerk      park_time         None         None  \n",
       "2  unemployed      clerk      park_time         None         None  "
      ]
     },
     "execution_count": 75,
     "metadata": {},
     "output_type": "execute_result"
    }
   ],
   "source": [
    "census"
   ]
  },
  {
   "cell_type": "code",
   "execution_count": 81,
   "metadata": {},
   "outputs": [
    {
     "data": {
      "text/plain": [
       "1.0"
      ]
     },
     "execution_count": 81,
     "metadata": {},
     "output_type": "execute_result"
    }
   ],
   "source": [
    "(((census.capital_gain == 'None') & (census.capital_loss == 'None')).sum()/census.shape[0]).astype(float)"
   ]
  },
  {
   "cell_type": "code",
   "execution_count": 108,
   "metadata": {},
   "outputs": [
    {
     "data": {
      "text/plain": [
       "age                 Middle-aged\n",
       "sex                        Male\n",
       "education             Bachelors\n",
       "country           United-States\n",
       "race                      white\n",
       "marital_status          married\n",
       "workclass             state-gov\n",
       "occupation                clerk\n",
       "hours_per_week        full_time\n",
       "capital_gain               None\n",
       "capital_loss               None\n",
       "Name: 0, dtype: object"
      ]
     },
     "execution_count": 108,
     "metadata": {},
     "output_type": "execute_result"
    }
   ],
   "source": [
    "census.iloc[0]"
   ]
  },
  {
   "cell_type": "code",
   "execution_count": 82,
   "metadata": {},
   "outputs": [
    {
     "data": {
      "text/plain": [
       "0.6666666666666666"
      ]
     },
     "execution_count": 82,
     "metadata": {},
     "output_type": "execute_result"
    }
   ],
   "source": [
    "(census.age == 'aged').sum()/census.shape[0]"
   ]
  },
  {
   "cell_type": "code",
   "execution_count": 40,
   "metadata": {},
   "outputs": [],
   "source": [
    "def print1(arr): \n",
    "      \n",
    "    # number of arrays \n",
    "    n = len(arr) \n",
    "  \n",
    "    # to keep track of next element  \n",
    "    # in each of the n arrays \n",
    "    indices = [0 for i in range(n)] \n",
    "  \n",
    "    while (1): \n",
    "  \n",
    "        # prcurrent combination \n",
    "        for i in range(n): \n",
    "            print(arr[i][indices[i]], end = \", \") \n",
    "        print() \n",
    "  \n",
    "        # find the rightmost array that has more \n",
    "        # elements left after the current element \n",
    "        # in that array \n",
    "        next = n - 1\n",
    "        while (next >= 0 and \n",
    "              (indices[next] + 1 >= len(arr[next]))): \n",
    "            next-=1\n",
    "  \n",
    "        # no such array is found so no more \n",
    "        # combinations left \n",
    "        if (next < 0): \n",
    "            return\n",
    "  \n",
    "        # if found move to next element in that \n",
    "        # array \n",
    "        indices[next] += 1\n",
    "  \n",
    "        # for all arrays to the right of this \n",
    "        # array current index again points to \n",
    "        # first element \n",
    "        for i in range(next + 1, n): \n",
    "            indices[i] = 0"
   ]
  },
  {
   "cell_type": "code",
   "execution_count": 41,
   "metadata": {},
   "outputs": [],
   "source": [
    "arr = [[] for i in range(3)] \n",
    "  \n",
    "# now entering data \n",
    "# [[1, 2, 3], [4], [5, 6]] \n",
    "arr[0].append(1) \n",
    "arr[0].append(2) \n",
    "arr[0].append(3) \n",
    "arr[1].append(4) \n",
    "arr[2].append(5) \n",
    "arr[2].append(6) "
   ]
  },
  {
   "cell_type": "code",
   "execution_count": 34,
   "metadata": {},
   "outputs": [],
   "source": [
    "# print1(l)"
   ]
  },
  {
   "cell_type": "code",
   "execution_count": 26,
   "metadata": {},
   "outputs": [],
   "source": [
    "# def attributeSet(numberofattributes, threshold):\n",
    "#     census = pd.read_csv('census.csv', names = ['age', 'sex', 'education', 'country', 'race', 'marital_status', 'workclass',\n",
    "#             'occupation', 'hours_per_week', 'capital_gain', 'capital_loss'])\n",
    "#     for col in census.columns:\n",
    "#         census[col] = census[col].apply(lambda x: x.split('=')[1].strip())\n",
    "#     a = c\n",
    "#     l = []\n",
    "#     for i in list(itertools.combinations(a,numberofattributes)):\n",
    "#         census[i]\n",
    "        \n",
    "        \n",
    "    "
   ]
  },
  {
   "cell_type": "code",
   "execution_count": 104,
   "metadata": {
    "scrolled": true
   },
   "outputs": [
    {
     "name": "stdout",
     "output_type": "stream",
     "text": [
      "(1, 2)\n",
      "(1, 3)\n",
      "(1, 4)\n",
      "(2, 3)\n",
      "(2, 4)\n",
      "(3, 4)\n"
     ]
    }
   ],
   "source": [
    "attributeSet(2, 0.5)"
   ]
  },
  {
   "cell_type": "code",
   "execution_count": 22,
   "metadata": {},
   "outputs": [],
   "source": [
    "# import itertools\n",
    "# a = ['age', 'sex', 'education', 'country', 'race', 'marital_status', 'workclass',\n",
    "#             'occupation', 'hours_per_week', 'capital_gain', 'capital_loss']\n",
    "# comb = list(itertools.combinations(a,2))\n",
    "# comb"
   ]
  },
  {
   "cell_type": "code",
   "execution_count": null,
   "metadata": {},
   "outputs": [],
   "source": []
  },
  {
   "cell_type": "code",
   "execution_count": 24,
   "metadata": {},
   "outputs": [],
   "source": [
    "# import csv\n",
    "\n",
    "# results = []\n",
    "# with open(\"census.csv\") as csvfile:\n",
    "#     reader = csv.reader(csvfile) \n",
    "#     for row in reader: # each row is a list\n",
    "#         results.append(row)"
   ]
  },
  {
   "cell_type": "code",
   "execution_count": 25,
   "metadata": {},
   "outputs": [],
   "source": [
    "# results = np.array(results)"
   ]
  },
  {
   "cell_type": "code",
   "execution_count": 23,
   "metadata": {},
   "outputs": [],
   "source": [
    "# results"
   ]
  },
  {
   "cell_type": "code",
   "execution_count": 3,
   "metadata": {},
   "outputs": [],
   "source": [
    "from itertools import product"
   ]
  },
  {
   "cell_type": "code",
   "execution_count": 6,
   "metadata": {},
   "outputs": [
    {
     "data": {
      "text/plain": [
       "['n', 'a', 'e', 'g']"
      ]
     },
     "execution_count": 6,
     "metadata": {},
     "output_type": "execute_result"
    }
   ],
   "source": [
    "import random\n",
    "\n",
    "lst = [['a', 'b'], ['c','d'], ['e','f','g','h','i'], ['j','k','l','m','n'], ['o','p']]\n",
    "new_lst = [i for sublist in lst for i in sublist] # Making it one flat list\n",
    "\n",
    "def random_combination(lst, n):\n",
    "    return [random.choice(lst) for i in range(n)]\n",
    "\n",
    "random_combination(new_lst, 4)"
   ]
  },
  {
   "cell_type": "code",
   "execution_count": 239,
   "metadata": {},
   "outputs": [],
   "source": [
    "# import itertools\n",
    "# from pprint import pprint\n",
    "\n",
    "# original_lst = [['a', 'b'], ['c','d'], ['e','f','g','h','i'], ['j','k','l','m','n'], ['o','p']]\n",
    "\n",
    "# def are_two_of_on_same_sublist(items, lst):\n",
    "#     for sub in lst:\n",
    "#         for i in items:\n",
    "#             for n in items:\n",
    "#                 if i != n and all(x in sub for x in [i, n]):\n",
    "#                     return True\n",
    "#                 else:\n",
    "#                     continue\n",
    "\n",
    "\n",
    "# def possible_combinations_of_items_in_sub_lists_no_rep(lst, n):\n",
    "#     new_lst = [i for sublist in lst for i in sublist] # Make it one flat list\n",
    "#     return [i for i in itertools.combinations(new_lst, n) if not are_two_of_on_same_sublist(i, lst)]\n",
    "\n",
    "# pprint(possible_combinations_of_items_in_sub_lists_no_rep(l, 5))"
   ]
  },
  {
   "cell_type": "code",
   "execution_count": 9,
   "metadata": {},
   "outputs": [],
   "source": [
    "lst = [['a', 'b'], ['c','d'], ['e','f','g','h','i'], ['j','k','l','m','n'], ['o','p']]\n",
    "new_lst = [i for sublist in lst for i in sublist] # Make it one flat list"
   ]
  },
  {
   "cell_type": "code",
   "execution_count": 14,
   "metadata": {},
   "outputs": [],
   "source": [
    "are_two_of_on_same_sublist('a', lst)"
   ]
  },
  {
   "cell_type": "code",
   "execution_count": 268,
   "metadata": {},
   "outputs": [],
   "source": [
    "readings = ['1/3/2012 16:00:00\\t26.96', '1/4/2012 16:00:00\\t27.47', '1/5/2012 16:00:00\\t27.728', '1/6/2012 16:00:00\\t28.19', '1/9/2012 16:00:00\\t28.1', '1/10/2012 16:00:00\\t28.15', '1/11/2012 16:00:00\\t27.98', '1/12/2012 16:00:00\\t28.02', '1/13/2012 16:00:00\\t28.25', '1/17/2012 16:00:00\\t28.65', '1/18/2012 16:00:00\\t28.4', '1/19/2012 16:00:00\\t28.435', '1/20/2012 16:00:00\\t29.74', '1/23/2012 16:00:00\\t29.95', '1/24/2012 16:00:00\\t29.5703', '1/25/2012 16:00:00\\t29.65', '1/26/2012 16:00:00\\t29.7', '1/27/2012 16:00:00\\t29.53', '1/30/2012 16:00:00\\t29.62', '1/31/2012 16:00:00\\t29.7', '2/1/2012 16:00:00\\t30.05', '2/2/2012 16:00:00\\t30.17', '2/3/2012 16:00:00\\t30.4', '2/6/2012 16:00:00\\t30.22', '2/7/2012 16:00:00\\t30.485', '2/8/2012 16:00:00\\t30.67', '2/9/2012 16:00:00\\t30.8', '2/10/2012 16:00:00\\t30.8']\n",
    "\n"
   ]
  },
  {
   "cell_type": "code",
   "execution_count": 269,
   "metadata": {},
   "outputs": [
    {
     "data": {
      "text/plain": [
       "list"
      ]
     },
     "execution_count": 269,
     "metadata": {},
     "output_type": "execute_result"
    }
   ],
   "source": [
    "type(readings)"
   ]
  },
  {
   "cell_type": "code",
   "execution_count": 286,
   "metadata": {},
   "outputs": [],
   "source": [
    "readings = [re.split('[ | \\t ]', i) for i in readings]"
   ]
  },
  {
   "cell_type": "code",
   "execution_count": 290,
   "metadata": {},
   "outputs": [
    {
     "data": {
      "text/html": [
       "<div>\n",
       "<style scoped>\n",
       "    .dataframe tbody tr th:only-of-type {\n",
       "        vertical-align: middle;\n",
       "    }\n",
       "\n",
       "    .dataframe tbody tr th {\n",
       "        vertical-align: top;\n",
       "    }\n",
       "\n",
       "    .dataframe thead th {\n",
       "        text-align: right;\n",
       "    }\n",
       "</style>\n",
       "<table border=\"1\" class=\"dataframe\">\n",
       "  <thead>\n",
       "    <tr style=\"text-align: right;\">\n",
       "      <th></th>\n",
       "      <th>date</th>\n",
       "      <th>time</th>\n",
       "      <th>temp</th>\n",
       "    </tr>\n",
       "  </thead>\n",
       "  <tbody>\n",
       "    <tr>\n",
       "      <th>0</th>\n",
       "      <td>1/3/2012</td>\n",
       "      <td>16:00:00</td>\n",
       "      <td>26.96</td>\n",
       "    </tr>\n",
       "    <tr>\n",
       "      <th>1</th>\n",
       "      <td>1/4/2012</td>\n",
       "      <td>16:00:00</td>\n",
       "      <td>27.47</td>\n",
       "    </tr>\n",
       "    <tr>\n",
       "      <th>2</th>\n",
       "      <td>1/5/2012</td>\n",
       "      <td>16:00:00</td>\n",
       "      <td>27.728</td>\n",
       "    </tr>\n",
       "    <tr>\n",
       "      <th>3</th>\n",
       "      <td>1/6/2012</td>\n",
       "      <td>16:00:00</td>\n",
       "      <td>28.19</td>\n",
       "    </tr>\n",
       "    <tr>\n",
       "      <th>4</th>\n",
       "      <td>1/9/2012</td>\n",
       "      <td>16:00:00</td>\n",
       "      <td>28.1</td>\n",
       "    </tr>\n",
       "    <tr>\n",
       "      <th>5</th>\n",
       "      <td>1/10/2012</td>\n",
       "      <td>16:00:00</td>\n",
       "      <td>28.15</td>\n",
       "    </tr>\n",
       "    <tr>\n",
       "      <th>6</th>\n",
       "      <td>1/11/2012</td>\n",
       "      <td>16:00:00</td>\n",
       "      <td>27.98</td>\n",
       "    </tr>\n",
       "    <tr>\n",
       "      <th>7</th>\n",
       "      <td>1/12/2012</td>\n",
       "      <td>16:00:00</td>\n",
       "      <td>28.02</td>\n",
       "    </tr>\n",
       "    <tr>\n",
       "      <th>8</th>\n",
       "      <td>1/13/2012</td>\n",
       "      <td>16:00:00</td>\n",
       "      <td>28.25</td>\n",
       "    </tr>\n",
       "    <tr>\n",
       "      <th>9</th>\n",
       "      <td>1/17/2012</td>\n",
       "      <td>16:00:00</td>\n",
       "      <td>28.65</td>\n",
       "    </tr>\n",
       "    <tr>\n",
       "      <th>10</th>\n",
       "      <td>1/18/2012</td>\n",
       "      <td>16:00:00</td>\n",
       "      <td>28.4</td>\n",
       "    </tr>\n",
       "    <tr>\n",
       "      <th>11</th>\n",
       "      <td>1/19/2012</td>\n",
       "      <td>16:00:00</td>\n",
       "      <td>28.435</td>\n",
       "    </tr>\n",
       "    <tr>\n",
       "      <th>12</th>\n",
       "      <td>1/20/2012</td>\n",
       "      <td>16:00:00</td>\n",
       "      <td>29.74</td>\n",
       "    </tr>\n",
       "    <tr>\n",
       "      <th>13</th>\n",
       "      <td>1/23/2012</td>\n",
       "      <td>16:00:00</td>\n",
       "      <td>29.95</td>\n",
       "    </tr>\n",
       "    <tr>\n",
       "      <th>14</th>\n",
       "      <td>1/24/2012</td>\n",
       "      <td>16:00:00</td>\n",
       "      <td>29.5703</td>\n",
       "    </tr>\n",
       "    <tr>\n",
       "      <th>15</th>\n",
       "      <td>1/25/2012</td>\n",
       "      <td>16:00:00</td>\n",
       "      <td>29.65</td>\n",
       "    </tr>\n",
       "    <tr>\n",
       "      <th>16</th>\n",
       "      <td>1/26/2012</td>\n",
       "      <td>16:00:00</td>\n",
       "      <td>29.7</td>\n",
       "    </tr>\n",
       "    <tr>\n",
       "      <th>17</th>\n",
       "      <td>1/27/2012</td>\n",
       "      <td>16:00:00</td>\n",
       "      <td>29.53</td>\n",
       "    </tr>\n",
       "    <tr>\n",
       "      <th>18</th>\n",
       "      <td>1/30/2012</td>\n",
       "      <td>16:00:00</td>\n",
       "      <td>29.62</td>\n",
       "    </tr>\n",
       "    <tr>\n",
       "      <th>19</th>\n",
       "      <td>1/31/2012</td>\n",
       "      <td>16:00:00</td>\n",
       "      <td>29.7</td>\n",
       "    </tr>\n",
       "    <tr>\n",
       "      <th>20</th>\n",
       "      <td>2/1/2012</td>\n",
       "      <td>16:00:00</td>\n",
       "      <td>30.05</td>\n",
       "    </tr>\n",
       "    <tr>\n",
       "      <th>21</th>\n",
       "      <td>2/2/2012</td>\n",
       "      <td>16:00:00</td>\n",
       "      <td>30.17</td>\n",
       "    </tr>\n",
       "    <tr>\n",
       "      <th>22</th>\n",
       "      <td>2/3/2012</td>\n",
       "      <td>16:00:00</td>\n",
       "      <td>30.4</td>\n",
       "    </tr>\n",
       "    <tr>\n",
       "      <th>23</th>\n",
       "      <td>2/6/2012</td>\n",
       "      <td>16:00:00</td>\n",
       "      <td>30.22</td>\n",
       "    </tr>\n",
       "    <tr>\n",
       "      <th>24</th>\n",
       "      <td>2/7/2012</td>\n",
       "      <td>16:00:00</td>\n",
       "      <td>30.485</td>\n",
       "    </tr>\n",
       "    <tr>\n",
       "      <th>25</th>\n",
       "      <td>2/8/2012</td>\n",
       "      <td>16:00:00</td>\n",
       "      <td>30.67</td>\n",
       "    </tr>\n",
       "    <tr>\n",
       "      <th>26</th>\n",
       "      <td>2/9/2012</td>\n",
       "      <td>16:00:00</td>\n",
       "      <td>30.8</td>\n",
       "    </tr>\n",
       "    <tr>\n",
       "      <th>27</th>\n",
       "      <td>2/10/2012</td>\n",
       "      <td>16:00:00</td>\n",
       "      <td>30.8</td>\n",
       "    </tr>\n",
       "  </tbody>\n",
       "</table>\n",
       "</div>"
      ],
      "text/plain": [
       "         date      time     temp\n",
       "0    1/3/2012  16:00:00    26.96\n",
       "1    1/4/2012  16:00:00    27.47\n",
       "2    1/5/2012  16:00:00   27.728\n",
       "3    1/6/2012  16:00:00    28.19\n",
       "4    1/9/2012  16:00:00     28.1\n",
       "5   1/10/2012  16:00:00    28.15\n",
       "6   1/11/2012  16:00:00    27.98\n",
       "7   1/12/2012  16:00:00    28.02\n",
       "8   1/13/2012  16:00:00    28.25\n",
       "9   1/17/2012  16:00:00    28.65\n",
       "10  1/18/2012  16:00:00     28.4\n",
       "11  1/19/2012  16:00:00   28.435\n",
       "12  1/20/2012  16:00:00    29.74\n",
       "13  1/23/2012  16:00:00    29.95\n",
       "14  1/24/2012  16:00:00  29.5703\n",
       "15  1/25/2012  16:00:00    29.65\n",
       "16  1/26/2012  16:00:00     29.7\n",
       "17  1/27/2012  16:00:00    29.53\n",
       "18  1/30/2012  16:00:00    29.62\n",
       "19  1/31/2012  16:00:00     29.7\n",
       "20   2/1/2012  16:00:00    30.05\n",
       "21   2/2/2012  16:00:00    30.17\n",
       "22   2/3/2012  16:00:00     30.4\n",
       "23   2/6/2012  16:00:00    30.22\n",
       "24   2/7/2012  16:00:00   30.485\n",
       "25   2/8/2012  16:00:00    30.67\n",
       "26   2/9/2012  16:00:00     30.8\n",
       "27  2/10/2012  16:00:00     30.8"
      ]
     },
     "execution_count": 290,
     "metadata": {},
     "output_type": "execute_result"
    }
   ],
   "source": [
    "temp = pd.DataFrame(readings, columns = ['date', 'time', 'temp'])\n",
    "temp"
   ]
  },
  {
   "cell_type": "code",
   "execution_count": 284,
   "metadata": {},
   "outputs": [
    {
     "data": {
      "text/plain": [
       "['1/3/2012', '16:00:00', '26.96']"
      ]
     },
     "execution_count": 284,
     "metadata": {},
     "output_type": "execute_result"
    }
   ],
   "source": [
    "import re\n",
    "re.split('[ | \\t ]', string)"
   ]
  },
  {
   "cell_type": "code",
   "execution_count": 282,
   "metadata": {},
   "outputs": [],
   "source": [
    "string = '1/3/2012 16:00:00\\t26.96'"
   ]
  },
  {
   "cell_type": "code",
   "execution_count": null,
   "metadata": {},
   "outputs": [],
   "source": []
  }
 ],
 "metadata": {
  "kernelspec": {
   "display_name": "Python 3",
   "language": "python",
   "name": "python3"
  },
  "language_info": {
   "codemirror_mode": {
    "name": "ipython",
    "version": 3
   },
   "file_extension": ".py",
   "mimetype": "text/x-python",
   "name": "python",
   "nbconvert_exporter": "python",
   "pygments_lexer": "ipython3",
   "version": "3.7.6"
  }
 },
 "nbformat": 4,
 "nbformat_minor": 4
}
